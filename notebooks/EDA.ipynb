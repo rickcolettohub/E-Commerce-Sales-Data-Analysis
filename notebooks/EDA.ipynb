{
 "cells": [
  {
   "cell_type": "markdown",
   "id": "460e4887",
   "metadata": {},
   "source": [
    "# Exploratory Data Analysis"
   ]
  },
  {
   "cell_type": "markdown",
   "id": "4adc9454",
   "metadata": {},
   "source": [
    "## Import"
   ]
  },
  {
   "cell_type": "code",
   "execution_count": 1,
   "id": "f45ae8ac",
   "metadata": {},
   "outputs": [],
   "source": [
    "import pandas as pd\n",
    "import numpy as np\n",
    "import matplotlib.pyplot as plt\n",
    "import seaborn as sns\n",
    "import sys\n",
    "import os\n",
    "from rapidfuzz import fuzz, process\n",
    "import unidecode\n",
    "import requests\n",
    "import json"
   ]
  },
  {
   "cell_type": "code",
   "execution_count": 2,
   "id": "07d200b8",
   "metadata": {},
   "outputs": [],
   "source": [
    "sys.path.append(os.path.abspath(\"../src\"))\n",
    "from consultacep import consulta_cep"
   ]
  },
  {
   "cell_type": "markdown",
   "id": "9c59693c",
   "metadata": {},
   "source": [
    "## Raw Data"
   ]
  },
  {
   "cell_type": "code",
   "execution_count": 3,
   "id": "6a03b6f6",
   "metadata": {},
   "outputs": [],
   "source": [
    "df_customers = pd.read_csv(\"../data/raw/olist_customers_dataset.csv\")\n",
    "df_order_items = pd.read_csv(\"../data/raw/olist_order_items_dataset.csv\")\n",
    "df_order_payments = pd.read_csv(\"../data/raw/olist_order_payments_dataset.csv\")\n",
    "df_orders = pd.read_csv(\"../data/raw/olist_orders_dataset.csv\")\n",
    "df_products = pd.read_csv(\"../data/raw/olist_products_dataset.csv\")\n",
    "df_sellers = pd.read_csv(\"../data/raw/olist_sellers_dataset.csv\")\n",
    "cdf_cities = pd.read_csv(\"../data/raw/brazilian_cities.csv\")\n",
    "cdf_ceps = pd.read_csv(\"../data/raw/CEPs_Brasil.csv\")\n"
   ]
  },
  {
   "cell_type": "markdown",
   "id": "16c2e10e",
   "metadata": {},
   "source": [
    "## Checking the relevant data"
   ]
  },
  {
   "cell_type": "markdown",
   "id": "d0a2b220",
   "metadata": {},
   "source": [
    "### Dataframe: Customers"
   ]
  },
  {
   "cell_type": "code",
   "execution_count": 4,
   "id": "fe118570",
   "metadata": {},
   "outputs": [
    {
     "data": {
      "application/vnd.microsoft.datawrangler.viewer.v0+json": {
       "columns": [
        {
         "name": "index",
         "rawType": "int64",
         "type": "integer"
        },
        {
         "name": "customer_id",
         "rawType": "object",
         "type": "string"
        },
        {
         "name": "customer_unique_id",
         "rawType": "object",
         "type": "string"
        },
        {
         "name": "customer_zip_code_prefix",
         "rawType": "int64",
         "type": "integer"
        },
        {
         "name": "customer_city",
         "rawType": "object",
         "type": "string"
        },
        {
         "name": "customer_state",
         "rawType": "object",
         "type": "string"
        }
       ],
       "ref": "515e783c-8bed-4d73-8419-714f0ad1aaae",
       "rows": [
        [
         "71460",
         "32f7e622cfbdd94691a85692f992a9d5",
         "bf7bf802783e8b525e33fde224781e98",
         "9210",
         "santo andre",
         "SP"
        ],
        [
         "55848",
         "b129c5e7449bfea86f4bef20e296c0ce",
         "6234bff8b25bd8336455555eb5f749da",
         "29934",
         "sao mateus",
         "ES"
        ],
        [
         "55453",
         "de5127e844f7bc6e9593315e778d7da1",
         "b868689dabda36770f6ef2b8c39bf8a6",
         "2220",
         "sao paulo",
         "SP"
        ],
        [
         "68840",
         "f0688a7a0aa2400361ea273a4872db2d",
         "2dbad1ecf3e38836eacff9531adc5b4a",
         "13273",
         "valinhos",
         "SP"
        ],
        [
         "14161",
         "be8c14c16a4d47194ccdfe10f1fc5b1a",
         "c86a25b8f5f6c203bb3471553bdc3200",
         "13157",
         "cosmopolis",
         "SP"
        ],
        [
         "13328",
         "be24ef8018f62f3b54f287c7e87d0abb",
         "c2e11be7617544391dfa3905b0c637d6",
         "17065",
         "bauru",
         "SP"
        ],
        [
         "61078",
         "2a06665a19465bcdd512dcb3444c1de4",
         "0404ab99cfcbae7ad6cdc6e93eac6641",
         "27264",
         "volta redonda",
         "RJ"
        ],
        [
         "83526",
         "46a4ac4dcaf4f17c44f5d7c5a5afaf86",
         "ae8ba97274b08fe1156b1d5d3ad32983",
         "13825",
         "holambra",
         "SP"
        ],
        [
         "68688",
         "13e56bf1c485ef13438118c361f92527",
         "d6c6b796206305b682a65170c45d26e3",
         "28625",
         "nova friburgo",
         "RJ"
        ],
        [
         "8518",
         "46ebdabde58535b8751aaf7e6f21fe27",
         "ff9c030fb4209fbf442ae1368a6b376a",
         "85905",
         "toledo",
         "PR"
        ]
       ],
       "shape": {
        "columns": 5,
        "rows": 10
       }
      },
      "text/html": [
       "<div>\n",
       "<style scoped>\n",
       "    .dataframe tbody tr th:only-of-type {\n",
       "        vertical-align: middle;\n",
       "    }\n",
       "\n",
       "    .dataframe tbody tr th {\n",
       "        vertical-align: top;\n",
       "    }\n",
       "\n",
       "    .dataframe thead th {\n",
       "        text-align: right;\n",
       "    }\n",
       "</style>\n",
       "<table border=\"1\" class=\"dataframe\">\n",
       "  <thead>\n",
       "    <tr style=\"text-align: right;\">\n",
       "      <th></th>\n",
       "      <th>customer_id</th>\n",
       "      <th>customer_unique_id</th>\n",
       "      <th>customer_zip_code_prefix</th>\n",
       "      <th>customer_city</th>\n",
       "      <th>customer_state</th>\n",
       "    </tr>\n",
       "  </thead>\n",
       "  <tbody>\n",
       "    <tr>\n",
       "      <th>71460</th>\n",
       "      <td>32f7e622cfbdd94691a85692f992a9d5</td>\n",
       "      <td>bf7bf802783e8b525e33fde224781e98</td>\n",
       "      <td>9210</td>\n",
       "      <td>santo andre</td>\n",
       "      <td>SP</td>\n",
       "    </tr>\n",
       "    <tr>\n",
       "      <th>55848</th>\n",
       "      <td>b129c5e7449bfea86f4bef20e296c0ce</td>\n",
       "      <td>6234bff8b25bd8336455555eb5f749da</td>\n",
       "      <td>29934</td>\n",
       "      <td>sao mateus</td>\n",
       "      <td>ES</td>\n",
       "    </tr>\n",
       "    <tr>\n",
       "      <th>55453</th>\n",
       "      <td>de5127e844f7bc6e9593315e778d7da1</td>\n",
       "      <td>b868689dabda36770f6ef2b8c39bf8a6</td>\n",
       "      <td>2220</td>\n",
       "      <td>sao paulo</td>\n",
       "      <td>SP</td>\n",
       "    </tr>\n",
       "    <tr>\n",
       "      <th>68840</th>\n",
       "      <td>f0688a7a0aa2400361ea273a4872db2d</td>\n",
       "      <td>2dbad1ecf3e38836eacff9531adc5b4a</td>\n",
       "      <td>13273</td>\n",
       "      <td>valinhos</td>\n",
       "      <td>SP</td>\n",
       "    </tr>\n",
       "    <tr>\n",
       "      <th>14161</th>\n",
       "      <td>be8c14c16a4d47194ccdfe10f1fc5b1a</td>\n",
       "      <td>c86a25b8f5f6c203bb3471553bdc3200</td>\n",
       "      <td>13157</td>\n",
       "      <td>cosmopolis</td>\n",
       "      <td>SP</td>\n",
       "    </tr>\n",
       "    <tr>\n",
       "      <th>13328</th>\n",
       "      <td>be24ef8018f62f3b54f287c7e87d0abb</td>\n",
       "      <td>c2e11be7617544391dfa3905b0c637d6</td>\n",
       "      <td>17065</td>\n",
       "      <td>bauru</td>\n",
       "      <td>SP</td>\n",
       "    </tr>\n",
       "    <tr>\n",
       "      <th>61078</th>\n",
       "      <td>2a06665a19465bcdd512dcb3444c1de4</td>\n",
       "      <td>0404ab99cfcbae7ad6cdc6e93eac6641</td>\n",
       "      <td>27264</td>\n",
       "      <td>volta redonda</td>\n",
       "      <td>RJ</td>\n",
       "    </tr>\n",
       "    <tr>\n",
       "      <th>83526</th>\n",
       "      <td>46a4ac4dcaf4f17c44f5d7c5a5afaf86</td>\n",
       "      <td>ae8ba97274b08fe1156b1d5d3ad32983</td>\n",
       "      <td>13825</td>\n",
       "      <td>holambra</td>\n",
       "      <td>SP</td>\n",
       "    </tr>\n",
       "    <tr>\n",
       "      <th>68688</th>\n",
       "      <td>13e56bf1c485ef13438118c361f92527</td>\n",
       "      <td>d6c6b796206305b682a65170c45d26e3</td>\n",
       "      <td>28625</td>\n",
       "      <td>nova friburgo</td>\n",
       "      <td>RJ</td>\n",
       "    </tr>\n",
       "    <tr>\n",
       "      <th>8518</th>\n",
       "      <td>46ebdabde58535b8751aaf7e6f21fe27</td>\n",
       "      <td>ff9c030fb4209fbf442ae1368a6b376a</td>\n",
       "      <td>85905</td>\n",
       "      <td>toledo</td>\n",
       "      <td>PR</td>\n",
       "    </tr>\n",
       "  </tbody>\n",
       "</table>\n",
       "</div>"
      ],
      "text/plain": [
       "                            customer_id                customer_unique_id  \\\n",
       "71460  32f7e622cfbdd94691a85692f992a9d5  bf7bf802783e8b525e33fde224781e98   \n",
       "55848  b129c5e7449bfea86f4bef20e296c0ce  6234bff8b25bd8336455555eb5f749da   \n",
       "55453  de5127e844f7bc6e9593315e778d7da1  b868689dabda36770f6ef2b8c39bf8a6   \n",
       "68840  f0688a7a0aa2400361ea273a4872db2d  2dbad1ecf3e38836eacff9531adc5b4a   \n",
       "14161  be8c14c16a4d47194ccdfe10f1fc5b1a  c86a25b8f5f6c203bb3471553bdc3200   \n",
       "13328  be24ef8018f62f3b54f287c7e87d0abb  c2e11be7617544391dfa3905b0c637d6   \n",
       "61078  2a06665a19465bcdd512dcb3444c1de4  0404ab99cfcbae7ad6cdc6e93eac6641   \n",
       "83526  46a4ac4dcaf4f17c44f5d7c5a5afaf86  ae8ba97274b08fe1156b1d5d3ad32983   \n",
       "68688  13e56bf1c485ef13438118c361f92527  d6c6b796206305b682a65170c45d26e3   \n",
       "8518   46ebdabde58535b8751aaf7e6f21fe27  ff9c030fb4209fbf442ae1368a6b376a   \n",
       "\n",
       "       customer_zip_code_prefix  customer_city customer_state  \n",
       "71460                      9210    santo andre             SP  \n",
       "55848                     29934     sao mateus             ES  \n",
       "55453                      2220      sao paulo             SP  \n",
       "68840                     13273       valinhos             SP  \n",
       "14161                     13157     cosmopolis             SP  \n",
       "13328                     17065          bauru             SP  \n",
       "61078                     27264  volta redonda             RJ  \n",
       "83526                     13825       holambra             SP  \n",
       "68688                     28625  nova friburgo             RJ  \n",
       "8518                      85905         toledo             PR  "
      ]
     },
     "execution_count": 4,
     "metadata": {},
     "output_type": "execute_result"
    }
   ],
   "source": [
    "df_customers.sample(10)"
   ]
  },
  {
   "cell_type": "code",
   "execution_count": 5,
   "id": "fb5712c2",
   "metadata": {},
   "outputs": [
    {
     "name": "stdout",
     "output_type": "stream",
     "text": [
      "<class 'pandas.core.frame.DataFrame'>\n",
      "RangeIndex: 99441 entries, 0 to 99440\n",
      "Data columns (total 5 columns):\n",
      " #   Column                    Non-Null Count  Dtype \n",
      "---  ------                    --------------  ----- \n",
      " 0   customer_id               99441 non-null  object\n",
      " 1   customer_unique_id        99441 non-null  object\n",
      " 2   customer_zip_code_prefix  99441 non-null  int64 \n",
      " 3   customer_city             99441 non-null  object\n",
      " 4   customer_state            99441 non-null  object\n",
      "dtypes: int64(1), object(4)\n",
      "memory usage: 3.8+ MB\n"
     ]
    },
    {
     "data": {
      "application/vnd.microsoft.datawrangler.viewer.v0+json": {
       "columns": [
        {
         "name": "index",
         "rawType": "object",
         "type": "string"
        },
        {
         "name": "0",
         "rawType": "int64",
         "type": "integer"
        }
       ],
       "ref": "efc0810d-8b50-4a3d-b82e-3840d66aed7e",
       "rows": [
        [
         "customer_id",
         "0"
        ],
        [
         "customer_unique_id",
         "0"
        ],
        [
         "customer_zip_code_prefix",
         "0"
        ],
        [
         "customer_city",
         "0"
        ],
        [
         "customer_state",
         "0"
        ]
       ],
       "shape": {
        "columns": 1,
        "rows": 5
       }
      },
      "text/plain": [
       "customer_id                 0\n",
       "customer_unique_id          0\n",
       "customer_zip_code_prefix    0\n",
       "customer_city               0\n",
       "customer_state              0\n",
       "dtype: int64"
      ]
     },
     "execution_count": 5,
     "metadata": {},
     "output_type": "execute_result"
    }
   ],
   "source": [
    "df_customers.info()\n",
    "df_customers.isnull().sum()"
   ]
  },
  {
   "cell_type": "code",
   "execution_count": 6,
   "id": "16fb2399",
   "metadata": {},
   "outputs": [
    {
     "data": {
      "text/plain": [
       "np.int64(0)"
      ]
     },
     "execution_count": 6,
     "metadata": {},
     "output_type": "execute_result"
    }
   ],
   "source": [
    "df_customers.duplicated().sum()"
   ]
  },
  {
   "cell_type": "markdown",
   "id": "9ea0df64",
   "metadata": {},
   "source": [
    "- df_customers doesn't have duplicate entrys, no columns to drop at first and no Nulls"
   ]
  },
  {
   "cell_type": "markdown",
   "id": "3ca2c50f",
   "metadata": {},
   "source": [
    "### Dataframe: Order_items"
   ]
  },
  {
   "cell_type": "code",
   "execution_count": 7,
   "id": "4c81c91f",
   "metadata": {},
   "outputs": [
    {
     "data": {
      "application/vnd.microsoft.datawrangler.viewer.v0+json": {
       "columns": [
        {
         "name": "index",
         "rawType": "int64",
         "type": "integer"
        },
        {
         "name": "order_id",
         "rawType": "object",
         "type": "string"
        },
        {
         "name": "order_item_id",
         "rawType": "int64",
         "type": "integer"
        },
        {
         "name": "product_id",
         "rawType": "object",
         "type": "string"
        },
        {
         "name": "seller_id",
         "rawType": "object",
         "type": "string"
        },
        {
         "name": "shipping_limit_date",
         "rawType": "object",
         "type": "string"
        },
        {
         "name": "price",
         "rawType": "float64",
         "type": "float"
        },
        {
         "name": "freight_value",
         "rawType": "float64",
         "type": "float"
        }
       ],
       "ref": "46b0edef-80a0-42e6-ba59-05856adb5e4f",
       "rows": [
        [
         "79017",
         "b3bab804c76ad164c8aba19684f85e38",
         "1",
         "629e019a6f298a83aeecc7877964f935",
         "c003204e1ab016dfa150abc119207b24",
         "2018-01-05 02:08:47",
         "109.9",
         "14.37"
        ],
        [
         "64074",
         "925e0efae10a47529fb9c78338b66d8c",
         "1",
         "d4a3a15f99c94c6741d16d3375b928e6",
         "6560211a19b47992c3666cc44a7e94c0",
         "2017-03-23 14:59:36",
         "49.0",
         "14.11"
        ],
        [
         "4173",
         "0964250cecc3ab90b45138c9cbbf7b91",
         "1",
         "a0b7b660f3ff79836867de402e158770",
         "4978a02ea9c8be7a9b5480680f40334e",
         "2018-05-14 23:51:05",
         "119.99",
         "14.93"
        ],
        [
         "93513",
         "d3f5cac5ca660216eb21e93d54e9e384",
         "1",
         "803f77475e1b51b47f1bfec4f2ec353f",
         "c9c7905cffc4ef9ff9f113554423e671",
         "2018-07-25 10:32:03",
         "79.99",
         "8.72"
        ],
        [
         "1883",
         "044223df7cb37509bfeb2a0df1250ca4",
         "1",
         "b2d98b6f547c14e29a9e72b8e630d936",
         "004c9cd9d87a3c30c522c48c4fc07416",
         "2017-11-08 09:35:30",
         "115.0",
         "21.3"
        ],
        [
         "34959",
         "4f22b45861402b6db26c58fd211617cf",
         "1",
         "2dbed858ef1a666ec3afae6566400a06",
         "5b67882648febfb6e1225e6ad7164f6b",
         "2018-03-16 15:15:41",
         "519.99",
         "17.72"
        ],
        [
         "46176",
         "68d8838c90191c81a8e3e1273e230414",
         "1",
         "c835fd9d2e466148ac3755300628e33d",
         "a3a38f4affed601eb87a97788c949667",
         "2018-04-25 19:11:00",
         "59.9",
         "23.35"
        ],
        [
         "52191",
         "76c5d675f926836b4ff285bff2d38766",
         "1",
         "02a97df83a8a100c7d2b14a02aea6a3d",
         "620c87c171fb2a6dd6e8bb4dec959fc6",
         "2018-07-19 03:04:21",
         "69.9",
         "22.42"
        ],
        [
         "33736",
         "4c5e883786df8d555be4dc12f11d3fe7",
         "1",
         "615ee56e97eef79c2b855111d9434dcf",
         "a416b6a846a11724393025641d4edd5e",
         "2018-06-18 04:57:32",
         "112.83",
         "9.14"
        ],
        [
         "74316",
         "a95612c7311ad95c69b272aaa4daa6e5",
         "1",
         "9328c3a5c42ae7b32d53e419f9b93d66",
         "cca3071e3e9bb7d12640c9fbe2301306",
         "2017-03-21 04:10:20",
         "50.9",
         "17.2"
        ]
       ],
       "shape": {
        "columns": 7,
        "rows": 10
       }
      },
      "text/html": [
       "<div>\n",
       "<style scoped>\n",
       "    .dataframe tbody tr th:only-of-type {\n",
       "        vertical-align: middle;\n",
       "    }\n",
       "\n",
       "    .dataframe tbody tr th {\n",
       "        vertical-align: top;\n",
       "    }\n",
       "\n",
       "    .dataframe thead th {\n",
       "        text-align: right;\n",
       "    }\n",
       "</style>\n",
       "<table border=\"1\" class=\"dataframe\">\n",
       "  <thead>\n",
       "    <tr style=\"text-align: right;\">\n",
       "      <th></th>\n",
       "      <th>order_id</th>\n",
       "      <th>order_item_id</th>\n",
       "      <th>product_id</th>\n",
       "      <th>seller_id</th>\n",
       "      <th>shipping_limit_date</th>\n",
       "      <th>price</th>\n",
       "      <th>freight_value</th>\n",
       "    </tr>\n",
       "  </thead>\n",
       "  <tbody>\n",
       "    <tr>\n",
       "      <th>79017</th>\n",
       "      <td>b3bab804c76ad164c8aba19684f85e38</td>\n",
       "      <td>1</td>\n",
       "      <td>629e019a6f298a83aeecc7877964f935</td>\n",
       "      <td>c003204e1ab016dfa150abc119207b24</td>\n",
       "      <td>2018-01-05 02:08:47</td>\n",
       "      <td>109.90</td>\n",
       "      <td>14.37</td>\n",
       "    </tr>\n",
       "    <tr>\n",
       "      <th>64074</th>\n",
       "      <td>925e0efae10a47529fb9c78338b66d8c</td>\n",
       "      <td>1</td>\n",
       "      <td>d4a3a15f99c94c6741d16d3375b928e6</td>\n",
       "      <td>6560211a19b47992c3666cc44a7e94c0</td>\n",
       "      <td>2017-03-23 14:59:36</td>\n",
       "      <td>49.00</td>\n",
       "      <td>14.11</td>\n",
       "    </tr>\n",
       "    <tr>\n",
       "      <th>4173</th>\n",
       "      <td>0964250cecc3ab90b45138c9cbbf7b91</td>\n",
       "      <td>1</td>\n",
       "      <td>a0b7b660f3ff79836867de402e158770</td>\n",
       "      <td>4978a02ea9c8be7a9b5480680f40334e</td>\n",
       "      <td>2018-05-14 23:51:05</td>\n",
       "      <td>119.99</td>\n",
       "      <td>14.93</td>\n",
       "    </tr>\n",
       "    <tr>\n",
       "      <th>93513</th>\n",
       "      <td>d3f5cac5ca660216eb21e93d54e9e384</td>\n",
       "      <td>1</td>\n",
       "      <td>803f77475e1b51b47f1bfec4f2ec353f</td>\n",
       "      <td>c9c7905cffc4ef9ff9f113554423e671</td>\n",
       "      <td>2018-07-25 10:32:03</td>\n",
       "      <td>79.99</td>\n",
       "      <td>8.72</td>\n",
       "    </tr>\n",
       "    <tr>\n",
       "      <th>1883</th>\n",
       "      <td>044223df7cb37509bfeb2a0df1250ca4</td>\n",
       "      <td>1</td>\n",
       "      <td>b2d98b6f547c14e29a9e72b8e630d936</td>\n",
       "      <td>004c9cd9d87a3c30c522c48c4fc07416</td>\n",
       "      <td>2017-11-08 09:35:30</td>\n",
       "      <td>115.00</td>\n",
       "      <td>21.30</td>\n",
       "    </tr>\n",
       "    <tr>\n",
       "      <th>34959</th>\n",
       "      <td>4f22b45861402b6db26c58fd211617cf</td>\n",
       "      <td>1</td>\n",
       "      <td>2dbed858ef1a666ec3afae6566400a06</td>\n",
       "      <td>5b67882648febfb6e1225e6ad7164f6b</td>\n",
       "      <td>2018-03-16 15:15:41</td>\n",
       "      <td>519.99</td>\n",
       "      <td>17.72</td>\n",
       "    </tr>\n",
       "    <tr>\n",
       "      <th>46176</th>\n",
       "      <td>68d8838c90191c81a8e3e1273e230414</td>\n",
       "      <td>1</td>\n",
       "      <td>c835fd9d2e466148ac3755300628e33d</td>\n",
       "      <td>a3a38f4affed601eb87a97788c949667</td>\n",
       "      <td>2018-04-25 19:11:00</td>\n",
       "      <td>59.90</td>\n",
       "      <td>23.35</td>\n",
       "    </tr>\n",
       "    <tr>\n",
       "      <th>52191</th>\n",
       "      <td>76c5d675f926836b4ff285bff2d38766</td>\n",
       "      <td>1</td>\n",
       "      <td>02a97df83a8a100c7d2b14a02aea6a3d</td>\n",
       "      <td>620c87c171fb2a6dd6e8bb4dec959fc6</td>\n",
       "      <td>2018-07-19 03:04:21</td>\n",
       "      <td>69.90</td>\n",
       "      <td>22.42</td>\n",
       "    </tr>\n",
       "    <tr>\n",
       "      <th>33736</th>\n",
       "      <td>4c5e883786df8d555be4dc12f11d3fe7</td>\n",
       "      <td>1</td>\n",
       "      <td>615ee56e97eef79c2b855111d9434dcf</td>\n",
       "      <td>a416b6a846a11724393025641d4edd5e</td>\n",
       "      <td>2018-06-18 04:57:32</td>\n",
       "      <td>112.83</td>\n",
       "      <td>9.14</td>\n",
       "    </tr>\n",
       "    <tr>\n",
       "      <th>74316</th>\n",
       "      <td>a95612c7311ad95c69b272aaa4daa6e5</td>\n",
       "      <td>1</td>\n",
       "      <td>9328c3a5c42ae7b32d53e419f9b93d66</td>\n",
       "      <td>cca3071e3e9bb7d12640c9fbe2301306</td>\n",
       "      <td>2017-03-21 04:10:20</td>\n",
       "      <td>50.90</td>\n",
       "      <td>17.20</td>\n",
       "    </tr>\n",
       "  </tbody>\n",
       "</table>\n",
       "</div>"
      ],
      "text/plain": [
       "                               order_id  order_item_id  \\\n",
       "79017  b3bab804c76ad164c8aba19684f85e38              1   \n",
       "64074  925e0efae10a47529fb9c78338b66d8c              1   \n",
       "4173   0964250cecc3ab90b45138c9cbbf7b91              1   \n",
       "93513  d3f5cac5ca660216eb21e93d54e9e384              1   \n",
       "1883   044223df7cb37509bfeb2a0df1250ca4              1   \n",
       "34959  4f22b45861402b6db26c58fd211617cf              1   \n",
       "46176  68d8838c90191c81a8e3e1273e230414              1   \n",
       "52191  76c5d675f926836b4ff285bff2d38766              1   \n",
       "33736  4c5e883786df8d555be4dc12f11d3fe7              1   \n",
       "74316  a95612c7311ad95c69b272aaa4daa6e5              1   \n",
       "\n",
       "                             product_id                         seller_id  \\\n",
       "79017  629e019a6f298a83aeecc7877964f935  c003204e1ab016dfa150abc119207b24   \n",
       "64074  d4a3a15f99c94c6741d16d3375b928e6  6560211a19b47992c3666cc44a7e94c0   \n",
       "4173   a0b7b660f3ff79836867de402e158770  4978a02ea9c8be7a9b5480680f40334e   \n",
       "93513  803f77475e1b51b47f1bfec4f2ec353f  c9c7905cffc4ef9ff9f113554423e671   \n",
       "1883   b2d98b6f547c14e29a9e72b8e630d936  004c9cd9d87a3c30c522c48c4fc07416   \n",
       "34959  2dbed858ef1a666ec3afae6566400a06  5b67882648febfb6e1225e6ad7164f6b   \n",
       "46176  c835fd9d2e466148ac3755300628e33d  a3a38f4affed601eb87a97788c949667   \n",
       "52191  02a97df83a8a100c7d2b14a02aea6a3d  620c87c171fb2a6dd6e8bb4dec959fc6   \n",
       "33736  615ee56e97eef79c2b855111d9434dcf  a416b6a846a11724393025641d4edd5e   \n",
       "74316  9328c3a5c42ae7b32d53e419f9b93d66  cca3071e3e9bb7d12640c9fbe2301306   \n",
       "\n",
       "       shipping_limit_date   price  freight_value  \n",
       "79017  2018-01-05 02:08:47  109.90          14.37  \n",
       "64074  2017-03-23 14:59:36   49.00          14.11  \n",
       "4173   2018-05-14 23:51:05  119.99          14.93  \n",
       "93513  2018-07-25 10:32:03   79.99           8.72  \n",
       "1883   2017-11-08 09:35:30  115.00          21.30  \n",
       "34959  2018-03-16 15:15:41  519.99          17.72  \n",
       "46176  2018-04-25 19:11:00   59.90          23.35  \n",
       "52191  2018-07-19 03:04:21   69.90          22.42  \n",
       "33736  2018-06-18 04:57:32  112.83           9.14  \n",
       "74316  2017-03-21 04:10:20   50.90          17.20  "
      ]
     },
     "execution_count": 7,
     "metadata": {},
     "output_type": "execute_result"
    }
   ],
   "source": [
    "df_order_items.sample(10)"
   ]
  },
  {
   "cell_type": "code",
   "execution_count": 8,
   "id": "24d48046",
   "metadata": {},
   "outputs": [
    {
     "name": "stdout",
     "output_type": "stream",
     "text": [
      "<class 'pandas.core.frame.DataFrame'>\n",
      "RangeIndex: 112650 entries, 0 to 112649\n",
      "Data columns (total 7 columns):\n",
      " #   Column               Non-Null Count   Dtype  \n",
      "---  ------               --------------   -----  \n",
      " 0   order_id             112650 non-null  object \n",
      " 1   order_item_id        112650 non-null  int64  \n",
      " 2   product_id           112650 non-null  object \n",
      " 3   seller_id            112650 non-null  object \n",
      " 4   shipping_limit_date  112650 non-null  object \n",
      " 5   price                112650 non-null  float64\n",
      " 6   freight_value        112650 non-null  float64\n",
      "dtypes: float64(2), int64(1), object(4)\n",
      "memory usage: 6.0+ MB\n"
     ]
    },
    {
     "data": {
      "application/vnd.microsoft.datawrangler.viewer.v0+json": {
       "columns": [
        {
         "name": "index",
         "rawType": "object",
         "type": "string"
        },
        {
         "name": "0",
         "rawType": "int64",
         "type": "integer"
        }
       ],
       "ref": "8f8ad3ac-a138-4e02-a482-74104c679432",
       "rows": [
        [
         "order_id",
         "0"
        ],
        [
         "order_item_id",
         "0"
        ],
        [
         "product_id",
         "0"
        ],
        [
         "seller_id",
         "0"
        ],
        [
         "shipping_limit_date",
         "0"
        ],
        [
         "price",
         "0"
        ],
        [
         "freight_value",
         "0"
        ]
       ],
       "shape": {
        "columns": 1,
        "rows": 7
       }
      },
      "text/plain": [
       "order_id               0\n",
       "order_item_id          0\n",
       "product_id             0\n",
       "seller_id              0\n",
       "shipping_limit_date    0\n",
       "price                  0\n",
       "freight_value          0\n",
       "dtype: int64"
      ]
     },
     "execution_count": 8,
     "metadata": {},
     "output_type": "execute_result"
    }
   ],
   "source": [
    "df_order_items.info()\n",
    "df_order_items.isnull().sum()"
   ]
  },
  {
   "cell_type": "code",
   "execution_count": 9,
   "id": "8b7e7efe",
   "metadata": {},
   "outputs": [
    {
     "data": {
      "text/plain": [
       "np.int64(0)"
      ]
     },
     "execution_count": 9,
     "metadata": {},
     "output_type": "execute_result"
    }
   ],
   "source": [
    "df_order_items.duplicated().sum()"
   ]
  },
  {
   "cell_type": "code",
   "execution_count": 10,
   "id": "62fe4983",
   "metadata": {},
   "outputs": [],
   "source": [
    "df_order_items.drop(columns=['shipping_limit_date', 'freight_value'], inplace=True)"
   ]
  },
  {
   "cell_type": "markdown",
   "id": "36032ff1",
   "metadata": {},
   "source": [
    "- df_order_items doesn't have duplicate entrys and Nulls.\n",
    "- dropping columns: shipping_limit_date, freight_value"
   ]
  },
  {
   "cell_type": "markdown",
   "id": "c23d7e8d",
   "metadata": {},
   "source": [
    "### Dataframe: Order_payments"
   ]
  },
  {
   "cell_type": "code",
   "execution_count": 11,
   "id": "0cdaa677",
   "metadata": {},
   "outputs": [
    {
     "data": {
      "application/vnd.microsoft.datawrangler.viewer.v0+json": {
       "columns": [
        {
         "name": "index",
         "rawType": "int64",
         "type": "integer"
        },
        {
         "name": "order_id",
         "rawType": "object",
         "type": "string"
        },
        {
         "name": "payment_sequential",
         "rawType": "int64",
         "type": "integer"
        },
        {
         "name": "payment_type",
         "rawType": "object",
         "type": "string"
        },
        {
         "name": "payment_installments",
         "rawType": "int64",
         "type": "integer"
        },
        {
         "name": "payment_value",
         "rawType": "float64",
         "type": "float"
        }
       ],
       "ref": "7ad8da93-a9c8-4d8e-83ec-664abe137e5c",
       "rows": [
        [
         "17628",
         "1bf8b5f1e3bc76dcaa6414b170ef3ae0",
         "1",
         "boleto",
         "1",
         "143.27"
        ],
        [
         "8183",
         "a3e07c6b717e74f8c384d148d7903e66",
         "1",
         "credit_card",
         "1",
         "81.78"
        ],
        [
         "14815",
         "c12a78eb30abe88570f3c2c79bea1334",
         "1",
         "credit_card",
         "1",
         "87.3"
        ],
        [
         "67818",
         "502b576f4d6a7091842c83677e13013d",
         "1",
         "credit_card",
         "1",
         "152.62"
        ],
        [
         "82939",
         "ee27a6c585edd9ed8b99e272587bf04c",
         "1",
         "credit_card",
         "5",
         "57.38"
        ],
        [
         "100868",
         "b0707b7956935b194cfa319dc1501d96",
         "1",
         "credit_card",
         "4",
         "46.22"
        ],
        [
         "84839",
         "e39d427402fa3f754c7fd38ceb788901",
         "1",
         "credit_card",
         "6",
         "95.8"
        ],
        [
         "40585",
         "f68bf4a4d690be2a9ba9402b0862ad34",
         "1",
         "credit_card",
         "1",
         "166.68"
        ],
        [
         "25826",
         "cbf5771b59c1f5688a8f8224f08607eb",
         "1",
         "credit_card",
         "10",
         "239.42"
        ],
        [
         "32766",
         "60f6dd1c9030b6132080d65599736d7f",
         "1",
         "credit_card",
         "2",
         "43.87"
        ]
       ],
       "shape": {
        "columns": 5,
        "rows": 10
       }
      },
      "text/html": [
       "<div>\n",
       "<style scoped>\n",
       "    .dataframe tbody tr th:only-of-type {\n",
       "        vertical-align: middle;\n",
       "    }\n",
       "\n",
       "    .dataframe tbody tr th {\n",
       "        vertical-align: top;\n",
       "    }\n",
       "\n",
       "    .dataframe thead th {\n",
       "        text-align: right;\n",
       "    }\n",
       "</style>\n",
       "<table border=\"1\" class=\"dataframe\">\n",
       "  <thead>\n",
       "    <tr style=\"text-align: right;\">\n",
       "      <th></th>\n",
       "      <th>order_id</th>\n",
       "      <th>payment_sequential</th>\n",
       "      <th>payment_type</th>\n",
       "      <th>payment_installments</th>\n",
       "      <th>payment_value</th>\n",
       "    </tr>\n",
       "  </thead>\n",
       "  <tbody>\n",
       "    <tr>\n",
       "      <th>17628</th>\n",
       "      <td>1bf8b5f1e3bc76dcaa6414b170ef3ae0</td>\n",
       "      <td>1</td>\n",
       "      <td>boleto</td>\n",
       "      <td>1</td>\n",
       "      <td>143.27</td>\n",
       "    </tr>\n",
       "    <tr>\n",
       "      <th>8183</th>\n",
       "      <td>a3e07c6b717e74f8c384d148d7903e66</td>\n",
       "      <td>1</td>\n",
       "      <td>credit_card</td>\n",
       "      <td>1</td>\n",
       "      <td>81.78</td>\n",
       "    </tr>\n",
       "    <tr>\n",
       "      <th>14815</th>\n",
       "      <td>c12a78eb30abe88570f3c2c79bea1334</td>\n",
       "      <td>1</td>\n",
       "      <td>credit_card</td>\n",
       "      <td>1</td>\n",
       "      <td>87.30</td>\n",
       "    </tr>\n",
       "    <tr>\n",
       "      <th>67818</th>\n",
       "      <td>502b576f4d6a7091842c83677e13013d</td>\n",
       "      <td>1</td>\n",
       "      <td>credit_card</td>\n",
       "      <td>1</td>\n",
       "      <td>152.62</td>\n",
       "    </tr>\n",
       "    <tr>\n",
       "      <th>82939</th>\n",
       "      <td>ee27a6c585edd9ed8b99e272587bf04c</td>\n",
       "      <td>1</td>\n",
       "      <td>credit_card</td>\n",
       "      <td>5</td>\n",
       "      <td>57.38</td>\n",
       "    </tr>\n",
       "    <tr>\n",
       "      <th>100868</th>\n",
       "      <td>b0707b7956935b194cfa319dc1501d96</td>\n",
       "      <td>1</td>\n",
       "      <td>credit_card</td>\n",
       "      <td>4</td>\n",
       "      <td>46.22</td>\n",
       "    </tr>\n",
       "    <tr>\n",
       "      <th>84839</th>\n",
       "      <td>e39d427402fa3f754c7fd38ceb788901</td>\n",
       "      <td>1</td>\n",
       "      <td>credit_card</td>\n",
       "      <td>6</td>\n",
       "      <td>95.80</td>\n",
       "    </tr>\n",
       "    <tr>\n",
       "      <th>40585</th>\n",
       "      <td>f68bf4a4d690be2a9ba9402b0862ad34</td>\n",
       "      <td>1</td>\n",
       "      <td>credit_card</td>\n",
       "      <td>1</td>\n",
       "      <td>166.68</td>\n",
       "    </tr>\n",
       "    <tr>\n",
       "      <th>25826</th>\n",
       "      <td>cbf5771b59c1f5688a8f8224f08607eb</td>\n",
       "      <td>1</td>\n",
       "      <td>credit_card</td>\n",
       "      <td>10</td>\n",
       "      <td>239.42</td>\n",
       "    </tr>\n",
       "    <tr>\n",
       "      <th>32766</th>\n",
       "      <td>60f6dd1c9030b6132080d65599736d7f</td>\n",
       "      <td>1</td>\n",
       "      <td>credit_card</td>\n",
       "      <td>2</td>\n",
       "      <td>43.87</td>\n",
       "    </tr>\n",
       "  </tbody>\n",
       "</table>\n",
       "</div>"
      ],
      "text/plain": [
       "                                order_id  payment_sequential payment_type  \\\n",
       "17628   1bf8b5f1e3bc76dcaa6414b170ef3ae0                   1       boleto   \n",
       "8183    a3e07c6b717e74f8c384d148d7903e66                   1  credit_card   \n",
       "14815   c12a78eb30abe88570f3c2c79bea1334                   1  credit_card   \n",
       "67818   502b576f4d6a7091842c83677e13013d                   1  credit_card   \n",
       "82939   ee27a6c585edd9ed8b99e272587bf04c                   1  credit_card   \n",
       "100868  b0707b7956935b194cfa319dc1501d96                   1  credit_card   \n",
       "84839   e39d427402fa3f754c7fd38ceb788901                   1  credit_card   \n",
       "40585   f68bf4a4d690be2a9ba9402b0862ad34                   1  credit_card   \n",
       "25826   cbf5771b59c1f5688a8f8224f08607eb                   1  credit_card   \n",
       "32766   60f6dd1c9030b6132080d65599736d7f                   1  credit_card   \n",
       "\n",
       "        payment_installments  payment_value  \n",
       "17628                      1         143.27  \n",
       "8183                       1          81.78  \n",
       "14815                      1          87.30  \n",
       "67818                      1         152.62  \n",
       "82939                      5          57.38  \n",
       "100868                     4          46.22  \n",
       "84839                      6          95.80  \n",
       "40585                      1         166.68  \n",
       "25826                     10         239.42  \n",
       "32766                      2          43.87  "
      ]
     },
     "execution_count": 11,
     "metadata": {},
     "output_type": "execute_result"
    }
   ],
   "source": [
    "df_order_payments.sample(10)"
   ]
  },
  {
   "cell_type": "code",
   "execution_count": 12,
   "id": "b5c43557",
   "metadata": {},
   "outputs": [
    {
     "name": "stdout",
     "output_type": "stream",
     "text": [
      "<class 'pandas.core.frame.DataFrame'>\n",
      "RangeIndex: 103886 entries, 0 to 103885\n",
      "Data columns (total 5 columns):\n",
      " #   Column                Non-Null Count   Dtype  \n",
      "---  ------                --------------   -----  \n",
      " 0   order_id              103886 non-null  object \n",
      " 1   payment_sequential    103886 non-null  int64  \n",
      " 2   payment_type          103886 non-null  object \n",
      " 3   payment_installments  103886 non-null  int64  \n",
      " 4   payment_value         103886 non-null  float64\n",
      "dtypes: float64(1), int64(2), object(2)\n",
      "memory usage: 4.0+ MB\n"
     ]
    },
    {
     "data": {
      "application/vnd.microsoft.datawrangler.viewer.v0+json": {
       "columns": [
        {
         "name": "index",
         "rawType": "object",
         "type": "string"
        },
        {
         "name": "0",
         "rawType": "int64",
         "type": "integer"
        }
       ],
       "ref": "3c4a852f-2f2e-4aca-afe9-b24273043bfa",
       "rows": [
        [
         "order_id",
         "0"
        ],
        [
         "payment_sequential",
         "0"
        ],
        [
         "payment_type",
         "0"
        ],
        [
         "payment_installments",
         "0"
        ],
        [
         "payment_value",
         "0"
        ]
       ],
       "shape": {
        "columns": 1,
        "rows": 5
       }
      },
      "text/plain": [
       "order_id                0\n",
       "payment_sequential      0\n",
       "payment_type            0\n",
       "payment_installments    0\n",
       "payment_value           0\n",
       "dtype: int64"
      ]
     },
     "execution_count": 12,
     "metadata": {},
     "output_type": "execute_result"
    }
   ],
   "source": [
    "df_order_payments.info()\n",
    "df_order_payments.isnull().sum()"
   ]
  },
  {
   "cell_type": "code",
   "execution_count": 13,
   "id": "d6bf6449",
   "metadata": {},
   "outputs": [
    {
     "data": {
      "text/plain": [
       "np.int64(0)"
      ]
     },
     "execution_count": 13,
     "metadata": {},
     "output_type": "execute_result"
    }
   ],
   "source": [
    "df_order_payments.duplicated().sum()"
   ]
  },
  {
   "cell_type": "code",
   "execution_count": 14,
   "id": "9bc148f5",
   "metadata": {},
   "outputs": [],
   "source": [
    "df_order_payments.drop(columns=['payment_sequential','payment_installments','payment_type'], inplace=True)"
   ]
  },
  {
   "cell_type": "markdown",
   "id": "d8d9a782",
   "metadata": {},
   "source": [
    "- df_order_payments doesn't have duplicate entrys and Nulls.\n",
    "- dropping columns: payment_sequential, payment_type, payment_installments"
   ]
  },
  {
   "cell_type": "markdown",
   "id": "d0a0f4ec",
   "metadata": {},
   "source": [
    "### Dataframe: Orders"
   ]
  },
  {
   "cell_type": "code",
   "execution_count": 15,
   "id": "820a824e",
   "metadata": {},
   "outputs": [
    {
     "data": {
      "application/vnd.microsoft.datawrangler.viewer.v0+json": {
       "columns": [
        {
         "name": "index",
         "rawType": "int64",
         "type": "integer"
        },
        {
         "name": "order_id",
         "rawType": "object",
         "type": "string"
        },
        {
         "name": "customer_id",
         "rawType": "object",
         "type": "string"
        },
        {
         "name": "order_status",
         "rawType": "object",
         "type": "string"
        },
        {
         "name": "order_purchase_timestamp",
         "rawType": "object",
         "type": "string"
        },
        {
         "name": "order_approved_at",
         "rawType": "object",
         "type": "string"
        },
        {
         "name": "order_delivered_carrier_date",
         "rawType": "object",
         "type": "string"
        },
        {
         "name": "order_delivered_customer_date",
         "rawType": "object",
         "type": "string"
        },
        {
         "name": "order_estimated_delivery_date",
         "rawType": "object",
         "type": "string"
        }
       ],
       "ref": "d2ec960c-1063-41ad-87d7-3d7cf8d9a8b7",
       "rows": [
        [
         "3362",
         "03e94224875e6dec154cc7a142ce5de2",
         "bb7651b2df4512e6c29ff35a7b8cd754",
         "delivered",
         "2018-04-23 10:09:03",
         "2018-04-24 18:11:03",
         "2018-04-24 17:42:08",
         "2018-04-25 18:58:59",
         "2018-05-08 00:00:00"
        ],
        [
         "71325",
         "06c82be9b8551eb37a9b8e7e05dec631",
         "226a2de9b9feb22a76582963ebcf1e96",
         "delivered",
         "2017-07-11 14:27:14",
         "2017-07-11 14:43:41",
         "2017-07-26 03:19:36",
         "2017-08-01 16:17:38",
         "2017-08-02 00:00:00"
        ],
        [
         "45740",
         "970b0850a5b6ccaa34a0e887e8d10a5b",
         "4619dca3ccf1e57f50ba85089e2370f6",
         "delivered",
         "2018-03-17 11:06:27",
         "2018-03-19 20:28:03",
         "2018-03-22 21:32:46",
         "2018-04-02 13:26:28",
         "2018-04-05 00:00:00"
        ],
        [
         "89929",
         "fb01e8d8215d266abffb5ca379063244",
         "0d7b6a46b67046fa56193773a361e7ac",
         "delivered",
         "2017-04-03 22:00:05",
         "2017-04-03 22:15:14",
         "2017-04-13 19:07:15",
         "2017-04-19 09:53:18",
         "2017-05-02 00:00:00"
        ],
        [
         "16942",
         "cb7c837f8c5240816176dc115c21a746",
         "d60805f01a84d8b2d5acae981e3c770f",
         "delivered",
         "2018-06-21 20:27:51",
         "2018-06-26 04:58:46",
         "2018-06-27 10:28:00",
         "2018-07-04 19:04:37",
         "2018-07-27 00:00:00"
        ],
        [
         "2079",
         "ed98c37d860890f940e2acd83629fdd1",
         "71f8cd490677ee95362201588c0eaff4",
         "delivered",
         "2017-12-15 12:57:19",
         "2017-12-15 13:13:05",
         "2017-12-19 22:57:44",
         "2017-12-22 01:28:07",
         "2018-01-05 00:00:00"
        ],
        [
         "116",
         "4b3a605942f29d490cb74bd6ace6b9f0",
         "e8a332c3433fbd37920ec89fc295d075",
         "delivered",
         "2017-09-29 09:32:17",
         "2017-09-29 09:44:12",
         "2017-09-29 21:58:48",
         "2017-09-30 16:55:39",
         "2017-10-17 00:00:00"
        ],
        [
         "94696",
         "72b9d86fe4e984d9879013b9ecbb25db",
         "8b122c119e36ca9dd381d2bfc02112ea",
         "delivered",
         "2018-04-11 22:29:32",
         "2018-04-13 12:35:27",
         "2018-04-13 21:26:48",
         "2018-04-23 18:41:58",
         "2018-05-23 00:00:00"
        ],
        [
         "26173",
         "103e18e9325ee41d8cfa4902f8abc16f",
         "aa28fcb213db1415749a665f82704181",
         "delivered",
         "2018-01-14 14:34:55",
         "2018-01-14 14:48:41",
         "2018-01-17 22:16:57",
         "2018-01-24 21:54:49",
         "2018-02-05 00:00:00"
        ],
        [
         "21659",
         "ffc29f864fd689fab9ae81be82baf8ef",
         "77d2c30e1dff5d4440ec316f8a2ef2a2",
         "delivered",
         "2017-07-30 20:33:10",
         "2017-07-31 20:43:11",
         "2017-08-04 17:45:04",
         "2017-08-09 19:56:29",
         "2017-08-24 00:00:00"
        ]
       ],
       "shape": {
        "columns": 8,
        "rows": 10
       }
      },
      "text/html": [
       "<div>\n",
       "<style scoped>\n",
       "    .dataframe tbody tr th:only-of-type {\n",
       "        vertical-align: middle;\n",
       "    }\n",
       "\n",
       "    .dataframe tbody tr th {\n",
       "        vertical-align: top;\n",
       "    }\n",
       "\n",
       "    .dataframe thead th {\n",
       "        text-align: right;\n",
       "    }\n",
       "</style>\n",
       "<table border=\"1\" class=\"dataframe\">\n",
       "  <thead>\n",
       "    <tr style=\"text-align: right;\">\n",
       "      <th></th>\n",
       "      <th>order_id</th>\n",
       "      <th>customer_id</th>\n",
       "      <th>order_status</th>\n",
       "      <th>order_purchase_timestamp</th>\n",
       "      <th>order_approved_at</th>\n",
       "      <th>order_delivered_carrier_date</th>\n",
       "      <th>order_delivered_customer_date</th>\n",
       "      <th>order_estimated_delivery_date</th>\n",
       "    </tr>\n",
       "  </thead>\n",
       "  <tbody>\n",
       "    <tr>\n",
       "      <th>3362</th>\n",
       "      <td>03e94224875e6dec154cc7a142ce5de2</td>\n",
       "      <td>bb7651b2df4512e6c29ff35a7b8cd754</td>\n",
       "      <td>delivered</td>\n",
       "      <td>2018-04-23 10:09:03</td>\n",
       "      <td>2018-04-24 18:11:03</td>\n",
       "      <td>2018-04-24 17:42:08</td>\n",
       "      <td>2018-04-25 18:58:59</td>\n",
       "      <td>2018-05-08 00:00:00</td>\n",
       "    </tr>\n",
       "    <tr>\n",
       "      <th>71325</th>\n",
       "      <td>06c82be9b8551eb37a9b8e7e05dec631</td>\n",
       "      <td>226a2de9b9feb22a76582963ebcf1e96</td>\n",
       "      <td>delivered</td>\n",
       "      <td>2017-07-11 14:27:14</td>\n",
       "      <td>2017-07-11 14:43:41</td>\n",
       "      <td>2017-07-26 03:19:36</td>\n",
       "      <td>2017-08-01 16:17:38</td>\n",
       "      <td>2017-08-02 00:00:00</td>\n",
       "    </tr>\n",
       "    <tr>\n",
       "      <th>45740</th>\n",
       "      <td>970b0850a5b6ccaa34a0e887e8d10a5b</td>\n",
       "      <td>4619dca3ccf1e57f50ba85089e2370f6</td>\n",
       "      <td>delivered</td>\n",
       "      <td>2018-03-17 11:06:27</td>\n",
       "      <td>2018-03-19 20:28:03</td>\n",
       "      <td>2018-03-22 21:32:46</td>\n",
       "      <td>2018-04-02 13:26:28</td>\n",
       "      <td>2018-04-05 00:00:00</td>\n",
       "    </tr>\n",
       "    <tr>\n",
       "      <th>89929</th>\n",
       "      <td>fb01e8d8215d266abffb5ca379063244</td>\n",
       "      <td>0d7b6a46b67046fa56193773a361e7ac</td>\n",
       "      <td>delivered</td>\n",
       "      <td>2017-04-03 22:00:05</td>\n",
       "      <td>2017-04-03 22:15:14</td>\n",
       "      <td>2017-04-13 19:07:15</td>\n",
       "      <td>2017-04-19 09:53:18</td>\n",
       "      <td>2017-05-02 00:00:00</td>\n",
       "    </tr>\n",
       "    <tr>\n",
       "      <th>16942</th>\n",
       "      <td>cb7c837f8c5240816176dc115c21a746</td>\n",
       "      <td>d60805f01a84d8b2d5acae981e3c770f</td>\n",
       "      <td>delivered</td>\n",
       "      <td>2018-06-21 20:27:51</td>\n",
       "      <td>2018-06-26 04:58:46</td>\n",
       "      <td>2018-06-27 10:28:00</td>\n",
       "      <td>2018-07-04 19:04:37</td>\n",
       "      <td>2018-07-27 00:00:00</td>\n",
       "    </tr>\n",
       "    <tr>\n",
       "      <th>2079</th>\n",
       "      <td>ed98c37d860890f940e2acd83629fdd1</td>\n",
       "      <td>71f8cd490677ee95362201588c0eaff4</td>\n",
       "      <td>delivered</td>\n",
       "      <td>2017-12-15 12:57:19</td>\n",
       "      <td>2017-12-15 13:13:05</td>\n",
       "      <td>2017-12-19 22:57:44</td>\n",
       "      <td>2017-12-22 01:28:07</td>\n",
       "      <td>2018-01-05 00:00:00</td>\n",
       "    </tr>\n",
       "    <tr>\n",
       "      <th>116</th>\n",
       "      <td>4b3a605942f29d490cb74bd6ace6b9f0</td>\n",
       "      <td>e8a332c3433fbd37920ec89fc295d075</td>\n",
       "      <td>delivered</td>\n",
       "      <td>2017-09-29 09:32:17</td>\n",
       "      <td>2017-09-29 09:44:12</td>\n",
       "      <td>2017-09-29 21:58:48</td>\n",
       "      <td>2017-09-30 16:55:39</td>\n",
       "      <td>2017-10-17 00:00:00</td>\n",
       "    </tr>\n",
       "    <tr>\n",
       "      <th>94696</th>\n",
       "      <td>72b9d86fe4e984d9879013b9ecbb25db</td>\n",
       "      <td>8b122c119e36ca9dd381d2bfc02112ea</td>\n",
       "      <td>delivered</td>\n",
       "      <td>2018-04-11 22:29:32</td>\n",
       "      <td>2018-04-13 12:35:27</td>\n",
       "      <td>2018-04-13 21:26:48</td>\n",
       "      <td>2018-04-23 18:41:58</td>\n",
       "      <td>2018-05-23 00:00:00</td>\n",
       "    </tr>\n",
       "    <tr>\n",
       "      <th>26173</th>\n",
       "      <td>103e18e9325ee41d8cfa4902f8abc16f</td>\n",
       "      <td>aa28fcb213db1415749a665f82704181</td>\n",
       "      <td>delivered</td>\n",
       "      <td>2018-01-14 14:34:55</td>\n",
       "      <td>2018-01-14 14:48:41</td>\n",
       "      <td>2018-01-17 22:16:57</td>\n",
       "      <td>2018-01-24 21:54:49</td>\n",
       "      <td>2018-02-05 00:00:00</td>\n",
       "    </tr>\n",
       "    <tr>\n",
       "      <th>21659</th>\n",
       "      <td>ffc29f864fd689fab9ae81be82baf8ef</td>\n",
       "      <td>77d2c30e1dff5d4440ec316f8a2ef2a2</td>\n",
       "      <td>delivered</td>\n",
       "      <td>2017-07-30 20:33:10</td>\n",
       "      <td>2017-07-31 20:43:11</td>\n",
       "      <td>2017-08-04 17:45:04</td>\n",
       "      <td>2017-08-09 19:56:29</td>\n",
       "      <td>2017-08-24 00:00:00</td>\n",
       "    </tr>\n",
       "  </tbody>\n",
       "</table>\n",
       "</div>"
      ],
      "text/plain": [
       "                               order_id                       customer_id  \\\n",
       "3362   03e94224875e6dec154cc7a142ce5de2  bb7651b2df4512e6c29ff35a7b8cd754   \n",
       "71325  06c82be9b8551eb37a9b8e7e05dec631  226a2de9b9feb22a76582963ebcf1e96   \n",
       "45740  970b0850a5b6ccaa34a0e887e8d10a5b  4619dca3ccf1e57f50ba85089e2370f6   \n",
       "89929  fb01e8d8215d266abffb5ca379063244  0d7b6a46b67046fa56193773a361e7ac   \n",
       "16942  cb7c837f8c5240816176dc115c21a746  d60805f01a84d8b2d5acae981e3c770f   \n",
       "2079   ed98c37d860890f940e2acd83629fdd1  71f8cd490677ee95362201588c0eaff4   \n",
       "116    4b3a605942f29d490cb74bd6ace6b9f0  e8a332c3433fbd37920ec89fc295d075   \n",
       "94696  72b9d86fe4e984d9879013b9ecbb25db  8b122c119e36ca9dd381d2bfc02112ea   \n",
       "26173  103e18e9325ee41d8cfa4902f8abc16f  aa28fcb213db1415749a665f82704181   \n",
       "21659  ffc29f864fd689fab9ae81be82baf8ef  77d2c30e1dff5d4440ec316f8a2ef2a2   \n",
       "\n",
       "      order_status order_purchase_timestamp    order_approved_at  \\\n",
       "3362     delivered      2018-04-23 10:09:03  2018-04-24 18:11:03   \n",
       "71325    delivered      2017-07-11 14:27:14  2017-07-11 14:43:41   \n",
       "45740    delivered      2018-03-17 11:06:27  2018-03-19 20:28:03   \n",
       "89929    delivered      2017-04-03 22:00:05  2017-04-03 22:15:14   \n",
       "16942    delivered      2018-06-21 20:27:51  2018-06-26 04:58:46   \n",
       "2079     delivered      2017-12-15 12:57:19  2017-12-15 13:13:05   \n",
       "116      delivered      2017-09-29 09:32:17  2017-09-29 09:44:12   \n",
       "94696    delivered      2018-04-11 22:29:32  2018-04-13 12:35:27   \n",
       "26173    delivered      2018-01-14 14:34:55  2018-01-14 14:48:41   \n",
       "21659    delivered      2017-07-30 20:33:10  2017-07-31 20:43:11   \n",
       "\n",
       "      order_delivered_carrier_date order_delivered_customer_date  \\\n",
       "3362           2018-04-24 17:42:08           2018-04-25 18:58:59   \n",
       "71325          2017-07-26 03:19:36           2017-08-01 16:17:38   \n",
       "45740          2018-03-22 21:32:46           2018-04-02 13:26:28   \n",
       "89929          2017-04-13 19:07:15           2017-04-19 09:53:18   \n",
       "16942          2018-06-27 10:28:00           2018-07-04 19:04:37   \n",
       "2079           2017-12-19 22:57:44           2017-12-22 01:28:07   \n",
       "116            2017-09-29 21:58:48           2017-09-30 16:55:39   \n",
       "94696          2018-04-13 21:26:48           2018-04-23 18:41:58   \n",
       "26173          2018-01-17 22:16:57           2018-01-24 21:54:49   \n",
       "21659          2017-08-04 17:45:04           2017-08-09 19:56:29   \n",
       "\n",
       "      order_estimated_delivery_date  \n",
       "3362            2018-05-08 00:00:00  \n",
       "71325           2017-08-02 00:00:00  \n",
       "45740           2018-04-05 00:00:00  \n",
       "89929           2017-05-02 00:00:00  \n",
       "16942           2018-07-27 00:00:00  \n",
       "2079            2018-01-05 00:00:00  \n",
       "116             2017-10-17 00:00:00  \n",
       "94696           2018-05-23 00:00:00  \n",
       "26173           2018-02-05 00:00:00  \n",
       "21659           2017-08-24 00:00:00  "
      ]
     },
     "execution_count": 15,
     "metadata": {},
     "output_type": "execute_result"
    }
   ],
   "source": [
    "df_orders.sample(10)"
   ]
  },
  {
   "cell_type": "code",
   "execution_count": 16,
   "id": "38f85b99",
   "metadata": {},
   "outputs": [
    {
     "name": "stdout",
     "output_type": "stream",
     "text": [
      "<class 'pandas.core.frame.DataFrame'>\n",
      "RangeIndex: 99441 entries, 0 to 99440\n",
      "Data columns (total 8 columns):\n",
      " #   Column                         Non-Null Count  Dtype \n",
      "---  ------                         --------------  ----- \n",
      " 0   order_id                       99441 non-null  object\n",
      " 1   customer_id                    99441 non-null  object\n",
      " 2   order_status                   99441 non-null  object\n",
      " 3   order_purchase_timestamp       99441 non-null  object\n",
      " 4   order_approved_at              99281 non-null  object\n",
      " 5   order_delivered_carrier_date   97658 non-null  object\n",
      " 6   order_delivered_customer_date  96476 non-null  object\n",
      " 7   order_estimated_delivery_date  99441 non-null  object\n",
      "dtypes: object(8)\n",
      "memory usage: 6.1+ MB\n"
     ]
    },
    {
     "data": {
      "application/vnd.microsoft.datawrangler.viewer.v0+json": {
       "columns": [
        {
         "name": "index",
         "rawType": "object",
         "type": "string"
        },
        {
         "name": "0",
         "rawType": "int64",
         "type": "integer"
        }
       ],
       "ref": "ec8d65a9-0a95-4b0e-9fdc-627945fd9edb",
       "rows": [
        [
         "order_id",
         "0"
        ],
        [
         "customer_id",
         "0"
        ],
        [
         "order_status",
         "0"
        ],
        [
         "order_purchase_timestamp",
         "0"
        ],
        [
         "order_approved_at",
         "160"
        ],
        [
         "order_delivered_carrier_date",
         "1783"
        ],
        [
         "order_delivered_customer_date",
         "2965"
        ],
        [
         "order_estimated_delivery_date",
         "0"
        ]
       ],
       "shape": {
        "columns": 1,
        "rows": 8
       }
      },
      "text/plain": [
       "order_id                            0\n",
       "customer_id                         0\n",
       "order_status                        0\n",
       "order_purchase_timestamp            0\n",
       "order_approved_at                 160\n",
       "order_delivered_carrier_date     1783\n",
       "order_delivered_customer_date    2965\n",
       "order_estimated_delivery_date       0\n",
       "dtype: int64"
      ]
     },
     "execution_count": 16,
     "metadata": {},
     "output_type": "execute_result"
    }
   ],
   "source": [
    "df_orders.info()\n",
    "df_orders.isnull().sum()"
   ]
  },
  {
   "cell_type": "code",
   "execution_count": 17,
   "id": "a9ab50e8",
   "metadata": {},
   "outputs": [
    {
     "data": {
      "text/plain": [
       "np.int64(0)"
      ]
     },
     "execution_count": 17,
     "metadata": {},
     "output_type": "execute_result"
    }
   ],
   "source": [
    "df_orders.duplicated().sum()"
   ]
  },
  {
   "cell_type": "code",
   "execution_count": 18,
   "id": "bbd1660d",
   "metadata": {},
   "outputs": [],
   "source": [
    "df_orders.drop(columns=['order_approved_at','order_delivered_carrier_date','order_delivered_customer_date','order_estimated_delivery_date'], inplace=True)"
   ]
  },
  {
   "cell_type": "code",
   "execution_count": 19,
   "id": "4880901b",
   "metadata": {},
   "outputs": [
    {
     "name": "stdout",
     "output_type": "stream",
     "text": [
      "<class 'pandas.core.frame.DataFrame'>\n",
      "RangeIndex: 99441 entries, 0 to 99440\n",
      "Data columns (total 4 columns):\n",
      " #   Column                    Non-Null Count  Dtype \n",
      "---  ------                    --------------  ----- \n",
      " 0   order_id                  99441 non-null  object\n",
      " 1   customer_id               99441 non-null  object\n",
      " 2   order_status              99441 non-null  object\n",
      " 3   order_purchase_timestamp  99441 non-null  object\n",
      "dtypes: object(4)\n",
      "memory usage: 3.0+ MB\n"
     ]
    },
    {
     "data": {
      "application/vnd.microsoft.datawrangler.viewer.v0+json": {
       "columns": [
        {
         "name": "index",
         "rawType": "object",
         "type": "string"
        },
        {
         "name": "0",
         "rawType": "int64",
         "type": "integer"
        }
       ],
       "ref": "74e9bed6-ca55-4128-9932-a517158625d4",
       "rows": [
        [
         "order_id",
         "0"
        ],
        [
         "customer_id",
         "0"
        ],
        [
         "order_status",
         "0"
        ],
        [
         "order_purchase_timestamp",
         "0"
        ]
       ],
       "shape": {
        "columns": 1,
        "rows": 4
       }
      },
      "text/plain": [
       "order_id                    0\n",
       "customer_id                 0\n",
       "order_status                0\n",
       "order_purchase_timestamp    0\n",
       "dtype: int64"
      ]
     },
     "execution_count": 19,
     "metadata": {},
     "output_type": "execute_result"
    }
   ],
   "source": [
    "df_orders.info()\n",
    "df_orders.isnull().sum()"
   ]
  },
  {
   "cell_type": "markdown",
   "id": "ddcdf9de",
   "metadata": {},
   "source": [
    "- df_order_payments doesn't have duplicate entrys and Nulls on relevant columns.\n",
    "- dropping columns: order_approved_at, order_delivered_carrier_date, order_delivered_customer_date, order_estimated_delivery_date"
   ]
  },
  {
   "cell_type": "markdown",
   "id": "46ae326f",
   "metadata": {},
   "source": [
    "### Dataframe: Products"
   ]
  },
  {
   "cell_type": "code",
   "execution_count": 20,
   "id": "97240df8",
   "metadata": {},
   "outputs": [
    {
     "data": {
      "application/vnd.microsoft.datawrangler.viewer.v0+json": {
       "columns": [
        {
         "name": "index",
         "rawType": "int64",
         "type": "integer"
        },
        {
         "name": "product_id",
         "rawType": "object",
         "type": "string"
        },
        {
         "name": "product_category_name",
         "rawType": "object",
         "type": "string"
        },
        {
         "name": "product_name_lenght",
         "rawType": "float64",
         "type": "float"
        },
        {
         "name": "product_description_lenght",
         "rawType": "float64",
         "type": "float"
        },
        {
         "name": "product_photos_qty",
         "rawType": "float64",
         "type": "float"
        },
        {
         "name": "product_weight_g",
         "rawType": "float64",
         "type": "float"
        },
        {
         "name": "product_length_cm",
         "rawType": "float64",
         "type": "float"
        },
        {
         "name": "product_height_cm",
         "rawType": "float64",
         "type": "float"
        },
        {
         "name": "product_width_cm",
         "rawType": "float64",
         "type": "float"
        }
       ],
       "ref": "9ef1a92a-d4fe-4331-8429-d783597b5ced",
       "rows": [
        [
         "16454",
         "19290ebcf78e385cd9fcd48ce5e1393d",
         "ferramentas_jardim",
         "41.0",
         "320.0",
         "1.0",
         "267.0",
         "27.0",
         "13.0",
         "17.0"
        ],
        [
         "5647",
         "207bb2d8180c2c7654872f6fab96e40e",
         "telefonia",
         "30.0",
         "305.0",
         "1.0",
         "100.0",
         "19.0",
         "3.0",
         "11.0"
        ],
        [
         "7643",
         "88596b69f04745db1f8ba135da5c708d",
         "papelaria",
         "59.0",
         "296.0",
         "1.0",
         "310.0",
         "21.0",
         "7.0",
         "15.0"
        ],
        [
         "7636",
         "db1154ea7d1c50d8a5939a9f7fbc3b2a",
         "brinquedos",
         "42.0",
         "283.0",
         "1.0",
         "5200.0",
         "50.0",
         "10.0",
         "50.0"
        ],
        [
         "6985",
         "bdd59148fd23281bb706539815e39bf3",
         "perfumaria",
         "57.0",
         "598.0",
         "1.0",
         "450.0",
         "18.0",
         "18.0",
         "18.0"
        ],
        [
         "30885",
         "422fe5f2947a7aa4b72de6e4e41f543f",
         "perfumaria",
         "58.0",
         "598.0",
         "2.0",
         "700.0",
         "43.0",
         "16.0",
         "27.0"
        ],
        [
         "16093",
         "efeb7b23db334d617250aca97cd3f1e8",
         "cama_mesa_banho",
         "51.0",
         "404.0",
         "1.0",
         "1500.0",
         "30.0",
         "15.0",
         "20.0"
        ],
        [
         "15130",
         "988117394d514cb9fb1b367714159a67",
         "ferramentas_jardim",
         "58.0",
         "1378.0",
         "1.0",
         "3500.0",
         "21.0",
         "23.0",
         "11.0"
        ],
        [
         "21021",
         "50e1b118f266b655f613f753914c42db",
         "cama_mesa_banho",
         "44.0",
         "630.0",
         "1.0",
         "800.0",
         "16.0",
         "20.0",
         "28.0"
        ],
        [
         "695",
         "1ecaa47c3ade7f098ca5dd97e8dcb018",
         "telefonia",
         "54.0",
         "653.0",
         "1.0",
         "150.0",
         "19.0",
         "3.0",
         "11.0"
        ]
       ],
       "shape": {
        "columns": 9,
        "rows": 10
       }
      },
      "text/html": [
       "<div>\n",
       "<style scoped>\n",
       "    .dataframe tbody tr th:only-of-type {\n",
       "        vertical-align: middle;\n",
       "    }\n",
       "\n",
       "    .dataframe tbody tr th {\n",
       "        vertical-align: top;\n",
       "    }\n",
       "\n",
       "    .dataframe thead th {\n",
       "        text-align: right;\n",
       "    }\n",
       "</style>\n",
       "<table border=\"1\" class=\"dataframe\">\n",
       "  <thead>\n",
       "    <tr style=\"text-align: right;\">\n",
       "      <th></th>\n",
       "      <th>product_id</th>\n",
       "      <th>product_category_name</th>\n",
       "      <th>product_name_lenght</th>\n",
       "      <th>product_description_lenght</th>\n",
       "      <th>product_photos_qty</th>\n",
       "      <th>product_weight_g</th>\n",
       "      <th>product_length_cm</th>\n",
       "      <th>product_height_cm</th>\n",
       "      <th>product_width_cm</th>\n",
       "    </tr>\n",
       "  </thead>\n",
       "  <tbody>\n",
       "    <tr>\n",
       "      <th>16454</th>\n",
       "      <td>19290ebcf78e385cd9fcd48ce5e1393d</td>\n",
       "      <td>ferramentas_jardim</td>\n",
       "      <td>41.0</td>\n",
       "      <td>320.0</td>\n",
       "      <td>1.0</td>\n",
       "      <td>267.0</td>\n",
       "      <td>27.0</td>\n",
       "      <td>13.0</td>\n",
       "      <td>17.0</td>\n",
       "    </tr>\n",
       "    <tr>\n",
       "      <th>5647</th>\n",
       "      <td>207bb2d8180c2c7654872f6fab96e40e</td>\n",
       "      <td>telefonia</td>\n",
       "      <td>30.0</td>\n",
       "      <td>305.0</td>\n",
       "      <td>1.0</td>\n",
       "      <td>100.0</td>\n",
       "      <td>19.0</td>\n",
       "      <td>3.0</td>\n",
       "      <td>11.0</td>\n",
       "    </tr>\n",
       "    <tr>\n",
       "      <th>7643</th>\n",
       "      <td>88596b69f04745db1f8ba135da5c708d</td>\n",
       "      <td>papelaria</td>\n",
       "      <td>59.0</td>\n",
       "      <td>296.0</td>\n",
       "      <td>1.0</td>\n",
       "      <td>310.0</td>\n",
       "      <td>21.0</td>\n",
       "      <td>7.0</td>\n",
       "      <td>15.0</td>\n",
       "    </tr>\n",
       "    <tr>\n",
       "      <th>7636</th>\n",
       "      <td>db1154ea7d1c50d8a5939a9f7fbc3b2a</td>\n",
       "      <td>brinquedos</td>\n",
       "      <td>42.0</td>\n",
       "      <td>283.0</td>\n",
       "      <td>1.0</td>\n",
       "      <td>5200.0</td>\n",
       "      <td>50.0</td>\n",
       "      <td>10.0</td>\n",
       "      <td>50.0</td>\n",
       "    </tr>\n",
       "    <tr>\n",
       "      <th>6985</th>\n",
       "      <td>bdd59148fd23281bb706539815e39bf3</td>\n",
       "      <td>perfumaria</td>\n",
       "      <td>57.0</td>\n",
       "      <td>598.0</td>\n",
       "      <td>1.0</td>\n",
       "      <td>450.0</td>\n",
       "      <td>18.0</td>\n",
       "      <td>18.0</td>\n",
       "      <td>18.0</td>\n",
       "    </tr>\n",
       "    <tr>\n",
       "      <th>30885</th>\n",
       "      <td>422fe5f2947a7aa4b72de6e4e41f543f</td>\n",
       "      <td>perfumaria</td>\n",
       "      <td>58.0</td>\n",
       "      <td>598.0</td>\n",
       "      <td>2.0</td>\n",
       "      <td>700.0</td>\n",
       "      <td>43.0</td>\n",
       "      <td>16.0</td>\n",
       "      <td>27.0</td>\n",
       "    </tr>\n",
       "    <tr>\n",
       "      <th>16093</th>\n",
       "      <td>efeb7b23db334d617250aca97cd3f1e8</td>\n",
       "      <td>cama_mesa_banho</td>\n",
       "      <td>51.0</td>\n",
       "      <td>404.0</td>\n",
       "      <td>1.0</td>\n",
       "      <td>1500.0</td>\n",
       "      <td>30.0</td>\n",
       "      <td>15.0</td>\n",
       "      <td>20.0</td>\n",
       "    </tr>\n",
       "    <tr>\n",
       "      <th>15130</th>\n",
       "      <td>988117394d514cb9fb1b367714159a67</td>\n",
       "      <td>ferramentas_jardim</td>\n",
       "      <td>58.0</td>\n",
       "      <td>1378.0</td>\n",
       "      <td>1.0</td>\n",
       "      <td>3500.0</td>\n",
       "      <td>21.0</td>\n",
       "      <td>23.0</td>\n",
       "      <td>11.0</td>\n",
       "    </tr>\n",
       "    <tr>\n",
       "      <th>21021</th>\n",
       "      <td>50e1b118f266b655f613f753914c42db</td>\n",
       "      <td>cama_mesa_banho</td>\n",
       "      <td>44.0</td>\n",
       "      <td>630.0</td>\n",
       "      <td>1.0</td>\n",
       "      <td>800.0</td>\n",
       "      <td>16.0</td>\n",
       "      <td>20.0</td>\n",
       "      <td>28.0</td>\n",
       "    </tr>\n",
       "    <tr>\n",
       "      <th>695</th>\n",
       "      <td>1ecaa47c3ade7f098ca5dd97e8dcb018</td>\n",
       "      <td>telefonia</td>\n",
       "      <td>54.0</td>\n",
       "      <td>653.0</td>\n",
       "      <td>1.0</td>\n",
       "      <td>150.0</td>\n",
       "      <td>19.0</td>\n",
       "      <td>3.0</td>\n",
       "      <td>11.0</td>\n",
       "    </tr>\n",
       "  </tbody>\n",
       "</table>\n",
       "</div>"
      ],
      "text/plain": [
       "                             product_id product_category_name  \\\n",
       "16454  19290ebcf78e385cd9fcd48ce5e1393d    ferramentas_jardim   \n",
       "5647   207bb2d8180c2c7654872f6fab96e40e             telefonia   \n",
       "7643   88596b69f04745db1f8ba135da5c708d             papelaria   \n",
       "7636   db1154ea7d1c50d8a5939a9f7fbc3b2a            brinquedos   \n",
       "6985   bdd59148fd23281bb706539815e39bf3            perfumaria   \n",
       "30885  422fe5f2947a7aa4b72de6e4e41f543f            perfumaria   \n",
       "16093  efeb7b23db334d617250aca97cd3f1e8       cama_mesa_banho   \n",
       "15130  988117394d514cb9fb1b367714159a67    ferramentas_jardim   \n",
       "21021  50e1b118f266b655f613f753914c42db       cama_mesa_banho   \n",
       "695    1ecaa47c3ade7f098ca5dd97e8dcb018             telefonia   \n",
       "\n",
       "       product_name_lenght  product_description_lenght  product_photos_qty  \\\n",
       "16454                 41.0                       320.0                 1.0   \n",
       "5647                  30.0                       305.0                 1.0   \n",
       "7643                  59.0                       296.0                 1.0   \n",
       "7636                  42.0                       283.0                 1.0   \n",
       "6985                  57.0                       598.0                 1.0   \n",
       "30885                 58.0                       598.0                 2.0   \n",
       "16093                 51.0                       404.0                 1.0   \n",
       "15130                 58.0                      1378.0                 1.0   \n",
       "21021                 44.0                       630.0                 1.0   \n",
       "695                   54.0                       653.0                 1.0   \n",
       "\n",
       "       product_weight_g  product_length_cm  product_height_cm  \\\n",
       "16454             267.0               27.0               13.0   \n",
       "5647              100.0               19.0                3.0   \n",
       "7643              310.0               21.0                7.0   \n",
       "7636             5200.0               50.0               10.0   \n",
       "6985              450.0               18.0               18.0   \n",
       "30885             700.0               43.0               16.0   \n",
       "16093            1500.0               30.0               15.0   \n",
       "15130            3500.0               21.0               23.0   \n",
       "21021             800.0               16.0               20.0   \n",
       "695               150.0               19.0                3.0   \n",
       "\n",
       "       product_width_cm  \n",
       "16454              17.0  \n",
       "5647               11.0  \n",
       "7643               15.0  \n",
       "7636               50.0  \n",
       "6985               18.0  \n",
       "30885              27.0  \n",
       "16093              20.0  \n",
       "15130              11.0  \n",
       "21021              28.0  \n",
       "695                11.0  "
      ]
     },
     "execution_count": 20,
     "metadata": {},
     "output_type": "execute_result"
    }
   ],
   "source": [
    "df_products.sample(10)"
   ]
  },
  {
   "cell_type": "code",
   "execution_count": 21,
   "id": "b2c8a574",
   "metadata": {},
   "outputs": [
    {
     "name": "stdout",
     "output_type": "stream",
     "text": [
      "<class 'pandas.core.frame.DataFrame'>\n",
      "RangeIndex: 32951 entries, 0 to 32950\n",
      "Data columns (total 9 columns):\n",
      " #   Column                      Non-Null Count  Dtype  \n",
      "---  ------                      --------------  -----  \n",
      " 0   product_id                  32951 non-null  object \n",
      " 1   product_category_name       32341 non-null  object \n",
      " 2   product_name_lenght         32341 non-null  float64\n",
      " 3   product_description_lenght  32341 non-null  float64\n",
      " 4   product_photos_qty          32341 non-null  float64\n",
      " 5   product_weight_g            32949 non-null  float64\n",
      " 6   product_length_cm           32949 non-null  float64\n",
      " 7   product_height_cm           32949 non-null  float64\n",
      " 8   product_width_cm            32949 non-null  float64\n",
      "dtypes: float64(7), object(2)\n",
      "memory usage: 2.3+ MB\n"
     ]
    },
    {
     "data": {
      "application/vnd.microsoft.datawrangler.viewer.v0+json": {
       "columns": [
        {
         "name": "index",
         "rawType": "object",
         "type": "string"
        },
        {
         "name": "0",
         "rawType": "int64",
         "type": "integer"
        }
       ],
       "ref": "af2fa371-4d09-4130-9f23-64cb592bf392",
       "rows": [
        [
         "product_id",
         "0"
        ],
        [
         "product_category_name",
         "610"
        ],
        [
         "product_name_lenght",
         "610"
        ],
        [
         "product_description_lenght",
         "610"
        ],
        [
         "product_photos_qty",
         "610"
        ],
        [
         "product_weight_g",
         "2"
        ],
        [
         "product_length_cm",
         "2"
        ],
        [
         "product_height_cm",
         "2"
        ],
        [
         "product_width_cm",
         "2"
        ]
       ],
       "shape": {
        "columns": 1,
        "rows": 9
       }
      },
      "text/plain": [
       "product_id                      0\n",
       "product_category_name         610\n",
       "product_name_lenght           610\n",
       "product_description_lenght    610\n",
       "product_photos_qty            610\n",
       "product_weight_g                2\n",
       "product_length_cm               2\n",
       "product_height_cm               2\n",
       "product_width_cm                2\n",
       "dtype: int64"
      ]
     },
     "execution_count": 21,
     "metadata": {},
     "output_type": "execute_result"
    }
   ],
   "source": [
    "df_products.info()\n",
    "df_products.isnull().sum()"
   ]
  },
  {
   "cell_type": "code",
   "execution_count": 22,
   "id": "e30449f6",
   "metadata": {},
   "outputs": [
    {
     "data": {
      "text/plain": [
       "np.int64(0)"
      ]
     },
     "execution_count": 22,
     "metadata": {},
     "output_type": "execute_result"
    }
   ],
   "source": [
    "df_products.duplicated().sum()"
   ]
  },
  {
   "cell_type": "code",
   "execution_count": 23,
   "id": "34cb9bd8",
   "metadata": {},
   "outputs": [],
   "source": [
    "\n",
    "df_products.drop(columns= ['product_name_lenght','product_description_lenght',\n",
    "    'product_photos_qty','product_weight_g','product_length_cm','product_height_cm',\n",
    "    'product_width_cm'], inplace=True)"
   ]
  },
  {
   "cell_type": "code",
   "execution_count": 24,
   "id": "34898a9a",
   "metadata": {},
   "outputs": [],
   "source": [
    "df_products['product_category_name'] = df_products['product_category_name'].fillna('sem categoria')"
   ]
  },
  {
   "cell_type": "code",
   "execution_count": 25,
   "id": "752e0c35",
   "metadata": {},
   "outputs": [
    {
     "name": "stdout",
     "output_type": "stream",
     "text": [
      "<class 'pandas.core.frame.DataFrame'>\n",
      "RangeIndex: 32951 entries, 0 to 32950\n",
      "Data columns (total 2 columns):\n",
      " #   Column                 Non-Null Count  Dtype \n",
      "---  ------                 --------------  ----- \n",
      " 0   product_id             32951 non-null  object\n",
      " 1   product_category_name  32951 non-null  object\n",
      "dtypes: object(2)\n",
      "memory usage: 515.0+ KB\n"
     ]
    },
    {
     "data": {
      "application/vnd.microsoft.datawrangler.viewer.v0+json": {
       "columns": [
        {
         "name": "index",
         "rawType": "object",
         "type": "string"
        },
        {
         "name": "0",
         "rawType": "int64",
         "type": "integer"
        }
       ],
       "ref": "480ec8c4-21f6-4bee-8575-c69d565f724c",
       "rows": [
        [
         "product_id",
         "0"
        ],
        [
         "product_category_name",
         "0"
        ]
       ],
       "shape": {
        "columns": 1,
        "rows": 2
       }
      },
      "text/plain": [
       "product_id               0\n",
       "product_category_name    0\n",
       "dtype: int64"
      ]
     },
     "execution_count": 25,
     "metadata": {},
     "output_type": "execute_result"
    }
   ],
   "source": [
    "df_products.info()\n",
    "df_products.isnull().sum()"
   ]
  },
  {
   "cell_type": "markdown",
   "id": "c4277048",
   "metadata": {},
   "source": [
    "- df_products doesn't have duplicate entrys.\n",
    "- Null cells in product_category_name filled with placeholder 'sem categoria'\n",
    "- dropping columns: 'product_name_lenght','product_description_lenght','product_photos_qty','product_weight_g','product_length_cm','product_height_cm','product_width_cm'"
   ]
  },
  {
   "cell_type": "markdown",
   "id": "0a95b716",
   "metadata": {},
   "source": [
    "### Dataframe: Sellers"
   ]
  },
  {
   "cell_type": "code",
   "execution_count": 26,
   "id": "6d2441c4",
   "metadata": {},
   "outputs": [
    {
     "data": {
      "application/vnd.microsoft.datawrangler.viewer.v0+json": {
       "columns": [
        {
         "name": "index",
         "rawType": "int64",
         "type": "integer"
        },
        {
         "name": "seller_id",
         "rawType": "object",
         "type": "string"
        },
        {
         "name": "seller_zip_code_prefix",
         "rawType": "int64",
         "type": "integer"
        },
        {
         "name": "seller_city",
         "rawType": "object",
         "type": "string"
        },
        {
         "name": "seller_state",
         "rawType": "object",
         "type": "string"
        }
       ],
       "ref": "cd5f98c2-43e4-46ba-9452-0b0e5fe2755a",
       "rows": [
        [
         "3076",
         "9e6967d3cf386d284251784b18ccb485",
         "9550",
         "sao caetano do sul",
         "SP"
        ],
        [
         "2848",
         "3f84fefc07dc159b268d4a77d3e8c425",
         "83833",
         "fazenda rio grande",
         "PR"
        ],
        [
         "352",
         "2dd1fb6f0e42a2243b8a01e40cd41216",
         "80240",
         "curitiba",
         "PR"
        ],
        [
         "2218",
         "bbaff50f3b708fda865918715276cd87",
         "12940",
         "atibaia",
         "SP"
        ],
        [
         "966",
         "fe19dce63ae80346207c6c55713d1023",
         "38010",
         "uberaba",
         "MG"
        ],
        [
         "2001",
         "85d9eb9ddc5d00ca9336a2219c97bb13",
         "31255",
         "belo horizonte",
         "MG"
        ],
        [
         "694",
         "385799a1cddbd26dfeb9157356a42282",
         "4676",
         "sao paulo",
         "SP"
        ],
        [
         "765",
         "ba90964cff9b9e0e6f32b23b82465f7b",
         "7140",
         "guarulhos",
         "SP"
        ],
        [
         "1231",
         "4b98b0428fc1932cc2514ef9ce2505e6",
         "6795",
         "taboao da serra",
         "SP"
        ],
        [
         "760",
         "bc503e244f187939d10c92a5c8e378ce",
         "16200",
         "birigui",
         "SP"
        ]
       ],
       "shape": {
        "columns": 4,
        "rows": 10
       }
      },
      "text/html": [
       "<div>\n",
       "<style scoped>\n",
       "    .dataframe tbody tr th:only-of-type {\n",
       "        vertical-align: middle;\n",
       "    }\n",
       "\n",
       "    .dataframe tbody tr th {\n",
       "        vertical-align: top;\n",
       "    }\n",
       "\n",
       "    .dataframe thead th {\n",
       "        text-align: right;\n",
       "    }\n",
       "</style>\n",
       "<table border=\"1\" class=\"dataframe\">\n",
       "  <thead>\n",
       "    <tr style=\"text-align: right;\">\n",
       "      <th></th>\n",
       "      <th>seller_id</th>\n",
       "      <th>seller_zip_code_prefix</th>\n",
       "      <th>seller_city</th>\n",
       "      <th>seller_state</th>\n",
       "    </tr>\n",
       "  </thead>\n",
       "  <tbody>\n",
       "    <tr>\n",
       "      <th>3076</th>\n",
       "      <td>9e6967d3cf386d284251784b18ccb485</td>\n",
       "      <td>9550</td>\n",
       "      <td>sao caetano do sul</td>\n",
       "      <td>SP</td>\n",
       "    </tr>\n",
       "    <tr>\n",
       "      <th>2848</th>\n",
       "      <td>3f84fefc07dc159b268d4a77d3e8c425</td>\n",
       "      <td>83833</td>\n",
       "      <td>fazenda rio grande</td>\n",
       "      <td>PR</td>\n",
       "    </tr>\n",
       "    <tr>\n",
       "      <th>352</th>\n",
       "      <td>2dd1fb6f0e42a2243b8a01e40cd41216</td>\n",
       "      <td>80240</td>\n",
       "      <td>curitiba</td>\n",
       "      <td>PR</td>\n",
       "    </tr>\n",
       "    <tr>\n",
       "      <th>2218</th>\n",
       "      <td>bbaff50f3b708fda865918715276cd87</td>\n",
       "      <td>12940</td>\n",
       "      <td>atibaia</td>\n",
       "      <td>SP</td>\n",
       "    </tr>\n",
       "    <tr>\n",
       "      <th>966</th>\n",
       "      <td>fe19dce63ae80346207c6c55713d1023</td>\n",
       "      <td>38010</td>\n",
       "      <td>uberaba</td>\n",
       "      <td>MG</td>\n",
       "    </tr>\n",
       "    <tr>\n",
       "      <th>2001</th>\n",
       "      <td>85d9eb9ddc5d00ca9336a2219c97bb13</td>\n",
       "      <td>31255</td>\n",
       "      <td>belo horizonte</td>\n",
       "      <td>MG</td>\n",
       "    </tr>\n",
       "    <tr>\n",
       "      <th>694</th>\n",
       "      <td>385799a1cddbd26dfeb9157356a42282</td>\n",
       "      <td>4676</td>\n",
       "      <td>sao paulo</td>\n",
       "      <td>SP</td>\n",
       "    </tr>\n",
       "    <tr>\n",
       "      <th>765</th>\n",
       "      <td>ba90964cff9b9e0e6f32b23b82465f7b</td>\n",
       "      <td>7140</td>\n",
       "      <td>guarulhos</td>\n",
       "      <td>SP</td>\n",
       "    </tr>\n",
       "    <tr>\n",
       "      <th>1231</th>\n",
       "      <td>4b98b0428fc1932cc2514ef9ce2505e6</td>\n",
       "      <td>6795</td>\n",
       "      <td>taboao da serra</td>\n",
       "      <td>SP</td>\n",
       "    </tr>\n",
       "    <tr>\n",
       "      <th>760</th>\n",
       "      <td>bc503e244f187939d10c92a5c8e378ce</td>\n",
       "      <td>16200</td>\n",
       "      <td>birigui</td>\n",
       "      <td>SP</td>\n",
       "    </tr>\n",
       "  </tbody>\n",
       "</table>\n",
       "</div>"
      ],
      "text/plain": [
       "                             seller_id  seller_zip_code_prefix  \\\n",
       "3076  9e6967d3cf386d284251784b18ccb485                    9550   \n",
       "2848  3f84fefc07dc159b268d4a77d3e8c425                   83833   \n",
       "352   2dd1fb6f0e42a2243b8a01e40cd41216                   80240   \n",
       "2218  bbaff50f3b708fda865918715276cd87                   12940   \n",
       "966   fe19dce63ae80346207c6c55713d1023                   38010   \n",
       "2001  85d9eb9ddc5d00ca9336a2219c97bb13                   31255   \n",
       "694   385799a1cddbd26dfeb9157356a42282                    4676   \n",
       "765   ba90964cff9b9e0e6f32b23b82465f7b                    7140   \n",
       "1231  4b98b0428fc1932cc2514ef9ce2505e6                    6795   \n",
       "760   bc503e244f187939d10c92a5c8e378ce                   16200   \n",
       "\n",
       "             seller_city seller_state  \n",
       "3076  sao caetano do sul           SP  \n",
       "2848  fazenda rio grande           PR  \n",
       "352             curitiba           PR  \n",
       "2218             atibaia           SP  \n",
       "966              uberaba           MG  \n",
       "2001      belo horizonte           MG  \n",
       "694            sao paulo           SP  \n",
       "765            guarulhos           SP  \n",
       "1231     taboao da serra           SP  \n",
       "760              birigui           SP  "
      ]
     },
     "execution_count": 26,
     "metadata": {},
     "output_type": "execute_result"
    }
   ],
   "source": [
    "df_sellers.sample(10)"
   ]
  },
  {
   "cell_type": "code",
   "execution_count": 27,
   "id": "b1e45a50",
   "metadata": {},
   "outputs": [
    {
     "name": "stdout",
     "output_type": "stream",
     "text": [
      "<class 'pandas.core.frame.DataFrame'>\n",
      "RangeIndex: 3095 entries, 0 to 3094\n",
      "Data columns (total 4 columns):\n",
      " #   Column                  Non-Null Count  Dtype \n",
      "---  ------                  --------------  ----- \n",
      " 0   seller_id               3095 non-null   object\n",
      " 1   seller_zip_code_prefix  3095 non-null   int64 \n",
      " 2   seller_city             3095 non-null   object\n",
      " 3   seller_state            3095 non-null   object\n",
      "dtypes: int64(1), object(3)\n",
      "memory usage: 96.8+ KB\n"
     ]
    },
    {
     "data": {
      "application/vnd.microsoft.datawrangler.viewer.v0+json": {
       "columns": [
        {
         "name": "index",
         "rawType": "object",
         "type": "string"
        },
        {
         "name": "0",
         "rawType": "int64",
         "type": "integer"
        }
       ],
       "ref": "a6b687cd-458e-4737-b011-a4d40832136b",
       "rows": [
        [
         "seller_id",
         "0"
        ],
        [
         "seller_zip_code_prefix",
         "0"
        ],
        [
         "seller_city",
         "0"
        ],
        [
         "seller_state",
         "0"
        ]
       ],
       "shape": {
        "columns": 1,
        "rows": 4
       }
      },
      "text/plain": [
       "seller_id                 0\n",
       "seller_zip_code_prefix    0\n",
       "seller_city               0\n",
       "seller_state              0\n",
       "dtype: int64"
      ]
     },
     "execution_count": 27,
     "metadata": {},
     "output_type": "execute_result"
    }
   ],
   "source": [
    "df_sellers.info()\n",
    "df_sellers.isnull().sum()"
   ]
  },
  {
   "cell_type": "code",
   "execution_count": 28,
   "id": "391c9554",
   "metadata": {},
   "outputs": [
    {
     "data": {
      "text/plain": [
       "np.int64(0)"
      ]
     },
     "execution_count": 28,
     "metadata": {},
     "output_type": "execute_result"
    }
   ],
   "source": [
    "df_sellers.duplicated().sum()"
   ]
  },
  {
   "cell_type": "markdown",
   "id": "ab5975b3",
   "metadata": {},
   "source": [
    "- df_sellers doesn't have duplicate entrys, no columns to drop at first and no Nulls"
   ]
  },
  {
   "cell_type": "markdown",
   "id": "7482558e",
   "metadata": {},
   "source": [
    "## Data Conversion and normalization"
   ]
  },
  {
   "cell_type": "markdown",
   "id": "5e74fae2",
   "metadata": {},
   "source": [
    "### Dataframe: Products"
   ]
  },
  {
   "cell_type": "code",
   "execution_count": 29,
   "id": "ce735397",
   "metadata": {},
   "outputs": [
    {
     "name": "stdout",
     "output_type": "stream",
     "text": [
      "<class 'pandas.core.frame.DataFrame'>\n",
      "RangeIndex: 32951 entries, 0 to 32950\n",
      "Data columns (total 2 columns):\n",
      " #   Column                 Non-Null Count  Dtype \n",
      "---  ------                 --------------  ----- \n",
      " 0   product_id             32951 non-null  object\n",
      " 1   product_category_name  32951 non-null  object\n",
      "dtypes: object(2)\n",
      "memory usage: 515.0+ KB\n"
     ]
    }
   ],
   "source": [
    "df_products.info()"
   ]
  },
  {
   "cell_type": "markdown",
   "id": "cd3d81c6",
   "metadata": {},
   "source": [
    "- Normalizing to a readable entries"
   ]
  },
  {
   "cell_type": "code",
   "execution_count": 30,
   "id": "955f28ac",
   "metadata": {},
   "outputs": [],
   "source": [
    "df_products['product_category_name'] = (\n",
    "    df_products['product_category_name']\n",
    "    .str.replace('_', ' ')      \n",
    "    .str.title()                \n",
    "    .str.strip()    \n",
    ")"
   ]
  },
  {
   "cell_type": "code",
   "execution_count": 31,
   "id": "47964554",
   "metadata": {},
   "outputs": [
    {
     "data": {
      "text/plain": [
       "['Agro Industria E Comercio',\n",
       " 'Alimentos',\n",
       " 'Alimentos Bebidas',\n",
       " 'Artes',\n",
       " 'Artes E Artesanato',\n",
       " 'Artigos De Festas',\n",
       " 'Artigos De Natal',\n",
       " 'Audio',\n",
       " 'Automotivo',\n",
       " 'Bebes',\n",
       " 'Bebidas',\n",
       " 'Beleza Saude',\n",
       " 'Brinquedos',\n",
       " 'Cama Mesa Banho',\n",
       " 'Casa Conforto',\n",
       " 'Casa Conforto 2',\n",
       " 'Casa Construcao',\n",
       " 'Cds Dvds Musicais',\n",
       " 'Cine Foto',\n",
       " 'Climatizacao',\n",
       " 'Consoles Games',\n",
       " 'Construcao Ferramentas Construcao',\n",
       " 'Construcao Ferramentas Ferramentas',\n",
       " 'Construcao Ferramentas Iluminacao',\n",
       " 'Construcao Ferramentas Jardim',\n",
       " 'Construcao Ferramentas Seguranca',\n",
       " 'Cool Stuff',\n",
       " 'Dvds Blu Ray',\n",
       " 'Eletrodomesticos',\n",
       " 'Eletrodomesticos 2',\n",
       " 'Eletronicos',\n",
       " 'Eletroportateis',\n",
       " 'Esporte Lazer',\n",
       " 'Fashion Bolsas E Acessorios',\n",
       " 'Fashion Calcados',\n",
       " 'Fashion Esporte',\n",
       " 'Fashion Roupa Feminina',\n",
       " 'Fashion Roupa Infanto Juvenil',\n",
       " 'Fashion Roupa Masculina',\n",
       " 'Fashion Underwear E Moda Praia',\n",
       " 'Ferramentas Jardim',\n",
       " 'Flores',\n",
       " 'Fraldas Higiene',\n",
       " 'Industria Comercio E Negocios',\n",
       " 'Informatica Acessorios',\n",
       " 'Instrumentos Musicais',\n",
       " 'La Cuisine',\n",
       " 'Livros Importados',\n",
       " 'Livros Interesse Geral',\n",
       " 'Livros Tecnicos',\n",
       " 'Malas Acessorios',\n",
       " 'Market Place',\n",
       " 'Moveis Colchao E Estofado',\n",
       " 'Moveis Cozinha Area De Servico Jantar E Jardim',\n",
       " 'Moveis Decoracao',\n",
       " 'Moveis Escritorio',\n",
       " 'Moveis Quarto',\n",
       " 'Moveis Sala',\n",
       " 'Musica',\n",
       " 'Papelaria',\n",
       " 'Pc Gamer',\n",
       " 'Pcs',\n",
       " 'Perfumaria',\n",
       " 'Pet Shop',\n",
       " 'Portateis Casa Forno E Cafe',\n",
       " 'Portateis Cozinha E Preparadores De Alimentos',\n",
       " 'Relogios Presentes',\n",
       " 'Seguros E Servicos',\n",
       " 'Sem Categoria',\n",
       " 'Sinalizacao E Seguranca',\n",
       " 'Tablets Impressao Imagem',\n",
       " 'Telefonia',\n",
       " 'Telefonia Fixa',\n",
       " 'Utilidades Domesticas']"
      ]
     },
     "execution_count": 31,
     "metadata": {},
     "output_type": "execute_result"
    }
   ],
   "source": [
    "sorted(df_products['product_category_name'].dropna().unique())"
   ]
  },
  {
   "cell_type": "code",
   "execution_count": 32,
   "id": "cb2f67b3",
   "metadata": {},
   "outputs": [],
   "source": [
    "manual_corrections = {\n",
    "    'Agro Industria E Comercio': 'Agro Indústria e Comércio',\n",
    "    'Artes E Artesanato': 'Artes e Artesanato',\n",
    "    'Artigos De Festas': 'Artigos de Festas',\n",
    "    'Artigos De Natal': 'Artigos de Natal',\n",
    "    'Beleza Saude':'Beleza e Saude',\n",
    "    'Cama Mesa Banho': 'Cama Mesa e Banho',\n",
    "    'Casa Conforto': 'Casa e Conforto',\n",
    "    'Casa Conforto 2': 'Casa e Conforto',\n",
    "    'Casa Construcao': 'Casa e Construção',\n",
    "    'Cds Dvds Musicais': 'Cds Dvds e Musicais',\n",
    "    'Cine Foto': 'Cine e Foto',\n",
    "    'Climatizacao': 'Climatização',\n",
    "    'Consoles Games': 'Consoles e Games',\n",
    "    'Construcao Ferramentas Construcao': 'Artigos de Construção',\n",
    "    'Construcao Ferramentas Ferramentas': 'Artigos de Construção',\n",
    "    'Construcao Ferramentas Iluminacao': 'Artigos de Construção',\n",
    "    'Construcao Ferramentas Jardim': 'Artigos de Construção',\n",
    "    'Construcao Ferramentas Seguranca': 'Artigos de Construção',\n",
    "    'Dvds Blu Ray': 'Dvds/Blu-Ray',\n",
    "    'Eletrodomesticos': 'Eletrodomésticos',\n",
    "    'Eletrodomesticos 2': 'Eletrodomésticos',\n",
    "    'Eletronicos': 'Eletrônicos',\n",
    "    'Eletroportateis': 'Eletroportáteis',\n",
    "    'Esporte Lazer': 'Esporte e Lazer',\n",
    "    'Fashion Bolsas E Acessorios': 'Bolsas e Acessórios',\n",
    "    'Fashion Calcados':'Calçados',\n",
    "    'Fashion Esporte': 'Moda Esportiva',\n",
    "    'Fashion Roupa Feminina': 'Roupa Feminina',\n",
    "    'Fashion Roupa Infanto Juvenil': 'Infanto Juvenil',\n",
    "    'Fashion Roupa Masculina': 'Roupa Masculina',\n",
    "    'Fashion Underwear E Moda Praia': 'Underwear e Moda Praia',\n",
    "    'Ferramentas Jardim': 'Ferramentas de Jardinagem',\n",
    "    'Fraldas Higiene': 'Fraldas e Higiene',\n",
    "    'Industria Comercio E Negocios': 'Indústria Comércio e Negócios',\n",
    "    'Informatica Acessorios': 'Acessórios de Informática',\n",
    "    'Livros Importados': 'Livros',\n",
    "    'Livros Interesse Geral': 'Livros',\n",
    "    'Livros Tecnicos': 'Livros',\n",
    "    'Malas Acessorios': 'Malas e Acessórios',\n",
    "    'Moveis Colchao E Estofado': 'Móveis',\n",
    "    'Moveis Cozinha Area De Servico Jantar E Jardim': 'Móveis',\n",
    "    'Moveis Decoracao': 'Móveis',\n",
    "    'Moveis Escritorio': 'Móveis',\n",
    "    'Moveis Quarto': 'Móveis',\n",
    "    'Moveis Sala': 'Móveis',\n",
    "    'Musica': 'Música',\n",
    "    'Portateis Casa Forno E Cafe': 'Casa Forno e Café',\n",
    "    'Portateis Cozinha E Preparadores De Alimentos': 'Cozinha e Preparadores de Alimentos',\n",
    "    'Relogios Presentes': 'Relógios e Presentes',\n",
    "    'Seguros E Servicos':'Seguros e Serviços',\n",
    "    'Sinalizacao E Seguranca': 'Sinalização e Segurança',\n",
    "    'Tablets Impressao Imagem': 'Tablets Impressão e Imagem',\n",
    "    'Utilidades Domesticas': 'Utilidades Domésticas'\n",
    "}\n",
    "df_products['product_category_name'] = df_products['product_category_name'].replace(manual_corrections)"
   ]
  },
  {
   "cell_type": "markdown",
   "id": "da1b232a",
   "metadata": {},
   "source": [
    "### Dataframe: Orders"
   ]
  },
  {
   "cell_type": "code",
   "execution_count": 33,
   "id": "9cfbcebf",
   "metadata": {},
   "outputs": [
    {
     "name": "stdout",
     "output_type": "stream",
     "text": [
      "<class 'pandas.core.frame.DataFrame'>\n",
      "RangeIndex: 99441 entries, 0 to 99440\n",
      "Data columns (total 4 columns):\n",
      " #   Column                    Non-Null Count  Dtype         \n",
      "---  ------                    --------------  -----         \n",
      " 0   order_id                  99441 non-null  object        \n",
      " 1   customer_id               99441 non-null  object        \n",
      " 2   order_status              99441 non-null  object        \n",
      " 3   order_purchase_timestamp  99441 non-null  datetime64[ns]\n",
      "dtypes: datetime64[ns](1), object(3)\n",
      "memory usage: 3.0+ MB\n"
     ]
    }
   ],
   "source": [
    "df_orders['order_purchase_timestamp'] = pd.to_datetime(df_orders['order_purchase_timestamp'])\n",
    "df_orders.info()"
   ]
  },
  {
   "cell_type": "markdown",
   "id": "2ae7700b",
   "metadata": {},
   "source": [
    "### Dataframe: Order_items and Order_Payments"
   ]
  },
  {
   "cell_type": "code",
   "execution_count": 34,
   "id": "04ba4fc9",
   "metadata": {},
   "outputs": [
    {
     "name": "stdout",
     "output_type": "stream",
     "text": [
      "<class 'pandas.core.frame.DataFrame'>\n",
      "RangeIndex: 112650 entries, 0 to 112649\n",
      "Data columns (total 5 columns):\n",
      " #   Column         Non-Null Count   Dtype  \n",
      "---  ------         --------------   -----  \n",
      " 0   order_id       112650 non-null  object \n",
      " 1   order_item_id  112650 non-null  int64  \n",
      " 2   product_id     112650 non-null  object \n",
      " 3   seller_id      112650 non-null  object \n",
      " 4   price          112650 non-null  float64\n",
      "dtypes: float64(1), int64(1), object(3)\n",
      "memory usage: 4.3+ MB\n",
      "<class 'pandas.core.frame.DataFrame'>\n",
      "RangeIndex: 103886 entries, 0 to 103885\n",
      "Data columns (total 2 columns):\n",
      " #   Column         Non-Null Count   Dtype  \n",
      "---  ------         --------------   -----  \n",
      " 0   order_id       103886 non-null  object \n",
      " 1   payment_value  103886 non-null  float64\n",
      "dtypes: float64(1), object(1)\n",
      "memory usage: 1.6+ MB\n"
     ]
    }
   ],
   "source": [
    "df_order_items.info() #ok\n",
    "df_order_payments.info() #ok\n"
   ]
  },
  {
   "cell_type": "markdown",
   "id": "7c23c7f9",
   "metadata": {},
   "source": [
    "### Dataframe: Customer and Sellers"
   ]
  },
  {
   "cell_type": "code",
   "execution_count": 35,
   "id": "32d05cc1",
   "metadata": {},
   "outputs": [
    {
     "name": "stdout",
     "output_type": "stream",
     "text": [
      "<class 'pandas.core.frame.DataFrame'>\n",
      "RangeIndex: 99441 entries, 0 to 99440\n",
      "Data columns (total 5 columns):\n",
      " #   Column                    Non-Null Count  Dtype \n",
      "---  ------                    --------------  ----- \n",
      " 0   customer_id               99441 non-null  object\n",
      " 1   customer_unique_id        99441 non-null  object\n",
      " 2   customer_zip_code_prefix  99441 non-null  int64 \n",
      " 3   customer_city             99441 non-null  object\n",
      " 4   customer_state            99441 non-null  object\n",
      "dtypes: int64(1), object(4)\n",
      "memory usage: 3.8+ MB\n",
      "<class 'pandas.core.frame.DataFrame'>\n",
      "RangeIndex: 3095 entries, 0 to 3094\n",
      "Data columns (total 4 columns):\n",
      " #   Column                  Non-Null Count  Dtype \n",
      "---  ------                  --------------  ----- \n",
      " 0   seller_id               3095 non-null   object\n",
      " 1   seller_zip_code_prefix  3095 non-null   int64 \n",
      " 2   seller_city             3095 non-null   object\n",
      " 3   seller_state            3095 non-null   object\n",
      "dtypes: int64(1), object(3)\n",
      "memory usage: 96.8+ KB\n"
     ]
    }
   ],
   "source": [
    "df_customers.info()\n",
    "df_sellers.info()"
   ]
  },
  {
   "cell_type": "markdown",
   "id": "fb146233",
   "metadata": {},
   "source": [
    "- Cities in df_customers and df_sellers has some strange entries\n",
    "- Using a dataset of Brazilian ZIP codes to normalize both dataframes."
   ]
  },
  {
   "cell_type": "code",
   "execution_count": 42,
   "id": "e71c40bc",
   "metadata": {},
   "outputs": [
    {
     "data": {
      "application/vnd.microsoft.datawrangler.viewer.v0+json": {
       "columns": [
        {
         "name": "index",
         "rawType": "int64",
         "type": "integer"
        },
        {
         "name": "seller_id",
         "rawType": "object",
         "type": "string"
        },
        {
         "name": "seller_zip_code_prefix",
         "rawType": "int64",
         "type": "integer"
        },
        {
         "name": "seller_city",
         "rawType": "object",
         "type": "string"
        },
        {
         "name": "seller_state",
         "rawType": "object",
         "type": "string"
        },
        {
         "name": "cidade_corrigida",
         "rawType": "object",
         "type": "string"
        },
        {
         "name": "estado_corrigido",
         "rawType": "object",
         "type": "string"
        }
       ],
       "ref": "1e20bc6f-cc32-4a6e-9189-50a179cbb4c3",
       "rows": [],
       "shape": {
        "columns": 6,
        "rows": 0
       }
      },
      "text/html": [
       "<div>\n",
       "<style scoped>\n",
       "    .dataframe tbody tr th:only-of-type {\n",
       "        vertical-align: middle;\n",
       "    }\n",
       "\n",
       "    .dataframe tbody tr th {\n",
       "        vertical-align: top;\n",
       "    }\n",
       "\n",
       "    .dataframe thead th {\n",
       "        text-align: right;\n",
       "    }\n",
       "</style>\n",
       "<table border=\"1\" class=\"dataframe\">\n",
       "  <thead>\n",
       "    <tr style=\"text-align: right;\">\n",
       "      <th></th>\n",
       "      <th>seller_id</th>\n",
       "      <th>seller_zip_code_prefix</th>\n",
       "      <th>seller_city</th>\n",
       "      <th>seller_state</th>\n",
       "      <th>cidade_corrigida</th>\n",
       "      <th>estado_corrigido</th>\n",
       "    </tr>\n",
       "  </thead>\n",
       "  <tbody>\n",
       "  </tbody>\n",
       "</table>\n",
       "</div>"
      ],
      "text/plain": [
       "Empty DataFrame\n",
       "Columns: [seller_id, seller_zip_code_prefix, seller_city, seller_state, cidade_corrigida, estado_corrigido]\n",
       "Index: []"
      ]
     },
     "execution_count": 42,
     "metadata": {},
     "output_type": "execute_result"
    }
   ],
   "source": [
    "def buscar_local_por_cep(cep, cdf):\n",
    "    cdf_temp = cdf.copy()\n",
    "    cdf_temp['CEP Inicial'] = (cdf_temp['CEP Inicial'] // 1000).astype(int)\n",
    "    cdf_temp['CEP Final'] = (cdf_temp['CEP Final'] // 1000).astype(int)\n",
    "    \n",
    "    row = cdf_temp[(cdf_temp['CEP Inicial'] <= cep) & (cdf_temp['CEP Final'] >= cep)]\n",
    "\n",
    "    if not row.empty:\n",
    "        local = row.iloc[0]['Localidade']\n",
    "        estado = row.iloc[0]['Estado']  # ou 'estado', se já estiver nome completo\n",
    "        return pd.Series({'cidade_corrigida': local, 'estado_corrigido': estado})\n",
    "    else:\n",
    "        return pd.Series({'cidade_corrigida': None, 'estado_corrigido': None}) \n",
    "    \n",
    "\n",
    "df_customers[['cidade_corrigida', 'estado_corrigido']] = (\n",
    "    df_customers['customer_zip_code_prefix'].apply(lambda cep: buscar_local_por_cep(cep, cdf_ceps))\n",
    ")\n",
    "\n",
    "df_sellers[['cidade_corrigida', 'estado_corrigido']] = (\n",
    "    df_sellers['seller_zip_code_prefix'].apply(lambda cep: buscar_local_por_cep(cep, cdf_ceps))\n",
    ")\n",
    "\n",
    "\n",
    "\n",
    "df_customers[df_customers['cidade_corrigida'].isna()]\n",
    "df_customers[df_customers['estado_corrigido'].isna()]\n",
    "df_sellers[df_sellers['cidade_corrigida'].isna()]\n",
    "df_sellers[df_sellers['estado_corrigido'].isna()]"
   ]
  },
  {
   "cell_type": "markdown",
   "id": "e64ab6a9",
   "metadata": {},
   "source": [
    "> Running a function to check for the CEP and return the city and state"
   ]
  },
  {
   "cell_type": "code",
   "execution_count": 43,
   "id": "28d78b48",
   "metadata": {},
   "outputs": [
    {
     "data": {
      "application/vnd.microsoft.datawrangler.viewer.v0+json": {
       "columns": [
        {
         "name": "index",
         "rawType": "int64",
         "type": "integer"
        },
        {
         "name": "customer_id",
         "rawType": "object",
         "type": "string"
        },
        {
         "name": "customer_unique_id",
         "rawType": "object",
         "type": "string"
        },
        {
         "name": "customer_zip_code_prefix",
         "rawType": "int64",
         "type": "integer"
        },
        {
         "name": "customer_city",
         "rawType": "object",
         "type": "string"
        },
        {
         "name": "customer_state",
         "rawType": "object",
         "type": "string"
        },
        {
         "name": "cidade_corrigida",
         "rawType": "object",
         "type": "unknown"
        },
        {
         "name": "estado_corrigido",
         "rawType": "object",
         "type": "unknown"
        }
       ],
       "ref": "158517e6-20e8-4ec3-bec1-13161f38bed9",
       "rows": [
        [
         "2262",
         "fe196aba95e52d084e7bb60dbd8a23f1",
         "93b4c8bdafa9877757c77b519415d274",
         "89130",
         "indaial",
         "SC",
         null,
         null
        ],
        [
         "5525",
         "81eaa0c0dfb54f5f9d7d11734f162e65",
         "b0369cc51e0e1618a76c7174132b93cc",
         "89130",
         "indaial",
         "SC",
         null,
         null
        ],
        [
         "5648",
         "a059473225838f7005cf82e2f6b9a18d",
         "1df28da6a384e9822da017c6d44b0656",
         "89130",
         "indaial",
         "SC",
         null,
         null
        ],
        [
         "11226",
         "4560c6d8bfdd3e61555dca85d900e1e6",
         "ad054a269e8691d8e2727d1611f3950e",
         "89130",
         "indaial",
         "SC",
         null,
         null
        ],
        [
         "16766",
         "110d797e5a5055538df046c2cad8f3d4",
         "1a4d4db5393b394803df246ca68872b4",
         "98900",
         "santa rosa",
         "RS",
         null,
         null
        ],
        [
         "30064",
         "988126b4ddf725d9724e4318872ea2ae",
         "507dc9becd4fc65635d90682dfa9d3a3",
         "98900",
         "santa rosa",
         "RS",
         null,
         null
        ],
        [
         "33614",
         "7775deebb59b9257b62fd7f3117efa10",
         "26d23e38ed702dc7a476dbb107192848",
         "89130",
         "indaial",
         "SC",
         null,
         null
        ],
        [
         "44046",
         "6536b7e35e2598371da42ea384a43ddb",
         "760aa83faf9321a80f455369d7339a0a",
         "89130",
         "indaial",
         "SC",
         null,
         null
        ],
        [
         "60564",
         "ff69fe294d9da2e683dede2ddb70b6ae",
         "cd6ff01588442a00ebf2e3829d88e819",
         "98900",
         "santa rosa",
         "RS",
         null,
         null
        ],
        [
         "69067",
         "12217655416d9edb5594c7dc6597b85f",
         "215d7119ee04ba8fdd85407e222b90da",
         "89130",
         "indaial",
         "SC",
         null,
         null
        ],
        [
         "69690",
         "39d1b3f6e70944054f15906756f6f6c9",
         "1deeb2af44be649d0a8d3660bc7afb8b",
         "89130",
         "indaial",
         "SC",
         null,
         null
        ],
        [
         "74340",
         "d52d50587f75df7c5afbe0c57ed48029",
         "9a39c1a793a148452f4d0fd8b85a1c20",
         "89130",
         "indaial",
         "SC",
         null,
         null
        ],
        [
         "76073",
         "ed0271e0b7da060a393796590e7b737a",
         "36edbb3fb164b1f16485364b6fb04c73",
         "98900",
         "santa rosa",
         "RS",
         null,
         null
        ],
        [
         "79234",
         "dc41e3678d28d18486999a07be51317c",
         "9ef475e8950b598deac6cfba29768fd3",
         "89130",
         "indaial",
         "SC",
         null,
         null
        ],
        [
         "80696",
         "59077d5c620a379906c1130b4cb666ae",
         "4a0e1963153df245b88a3efdc56afe97",
         "89130",
         "indaial",
         "SC",
         null,
         null
        ],
        [
         "81927",
         "7745cf61130162f1639e8aca053a5655",
         "da8a30f096998be524bb7762f34ae7ec",
         "98900",
         "santa rosa",
         "RS",
         null,
         null
        ],
        [
         "82830",
         "a13f6cf0d876947e0559f572d69e59f9",
         "5e2a5e8ba51f24c1e13f99720473fa0d",
         "98900",
         "santa rosa",
         "RS",
         null,
         null
        ],
        [
         "83387",
         "f0063eff5de6c74e859ef5b403316c53",
         "a49e0376009f52b244fc67052627ad6f",
         "89130",
         "indaial",
         "SC",
         null,
         null
        ],
        [
         "85426",
         "e97a9968c444502cfce41e23725952e5",
         "0036a074f98b80c4f1fc33dbbcf9c552",
         "98900",
         "santa rosa",
         "RS",
         null,
         null
        ],
        [
         "88132",
         "ff92e1be6dc1bad3695547e321d2003b",
         "3a3bf14f1678d2dbfb886a2dc94331d2",
         "89130",
         "indaial",
         "SC",
         null,
         null
        ],
        [
         "89402",
         "77a385ed7574f6d6da77902de5abbe18",
         "2c693e71cc2c3b66b36ecf55c7668f49",
         "98900",
         "santa rosa",
         "RS",
         null,
         null
        ],
        [
         "96106",
         "12dca0bf14588cc10f18a9f9abaef604",
         "6259b1f4da26c67879164ebce6333481",
         "98900",
         "santa rosa",
         "RS",
         null,
         null
        ],
        [
         "99026",
         "995ff88564ad4b448082f8b9e7d9af68",
         "6d7a18f90abb894e378a51500101ea1a",
         "89130",
         "indaial",
         "SC",
         null,
         null
        ]
       ],
       "shape": {
        "columns": 7,
        "rows": 23
       }
      },
      "text/html": [
       "<div>\n",
       "<style scoped>\n",
       "    .dataframe tbody tr th:only-of-type {\n",
       "        vertical-align: middle;\n",
       "    }\n",
       "\n",
       "    .dataframe tbody tr th {\n",
       "        vertical-align: top;\n",
       "    }\n",
       "\n",
       "    .dataframe thead th {\n",
       "        text-align: right;\n",
       "    }\n",
       "</style>\n",
       "<table border=\"1\" class=\"dataframe\">\n",
       "  <thead>\n",
       "    <tr style=\"text-align: right;\">\n",
       "      <th></th>\n",
       "      <th>customer_id</th>\n",
       "      <th>customer_unique_id</th>\n",
       "      <th>customer_zip_code_prefix</th>\n",
       "      <th>customer_city</th>\n",
       "      <th>customer_state</th>\n",
       "      <th>cidade_corrigida</th>\n",
       "      <th>estado_corrigido</th>\n",
       "    </tr>\n",
       "  </thead>\n",
       "  <tbody>\n",
       "    <tr>\n",
       "      <th>2262</th>\n",
       "      <td>fe196aba95e52d084e7bb60dbd8a23f1</td>\n",
       "      <td>93b4c8bdafa9877757c77b519415d274</td>\n",
       "      <td>89130</td>\n",
       "      <td>indaial</td>\n",
       "      <td>SC</td>\n",
       "      <td>None</td>\n",
       "      <td>None</td>\n",
       "    </tr>\n",
       "    <tr>\n",
       "      <th>5525</th>\n",
       "      <td>81eaa0c0dfb54f5f9d7d11734f162e65</td>\n",
       "      <td>b0369cc51e0e1618a76c7174132b93cc</td>\n",
       "      <td>89130</td>\n",
       "      <td>indaial</td>\n",
       "      <td>SC</td>\n",
       "      <td>None</td>\n",
       "      <td>None</td>\n",
       "    </tr>\n",
       "    <tr>\n",
       "      <th>5648</th>\n",
       "      <td>a059473225838f7005cf82e2f6b9a18d</td>\n",
       "      <td>1df28da6a384e9822da017c6d44b0656</td>\n",
       "      <td>89130</td>\n",
       "      <td>indaial</td>\n",
       "      <td>SC</td>\n",
       "      <td>None</td>\n",
       "      <td>None</td>\n",
       "    </tr>\n",
       "    <tr>\n",
       "      <th>11226</th>\n",
       "      <td>4560c6d8bfdd3e61555dca85d900e1e6</td>\n",
       "      <td>ad054a269e8691d8e2727d1611f3950e</td>\n",
       "      <td>89130</td>\n",
       "      <td>indaial</td>\n",
       "      <td>SC</td>\n",
       "      <td>None</td>\n",
       "      <td>None</td>\n",
       "    </tr>\n",
       "    <tr>\n",
       "      <th>16766</th>\n",
       "      <td>110d797e5a5055538df046c2cad8f3d4</td>\n",
       "      <td>1a4d4db5393b394803df246ca68872b4</td>\n",
       "      <td>98900</td>\n",
       "      <td>santa rosa</td>\n",
       "      <td>RS</td>\n",
       "      <td>None</td>\n",
       "      <td>None</td>\n",
       "    </tr>\n",
       "    <tr>\n",
       "      <th>30064</th>\n",
       "      <td>988126b4ddf725d9724e4318872ea2ae</td>\n",
       "      <td>507dc9becd4fc65635d90682dfa9d3a3</td>\n",
       "      <td>98900</td>\n",
       "      <td>santa rosa</td>\n",
       "      <td>RS</td>\n",
       "      <td>None</td>\n",
       "      <td>None</td>\n",
       "    </tr>\n",
       "    <tr>\n",
       "      <th>33614</th>\n",
       "      <td>7775deebb59b9257b62fd7f3117efa10</td>\n",
       "      <td>26d23e38ed702dc7a476dbb107192848</td>\n",
       "      <td>89130</td>\n",
       "      <td>indaial</td>\n",
       "      <td>SC</td>\n",
       "      <td>None</td>\n",
       "      <td>None</td>\n",
       "    </tr>\n",
       "    <tr>\n",
       "      <th>44046</th>\n",
       "      <td>6536b7e35e2598371da42ea384a43ddb</td>\n",
       "      <td>760aa83faf9321a80f455369d7339a0a</td>\n",
       "      <td>89130</td>\n",
       "      <td>indaial</td>\n",
       "      <td>SC</td>\n",
       "      <td>None</td>\n",
       "      <td>None</td>\n",
       "    </tr>\n",
       "    <tr>\n",
       "      <th>60564</th>\n",
       "      <td>ff69fe294d9da2e683dede2ddb70b6ae</td>\n",
       "      <td>cd6ff01588442a00ebf2e3829d88e819</td>\n",
       "      <td>98900</td>\n",
       "      <td>santa rosa</td>\n",
       "      <td>RS</td>\n",
       "      <td>None</td>\n",
       "      <td>None</td>\n",
       "    </tr>\n",
       "    <tr>\n",
       "      <th>69067</th>\n",
       "      <td>12217655416d9edb5594c7dc6597b85f</td>\n",
       "      <td>215d7119ee04ba8fdd85407e222b90da</td>\n",
       "      <td>89130</td>\n",
       "      <td>indaial</td>\n",
       "      <td>SC</td>\n",
       "      <td>None</td>\n",
       "      <td>None</td>\n",
       "    </tr>\n",
       "    <tr>\n",
       "      <th>69690</th>\n",
       "      <td>39d1b3f6e70944054f15906756f6f6c9</td>\n",
       "      <td>1deeb2af44be649d0a8d3660bc7afb8b</td>\n",
       "      <td>89130</td>\n",
       "      <td>indaial</td>\n",
       "      <td>SC</td>\n",
       "      <td>None</td>\n",
       "      <td>None</td>\n",
       "    </tr>\n",
       "    <tr>\n",
       "      <th>74340</th>\n",
       "      <td>d52d50587f75df7c5afbe0c57ed48029</td>\n",
       "      <td>9a39c1a793a148452f4d0fd8b85a1c20</td>\n",
       "      <td>89130</td>\n",
       "      <td>indaial</td>\n",
       "      <td>SC</td>\n",
       "      <td>None</td>\n",
       "      <td>None</td>\n",
       "    </tr>\n",
       "    <tr>\n",
       "      <th>76073</th>\n",
       "      <td>ed0271e0b7da060a393796590e7b737a</td>\n",
       "      <td>36edbb3fb164b1f16485364b6fb04c73</td>\n",
       "      <td>98900</td>\n",
       "      <td>santa rosa</td>\n",
       "      <td>RS</td>\n",
       "      <td>None</td>\n",
       "      <td>None</td>\n",
       "    </tr>\n",
       "    <tr>\n",
       "      <th>79234</th>\n",
       "      <td>dc41e3678d28d18486999a07be51317c</td>\n",
       "      <td>9ef475e8950b598deac6cfba29768fd3</td>\n",
       "      <td>89130</td>\n",
       "      <td>indaial</td>\n",
       "      <td>SC</td>\n",
       "      <td>None</td>\n",
       "      <td>None</td>\n",
       "    </tr>\n",
       "    <tr>\n",
       "      <th>80696</th>\n",
       "      <td>59077d5c620a379906c1130b4cb666ae</td>\n",
       "      <td>4a0e1963153df245b88a3efdc56afe97</td>\n",
       "      <td>89130</td>\n",
       "      <td>indaial</td>\n",
       "      <td>SC</td>\n",
       "      <td>None</td>\n",
       "      <td>None</td>\n",
       "    </tr>\n",
       "    <tr>\n",
       "      <th>81927</th>\n",
       "      <td>7745cf61130162f1639e8aca053a5655</td>\n",
       "      <td>da8a30f096998be524bb7762f34ae7ec</td>\n",
       "      <td>98900</td>\n",
       "      <td>santa rosa</td>\n",
       "      <td>RS</td>\n",
       "      <td>None</td>\n",
       "      <td>None</td>\n",
       "    </tr>\n",
       "    <tr>\n",
       "      <th>82830</th>\n",
       "      <td>a13f6cf0d876947e0559f572d69e59f9</td>\n",
       "      <td>5e2a5e8ba51f24c1e13f99720473fa0d</td>\n",
       "      <td>98900</td>\n",
       "      <td>santa rosa</td>\n",
       "      <td>RS</td>\n",
       "      <td>None</td>\n",
       "      <td>None</td>\n",
       "    </tr>\n",
       "    <tr>\n",
       "      <th>83387</th>\n",
       "      <td>f0063eff5de6c74e859ef5b403316c53</td>\n",
       "      <td>a49e0376009f52b244fc67052627ad6f</td>\n",
       "      <td>89130</td>\n",
       "      <td>indaial</td>\n",
       "      <td>SC</td>\n",
       "      <td>None</td>\n",
       "      <td>None</td>\n",
       "    </tr>\n",
       "    <tr>\n",
       "      <th>85426</th>\n",
       "      <td>e97a9968c444502cfce41e23725952e5</td>\n",
       "      <td>0036a074f98b80c4f1fc33dbbcf9c552</td>\n",
       "      <td>98900</td>\n",
       "      <td>santa rosa</td>\n",
       "      <td>RS</td>\n",
       "      <td>None</td>\n",
       "      <td>None</td>\n",
       "    </tr>\n",
       "    <tr>\n",
       "      <th>88132</th>\n",
       "      <td>ff92e1be6dc1bad3695547e321d2003b</td>\n",
       "      <td>3a3bf14f1678d2dbfb886a2dc94331d2</td>\n",
       "      <td>89130</td>\n",
       "      <td>indaial</td>\n",
       "      <td>SC</td>\n",
       "      <td>None</td>\n",
       "      <td>None</td>\n",
       "    </tr>\n",
       "    <tr>\n",
       "      <th>89402</th>\n",
       "      <td>77a385ed7574f6d6da77902de5abbe18</td>\n",
       "      <td>2c693e71cc2c3b66b36ecf55c7668f49</td>\n",
       "      <td>98900</td>\n",
       "      <td>santa rosa</td>\n",
       "      <td>RS</td>\n",
       "      <td>None</td>\n",
       "      <td>None</td>\n",
       "    </tr>\n",
       "    <tr>\n",
       "      <th>96106</th>\n",
       "      <td>12dca0bf14588cc10f18a9f9abaef604</td>\n",
       "      <td>6259b1f4da26c67879164ebce6333481</td>\n",
       "      <td>98900</td>\n",
       "      <td>santa rosa</td>\n",
       "      <td>RS</td>\n",
       "      <td>None</td>\n",
       "      <td>None</td>\n",
       "    </tr>\n",
       "    <tr>\n",
       "      <th>99026</th>\n",
       "      <td>995ff88564ad4b448082f8b9e7d9af68</td>\n",
       "      <td>6d7a18f90abb894e378a51500101ea1a</td>\n",
       "      <td>89130</td>\n",
       "      <td>indaial</td>\n",
       "      <td>SC</td>\n",
       "      <td>None</td>\n",
       "      <td>None</td>\n",
       "    </tr>\n",
       "  </tbody>\n",
       "</table>\n",
       "</div>"
      ],
      "text/plain": [
       "                            customer_id                customer_unique_id  \\\n",
       "2262   fe196aba95e52d084e7bb60dbd8a23f1  93b4c8bdafa9877757c77b519415d274   \n",
       "5525   81eaa0c0dfb54f5f9d7d11734f162e65  b0369cc51e0e1618a76c7174132b93cc   \n",
       "5648   a059473225838f7005cf82e2f6b9a18d  1df28da6a384e9822da017c6d44b0656   \n",
       "11226  4560c6d8bfdd3e61555dca85d900e1e6  ad054a269e8691d8e2727d1611f3950e   \n",
       "16766  110d797e5a5055538df046c2cad8f3d4  1a4d4db5393b394803df246ca68872b4   \n",
       "30064  988126b4ddf725d9724e4318872ea2ae  507dc9becd4fc65635d90682dfa9d3a3   \n",
       "33614  7775deebb59b9257b62fd7f3117efa10  26d23e38ed702dc7a476dbb107192848   \n",
       "44046  6536b7e35e2598371da42ea384a43ddb  760aa83faf9321a80f455369d7339a0a   \n",
       "60564  ff69fe294d9da2e683dede2ddb70b6ae  cd6ff01588442a00ebf2e3829d88e819   \n",
       "69067  12217655416d9edb5594c7dc6597b85f  215d7119ee04ba8fdd85407e222b90da   \n",
       "69690  39d1b3f6e70944054f15906756f6f6c9  1deeb2af44be649d0a8d3660bc7afb8b   \n",
       "74340  d52d50587f75df7c5afbe0c57ed48029  9a39c1a793a148452f4d0fd8b85a1c20   \n",
       "76073  ed0271e0b7da060a393796590e7b737a  36edbb3fb164b1f16485364b6fb04c73   \n",
       "79234  dc41e3678d28d18486999a07be51317c  9ef475e8950b598deac6cfba29768fd3   \n",
       "80696  59077d5c620a379906c1130b4cb666ae  4a0e1963153df245b88a3efdc56afe97   \n",
       "81927  7745cf61130162f1639e8aca053a5655  da8a30f096998be524bb7762f34ae7ec   \n",
       "82830  a13f6cf0d876947e0559f572d69e59f9  5e2a5e8ba51f24c1e13f99720473fa0d   \n",
       "83387  f0063eff5de6c74e859ef5b403316c53  a49e0376009f52b244fc67052627ad6f   \n",
       "85426  e97a9968c444502cfce41e23725952e5  0036a074f98b80c4f1fc33dbbcf9c552   \n",
       "88132  ff92e1be6dc1bad3695547e321d2003b  3a3bf14f1678d2dbfb886a2dc94331d2   \n",
       "89402  77a385ed7574f6d6da77902de5abbe18  2c693e71cc2c3b66b36ecf55c7668f49   \n",
       "96106  12dca0bf14588cc10f18a9f9abaef604  6259b1f4da26c67879164ebce6333481   \n",
       "99026  995ff88564ad4b448082f8b9e7d9af68  6d7a18f90abb894e378a51500101ea1a   \n",
       "\n",
       "       customer_zip_code_prefix customer_city customer_state cidade_corrigida  \\\n",
       "2262                      89130       indaial             SC             None   \n",
       "5525                      89130       indaial             SC             None   \n",
       "5648                      89130       indaial             SC             None   \n",
       "11226                     89130       indaial             SC             None   \n",
       "16766                     98900    santa rosa             RS             None   \n",
       "30064                     98900    santa rosa             RS             None   \n",
       "33614                     89130       indaial             SC             None   \n",
       "44046                     89130       indaial             SC             None   \n",
       "60564                     98900    santa rosa             RS             None   \n",
       "69067                     89130       indaial             SC             None   \n",
       "69690                     89130       indaial             SC             None   \n",
       "74340                     89130       indaial             SC             None   \n",
       "76073                     98900    santa rosa             RS             None   \n",
       "79234                     89130       indaial             SC             None   \n",
       "80696                     89130       indaial             SC             None   \n",
       "81927                     98900    santa rosa             RS             None   \n",
       "82830                     98900    santa rosa             RS             None   \n",
       "83387                     89130       indaial             SC             None   \n",
       "85426                     98900    santa rosa             RS             None   \n",
       "88132                     89130       indaial             SC             None   \n",
       "89402                     98900    santa rosa             RS             None   \n",
       "96106                     98900    santa rosa             RS             None   \n",
       "99026                     89130       indaial             SC             None   \n",
       "\n",
       "      estado_corrigido  \n",
       "2262              None  \n",
       "5525              None  \n",
       "5648              None  \n",
       "11226             None  \n",
       "16766             None  \n",
       "30064             None  \n",
       "33614             None  \n",
       "44046             None  \n",
       "60564             None  \n",
       "69067             None  \n",
       "69690             None  \n",
       "74340             None  \n",
       "76073             None  \n",
       "79234             None  \n",
       "80696             None  \n",
       "81927             None  \n",
       "82830             None  \n",
       "83387             None  \n",
       "85426             None  \n",
       "88132             None  \n",
       "89402             None  \n",
       "96106             None  \n",
       "99026             None  "
      ]
     },
     "execution_count": 43,
     "metadata": {},
     "output_type": "execute_result"
    }
   ],
   "source": [
    "df_customers[df_customers['estado_corrigido'].isna()]"
   ]
  },
  {
   "cell_type": "code",
   "execution_count": 44,
   "id": "646fb5a7",
   "metadata": {},
   "outputs": [
    {
     "data": {
      "application/vnd.microsoft.datawrangler.viewer.v0+json": {
       "columns": [
        {
         "name": "index",
         "rawType": "int64",
         "type": "integer"
        },
        {
         "name": "seller_id",
         "rawType": "object",
         "type": "string"
        },
        {
         "name": "seller_zip_code_prefix",
         "rawType": "int64",
         "type": "integer"
        },
        {
         "name": "seller_city",
         "rawType": "object",
         "type": "string"
        },
        {
         "name": "seller_state",
         "rawType": "object",
         "type": "string"
        },
        {
         "name": "cidade_corrigida",
         "rawType": "object",
         "type": "string"
        },
        {
         "name": "estado_corrigido",
         "rawType": "object",
         "type": "string"
        }
       ],
       "ref": "0b775946-e80c-459f-92d8-9f2d8ed4bc34",
       "rows": [],
       "shape": {
        "columns": 6,
        "rows": 0
       }
      },
      "text/html": [
       "<div>\n",
       "<style scoped>\n",
       "    .dataframe tbody tr th:only-of-type {\n",
       "        vertical-align: middle;\n",
       "    }\n",
       "\n",
       "    .dataframe tbody tr th {\n",
       "        vertical-align: top;\n",
       "    }\n",
       "\n",
       "    .dataframe thead th {\n",
       "        text-align: right;\n",
       "    }\n",
       "</style>\n",
       "<table border=\"1\" class=\"dataframe\">\n",
       "  <thead>\n",
       "    <tr style=\"text-align: right;\">\n",
       "      <th></th>\n",
       "      <th>seller_id</th>\n",
       "      <th>seller_zip_code_prefix</th>\n",
       "      <th>seller_city</th>\n",
       "      <th>seller_state</th>\n",
       "      <th>cidade_corrigida</th>\n",
       "      <th>estado_corrigido</th>\n",
       "    </tr>\n",
       "  </thead>\n",
       "  <tbody>\n",
       "  </tbody>\n",
       "</table>\n",
       "</div>"
      ],
      "text/plain": [
       "Empty DataFrame\n",
       "Columns: [seller_id, seller_zip_code_prefix, seller_city, seller_state, cidade_corrigida, estado_corrigido]\n",
       "Index: []"
      ]
     },
     "execution_count": 44,
     "metadata": {},
     "output_type": "execute_result"
    }
   ],
   "source": [
    "df_sellers[df_sellers['cidade_corrigida'].isna()]"
   ]
  },
  {
   "cell_type": "markdown",
   "id": "71ce859e",
   "metadata": {},
   "source": [
    "> Df sellers got all correct, but some missing values on df_customers"
   ]
  },
  {
   "cell_type": "code",
   "execution_count": null,
   "id": "d62b1ef7",
   "metadata": {},
   "outputs": [],
   "source": [
    "#df_customers[df_customers['estado_corrigido'].isna()]\n",
    "df_customers.loc[(df_customers['customer_city'] == 'indaial') & (df_customers['cidade_corrigida'].isna()), 'cidade_corrigida'] = \"Indaial\"\n",
    "df_customers.loc[(df_customers['customer_city'] == 'indaial') & (df_customers['estado_corrigido'].isna()), 'estado_corrigido'] = \"Santa Catarina\"\n",
    "df_customers.loc[(df_customers['customer_city'] == 'santa rosa') & (df_customers['cidade_corrigida'].isna()), 'cidade_corrigida'] = \"Santa Rosa\"\n",
    "df_customers.loc[(df_customers['customer_city'] == 'santa rosa') & (df_customers['estado_corrigido'].isna()), 'estado_corrigido'] = \"Rio Grande do Sul\""
   ]
  },
  {
   "cell_type": "markdown",
   "id": "b9d26cf0",
   "metadata": {},
   "source": [
    "> Manually inserting the right values."
   ]
  },
  {
   "cell_type": "code",
   "execution_count": null,
   "id": "c177a1c4",
   "metadata": {},
   "outputs": [
    {
     "data": {
      "application/vnd.microsoft.datawrangler.viewer.v0+json": {
       "columns": [
        {
         "name": "index",
         "rawType": "int64",
         "type": "integer"
        },
        {
         "name": "customer_id",
         "rawType": "object",
         "type": "string"
        },
        {
         "name": "customer_unique_id",
         "rawType": "object",
         "type": "string"
        },
        {
         "name": "customer_zip_code_prefix",
         "rawType": "int64",
         "type": "integer"
        },
        {
         "name": "customer_city",
         "rawType": "object",
         "type": "string"
        },
        {
         "name": "customer_state",
         "rawType": "object",
         "type": "string"
        },
        {
         "name": "cidade_corrigida",
         "rawType": "object",
         "type": "string"
        },
        {
         "name": "estado_corrigido",
         "rawType": "object",
         "type": "string"
        }
       ],
       "ref": "508ccb45-4a6c-4ad6-8cc6-1fdd3202b605",
       "rows": [],
       "shape": {
        "columns": 7,
        "rows": 0
       }
      },
      "text/html": [
       "<div>\n",
       "<style scoped>\n",
       "    .dataframe tbody tr th:only-of-type {\n",
       "        vertical-align: middle;\n",
       "    }\n",
       "\n",
       "    .dataframe tbody tr th {\n",
       "        vertical-align: top;\n",
       "    }\n",
       "\n",
       "    .dataframe thead th {\n",
       "        text-align: right;\n",
       "    }\n",
       "</style>\n",
       "<table border=\"1\" class=\"dataframe\">\n",
       "  <thead>\n",
       "    <tr style=\"text-align: right;\">\n",
       "      <th></th>\n",
       "      <th>customer_id</th>\n",
       "      <th>customer_unique_id</th>\n",
       "      <th>customer_zip_code_prefix</th>\n",
       "      <th>customer_city</th>\n",
       "      <th>customer_state</th>\n",
       "      <th>cidade_corrigida</th>\n",
       "      <th>estado_corrigido</th>\n",
       "    </tr>\n",
       "  </thead>\n",
       "  <tbody>\n",
       "  </tbody>\n",
       "</table>\n",
       "</div>"
      ],
      "text/plain": [
       "Empty DataFrame\n",
       "Columns: [customer_id, customer_unique_id, customer_zip_code_prefix, customer_city, customer_state, cidade_corrigida, estado_corrigido]\n",
       "Index: []"
      ]
     },
     "execution_count": 57,
     "metadata": {},
     "output_type": "execute_result"
    }
   ],
   "source": [
    "\n",
    "df_customers[df_customers['estado_corrigido'].isna()]"
   ]
  },
  {
   "cell_type": "markdown",
   "id": "20d60be1",
   "metadata": {},
   "source": [
    "- Saving cleaned data"
   ]
  },
  {
   "cell_type": "code",
   "execution_count": 59,
   "id": "57bffd24",
   "metadata": {},
   "outputs": [],
   "source": [
    "df_customers.to_csv(\"../data/cleaned/df_customers.csv\", index=False)\n",
    "df_order_items.to_csv(\"../data/cleaned/df_order_items.csv\", index=False)\n",
    "df_order_payments.to_csv(\"../data/cleaned/df_order_payments.csv\", index=False)\n",
    "df_orders.to_csv(\"../data/cleaned/df_orders.csv\", index=False)\n",
    "df_products.to_csv(\"../data/cleaned/df_products.csv\", index=False)\n",
    "df_sellers.to_csv(\"../data/cleaned/df_sellers.csv\", index=False)\n"
   ]
  },
  {
   "cell_type": "markdown",
   "id": "b0ffdbef",
   "metadata": {},
   "source": [
    "## Derived Data"
   ]
  },
  {
   "cell_type": "code",
   "execution_count": null,
   "id": "fd26e758",
   "metadata": {},
   "outputs": [
    {
     "name": "stdout",
     "output_type": "stream",
     "text": [
      "<class 'pandas.core.frame.DataFrame'>\n",
      "RangeIndex: 99441 entries, 0 to 99440\n",
      "Data columns (total 4 columns):\n",
      " #   Column                    Non-Null Count  Dtype         \n",
      "---  ------                    --------------  -----         \n",
      " 0   order_id                  99441 non-null  object        \n",
      " 1   customer_id               99441 non-null  object        \n",
      " 2   order_status              99441 non-null  object        \n",
      " 3   order_purchase_timestamp  99441 non-null  datetime64[ns]\n",
      "dtypes: datetime64[ns](1), object(3)\n",
      "memory usage: 3.0+ MB\n"
     ]
    }
   ],
   "source": [
    "pro_df_sales = "
   ]
  },
  {
   "cell_type": "markdown",
   "id": "efde9487",
   "metadata": {},
   "source": [
    "# OLD "
   ]
  },
  {
   "cell_type": "markdown",
   "id": "2af76556",
   "metadata": {},
   "source": [
    "## Derived Data"
   ]
  },
  {
   "cell_type": "markdown",
   "id": "c8033359",
   "metadata": {},
   "source": [
    "- Creating dataframes dfp_order_full by:\n",
    "> - Grouping all purchased items by its orders id and summing the prices.\n",
    "> - Merging df_order with its respectives values spent"
   ]
  },
  {
   "cell_type": "code",
   "execution_count": null,
   "id": "457a757b",
   "metadata": {},
   "outputs": [
    {
     "name": "stdout",
     "output_type": "stream",
     "text": [
      "<class 'pandas.core.frame.DataFrame'>\n",
      "RangeIndex: 98666 entries, 0 to 98665\n",
      "Data columns (total 5 columns):\n",
      " #   Column                    Non-Null Count  Dtype         \n",
      "---  ------                    --------------  -----         \n",
      " 0   order_id                  98666 non-null  object        \n",
      " 1   customer_id               98666 non-null  object        \n",
      " 2   order_status              98666 non-null  object        \n",
      " 3   order_purchase_timestamp  98666 non-null  datetime64[ns]\n",
      " 4   total_order_value         98666 non-null  float64       \n",
      "dtypes: datetime64[ns](1), float64(1), object(3)\n",
      "memory usage: 3.8+ MB\n"
     ]
    }
   ],
   "source": [
    "df_order_items_grouped = df_order_items.groupby('order_id')['price'].sum().reset_index()\n",
    "df_order_items_grouped.rename(columns={'price': 'total_order_value'}, inplace=True)\n",
    "\n",
    "dfp_orders_full = df_orders.merge(df_order_items_grouped, on='order_id')\n",
    "dfp_orders_full.info()"
   ]
  },
  {
   "cell_type": "markdown",
   "id": "b69b2541",
   "metadata": {},
   "source": [
    "- Creating a column to day, month and year to investigate the seasonality purchase behavior "
   ]
  },
  {
   "cell_type": "code",
   "execution_count": null,
   "id": "210c422e",
   "metadata": {},
   "outputs": [
    {
     "name": "stdout",
     "output_type": "stream",
     "text": [
      "<class 'pandas.core.frame.DataFrame'>\n",
      "RangeIndex: 98666 entries, 0 to 98665\n",
      "Data columns (total 8 columns):\n",
      " #   Column                    Non-Null Count  Dtype         \n",
      "---  ------                    --------------  -----         \n",
      " 0   order_id                  98666 non-null  object        \n",
      " 1   customer_id               98666 non-null  object        \n",
      " 2   order_status              98666 non-null  object        \n",
      " 3   order_purchase_timestamp  98666 non-null  datetime64[ns]\n",
      " 4   total_order_value         98666 non-null  float64       \n",
      " 5   order_month               98666 non-null  int32         \n",
      " 6   order_day                 98666 non-null  int32         \n",
      " 7   order_year                98666 non-null  int32         \n",
      "dtypes: datetime64[ns](1), float64(1), int32(3), object(3)\n",
      "memory usage: 4.9+ MB\n"
     ]
    }
   ],
   "source": [
    "dfp_orders_full['order_month'] = dfp_orders_full['order_purchase_timestamp'].dt.month\n",
    "dfp_orders_full['order_day'] = dfp_orders_full['order_purchase_timestamp'].dt.day\n",
    "dfp_orders_full['order_year'] = dfp_orders_full['order_purchase_timestamp'].dt.year\n",
    "dfp_orders_full.info()"
   ]
  },
  {
   "cell_type": "markdown",
   "id": "f6970c4c",
   "metadata": {},
   "source": [
    "- Merging the the customer dataframe in order to identify each buy with their unique id"
   ]
  },
  {
   "cell_type": "code",
   "execution_count": null,
   "id": "d5a3b373",
   "metadata": {},
   "outputs": [
    {
     "name": "stdout",
     "output_type": "stream",
     "text": [
      "<class 'pandas.core.frame.DataFrame'>\n",
      "RangeIndex: 98666 entries, 0 to 98665\n",
      "Data columns (total 9 columns):\n",
      " #   Column                    Non-Null Count  Dtype         \n",
      "---  ------                    --------------  -----         \n",
      " 0   order_id                  98666 non-null  object        \n",
      " 1   customer_id               98666 non-null  object        \n",
      " 2   order_status              98666 non-null  object        \n",
      " 3   order_purchase_timestamp  98666 non-null  datetime64[ns]\n",
      " 4   total_order_value         98666 non-null  float64       \n",
      " 5   order_month               98666 non-null  int32         \n",
      " 6   order_day                 98666 non-null  int32         \n",
      " 7   order_year                98666 non-null  int32         \n",
      " 8   customer_unique_id        98666 non-null  object        \n",
      "dtypes: datetime64[ns](1), float64(1), int32(3), object(4)\n",
      "memory usage: 5.6+ MB\n"
     ]
    }
   ],
   "source": [
    "dfp_orders_full = dfp_orders_full.merge(\n",
    "    df_customers[['customer_id','customer_unique_id']],\n",
    "    on='customer_id',\n",
    "    how='left'\n",
    ")\n",
    "dfp_orders_full.info()"
   ]
  },
  {
   "cell_type": "markdown",
   "id": "e3a802ca",
   "metadata": {},
   "source": [
    "- Filtering the orders by just the delivered ones"
   ]
  },
  {
   "cell_type": "code",
   "execution_count": 220,
   "id": "5abd1b6f",
   "metadata": {},
   "outputs": [],
   "source": [
    "dfp_orders_full = dfp_orders_full.loc[dfp_orders_full['order_status'] == 'delivered']"
   ]
  },
  {
   "cell_type": "markdown",
   "id": "c08ba213",
   "metadata": {},
   "source": [
    "- Creating the processed dataframe with the client tickets"
   ]
  },
  {
   "cell_type": "code",
   "execution_count": 221,
   "id": "e695b528",
   "metadata": {},
   "outputs": [],
   "source": [
    "dfp_client_ticket = dfp_orders_full.groupby('customer_unique_id')['total_order_value'].agg(['sum','mean','count']).reset_index()\n",
    "dfp_client_ticket.rename(columns={'sum':'total_spent','mean':'avg_ticket','count':'order_count'}, inplace=True)\n"
   ]
  },
  {
   "cell_type": "markdown",
   "id": "e0bf9528",
   "metadata": {},
   "source": [
    "- Creating the processed dataframe with category sales"
   ]
  },
  {
   "cell_type": "code",
   "execution_count": 222,
   "id": "0aaf587d",
   "metadata": {},
   "outputs": [],
   "source": [
    "dfp_category_sales = df_order_items.merge(df_products[['product_id','product_category_name']], on='product_id')\n",
    "dfp_category_sales = dfp_category_sales.groupby('product_category_name')['price'].agg(['sum','count']).reset_index()\n",
    "dfp_category_sales.rename(columns={'sum':'total_sales','count':'units_sold'}, inplace=True)"
   ]
  },
  {
   "cell_type": "code",
   "execution_count": null,
   "id": "bf90cf18",
   "metadata": {},
   "outputs": [
    {
     "name": "stdout",
     "output_type": "stream",
     "text": [
      "<class 'pandas.core.frame.DataFrame'>\n",
      "RangeIndex: 96478 entries, 0 to 96477\n",
      "Data columns (total 11 columns):\n",
      " #   Column                    Non-Null Count  Dtype         \n",
      "---  ------                    --------------  -----         \n",
      " 0   order_id                  96478 non-null  object        \n",
      " 1   customer_id               96478 non-null  object        \n",
      " 2   order_status              96478 non-null  object        \n",
      " 3   order_purchase_timestamp  96478 non-null  datetime64[ns]\n",
      " 4   total_order_value         96478 non-null  float64       \n",
      " 5   order_month               96478 non-null  int32         \n",
      " 6   order_day                 96478 non-null  int32         \n",
      " 7   order_year                96478 non-null  int32         \n",
      " 8   customer_unique_id        96478 non-null  object        \n",
      " 9   customer_state            96478 non-null  object        \n",
      " 10  customer_city             96478 non-null  object        \n",
      "dtypes: datetime64[ns](1), float64(1), int32(3), object(6)\n",
      "memory usage: 7.0+ MB\n"
     ]
    }
   ],
   "source": [
    "dfp_orders_full = dfp_orders_full.merge(df_customers[['customer_id','customer_state','customer_city']], on='customer_id')\n",
    "dfp_orders_full.info()"
   ]
  },
  {
   "cell_type": "markdown",
   "id": "e769aa0b",
   "metadata": {},
   "source": [
    "- Generating dataframes with sales per city and per states"
   ]
  },
  {
   "cell_type": "code",
   "execution_count": 225,
   "id": "496dfc6b",
   "metadata": {},
   "outputs": [],
   "source": [
    "dfp_state_sales = dfp_orders_full.groupby('customer_state')['total_order_value'].sum().reset_index()\n",
    "dfp_city_sales = dfp_orders_full.groupby('customer_city')['total_order_value'].sum().reset_index()"
   ]
  },
  {
   "cell_type": "markdown",
   "id": "a806f472",
   "metadata": {},
   "source": [
    "- Generating the dataframe that maps the customer quantity per city and states"
   ]
  },
  {
   "cell_type": "code",
   "execution_count": 227,
   "id": "5ea3b43c",
   "metadata": {},
   "outputs": [],
   "source": [
    "dfp_clients_per_state = df_customers.groupby('customer_state')['customer_unique_id'].nunique().reset_index()\n",
    "dfp_clients_per_state.rename(columns={'customer_unique_id':'num_clients'}, inplace=True)\n",
    "\n",
    "\n",
    "dfp_clients_per_city = df_customers.groupby('customer_city')['customer_unique_id'].nunique().reset_index()\n",
    "dfp_clients_per_city.rename(columns={'customer_unique_id':'num_clients'}, inplace=True)"
   ]
  },
  {
   "cell_type": "code",
   "execution_count": 230,
   "id": "c2cc6792",
   "metadata": {},
   "outputs": [],
   "source": [
    "dfp_seller_revenue = df_order_items.groupby('seller_id')['price'].sum().reset_index()\n",
    "dfp_seller_revenue.rename(columns={'price':'revenue_per_seller'}, inplace=True)\n",
    "\n",
    "dfp_seller_revenue = dfp_seller_revenue.merge(\n",
    "    df_sellers[['seller_id','seller_city','seller_state']],\n",
    "    on='seller_id',\n",
    "    how='left'\n",
    ")\n",
    "\n",
    "dfp_seller_revenue = dfp_seller_revenue.sort_values(by='revenue_per_seller', ascending=False)"
   ]
  },
  {
   "cell_type": "markdown",
   "id": "7390cbb6",
   "metadata": {},
   "source": [
    "## Export"
   ]
  },
  {
   "cell_type": "markdown",
   "id": "f11d705f",
   "metadata": {},
   "source": [
    "- Checking for nulls on processed data frames"
   ]
  },
  {
   "cell_type": "code",
   "execution_count": 242,
   "id": "71beb46c",
   "metadata": {},
   "outputs": [
    {
     "data": {
      "application/vnd.microsoft.datawrangler.viewer.v0+json": {
       "columns": [
        {
         "name": "index",
         "rawType": "object",
         "type": "string"
        },
        {
         "name": "0",
         "rawType": "int64",
         "type": "integer"
        }
       ],
       "ref": "dda6e422-5042-49cf-b610-a47293d088fa",
       "rows": [
        [
         "seller_id",
         "0"
        ],
        [
         "revenue_per_seller",
         "0"
        ],
        [
         "seller_city",
         "0"
        ],
        [
         "seller_state",
         "0"
        ]
       ],
       "shape": {
        "columns": 1,
        "rows": 4
       }
      },
      "text/plain": [
       "seller_id             0\n",
       "revenue_per_seller    0\n",
       "seller_city           0\n",
       "seller_state          0\n",
       "dtype: int64"
      ]
     },
     "execution_count": 242,
     "metadata": {},
     "output_type": "execute_result"
    }
   ],
   "source": [
    "dfp_category_sales.isnull().sum()\n",
    "dfp_city_sales.isnull().sum()\n",
    "dfp_state_sales.isnull().sum()\n",
    "dfp_client_ticket.isnull().sum()\n",
    "dfp_clients_per_city.isnull().sum()\n",
    "dfp_clients_per_state.isnull().sum()\n",
    "dfp_orders_full.isnull().sum()\n",
    "dfp_seller_revenue.isnull().sum()"
   ]
  },
  {
   "cell_type": "code",
   "execution_count": 244,
   "id": "be20852b",
   "metadata": {},
   "outputs": [],
   "source": [
    "dfp_category_sales.to_csv(\"../data/processed/category_sales.csv\", index=False)\n",
    "dfp_city_sales.to_csv(\"../data/processed/city_sales.csv\", index=False)\n",
    "dfp_state_sales.to_csv(\"../data/processed/state_sales.csv\", index=False)\n",
    "dfp_client_ticket.to_csv(\"../data/processed/client_ticket.csv\", index=False)\n",
    "dfp_clients_per_city.to_csv(\"../data/processed/customer_per_city.csv\", index=False)\n",
    "dfp_clients_per_state.to_csv(\"../data/processed/customer_per_state.csv\", index=False)\n",
    "dfp_orders_full.to_csv(\"../data/processed/orders.csv\", index=False)\n",
    "dfp_seller_revenue.to_csv(\"../data/processed/seller_revenue.csv\", index=False)\n"
   ]
  }
 ],
 "metadata": {
  "kernelspec": {
   "display_name": "Python 3",
   "language": "python",
   "name": "python3"
  },
  "language_info": {
   "codemirror_mode": {
    "name": "ipython",
    "version": 3
   },
   "file_extension": ".py",
   "mimetype": "text/x-python",
   "name": "python",
   "nbconvert_exporter": "python",
   "pygments_lexer": "ipython3",
   "version": "3.13.7"
  }
 },
 "nbformat": 4,
 "nbformat_minor": 5
}
