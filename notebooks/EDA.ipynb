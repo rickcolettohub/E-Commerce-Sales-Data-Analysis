{
 "cells": [
  {
   "cell_type": "markdown",
   "id": "460e4887",
   "metadata": {},
   "source": [
    "# Exploratory Data Analysis"
   ]
  },
  {
   "cell_type": "markdown",
   "id": "4adc9454",
   "metadata": {},
   "source": [
    "## Import"
   ]
  },
  {
   "cell_type": "code",
   "execution_count": null,
   "id": "f45ae8ac",
   "metadata": {},
   "outputs": [],
   "source": [
    "import pandas as pd\n",
    "import numpy as np\n",
    "import matplotlib.pyplot as plt\n",
    "import seaborn as sns\n",
    "import sys\n",
    "import os\n",
    "from rapidfuzz import fuzz, process\n",
    "import unidecode\n",
    "import requests\n",
    "import json"
   ]
  },
  {
   "cell_type": "code",
   "execution_count": 141,
   "id": "07d200b8",
   "metadata": {},
   "outputs": [],
   "source": [
    "sys.path.append(os.path.abspath(\"../src\"))\n",
    "from consultacep import consulta_cep"
   ]
  },
  {
   "cell_type": "markdown",
   "id": "9c59693c",
   "metadata": {},
   "source": [
    "## Raw Data"
   ]
  },
  {
   "cell_type": "code",
   "execution_count": null,
   "id": "6a03b6f6",
   "metadata": {},
   "outputs": [],
   "source": [
    "df_customers = pd.read_csv(\"../data/raw/olist_customers_dataset.csv\")\n",
    "df_order_items = pd.read_csv(\"../data/raw/olist_order_items_dataset.csv\")\n",
    "df_order_payments = pd.read_csv(\"../data/raw/olist_order_payments_dataset.csv\")\n",
    "df_orders = pd.read_csv(\"../data/raw/olist_orders_dataset.csv\")\n",
    "df_products = pd.read_csv(\"../data/raw/olist_products_dataset.csv\")\n",
    "df_sellers = pd.read_csv(\"../data/raw/olist_sellers_dataset.csv\")\n",
    "cdf_cities = pd.read_csv(\"../data/raw/brazilian_cities.csv\")\n",
    "cdf_ceps = pd.read_excel(\"../data/raw/Lista_de_CEPs.xlsx\")\n"
   ]
  },
  {
   "cell_type": "code",
   "execution_count": null,
   "id": "aed5fc11",
   "metadata": {},
   "outputs": [],
   "source": []
  },
  {
   "cell_type": "markdown",
   "id": "16c2e10e",
   "metadata": {},
   "source": [
    "## Checking the relevant data"
   ]
  },
  {
   "cell_type": "markdown",
   "id": "d0a2b220",
   "metadata": {},
   "source": [
    "### Dataframe: Customers"
   ]
  },
  {
   "cell_type": "code",
   "execution_count": 17,
   "id": "fe118570",
   "metadata": {},
   "outputs": [
    {
     "data": {
      "application/vnd.microsoft.datawrangler.viewer.v0+json": {
       "columns": [
        {
         "name": "index",
         "rawType": "int64",
         "type": "integer"
        },
        {
         "name": "customer_id",
         "rawType": "object",
         "type": "string"
        },
        {
         "name": "customer_unique_id",
         "rawType": "object",
         "type": "string"
        },
        {
         "name": "customer_zip_code_prefix",
         "rawType": "int64",
         "type": "integer"
        },
        {
         "name": "customer_city",
         "rawType": "object",
         "type": "string"
        },
        {
         "name": "customer_state",
         "rawType": "object",
         "type": "string"
        }
       ],
       "ref": "96ddc100-923b-426b-809d-742cdc02b94a",
       "rows": [
        [
         "1645",
         "9af11477b7e25648e3f0b63cacb6046b",
         "d9575b595db7de99b327899d9ed25ff1",
         "35010",
         "governador valadares",
         "MG"
        ],
        [
         "24939",
         "332cd7b9d5b2e74bf7553bfac694996d",
         "c4384a7902deb7c5b60b480573876d9a",
         "91550",
         "porto alegre",
         "RS"
        ],
        [
         "22554",
         "7e9b88bc5b0aa43c38d8992aa2162006",
         "9c9005459415b7174f5afb922d4a7bf1",
         "98280",
         "panambi",
         "RS"
        ],
        [
         "1934",
         "6a3392d49966d00c8547fc17d85c2490",
         "c0441350fc63bde5244872590587f1b6",
         "83702",
         "araucaria",
         "PR"
        ],
        [
         "32626",
         "25cc5042606c108675729a1e2967486f",
         "eed42da7ee2f3ce26ab52758e63d855f",
         "13276",
         "valinhos",
         "SP"
        ],
        [
         "28771",
         "69e15a390ddbb4802714da5f52b14287",
         "1abff90112d2ef4058b7306691e6b7a2",
         "66085",
         "belem",
         "PA"
        ],
        [
         "83327",
         "55cae1e7c9b2dd0420cf1f95699d77a6",
         "9724553bac1f3f92a40de0c99327fb6c",
         "36047",
         "juiz de fora",
         "MG"
        ],
        [
         "98523",
         "2aaa2dfcd1c4475ac4c077cbb0b72691",
         "151b483e44efee574bd7201e51183f55",
         "85861",
         "foz do iguacu",
         "PR"
        ],
        [
         "92026",
         "e4b139287dd53c041c52b2bc68a2c17f",
         "314579e5855c24c990e92cfeacf71937",
         "96071",
         "pelotas",
         "RS"
        ],
        [
         "11676",
         "5ba0313d8deae58f670a73b0f8b21b5e",
         "17c24fb77d25f05ca75a38e0dbff06a2",
         "4937",
         "sao paulo",
         "SP"
        ]
       ],
       "shape": {
        "columns": 5,
        "rows": 10
       }
      },
      "text/html": [
       "<div>\n",
       "<style scoped>\n",
       "    .dataframe tbody tr th:only-of-type {\n",
       "        vertical-align: middle;\n",
       "    }\n",
       "\n",
       "    .dataframe tbody tr th {\n",
       "        vertical-align: top;\n",
       "    }\n",
       "\n",
       "    .dataframe thead th {\n",
       "        text-align: right;\n",
       "    }\n",
       "</style>\n",
       "<table border=\"1\" class=\"dataframe\">\n",
       "  <thead>\n",
       "    <tr style=\"text-align: right;\">\n",
       "      <th></th>\n",
       "      <th>customer_id</th>\n",
       "      <th>customer_unique_id</th>\n",
       "      <th>customer_zip_code_prefix</th>\n",
       "      <th>customer_city</th>\n",
       "      <th>customer_state</th>\n",
       "    </tr>\n",
       "  </thead>\n",
       "  <tbody>\n",
       "    <tr>\n",
       "      <th>1645</th>\n",
       "      <td>9af11477b7e25648e3f0b63cacb6046b</td>\n",
       "      <td>d9575b595db7de99b327899d9ed25ff1</td>\n",
       "      <td>35010</td>\n",
       "      <td>governador valadares</td>\n",
       "      <td>MG</td>\n",
       "    </tr>\n",
       "    <tr>\n",
       "      <th>24939</th>\n",
       "      <td>332cd7b9d5b2e74bf7553bfac694996d</td>\n",
       "      <td>c4384a7902deb7c5b60b480573876d9a</td>\n",
       "      <td>91550</td>\n",
       "      <td>porto alegre</td>\n",
       "      <td>RS</td>\n",
       "    </tr>\n",
       "    <tr>\n",
       "      <th>22554</th>\n",
       "      <td>7e9b88bc5b0aa43c38d8992aa2162006</td>\n",
       "      <td>9c9005459415b7174f5afb922d4a7bf1</td>\n",
       "      <td>98280</td>\n",
       "      <td>panambi</td>\n",
       "      <td>RS</td>\n",
       "    </tr>\n",
       "    <tr>\n",
       "      <th>1934</th>\n",
       "      <td>6a3392d49966d00c8547fc17d85c2490</td>\n",
       "      <td>c0441350fc63bde5244872590587f1b6</td>\n",
       "      <td>83702</td>\n",
       "      <td>araucaria</td>\n",
       "      <td>PR</td>\n",
       "    </tr>\n",
       "    <tr>\n",
       "      <th>32626</th>\n",
       "      <td>25cc5042606c108675729a1e2967486f</td>\n",
       "      <td>eed42da7ee2f3ce26ab52758e63d855f</td>\n",
       "      <td>13276</td>\n",
       "      <td>valinhos</td>\n",
       "      <td>SP</td>\n",
       "    </tr>\n",
       "    <tr>\n",
       "      <th>28771</th>\n",
       "      <td>69e15a390ddbb4802714da5f52b14287</td>\n",
       "      <td>1abff90112d2ef4058b7306691e6b7a2</td>\n",
       "      <td>66085</td>\n",
       "      <td>belem</td>\n",
       "      <td>PA</td>\n",
       "    </tr>\n",
       "    <tr>\n",
       "      <th>83327</th>\n",
       "      <td>55cae1e7c9b2dd0420cf1f95699d77a6</td>\n",
       "      <td>9724553bac1f3f92a40de0c99327fb6c</td>\n",
       "      <td>36047</td>\n",
       "      <td>juiz de fora</td>\n",
       "      <td>MG</td>\n",
       "    </tr>\n",
       "    <tr>\n",
       "      <th>98523</th>\n",
       "      <td>2aaa2dfcd1c4475ac4c077cbb0b72691</td>\n",
       "      <td>151b483e44efee574bd7201e51183f55</td>\n",
       "      <td>85861</td>\n",
       "      <td>foz do iguacu</td>\n",
       "      <td>PR</td>\n",
       "    </tr>\n",
       "    <tr>\n",
       "      <th>92026</th>\n",
       "      <td>e4b139287dd53c041c52b2bc68a2c17f</td>\n",
       "      <td>314579e5855c24c990e92cfeacf71937</td>\n",
       "      <td>96071</td>\n",
       "      <td>pelotas</td>\n",
       "      <td>RS</td>\n",
       "    </tr>\n",
       "    <tr>\n",
       "      <th>11676</th>\n",
       "      <td>5ba0313d8deae58f670a73b0f8b21b5e</td>\n",
       "      <td>17c24fb77d25f05ca75a38e0dbff06a2</td>\n",
       "      <td>4937</td>\n",
       "      <td>sao paulo</td>\n",
       "      <td>SP</td>\n",
       "    </tr>\n",
       "  </tbody>\n",
       "</table>\n",
       "</div>"
      ],
      "text/plain": [
       "                            customer_id                customer_unique_id  \\\n",
       "1645   9af11477b7e25648e3f0b63cacb6046b  d9575b595db7de99b327899d9ed25ff1   \n",
       "24939  332cd7b9d5b2e74bf7553bfac694996d  c4384a7902deb7c5b60b480573876d9a   \n",
       "22554  7e9b88bc5b0aa43c38d8992aa2162006  9c9005459415b7174f5afb922d4a7bf1   \n",
       "1934   6a3392d49966d00c8547fc17d85c2490  c0441350fc63bde5244872590587f1b6   \n",
       "32626  25cc5042606c108675729a1e2967486f  eed42da7ee2f3ce26ab52758e63d855f   \n",
       "28771  69e15a390ddbb4802714da5f52b14287  1abff90112d2ef4058b7306691e6b7a2   \n",
       "83327  55cae1e7c9b2dd0420cf1f95699d77a6  9724553bac1f3f92a40de0c99327fb6c   \n",
       "98523  2aaa2dfcd1c4475ac4c077cbb0b72691  151b483e44efee574bd7201e51183f55   \n",
       "92026  e4b139287dd53c041c52b2bc68a2c17f  314579e5855c24c990e92cfeacf71937   \n",
       "11676  5ba0313d8deae58f670a73b0f8b21b5e  17c24fb77d25f05ca75a38e0dbff06a2   \n",
       "\n",
       "       customer_zip_code_prefix         customer_city customer_state  \n",
       "1645                      35010  governador valadares             MG  \n",
       "24939                     91550          porto alegre             RS  \n",
       "22554                     98280               panambi             RS  \n",
       "1934                      83702             araucaria             PR  \n",
       "32626                     13276              valinhos             SP  \n",
       "28771                     66085                 belem             PA  \n",
       "83327                     36047          juiz de fora             MG  \n",
       "98523                     85861         foz do iguacu             PR  \n",
       "92026                     96071               pelotas             RS  \n",
       "11676                      4937             sao paulo             SP  "
      ]
     },
     "execution_count": 17,
     "metadata": {},
     "output_type": "execute_result"
    }
   ],
   "source": [
    "df_customers.sample(10)"
   ]
  },
  {
   "cell_type": "code",
   "execution_count": 14,
   "id": "fb5712c2",
   "metadata": {},
   "outputs": [
    {
     "name": "stdout",
     "output_type": "stream",
     "text": [
      "<class 'pandas.core.frame.DataFrame'>\n",
      "RangeIndex: 99441 entries, 0 to 99440\n",
      "Data columns (total 5 columns):\n",
      " #   Column                    Non-Null Count  Dtype \n",
      "---  ------                    --------------  ----- \n",
      " 0   customer_id               99441 non-null  object\n",
      " 1   customer_unique_id        99441 non-null  object\n",
      " 2   customer_zip_code_prefix  99441 non-null  int64 \n",
      " 3   customer_city             99441 non-null  object\n",
      " 4   customer_state            99441 non-null  object\n",
      "dtypes: int64(1), object(4)\n",
      "memory usage: 3.8+ MB\n"
     ]
    },
    {
     "data": {
      "application/vnd.microsoft.datawrangler.viewer.v0+json": {
       "columns": [
        {
         "name": "index",
         "rawType": "object",
         "type": "string"
        },
        {
         "name": "0",
         "rawType": "int64",
         "type": "integer"
        }
       ],
       "ref": "f1377e58-0b22-4530-a7be-d4341c0b231f",
       "rows": [
        [
         "customer_id",
         "0"
        ],
        [
         "customer_unique_id",
         "0"
        ],
        [
         "customer_zip_code_prefix",
         "0"
        ],
        [
         "customer_city",
         "0"
        ],
        [
         "customer_state",
         "0"
        ]
       ],
       "shape": {
        "columns": 1,
        "rows": 5
       }
      },
      "text/plain": [
       "customer_id                 0\n",
       "customer_unique_id          0\n",
       "customer_zip_code_prefix    0\n",
       "customer_city               0\n",
       "customer_state              0\n",
       "dtype: int64"
      ]
     },
     "execution_count": 14,
     "metadata": {},
     "output_type": "execute_result"
    }
   ],
   "source": [
    "df_customers.info()\n",
    "df_customers.isnull().sum()"
   ]
  },
  {
   "cell_type": "code",
   "execution_count": 15,
   "id": "16fb2399",
   "metadata": {},
   "outputs": [
    {
     "data": {
      "text/plain": [
       "np.int64(0)"
      ]
     },
     "execution_count": 15,
     "metadata": {},
     "output_type": "execute_result"
    }
   ],
   "source": [
    "df_customers.duplicated().sum()"
   ]
  },
  {
   "cell_type": "markdown",
   "id": "9ea0df64",
   "metadata": {},
   "source": [
    "- df_customers doesn't have duplicate entrys, no columns to drop at first and no Nulls"
   ]
  },
  {
   "cell_type": "markdown",
   "id": "3ca2c50f",
   "metadata": {},
   "source": [
    "### Dataframe: Order_items"
   ]
  },
  {
   "cell_type": "code",
   "execution_count": 18,
   "id": "4c81c91f",
   "metadata": {},
   "outputs": [
    {
     "data": {
      "application/vnd.microsoft.datawrangler.viewer.v0+json": {
       "columns": [
        {
         "name": "index",
         "rawType": "int64",
         "type": "integer"
        },
        {
         "name": "order_id",
         "rawType": "object",
         "type": "string"
        },
        {
         "name": "order_item_id",
         "rawType": "int64",
         "type": "integer"
        },
        {
         "name": "product_id",
         "rawType": "object",
         "type": "string"
        },
        {
         "name": "seller_id",
         "rawType": "object",
         "type": "string"
        },
        {
         "name": "shipping_limit_date",
         "rawType": "object",
         "type": "string"
        },
        {
         "name": "price",
         "rawType": "float64",
         "type": "float"
        },
        {
         "name": "freight_value",
         "rawType": "float64",
         "type": "float"
        }
       ],
       "ref": "a6d9c1af-7ab9-4297-8cdf-351be34ec581",
       "rows": [
        [
         "50546",
         "72dae7e56901083df5f2cb3dd2d4841f",
         "1",
         "53ecc2857666872f67f44e60b13d2ed2",
         "d9442042130b7fe579d1295f9f4a248f",
         "2017-06-22 14:23:10",
         "24.5",
         "8.72"
        ],
        [
         "36188",
         "520ea64853a832e3e2fe0ff5d6f44667",
         "1",
         "d88d701f11e14213198868c769856a38",
         "213fafb0ca06fb3d5886579c2565791b",
         "2018-08-15 13:30:22",
         "109.9",
         "9.9"
        ],
        [
         "7182",
         "1047b7ef8d56907e4256da73c4734bc3",
         "1",
         "906b11f3bc3c98f883afa0eb67b0fac7",
         "440dd6ab244315c632130ecfb63827b1",
         "2017-12-18 10:50:27",
         "127.0",
         "16.52"
        ],
        [
         "3931",
         "08dae4aaedc034ee67385e739d42d0a8",
         "1",
         "9686ff1a707a2d304c547f82535c5ee5",
         "6560211a19b47992c3666cc44a7e94c0",
         "2017-10-05 17:28:20",
         "85.0",
         "7.85"
        ],
        [
         "2266",
         "052b00d65560313221c5692cdb22fcb3",
         "1",
         "2a5806f10d0f00e5ad032dd2e3c8806e",
         "7c67e1448b00f6e969d365cea6b010ab",
         "2018-07-31 09:10:11",
         "169.99",
         "26.17"
        ],
        [
         "8832",
         "1432d48030ced821a4afaabcfc2a8b0f",
         "1",
         "e1da6ab77f4859eb17950e5df1c0f815",
         "dd7ddc04e1b6c2c614352b383efe2d36",
         "2018-06-18 20:52:12",
         "49.9",
         "14.62"
        ],
        [
         "87064",
         "c5b5fbe68f87bd4ee6770536a1b30fc3",
         "1",
         "a02d0123079f4ae96001ba2010d1a2df",
         "1025f0e2d44d7041d6cf58b6550e0bfa",
         "2018-08-09 12:50:13",
         "228.0",
         "34.68"
        ],
        [
         "43563",
         "62fffe3cf205e0deb385d92481d3cb40",
         "1",
         "086351823300e0339f6955b27998c186",
         "33a6f4b1e7cdc205511e76ba1b6e0186",
         "2018-02-12 16:00:40",
         "115.0",
         "14.56"
        ],
        [
         "81815",
         "b9f65a22c4594715663d2ad060df1b6c",
         "1",
         "de80c37c338574091896b7fdc81dc376",
         "5b85809efd0d0e4dea1a9544e1280ed9",
         "2018-07-23 18:43:10",
         "186.9",
         "19.41"
        ],
        [
         "1384",
         "0339ed6316da69c73459e191c10ff6ac",
         "1",
         "9fe172fa8e662ca8572cf12abf8bce23",
         "cab85505710c7cb9b720bceb52b01cee",
         "2018-08-09 04:50:30",
         "49.9",
         "13.01"
        ]
       ],
       "shape": {
        "columns": 7,
        "rows": 10
       }
      },
      "text/html": [
       "<div>\n",
       "<style scoped>\n",
       "    .dataframe tbody tr th:only-of-type {\n",
       "        vertical-align: middle;\n",
       "    }\n",
       "\n",
       "    .dataframe tbody tr th {\n",
       "        vertical-align: top;\n",
       "    }\n",
       "\n",
       "    .dataframe thead th {\n",
       "        text-align: right;\n",
       "    }\n",
       "</style>\n",
       "<table border=\"1\" class=\"dataframe\">\n",
       "  <thead>\n",
       "    <tr style=\"text-align: right;\">\n",
       "      <th></th>\n",
       "      <th>order_id</th>\n",
       "      <th>order_item_id</th>\n",
       "      <th>product_id</th>\n",
       "      <th>seller_id</th>\n",
       "      <th>shipping_limit_date</th>\n",
       "      <th>price</th>\n",
       "      <th>freight_value</th>\n",
       "    </tr>\n",
       "  </thead>\n",
       "  <tbody>\n",
       "    <tr>\n",
       "      <th>50546</th>\n",
       "      <td>72dae7e56901083df5f2cb3dd2d4841f</td>\n",
       "      <td>1</td>\n",
       "      <td>53ecc2857666872f67f44e60b13d2ed2</td>\n",
       "      <td>d9442042130b7fe579d1295f9f4a248f</td>\n",
       "      <td>2017-06-22 14:23:10</td>\n",
       "      <td>24.50</td>\n",
       "      <td>8.72</td>\n",
       "    </tr>\n",
       "    <tr>\n",
       "      <th>36188</th>\n",
       "      <td>520ea64853a832e3e2fe0ff5d6f44667</td>\n",
       "      <td>1</td>\n",
       "      <td>d88d701f11e14213198868c769856a38</td>\n",
       "      <td>213fafb0ca06fb3d5886579c2565791b</td>\n",
       "      <td>2018-08-15 13:30:22</td>\n",
       "      <td>109.90</td>\n",
       "      <td>9.90</td>\n",
       "    </tr>\n",
       "    <tr>\n",
       "      <th>7182</th>\n",
       "      <td>1047b7ef8d56907e4256da73c4734bc3</td>\n",
       "      <td>1</td>\n",
       "      <td>906b11f3bc3c98f883afa0eb67b0fac7</td>\n",
       "      <td>440dd6ab244315c632130ecfb63827b1</td>\n",
       "      <td>2017-12-18 10:50:27</td>\n",
       "      <td>127.00</td>\n",
       "      <td>16.52</td>\n",
       "    </tr>\n",
       "    <tr>\n",
       "      <th>3931</th>\n",
       "      <td>08dae4aaedc034ee67385e739d42d0a8</td>\n",
       "      <td>1</td>\n",
       "      <td>9686ff1a707a2d304c547f82535c5ee5</td>\n",
       "      <td>6560211a19b47992c3666cc44a7e94c0</td>\n",
       "      <td>2017-10-05 17:28:20</td>\n",
       "      <td>85.00</td>\n",
       "      <td>7.85</td>\n",
       "    </tr>\n",
       "    <tr>\n",
       "      <th>2266</th>\n",
       "      <td>052b00d65560313221c5692cdb22fcb3</td>\n",
       "      <td>1</td>\n",
       "      <td>2a5806f10d0f00e5ad032dd2e3c8806e</td>\n",
       "      <td>7c67e1448b00f6e969d365cea6b010ab</td>\n",
       "      <td>2018-07-31 09:10:11</td>\n",
       "      <td>169.99</td>\n",
       "      <td>26.17</td>\n",
       "    </tr>\n",
       "    <tr>\n",
       "      <th>8832</th>\n",
       "      <td>1432d48030ced821a4afaabcfc2a8b0f</td>\n",
       "      <td>1</td>\n",
       "      <td>e1da6ab77f4859eb17950e5df1c0f815</td>\n",
       "      <td>dd7ddc04e1b6c2c614352b383efe2d36</td>\n",
       "      <td>2018-06-18 20:52:12</td>\n",
       "      <td>49.90</td>\n",
       "      <td>14.62</td>\n",
       "    </tr>\n",
       "    <tr>\n",
       "      <th>87064</th>\n",
       "      <td>c5b5fbe68f87bd4ee6770536a1b30fc3</td>\n",
       "      <td>1</td>\n",
       "      <td>a02d0123079f4ae96001ba2010d1a2df</td>\n",
       "      <td>1025f0e2d44d7041d6cf58b6550e0bfa</td>\n",
       "      <td>2018-08-09 12:50:13</td>\n",
       "      <td>228.00</td>\n",
       "      <td>34.68</td>\n",
       "    </tr>\n",
       "    <tr>\n",
       "      <th>43563</th>\n",
       "      <td>62fffe3cf205e0deb385d92481d3cb40</td>\n",
       "      <td>1</td>\n",
       "      <td>086351823300e0339f6955b27998c186</td>\n",
       "      <td>33a6f4b1e7cdc205511e76ba1b6e0186</td>\n",
       "      <td>2018-02-12 16:00:40</td>\n",
       "      <td>115.00</td>\n",
       "      <td>14.56</td>\n",
       "    </tr>\n",
       "    <tr>\n",
       "      <th>81815</th>\n",
       "      <td>b9f65a22c4594715663d2ad060df1b6c</td>\n",
       "      <td>1</td>\n",
       "      <td>de80c37c338574091896b7fdc81dc376</td>\n",
       "      <td>5b85809efd0d0e4dea1a9544e1280ed9</td>\n",
       "      <td>2018-07-23 18:43:10</td>\n",
       "      <td>186.90</td>\n",
       "      <td>19.41</td>\n",
       "    </tr>\n",
       "    <tr>\n",
       "      <th>1384</th>\n",
       "      <td>0339ed6316da69c73459e191c10ff6ac</td>\n",
       "      <td>1</td>\n",
       "      <td>9fe172fa8e662ca8572cf12abf8bce23</td>\n",
       "      <td>cab85505710c7cb9b720bceb52b01cee</td>\n",
       "      <td>2018-08-09 04:50:30</td>\n",
       "      <td>49.90</td>\n",
       "      <td>13.01</td>\n",
       "    </tr>\n",
       "  </tbody>\n",
       "</table>\n",
       "</div>"
      ],
      "text/plain": [
       "                               order_id  order_item_id  \\\n",
       "50546  72dae7e56901083df5f2cb3dd2d4841f              1   \n",
       "36188  520ea64853a832e3e2fe0ff5d6f44667              1   \n",
       "7182   1047b7ef8d56907e4256da73c4734bc3              1   \n",
       "3931   08dae4aaedc034ee67385e739d42d0a8              1   \n",
       "2266   052b00d65560313221c5692cdb22fcb3              1   \n",
       "8832   1432d48030ced821a4afaabcfc2a8b0f              1   \n",
       "87064  c5b5fbe68f87bd4ee6770536a1b30fc3              1   \n",
       "43563  62fffe3cf205e0deb385d92481d3cb40              1   \n",
       "81815  b9f65a22c4594715663d2ad060df1b6c              1   \n",
       "1384   0339ed6316da69c73459e191c10ff6ac              1   \n",
       "\n",
       "                             product_id                         seller_id  \\\n",
       "50546  53ecc2857666872f67f44e60b13d2ed2  d9442042130b7fe579d1295f9f4a248f   \n",
       "36188  d88d701f11e14213198868c769856a38  213fafb0ca06fb3d5886579c2565791b   \n",
       "7182   906b11f3bc3c98f883afa0eb67b0fac7  440dd6ab244315c632130ecfb63827b1   \n",
       "3931   9686ff1a707a2d304c547f82535c5ee5  6560211a19b47992c3666cc44a7e94c0   \n",
       "2266   2a5806f10d0f00e5ad032dd2e3c8806e  7c67e1448b00f6e969d365cea6b010ab   \n",
       "8832   e1da6ab77f4859eb17950e5df1c0f815  dd7ddc04e1b6c2c614352b383efe2d36   \n",
       "87064  a02d0123079f4ae96001ba2010d1a2df  1025f0e2d44d7041d6cf58b6550e0bfa   \n",
       "43563  086351823300e0339f6955b27998c186  33a6f4b1e7cdc205511e76ba1b6e0186   \n",
       "81815  de80c37c338574091896b7fdc81dc376  5b85809efd0d0e4dea1a9544e1280ed9   \n",
       "1384   9fe172fa8e662ca8572cf12abf8bce23  cab85505710c7cb9b720bceb52b01cee   \n",
       "\n",
       "       shipping_limit_date   price  freight_value  \n",
       "50546  2017-06-22 14:23:10   24.50           8.72  \n",
       "36188  2018-08-15 13:30:22  109.90           9.90  \n",
       "7182   2017-12-18 10:50:27  127.00          16.52  \n",
       "3931   2017-10-05 17:28:20   85.00           7.85  \n",
       "2266   2018-07-31 09:10:11  169.99          26.17  \n",
       "8832   2018-06-18 20:52:12   49.90          14.62  \n",
       "87064  2018-08-09 12:50:13  228.00          34.68  \n",
       "43563  2018-02-12 16:00:40  115.00          14.56  \n",
       "81815  2018-07-23 18:43:10  186.90          19.41  \n",
       "1384   2018-08-09 04:50:30   49.90          13.01  "
      ]
     },
     "execution_count": 18,
     "metadata": {},
     "output_type": "execute_result"
    }
   ],
   "source": [
    "df_order_items.sample(10)"
   ]
  },
  {
   "cell_type": "code",
   "execution_count": 19,
   "id": "24d48046",
   "metadata": {},
   "outputs": [
    {
     "name": "stdout",
     "output_type": "stream",
     "text": [
      "<class 'pandas.core.frame.DataFrame'>\n",
      "RangeIndex: 112650 entries, 0 to 112649\n",
      "Data columns (total 7 columns):\n",
      " #   Column               Non-Null Count   Dtype  \n",
      "---  ------               --------------   -----  \n",
      " 0   order_id             112650 non-null  object \n",
      " 1   order_item_id        112650 non-null  int64  \n",
      " 2   product_id           112650 non-null  object \n",
      " 3   seller_id            112650 non-null  object \n",
      " 4   shipping_limit_date  112650 non-null  object \n",
      " 5   price                112650 non-null  float64\n",
      " 6   freight_value        112650 non-null  float64\n",
      "dtypes: float64(2), int64(1), object(4)\n",
      "memory usage: 6.0+ MB\n"
     ]
    },
    {
     "data": {
      "application/vnd.microsoft.datawrangler.viewer.v0+json": {
       "columns": [
        {
         "name": "index",
         "rawType": "object",
         "type": "string"
        },
        {
         "name": "0",
         "rawType": "int64",
         "type": "integer"
        }
       ],
       "ref": "df8cec1f-379b-4fd9-9b5b-8cdd3cb41405",
       "rows": [
        [
         "order_id",
         "0"
        ],
        [
         "order_item_id",
         "0"
        ],
        [
         "product_id",
         "0"
        ],
        [
         "seller_id",
         "0"
        ],
        [
         "shipping_limit_date",
         "0"
        ],
        [
         "price",
         "0"
        ],
        [
         "freight_value",
         "0"
        ]
       ],
       "shape": {
        "columns": 1,
        "rows": 7
       }
      },
      "text/plain": [
       "order_id               0\n",
       "order_item_id          0\n",
       "product_id             0\n",
       "seller_id              0\n",
       "shipping_limit_date    0\n",
       "price                  0\n",
       "freight_value          0\n",
       "dtype: int64"
      ]
     },
     "execution_count": 19,
     "metadata": {},
     "output_type": "execute_result"
    }
   ],
   "source": [
    "df_order_items.info()\n",
    "df_order_items.isnull().sum()"
   ]
  },
  {
   "cell_type": "code",
   "execution_count": 20,
   "id": "8b7e7efe",
   "metadata": {},
   "outputs": [
    {
     "data": {
      "text/plain": [
       "np.int64(0)"
      ]
     },
     "execution_count": 20,
     "metadata": {},
     "output_type": "execute_result"
    }
   ],
   "source": [
    "df_order_items.duplicated().sum()"
   ]
  },
  {
   "cell_type": "code",
   "execution_count": 21,
   "id": "62fe4983",
   "metadata": {},
   "outputs": [],
   "source": [
    "df_order_items.drop(columns=['shipping_limit_date', 'freight_value'], inplace=True)"
   ]
  },
  {
   "cell_type": "markdown",
   "id": "36032ff1",
   "metadata": {},
   "source": [
    "- df_order_items doesn't have duplicate entrys and Nulls.\n",
    "- dropping columns: shipping_limit_date, freight_value"
   ]
  },
  {
   "cell_type": "markdown",
   "id": "c23d7e8d",
   "metadata": {},
   "source": [
    "### Dataframe: Order_payments"
   ]
  },
  {
   "cell_type": "code",
   "execution_count": 23,
   "id": "0cdaa677",
   "metadata": {},
   "outputs": [
    {
     "data": {
      "application/vnd.microsoft.datawrangler.viewer.v0+json": {
       "columns": [
        {
         "name": "index",
         "rawType": "int64",
         "type": "integer"
        },
        {
         "name": "order_id",
         "rawType": "object",
         "type": "string"
        },
        {
         "name": "payment_sequential",
         "rawType": "int64",
         "type": "integer"
        },
        {
         "name": "payment_type",
         "rawType": "object",
         "type": "string"
        },
        {
         "name": "payment_installments",
         "rawType": "int64",
         "type": "integer"
        },
        {
         "name": "payment_value",
         "rawType": "float64",
         "type": "float"
        }
       ],
       "ref": "873bb39f-204f-454e-b0f8-80aafb646c1b",
       "rows": [
        [
         "8640",
         "50b254ace467cbdb9e5181a487f569dd",
         "1",
         "boleto",
         "1",
         "60.1"
        ],
        [
         "77516",
         "6d500e2b59a785bd8fec15acb73d341e",
         "1",
         "credit_card",
         "3",
         "123.82"
        ],
        [
         "87771",
         "af5bd9a6ec17e248b6a9ad2c0f528acc",
         "1",
         "credit_card",
         "1",
         "95.3"
        ],
        [
         "56167",
         "6616fa4c89b8bf2a7e17271cdc542fca",
         "1",
         "boleto",
         "1",
         "106.78"
        ],
        [
         "44990",
         "10f79c7ff9fb9b8ce494bd5f0357aa8f",
         "1",
         "credit_card",
         "3",
         "65.22"
        ],
        [
         "17270",
         "43a23a9a05a87ff4d46b5b18829fe9ae",
         "1",
         "boleto",
         "1",
         "60.55"
        ],
        [
         "55598",
         "fe68b52db13993f58175fa589125d345",
         "1",
         "boleto",
         "1",
         "225.21"
        ],
        [
         "101571",
         "9366d3931a502aa67cc11909c49773af",
         "1",
         "credit_card",
         "2",
         "178.27"
        ],
        [
         "40088",
         "b511f786475cb429361d4d269c1bbef9",
         "1",
         "credit_card",
         "1",
         "35.19"
        ],
        [
         "96232",
         "ae85b9887d49eb8e4e35cea1435a52d8",
         "1",
         "credit_card",
         "8",
         "381.86"
        ]
       ],
       "shape": {
        "columns": 5,
        "rows": 10
       }
      },
      "text/html": [
       "<div>\n",
       "<style scoped>\n",
       "    .dataframe tbody tr th:only-of-type {\n",
       "        vertical-align: middle;\n",
       "    }\n",
       "\n",
       "    .dataframe tbody tr th {\n",
       "        vertical-align: top;\n",
       "    }\n",
       "\n",
       "    .dataframe thead th {\n",
       "        text-align: right;\n",
       "    }\n",
       "</style>\n",
       "<table border=\"1\" class=\"dataframe\">\n",
       "  <thead>\n",
       "    <tr style=\"text-align: right;\">\n",
       "      <th></th>\n",
       "      <th>order_id</th>\n",
       "      <th>payment_sequential</th>\n",
       "      <th>payment_type</th>\n",
       "      <th>payment_installments</th>\n",
       "      <th>payment_value</th>\n",
       "    </tr>\n",
       "  </thead>\n",
       "  <tbody>\n",
       "    <tr>\n",
       "      <th>8640</th>\n",
       "      <td>50b254ace467cbdb9e5181a487f569dd</td>\n",
       "      <td>1</td>\n",
       "      <td>boleto</td>\n",
       "      <td>1</td>\n",
       "      <td>60.10</td>\n",
       "    </tr>\n",
       "    <tr>\n",
       "      <th>77516</th>\n",
       "      <td>6d500e2b59a785bd8fec15acb73d341e</td>\n",
       "      <td>1</td>\n",
       "      <td>credit_card</td>\n",
       "      <td>3</td>\n",
       "      <td>123.82</td>\n",
       "    </tr>\n",
       "    <tr>\n",
       "      <th>87771</th>\n",
       "      <td>af5bd9a6ec17e248b6a9ad2c0f528acc</td>\n",
       "      <td>1</td>\n",
       "      <td>credit_card</td>\n",
       "      <td>1</td>\n",
       "      <td>95.30</td>\n",
       "    </tr>\n",
       "    <tr>\n",
       "      <th>56167</th>\n",
       "      <td>6616fa4c89b8bf2a7e17271cdc542fca</td>\n",
       "      <td>1</td>\n",
       "      <td>boleto</td>\n",
       "      <td>1</td>\n",
       "      <td>106.78</td>\n",
       "    </tr>\n",
       "    <tr>\n",
       "      <th>44990</th>\n",
       "      <td>10f79c7ff9fb9b8ce494bd5f0357aa8f</td>\n",
       "      <td>1</td>\n",
       "      <td>credit_card</td>\n",
       "      <td>3</td>\n",
       "      <td>65.22</td>\n",
       "    </tr>\n",
       "    <tr>\n",
       "      <th>17270</th>\n",
       "      <td>43a23a9a05a87ff4d46b5b18829fe9ae</td>\n",
       "      <td>1</td>\n",
       "      <td>boleto</td>\n",
       "      <td>1</td>\n",
       "      <td>60.55</td>\n",
       "    </tr>\n",
       "    <tr>\n",
       "      <th>55598</th>\n",
       "      <td>fe68b52db13993f58175fa589125d345</td>\n",
       "      <td>1</td>\n",
       "      <td>boleto</td>\n",
       "      <td>1</td>\n",
       "      <td>225.21</td>\n",
       "    </tr>\n",
       "    <tr>\n",
       "      <th>101571</th>\n",
       "      <td>9366d3931a502aa67cc11909c49773af</td>\n",
       "      <td>1</td>\n",
       "      <td>credit_card</td>\n",
       "      <td>2</td>\n",
       "      <td>178.27</td>\n",
       "    </tr>\n",
       "    <tr>\n",
       "      <th>40088</th>\n",
       "      <td>b511f786475cb429361d4d269c1bbef9</td>\n",
       "      <td>1</td>\n",
       "      <td>credit_card</td>\n",
       "      <td>1</td>\n",
       "      <td>35.19</td>\n",
       "    </tr>\n",
       "    <tr>\n",
       "      <th>96232</th>\n",
       "      <td>ae85b9887d49eb8e4e35cea1435a52d8</td>\n",
       "      <td>1</td>\n",
       "      <td>credit_card</td>\n",
       "      <td>8</td>\n",
       "      <td>381.86</td>\n",
       "    </tr>\n",
       "  </tbody>\n",
       "</table>\n",
       "</div>"
      ],
      "text/plain": [
       "                                order_id  payment_sequential payment_type  \\\n",
       "8640    50b254ace467cbdb9e5181a487f569dd                   1       boleto   \n",
       "77516   6d500e2b59a785bd8fec15acb73d341e                   1  credit_card   \n",
       "87771   af5bd9a6ec17e248b6a9ad2c0f528acc                   1  credit_card   \n",
       "56167   6616fa4c89b8bf2a7e17271cdc542fca                   1       boleto   \n",
       "44990   10f79c7ff9fb9b8ce494bd5f0357aa8f                   1  credit_card   \n",
       "17270   43a23a9a05a87ff4d46b5b18829fe9ae                   1       boleto   \n",
       "55598   fe68b52db13993f58175fa589125d345                   1       boleto   \n",
       "101571  9366d3931a502aa67cc11909c49773af                   1  credit_card   \n",
       "40088   b511f786475cb429361d4d269c1bbef9                   1  credit_card   \n",
       "96232   ae85b9887d49eb8e4e35cea1435a52d8                   1  credit_card   \n",
       "\n",
       "        payment_installments  payment_value  \n",
       "8640                       1          60.10  \n",
       "77516                      3         123.82  \n",
       "87771                      1          95.30  \n",
       "56167                      1         106.78  \n",
       "44990                      3          65.22  \n",
       "17270                      1          60.55  \n",
       "55598                      1         225.21  \n",
       "101571                     2         178.27  \n",
       "40088                      1          35.19  \n",
       "96232                      8         381.86  "
      ]
     },
     "execution_count": 23,
     "metadata": {},
     "output_type": "execute_result"
    }
   ],
   "source": [
    "df_order_payments.sample(10)"
   ]
  },
  {
   "cell_type": "code",
   "execution_count": 24,
   "id": "b5c43557",
   "metadata": {},
   "outputs": [
    {
     "name": "stdout",
     "output_type": "stream",
     "text": [
      "<class 'pandas.core.frame.DataFrame'>\n",
      "RangeIndex: 103886 entries, 0 to 103885\n",
      "Data columns (total 5 columns):\n",
      " #   Column                Non-Null Count   Dtype  \n",
      "---  ------                --------------   -----  \n",
      " 0   order_id              103886 non-null  object \n",
      " 1   payment_sequential    103886 non-null  int64  \n",
      " 2   payment_type          103886 non-null  object \n",
      " 3   payment_installments  103886 non-null  int64  \n",
      " 4   payment_value         103886 non-null  float64\n",
      "dtypes: float64(1), int64(2), object(2)\n",
      "memory usage: 4.0+ MB\n"
     ]
    },
    {
     "data": {
      "application/vnd.microsoft.datawrangler.viewer.v0+json": {
       "columns": [
        {
         "name": "index",
         "rawType": "object",
         "type": "string"
        },
        {
         "name": "0",
         "rawType": "int64",
         "type": "integer"
        }
       ],
       "ref": "f1cf7aa3-8fde-4ad3-8ac2-a1235faf0f3f",
       "rows": [
        [
         "order_id",
         "0"
        ],
        [
         "payment_sequential",
         "0"
        ],
        [
         "payment_type",
         "0"
        ],
        [
         "payment_installments",
         "0"
        ],
        [
         "payment_value",
         "0"
        ]
       ],
       "shape": {
        "columns": 1,
        "rows": 5
       }
      },
      "text/plain": [
       "order_id                0\n",
       "payment_sequential      0\n",
       "payment_type            0\n",
       "payment_installments    0\n",
       "payment_value           0\n",
       "dtype: int64"
      ]
     },
     "execution_count": 24,
     "metadata": {},
     "output_type": "execute_result"
    }
   ],
   "source": [
    "df_order_payments.info()\n",
    "df_order_payments.isnull().sum()"
   ]
  },
  {
   "cell_type": "code",
   "execution_count": 25,
   "id": "d6bf6449",
   "metadata": {},
   "outputs": [
    {
     "data": {
      "text/plain": [
       "np.int64(0)"
      ]
     },
     "execution_count": 25,
     "metadata": {},
     "output_type": "execute_result"
    }
   ],
   "source": [
    "df_order_payments.duplicated().sum()"
   ]
  },
  {
   "cell_type": "code",
   "execution_count": 26,
   "id": "9bc148f5",
   "metadata": {},
   "outputs": [],
   "source": [
    "df_order_payments.drop(columns=['payment_sequential','payment_installments','payment_type'], inplace=True)"
   ]
  },
  {
   "cell_type": "markdown",
   "id": "d8d9a782",
   "metadata": {},
   "source": [
    "- df_order_payments doesn't have duplicate entrys and Nulls.\n",
    "- dropping columns: payment_sequential, payment_type, payment_installments"
   ]
  },
  {
   "cell_type": "markdown",
   "id": "d0a0f4ec",
   "metadata": {},
   "source": [
    "### Dataframe: Orders"
   ]
  },
  {
   "cell_type": "code",
   "execution_count": 28,
   "id": "820a824e",
   "metadata": {},
   "outputs": [
    {
     "data": {
      "application/vnd.microsoft.datawrangler.viewer.v0+json": {
       "columns": [
        {
         "name": "index",
         "rawType": "int64",
         "type": "integer"
        },
        {
         "name": "order_id",
         "rawType": "object",
         "type": "string"
        },
        {
         "name": "customer_id",
         "rawType": "object",
         "type": "string"
        },
        {
         "name": "order_status",
         "rawType": "object",
         "type": "string"
        },
        {
         "name": "order_purchase_timestamp",
         "rawType": "object",
         "type": "string"
        },
        {
         "name": "order_approved_at",
         "rawType": "object",
         "type": "string"
        },
        {
         "name": "order_delivered_carrier_date",
         "rawType": "object",
         "type": "string"
        },
        {
         "name": "order_delivered_customer_date",
         "rawType": "object",
         "type": "string"
        },
        {
         "name": "order_estimated_delivery_date",
         "rawType": "object",
         "type": "string"
        }
       ],
       "ref": "4cc89d76-e8a1-4bc6-825a-3929e540f48d",
       "rows": [
        [
         "73964",
         "e4be5aacc6848e44f045dfeb0e005447",
         "547fdf3f3b5ff52d847e7dc145b31766",
         "delivered",
         "2018-02-19 19:02:56",
         "2018-02-21 07:15:09",
         "2018-02-23 23:09:52",
         "2018-03-05 21:07:52",
         "2018-03-12 00:00:00"
        ],
        [
         "79212",
         "b73c36e570877e647fc56872cfbb3fa6",
         "183df1decda4a848844388d117f8605c",
         "delivered",
         "2018-04-19 10:05:04",
         "2018-04-19 10:34:22",
         "2018-04-20 20:26:37",
         "2018-04-23 18:32:59",
         "2018-05-07 00:00:00"
        ],
        [
         "22380",
         "f7614e634874a2b92d65dda076f0bab5",
         "2067794c960bc6a1705e94651086144d",
         "delivered",
         "2018-04-09 15:04:30",
         "2018-04-09 15:30:24",
         "2018-04-10 18:20:42",
         "2018-04-19 00:52:42",
         "2018-04-25 00:00:00"
        ],
        [
         "96254",
         "7c9454e9734bcf938b5b50af50269688",
         "0c95ec410545d4fde2108fc69a4391cc",
         "delivered",
         "2018-04-22 11:49:37",
         "2018-04-24 19:07:31",
         "2018-04-24 23:41:23",
         "2018-04-25 15:48:36",
         "2018-05-08 00:00:00"
        ],
        [
         "74158",
         "8712b255e65bd40b073d43478f7d24d1",
         "81f8204c7b60cd52de8b41af67772d4b",
         "delivered",
         "2018-08-20 19:29:57",
         "2018-08-21 09:35:16",
         "2018-08-21 14:32:00",
         "2018-08-22 22:22:21",
         "2018-08-23 00:00:00"
        ],
        [
         "21575",
         "500c038a3212b71500554116cf87552e",
         "4f1bbce28fa7e3c6ba327eb99bea5b62",
         "delivered",
         "2017-11-29 18:09:50",
         "2017-11-29 18:37:20",
         "2017-12-01 17:27:43",
         "2017-12-19 21:16:59",
         "2017-12-27 00:00:00"
        ],
        [
         "16497",
         "82f4132e89e21a9294ff6bee8e6a9a3a",
         "3dbac935fb077003b3cd7b6e9ae9ecb7",
         "delivered",
         "2017-04-01 11:23:53",
         "2017-04-04 05:45:13",
         "2017-04-04 13:14:38",
         "2017-05-07 10:27:33",
         "2017-05-12 00:00:00"
        ],
        [
         "81744",
         "afc0208aeafed672198f15d508bb0760",
         "9f65cd05b72a07d989c5d1761c5cd9ca",
         "delivered",
         "2018-02-21 13:36:46",
         "2018-02-21 13:51:10",
         "2018-02-22 23:03:40",
         "2018-03-08 14:22:51",
         "2018-03-19 00:00:00"
        ],
        [
         "50510",
         "a3ee95a310b51d1715ed8c16b7cd3ffe",
         "67b0294ba64d7074b39bab09cb5a289f",
         "delivered",
         "2018-01-14 09:39:51",
         "2018-01-16 14:11:45",
         "2018-01-17 15:38:43",
         "2018-01-30 22:04:49",
         "2018-02-16 00:00:00"
        ],
        [
         "97288",
         "96b313e094ee31cef7c8a4ffd3b36395",
         "6b6dfbbc6ce8a28d6551efb5b39f74b4",
         "delivered",
         "2017-06-09 14:31:39",
         "2017-06-09 14:42:22",
         "2017-06-13 14:28:15",
         "2017-06-22 16:42:45",
         "2017-07-10 00:00:00"
        ]
       ],
       "shape": {
        "columns": 8,
        "rows": 10
       }
      },
      "text/html": [
       "<div>\n",
       "<style scoped>\n",
       "    .dataframe tbody tr th:only-of-type {\n",
       "        vertical-align: middle;\n",
       "    }\n",
       "\n",
       "    .dataframe tbody tr th {\n",
       "        vertical-align: top;\n",
       "    }\n",
       "\n",
       "    .dataframe thead th {\n",
       "        text-align: right;\n",
       "    }\n",
       "</style>\n",
       "<table border=\"1\" class=\"dataframe\">\n",
       "  <thead>\n",
       "    <tr style=\"text-align: right;\">\n",
       "      <th></th>\n",
       "      <th>order_id</th>\n",
       "      <th>customer_id</th>\n",
       "      <th>order_status</th>\n",
       "      <th>order_purchase_timestamp</th>\n",
       "      <th>order_approved_at</th>\n",
       "      <th>order_delivered_carrier_date</th>\n",
       "      <th>order_delivered_customer_date</th>\n",
       "      <th>order_estimated_delivery_date</th>\n",
       "    </tr>\n",
       "  </thead>\n",
       "  <tbody>\n",
       "    <tr>\n",
       "      <th>73964</th>\n",
       "      <td>e4be5aacc6848e44f045dfeb0e005447</td>\n",
       "      <td>547fdf3f3b5ff52d847e7dc145b31766</td>\n",
       "      <td>delivered</td>\n",
       "      <td>2018-02-19 19:02:56</td>\n",
       "      <td>2018-02-21 07:15:09</td>\n",
       "      <td>2018-02-23 23:09:52</td>\n",
       "      <td>2018-03-05 21:07:52</td>\n",
       "      <td>2018-03-12 00:00:00</td>\n",
       "    </tr>\n",
       "    <tr>\n",
       "      <th>79212</th>\n",
       "      <td>b73c36e570877e647fc56872cfbb3fa6</td>\n",
       "      <td>183df1decda4a848844388d117f8605c</td>\n",
       "      <td>delivered</td>\n",
       "      <td>2018-04-19 10:05:04</td>\n",
       "      <td>2018-04-19 10:34:22</td>\n",
       "      <td>2018-04-20 20:26:37</td>\n",
       "      <td>2018-04-23 18:32:59</td>\n",
       "      <td>2018-05-07 00:00:00</td>\n",
       "    </tr>\n",
       "    <tr>\n",
       "      <th>22380</th>\n",
       "      <td>f7614e634874a2b92d65dda076f0bab5</td>\n",
       "      <td>2067794c960bc6a1705e94651086144d</td>\n",
       "      <td>delivered</td>\n",
       "      <td>2018-04-09 15:04:30</td>\n",
       "      <td>2018-04-09 15:30:24</td>\n",
       "      <td>2018-04-10 18:20:42</td>\n",
       "      <td>2018-04-19 00:52:42</td>\n",
       "      <td>2018-04-25 00:00:00</td>\n",
       "    </tr>\n",
       "    <tr>\n",
       "      <th>96254</th>\n",
       "      <td>7c9454e9734bcf938b5b50af50269688</td>\n",
       "      <td>0c95ec410545d4fde2108fc69a4391cc</td>\n",
       "      <td>delivered</td>\n",
       "      <td>2018-04-22 11:49:37</td>\n",
       "      <td>2018-04-24 19:07:31</td>\n",
       "      <td>2018-04-24 23:41:23</td>\n",
       "      <td>2018-04-25 15:48:36</td>\n",
       "      <td>2018-05-08 00:00:00</td>\n",
       "    </tr>\n",
       "    <tr>\n",
       "      <th>74158</th>\n",
       "      <td>8712b255e65bd40b073d43478f7d24d1</td>\n",
       "      <td>81f8204c7b60cd52de8b41af67772d4b</td>\n",
       "      <td>delivered</td>\n",
       "      <td>2018-08-20 19:29:57</td>\n",
       "      <td>2018-08-21 09:35:16</td>\n",
       "      <td>2018-08-21 14:32:00</td>\n",
       "      <td>2018-08-22 22:22:21</td>\n",
       "      <td>2018-08-23 00:00:00</td>\n",
       "    </tr>\n",
       "    <tr>\n",
       "      <th>21575</th>\n",
       "      <td>500c038a3212b71500554116cf87552e</td>\n",
       "      <td>4f1bbce28fa7e3c6ba327eb99bea5b62</td>\n",
       "      <td>delivered</td>\n",
       "      <td>2017-11-29 18:09:50</td>\n",
       "      <td>2017-11-29 18:37:20</td>\n",
       "      <td>2017-12-01 17:27:43</td>\n",
       "      <td>2017-12-19 21:16:59</td>\n",
       "      <td>2017-12-27 00:00:00</td>\n",
       "    </tr>\n",
       "    <tr>\n",
       "      <th>16497</th>\n",
       "      <td>82f4132e89e21a9294ff6bee8e6a9a3a</td>\n",
       "      <td>3dbac935fb077003b3cd7b6e9ae9ecb7</td>\n",
       "      <td>delivered</td>\n",
       "      <td>2017-04-01 11:23:53</td>\n",
       "      <td>2017-04-04 05:45:13</td>\n",
       "      <td>2017-04-04 13:14:38</td>\n",
       "      <td>2017-05-07 10:27:33</td>\n",
       "      <td>2017-05-12 00:00:00</td>\n",
       "    </tr>\n",
       "    <tr>\n",
       "      <th>81744</th>\n",
       "      <td>afc0208aeafed672198f15d508bb0760</td>\n",
       "      <td>9f65cd05b72a07d989c5d1761c5cd9ca</td>\n",
       "      <td>delivered</td>\n",
       "      <td>2018-02-21 13:36:46</td>\n",
       "      <td>2018-02-21 13:51:10</td>\n",
       "      <td>2018-02-22 23:03:40</td>\n",
       "      <td>2018-03-08 14:22:51</td>\n",
       "      <td>2018-03-19 00:00:00</td>\n",
       "    </tr>\n",
       "    <tr>\n",
       "      <th>50510</th>\n",
       "      <td>a3ee95a310b51d1715ed8c16b7cd3ffe</td>\n",
       "      <td>67b0294ba64d7074b39bab09cb5a289f</td>\n",
       "      <td>delivered</td>\n",
       "      <td>2018-01-14 09:39:51</td>\n",
       "      <td>2018-01-16 14:11:45</td>\n",
       "      <td>2018-01-17 15:38:43</td>\n",
       "      <td>2018-01-30 22:04:49</td>\n",
       "      <td>2018-02-16 00:00:00</td>\n",
       "    </tr>\n",
       "    <tr>\n",
       "      <th>97288</th>\n",
       "      <td>96b313e094ee31cef7c8a4ffd3b36395</td>\n",
       "      <td>6b6dfbbc6ce8a28d6551efb5b39f74b4</td>\n",
       "      <td>delivered</td>\n",
       "      <td>2017-06-09 14:31:39</td>\n",
       "      <td>2017-06-09 14:42:22</td>\n",
       "      <td>2017-06-13 14:28:15</td>\n",
       "      <td>2017-06-22 16:42:45</td>\n",
       "      <td>2017-07-10 00:00:00</td>\n",
       "    </tr>\n",
       "  </tbody>\n",
       "</table>\n",
       "</div>"
      ],
      "text/plain": [
       "                               order_id                       customer_id  \\\n",
       "73964  e4be5aacc6848e44f045dfeb0e005447  547fdf3f3b5ff52d847e7dc145b31766   \n",
       "79212  b73c36e570877e647fc56872cfbb3fa6  183df1decda4a848844388d117f8605c   \n",
       "22380  f7614e634874a2b92d65dda076f0bab5  2067794c960bc6a1705e94651086144d   \n",
       "96254  7c9454e9734bcf938b5b50af50269688  0c95ec410545d4fde2108fc69a4391cc   \n",
       "74158  8712b255e65bd40b073d43478f7d24d1  81f8204c7b60cd52de8b41af67772d4b   \n",
       "21575  500c038a3212b71500554116cf87552e  4f1bbce28fa7e3c6ba327eb99bea5b62   \n",
       "16497  82f4132e89e21a9294ff6bee8e6a9a3a  3dbac935fb077003b3cd7b6e9ae9ecb7   \n",
       "81744  afc0208aeafed672198f15d508bb0760  9f65cd05b72a07d989c5d1761c5cd9ca   \n",
       "50510  a3ee95a310b51d1715ed8c16b7cd3ffe  67b0294ba64d7074b39bab09cb5a289f   \n",
       "97288  96b313e094ee31cef7c8a4ffd3b36395  6b6dfbbc6ce8a28d6551efb5b39f74b4   \n",
       "\n",
       "      order_status order_purchase_timestamp    order_approved_at  \\\n",
       "73964    delivered      2018-02-19 19:02:56  2018-02-21 07:15:09   \n",
       "79212    delivered      2018-04-19 10:05:04  2018-04-19 10:34:22   \n",
       "22380    delivered      2018-04-09 15:04:30  2018-04-09 15:30:24   \n",
       "96254    delivered      2018-04-22 11:49:37  2018-04-24 19:07:31   \n",
       "74158    delivered      2018-08-20 19:29:57  2018-08-21 09:35:16   \n",
       "21575    delivered      2017-11-29 18:09:50  2017-11-29 18:37:20   \n",
       "16497    delivered      2017-04-01 11:23:53  2017-04-04 05:45:13   \n",
       "81744    delivered      2018-02-21 13:36:46  2018-02-21 13:51:10   \n",
       "50510    delivered      2018-01-14 09:39:51  2018-01-16 14:11:45   \n",
       "97288    delivered      2017-06-09 14:31:39  2017-06-09 14:42:22   \n",
       "\n",
       "      order_delivered_carrier_date order_delivered_customer_date  \\\n",
       "73964          2018-02-23 23:09:52           2018-03-05 21:07:52   \n",
       "79212          2018-04-20 20:26:37           2018-04-23 18:32:59   \n",
       "22380          2018-04-10 18:20:42           2018-04-19 00:52:42   \n",
       "96254          2018-04-24 23:41:23           2018-04-25 15:48:36   \n",
       "74158          2018-08-21 14:32:00           2018-08-22 22:22:21   \n",
       "21575          2017-12-01 17:27:43           2017-12-19 21:16:59   \n",
       "16497          2017-04-04 13:14:38           2017-05-07 10:27:33   \n",
       "81744          2018-02-22 23:03:40           2018-03-08 14:22:51   \n",
       "50510          2018-01-17 15:38:43           2018-01-30 22:04:49   \n",
       "97288          2017-06-13 14:28:15           2017-06-22 16:42:45   \n",
       "\n",
       "      order_estimated_delivery_date  \n",
       "73964           2018-03-12 00:00:00  \n",
       "79212           2018-05-07 00:00:00  \n",
       "22380           2018-04-25 00:00:00  \n",
       "96254           2018-05-08 00:00:00  \n",
       "74158           2018-08-23 00:00:00  \n",
       "21575           2017-12-27 00:00:00  \n",
       "16497           2017-05-12 00:00:00  \n",
       "81744           2018-03-19 00:00:00  \n",
       "50510           2018-02-16 00:00:00  \n",
       "97288           2017-07-10 00:00:00  "
      ]
     },
     "execution_count": 28,
     "metadata": {},
     "output_type": "execute_result"
    }
   ],
   "source": [
    "df_orders.sample(10)"
   ]
  },
  {
   "cell_type": "code",
   "execution_count": 29,
   "id": "38f85b99",
   "metadata": {},
   "outputs": [
    {
     "name": "stdout",
     "output_type": "stream",
     "text": [
      "<class 'pandas.core.frame.DataFrame'>\n",
      "RangeIndex: 99441 entries, 0 to 99440\n",
      "Data columns (total 8 columns):\n",
      " #   Column                         Non-Null Count  Dtype \n",
      "---  ------                         --------------  ----- \n",
      " 0   order_id                       99441 non-null  object\n",
      " 1   customer_id                    99441 non-null  object\n",
      " 2   order_status                   99441 non-null  object\n",
      " 3   order_purchase_timestamp       99441 non-null  object\n",
      " 4   order_approved_at              99281 non-null  object\n",
      " 5   order_delivered_carrier_date   97658 non-null  object\n",
      " 6   order_delivered_customer_date  96476 non-null  object\n",
      " 7   order_estimated_delivery_date  99441 non-null  object\n",
      "dtypes: object(8)\n",
      "memory usage: 6.1+ MB\n"
     ]
    },
    {
     "data": {
      "application/vnd.microsoft.datawrangler.viewer.v0+json": {
       "columns": [
        {
         "name": "index",
         "rawType": "object",
         "type": "string"
        },
        {
         "name": "0",
         "rawType": "int64",
         "type": "integer"
        }
       ],
       "ref": "468f512d-794f-4574-b6c1-7821a6cc74fe",
       "rows": [
        [
         "order_id",
         "0"
        ],
        [
         "customer_id",
         "0"
        ],
        [
         "order_status",
         "0"
        ],
        [
         "order_purchase_timestamp",
         "0"
        ],
        [
         "order_approved_at",
         "160"
        ],
        [
         "order_delivered_carrier_date",
         "1783"
        ],
        [
         "order_delivered_customer_date",
         "2965"
        ],
        [
         "order_estimated_delivery_date",
         "0"
        ]
       ],
       "shape": {
        "columns": 1,
        "rows": 8
       }
      },
      "text/plain": [
       "order_id                            0\n",
       "customer_id                         0\n",
       "order_status                        0\n",
       "order_purchase_timestamp            0\n",
       "order_approved_at                 160\n",
       "order_delivered_carrier_date     1783\n",
       "order_delivered_customer_date    2965\n",
       "order_estimated_delivery_date       0\n",
       "dtype: int64"
      ]
     },
     "execution_count": 29,
     "metadata": {},
     "output_type": "execute_result"
    }
   ],
   "source": [
    "df_orders.info()\n",
    "df_orders.isnull().sum()"
   ]
  },
  {
   "cell_type": "code",
   "execution_count": 30,
   "id": "a9ab50e8",
   "metadata": {},
   "outputs": [
    {
     "data": {
      "text/plain": [
       "np.int64(0)"
      ]
     },
     "execution_count": 30,
     "metadata": {},
     "output_type": "execute_result"
    }
   ],
   "source": [
    "df_orders.duplicated().sum()"
   ]
  },
  {
   "cell_type": "code",
   "execution_count": 31,
   "id": "bbd1660d",
   "metadata": {},
   "outputs": [],
   "source": [
    "df_orders.drop(columns=['order_approved_at','order_delivered_carrier_date','order_delivered_customer_date','order_estimated_delivery_date'], inplace=True)"
   ]
  },
  {
   "cell_type": "markdown",
   "id": "ddcdf9de",
   "metadata": {},
   "source": [
    "- df_order_payments doesn't have duplicate entrys and Nulls on relevant columns.\n",
    "- dropping columns: order_approved_at, order_delivered_carrier_date, order_delivered_customer_date, order_estimated_delivery_date"
   ]
  },
  {
   "cell_type": "markdown",
   "id": "46ae326f",
   "metadata": {},
   "source": [
    "### Dataframe: Products"
   ]
  },
  {
   "cell_type": "code",
   "execution_count": 33,
   "id": "97240df8",
   "metadata": {},
   "outputs": [
    {
     "data": {
      "application/vnd.microsoft.datawrangler.viewer.v0+json": {
       "columns": [
        {
         "name": "index",
         "rawType": "int64",
         "type": "integer"
        },
        {
         "name": "product_id",
         "rawType": "object",
         "type": "string"
        },
        {
         "name": "product_category_name",
         "rawType": "object",
         "type": "string"
        },
        {
         "name": "product_name_lenght",
         "rawType": "float64",
         "type": "float"
        },
        {
         "name": "product_description_lenght",
         "rawType": "float64",
         "type": "float"
        },
        {
         "name": "product_photos_qty",
         "rawType": "float64",
         "type": "float"
        },
        {
         "name": "product_weight_g",
         "rawType": "float64",
         "type": "float"
        },
        {
         "name": "product_length_cm",
         "rawType": "float64",
         "type": "float"
        },
        {
         "name": "product_height_cm",
         "rawType": "float64",
         "type": "float"
        },
        {
         "name": "product_width_cm",
         "rawType": "float64",
         "type": "float"
        }
       ],
       "ref": "e6892ea7-aa22-4963-8a6e-d582d83cbb94",
       "rows": [
        [
         "26763",
         "bd336707deb508edc61ee62f22706cc4",
         "papelaria",
         "58.0",
         "179.0",
         "2.0",
         "345.0",
         "41.0",
         "3.0",
         "33.0"
        ],
        [
         "13191",
         "f67ad6b3366ae186b8d29087e6d5ebd0",
         "automotivo",
         "55.0",
         "998.0",
         "2.0",
         "100.0",
         "17.0",
         "4.0",
         "17.0"
        ],
        [
         "11151",
         "8448ca0891d431bffa57301b7dd2ad04",
         "relogios_presentes",
         "47.0",
         "760.0",
         "2.0",
         "300.0",
         "16.0",
         "13.0",
         "13.0"
        ],
        [
         "29796",
         "6fba9843ddfdebe33d2625afc8001eb7",
         "esporte_lazer",
         "36.0",
         "258.0",
         "2.0",
         "800.0",
         "28.0",
         "6.0",
         "26.0"
        ],
        [
         "29591",
         "0b0c04563408d8d1187cdbd6292a89fa",
         "fashion_bolsas_e_acessorios",
         "34.0",
         "222.0",
         "2.0",
         "3400.0",
         "20.0",
         "50.0",
         "40.0"
        ],
        [
         "16192",
         "28f61ad35fb219e9debd750a73b63985",
         "informatica_acessorios",
         "55.0",
         "191.0",
         "2.0",
         "100.0",
         "40.0",
         "2.0",
         "24.0"
        ],
        [
         "2440",
         "1ebd1450a2b8d51ffda696956426024a",
         "cama_mesa_banho",
         "45.0",
         "102.0",
         "1.0",
         "300.0",
         "26.0",
         "3.0",
         "21.0"
        ],
        [
         "14151",
         "83f92096793dec6fa40579e63590c90e",
         "papelaria",
         "42.0",
         "106.0",
         "2.0",
         "300.0",
         "24.0",
         "7.0",
         "14.0"
        ],
        [
         "29288",
         "97df437aeb3472b9d42b4c2e9a9d88f6",
         "brinquedos",
         "17.0",
         "890.0",
         "1.0",
         "2600.0",
         "35.0",
         "25.0",
         "35.0"
        ],
        [
         "21860",
         "aa864f45a26bbc494d37ae12b0065222",
         "automotivo",
         "58.0",
         "955.0",
         "4.0",
         "50.0",
         "16.0",
         "7.0",
         "11.0"
        ]
       ],
       "shape": {
        "columns": 9,
        "rows": 10
       }
      },
      "text/html": [
       "<div>\n",
       "<style scoped>\n",
       "    .dataframe tbody tr th:only-of-type {\n",
       "        vertical-align: middle;\n",
       "    }\n",
       "\n",
       "    .dataframe tbody tr th {\n",
       "        vertical-align: top;\n",
       "    }\n",
       "\n",
       "    .dataframe thead th {\n",
       "        text-align: right;\n",
       "    }\n",
       "</style>\n",
       "<table border=\"1\" class=\"dataframe\">\n",
       "  <thead>\n",
       "    <tr style=\"text-align: right;\">\n",
       "      <th></th>\n",
       "      <th>product_id</th>\n",
       "      <th>product_category_name</th>\n",
       "      <th>product_name_lenght</th>\n",
       "      <th>product_description_lenght</th>\n",
       "      <th>product_photos_qty</th>\n",
       "      <th>product_weight_g</th>\n",
       "      <th>product_length_cm</th>\n",
       "      <th>product_height_cm</th>\n",
       "      <th>product_width_cm</th>\n",
       "    </tr>\n",
       "  </thead>\n",
       "  <tbody>\n",
       "    <tr>\n",
       "      <th>26763</th>\n",
       "      <td>bd336707deb508edc61ee62f22706cc4</td>\n",
       "      <td>papelaria</td>\n",
       "      <td>58.0</td>\n",
       "      <td>179.0</td>\n",
       "      <td>2.0</td>\n",
       "      <td>345.0</td>\n",
       "      <td>41.0</td>\n",
       "      <td>3.0</td>\n",
       "      <td>33.0</td>\n",
       "    </tr>\n",
       "    <tr>\n",
       "      <th>13191</th>\n",
       "      <td>f67ad6b3366ae186b8d29087e6d5ebd0</td>\n",
       "      <td>automotivo</td>\n",
       "      <td>55.0</td>\n",
       "      <td>998.0</td>\n",
       "      <td>2.0</td>\n",
       "      <td>100.0</td>\n",
       "      <td>17.0</td>\n",
       "      <td>4.0</td>\n",
       "      <td>17.0</td>\n",
       "    </tr>\n",
       "    <tr>\n",
       "      <th>11151</th>\n",
       "      <td>8448ca0891d431bffa57301b7dd2ad04</td>\n",
       "      <td>relogios_presentes</td>\n",
       "      <td>47.0</td>\n",
       "      <td>760.0</td>\n",
       "      <td>2.0</td>\n",
       "      <td>300.0</td>\n",
       "      <td>16.0</td>\n",
       "      <td>13.0</td>\n",
       "      <td>13.0</td>\n",
       "    </tr>\n",
       "    <tr>\n",
       "      <th>29796</th>\n",
       "      <td>6fba9843ddfdebe33d2625afc8001eb7</td>\n",
       "      <td>esporte_lazer</td>\n",
       "      <td>36.0</td>\n",
       "      <td>258.0</td>\n",
       "      <td>2.0</td>\n",
       "      <td>800.0</td>\n",
       "      <td>28.0</td>\n",
       "      <td>6.0</td>\n",
       "      <td>26.0</td>\n",
       "    </tr>\n",
       "    <tr>\n",
       "      <th>29591</th>\n",
       "      <td>0b0c04563408d8d1187cdbd6292a89fa</td>\n",
       "      <td>fashion_bolsas_e_acessorios</td>\n",
       "      <td>34.0</td>\n",
       "      <td>222.0</td>\n",
       "      <td>2.0</td>\n",
       "      <td>3400.0</td>\n",
       "      <td>20.0</td>\n",
       "      <td>50.0</td>\n",
       "      <td>40.0</td>\n",
       "    </tr>\n",
       "    <tr>\n",
       "      <th>16192</th>\n",
       "      <td>28f61ad35fb219e9debd750a73b63985</td>\n",
       "      <td>informatica_acessorios</td>\n",
       "      <td>55.0</td>\n",
       "      <td>191.0</td>\n",
       "      <td>2.0</td>\n",
       "      <td>100.0</td>\n",
       "      <td>40.0</td>\n",
       "      <td>2.0</td>\n",
       "      <td>24.0</td>\n",
       "    </tr>\n",
       "    <tr>\n",
       "      <th>2440</th>\n",
       "      <td>1ebd1450a2b8d51ffda696956426024a</td>\n",
       "      <td>cama_mesa_banho</td>\n",
       "      <td>45.0</td>\n",
       "      <td>102.0</td>\n",
       "      <td>1.0</td>\n",
       "      <td>300.0</td>\n",
       "      <td>26.0</td>\n",
       "      <td>3.0</td>\n",
       "      <td>21.0</td>\n",
       "    </tr>\n",
       "    <tr>\n",
       "      <th>14151</th>\n",
       "      <td>83f92096793dec6fa40579e63590c90e</td>\n",
       "      <td>papelaria</td>\n",
       "      <td>42.0</td>\n",
       "      <td>106.0</td>\n",
       "      <td>2.0</td>\n",
       "      <td>300.0</td>\n",
       "      <td>24.0</td>\n",
       "      <td>7.0</td>\n",
       "      <td>14.0</td>\n",
       "    </tr>\n",
       "    <tr>\n",
       "      <th>29288</th>\n",
       "      <td>97df437aeb3472b9d42b4c2e9a9d88f6</td>\n",
       "      <td>brinquedos</td>\n",
       "      <td>17.0</td>\n",
       "      <td>890.0</td>\n",
       "      <td>1.0</td>\n",
       "      <td>2600.0</td>\n",
       "      <td>35.0</td>\n",
       "      <td>25.0</td>\n",
       "      <td>35.0</td>\n",
       "    </tr>\n",
       "    <tr>\n",
       "      <th>21860</th>\n",
       "      <td>aa864f45a26bbc494d37ae12b0065222</td>\n",
       "      <td>automotivo</td>\n",
       "      <td>58.0</td>\n",
       "      <td>955.0</td>\n",
       "      <td>4.0</td>\n",
       "      <td>50.0</td>\n",
       "      <td>16.0</td>\n",
       "      <td>7.0</td>\n",
       "      <td>11.0</td>\n",
       "    </tr>\n",
       "  </tbody>\n",
       "</table>\n",
       "</div>"
      ],
      "text/plain": [
       "                             product_id        product_category_name  \\\n",
       "26763  bd336707deb508edc61ee62f22706cc4                    papelaria   \n",
       "13191  f67ad6b3366ae186b8d29087e6d5ebd0                   automotivo   \n",
       "11151  8448ca0891d431bffa57301b7dd2ad04           relogios_presentes   \n",
       "29796  6fba9843ddfdebe33d2625afc8001eb7                esporte_lazer   \n",
       "29591  0b0c04563408d8d1187cdbd6292a89fa  fashion_bolsas_e_acessorios   \n",
       "16192  28f61ad35fb219e9debd750a73b63985       informatica_acessorios   \n",
       "2440   1ebd1450a2b8d51ffda696956426024a              cama_mesa_banho   \n",
       "14151  83f92096793dec6fa40579e63590c90e                    papelaria   \n",
       "29288  97df437aeb3472b9d42b4c2e9a9d88f6                   brinquedos   \n",
       "21860  aa864f45a26bbc494d37ae12b0065222                   automotivo   \n",
       "\n",
       "       product_name_lenght  product_description_lenght  product_photos_qty  \\\n",
       "26763                 58.0                       179.0                 2.0   \n",
       "13191                 55.0                       998.0                 2.0   \n",
       "11151                 47.0                       760.0                 2.0   \n",
       "29796                 36.0                       258.0                 2.0   \n",
       "29591                 34.0                       222.0                 2.0   \n",
       "16192                 55.0                       191.0                 2.0   \n",
       "2440                  45.0                       102.0                 1.0   \n",
       "14151                 42.0                       106.0                 2.0   \n",
       "29288                 17.0                       890.0                 1.0   \n",
       "21860                 58.0                       955.0                 4.0   \n",
       "\n",
       "       product_weight_g  product_length_cm  product_height_cm  \\\n",
       "26763             345.0               41.0                3.0   \n",
       "13191             100.0               17.0                4.0   \n",
       "11151             300.0               16.0               13.0   \n",
       "29796             800.0               28.0                6.0   \n",
       "29591            3400.0               20.0               50.0   \n",
       "16192             100.0               40.0                2.0   \n",
       "2440              300.0               26.0                3.0   \n",
       "14151             300.0               24.0                7.0   \n",
       "29288            2600.0               35.0               25.0   \n",
       "21860              50.0               16.0                7.0   \n",
       "\n",
       "       product_width_cm  \n",
       "26763              33.0  \n",
       "13191              17.0  \n",
       "11151              13.0  \n",
       "29796              26.0  \n",
       "29591              40.0  \n",
       "16192              24.0  \n",
       "2440               21.0  \n",
       "14151              14.0  \n",
       "29288              35.0  \n",
       "21860              11.0  "
      ]
     },
     "execution_count": 33,
     "metadata": {},
     "output_type": "execute_result"
    }
   ],
   "source": [
    "df_products.sample(10)"
   ]
  },
  {
   "cell_type": "code",
   "execution_count": 34,
   "id": "b2c8a574",
   "metadata": {},
   "outputs": [
    {
     "name": "stdout",
     "output_type": "stream",
     "text": [
      "<class 'pandas.core.frame.DataFrame'>\n",
      "RangeIndex: 32951 entries, 0 to 32950\n",
      "Data columns (total 9 columns):\n",
      " #   Column                      Non-Null Count  Dtype  \n",
      "---  ------                      --------------  -----  \n",
      " 0   product_id                  32951 non-null  object \n",
      " 1   product_category_name       32341 non-null  object \n",
      " 2   product_name_lenght         32341 non-null  float64\n",
      " 3   product_description_lenght  32341 non-null  float64\n",
      " 4   product_photos_qty          32341 non-null  float64\n",
      " 5   product_weight_g            32949 non-null  float64\n",
      " 6   product_length_cm           32949 non-null  float64\n",
      " 7   product_height_cm           32949 non-null  float64\n",
      " 8   product_width_cm            32949 non-null  float64\n",
      "dtypes: float64(7), object(2)\n",
      "memory usage: 2.3+ MB\n"
     ]
    },
    {
     "data": {
      "application/vnd.microsoft.datawrangler.viewer.v0+json": {
       "columns": [
        {
         "name": "index",
         "rawType": "object",
         "type": "string"
        },
        {
         "name": "0",
         "rawType": "int64",
         "type": "integer"
        }
       ],
       "ref": "199d560d-55e7-4082-a1b1-b6ecaf600b20",
       "rows": [
        [
         "product_id",
         "0"
        ],
        [
         "product_category_name",
         "610"
        ],
        [
         "product_name_lenght",
         "610"
        ],
        [
         "product_description_lenght",
         "610"
        ],
        [
         "product_photos_qty",
         "610"
        ],
        [
         "product_weight_g",
         "2"
        ],
        [
         "product_length_cm",
         "2"
        ],
        [
         "product_height_cm",
         "2"
        ],
        [
         "product_width_cm",
         "2"
        ]
       ],
       "shape": {
        "columns": 1,
        "rows": 9
       }
      },
      "text/plain": [
       "product_id                      0\n",
       "product_category_name         610\n",
       "product_name_lenght           610\n",
       "product_description_lenght    610\n",
       "product_photos_qty            610\n",
       "product_weight_g                2\n",
       "product_length_cm               2\n",
       "product_height_cm               2\n",
       "product_width_cm                2\n",
       "dtype: int64"
      ]
     },
     "execution_count": 34,
     "metadata": {},
     "output_type": "execute_result"
    }
   ],
   "source": [
    "df_products.info()\n",
    "df_products.isnull().sum()"
   ]
  },
  {
   "cell_type": "code",
   "execution_count": 35,
   "id": "e30449f6",
   "metadata": {},
   "outputs": [
    {
     "data": {
      "text/plain": [
       "np.int64(0)"
      ]
     },
     "execution_count": 35,
     "metadata": {},
     "output_type": "execute_result"
    }
   ],
   "source": [
    "df_products.duplicated().sum()"
   ]
  },
  {
   "cell_type": "code",
   "execution_count": 36,
   "id": "34cb9bd8",
   "metadata": {},
   "outputs": [],
   "source": [
    "\n",
    "df_products.drop(columns= ['product_name_lenght','product_description_lenght',\n",
    "    'product_photos_qty','product_weight_g','product_length_cm','product_height_cm',\n",
    "    'product_width_cm'], inplace=True)"
   ]
  },
  {
   "cell_type": "code",
   "execution_count": 38,
   "id": "34898a9a",
   "metadata": {},
   "outputs": [],
   "source": [
    "df_products['product_category_name'] = df_products['product_category_name'].fillna('sem categoria')"
   ]
  },
  {
   "cell_type": "markdown",
   "id": "c4277048",
   "metadata": {},
   "source": [
    "- df_products doesn't have duplicate entrys.\n",
    "- Null cells in product_category_name filled with placeholder 'sem categoria'\n",
    "- dropping columns: 'product_name_lenght','product_description_lenght','product_photos_qty','product_weight_g','product_length_cm','product_height_cm','product_width_cm'"
   ]
  },
  {
   "cell_type": "markdown",
   "id": "0a95b716",
   "metadata": {},
   "source": [
    "### Dataframe: Sellers"
   ]
  },
  {
   "cell_type": "code",
   "execution_count": 40,
   "id": "6d2441c4",
   "metadata": {},
   "outputs": [
    {
     "data": {
      "application/vnd.microsoft.datawrangler.viewer.v0+json": {
       "columns": [
        {
         "name": "index",
         "rawType": "int64",
         "type": "integer"
        },
        {
         "name": "seller_id",
         "rawType": "object",
         "type": "string"
        },
        {
         "name": "seller_zip_code_prefix",
         "rawType": "int64",
         "type": "integer"
        },
        {
         "name": "seller_city",
         "rawType": "object",
         "type": "string"
        },
        {
         "name": "seller_state",
         "rawType": "object",
         "type": "string"
        }
       ],
       "ref": "f7fd5db0-4fdd-4c90-a456-0bf40c67ac9f",
       "rows": [
        [
         "2635",
         "080102cd0a76b09e0dcf55fcacc60e05",
         "31140",
         "belo horizonte",
         "MG"
        ],
        [
         "487",
         "5bc24d989e71e93c33e50a7782431b0e",
         "37165",
         "campo do meio",
         "MG"
        ],
        [
         "2164",
         "51ed72984a04e5dd35c2b27e77179038",
         "15050",
         "sao jose do rio preto",
         "SP"
        ],
        [
         "2840",
         "253c025bab43881055aeecde5e2d8b77",
         "80620",
         "curitiba",
         "PR"
        ],
        [
         "2489",
         "12c2ed9cded6138cf0c75f525f565fc7",
         "11709",
         "praia grande",
         "SP"
        ],
        [
         "2241",
         "edb1ef5e36e0c8cd84eb3c9b003e486d",
         "25957",
         "teresopolis",
         "RJ"
        ],
        [
         "2307",
         "c64a2aec32cc408a8a4c6d7c46017f91",
         "95625",
         "imbe",
         "RS"
        ],
        [
         "685",
         "c03121937e54a93fcc1825c3098bbb6e",
         "82800",
         "curitiba",
         "PR"
        ],
        [
         "1297",
         "7813ea3ebd9411dc600b4dd01f7a97b9",
         "6018",
         "osasco",
         "SP"
        ],
        [
         "285",
         "a3a38f4affed601eb87a97788c949667",
         "89204",
         "joinville",
         "SC"
        ]
       ],
       "shape": {
        "columns": 4,
        "rows": 10
       }
      },
      "text/html": [
       "<div>\n",
       "<style scoped>\n",
       "    .dataframe tbody tr th:only-of-type {\n",
       "        vertical-align: middle;\n",
       "    }\n",
       "\n",
       "    .dataframe tbody tr th {\n",
       "        vertical-align: top;\n",
       "    }\n",
       "\n",
       "    .dataframe thead th {\n",
       "        text-align: right;\n",
       "    }\n",
       "</style>\n",
       "<table border=\"1\" class=\"dataframe\">\n",
       "  <thead>\n",
       "    <tr style=\"text-align: right;\">\n",
       "      <th></th>\n",
       "      <th>seller_id</th>\n",
       "      <th>seller_zip_code_prefix</th>\n",
       "      <th>seller_city</th>\n",
       "      <th>seller_state</th>\n",
       "    </tr>\n",
       "  </thead>\n",
       "  <tbody>\n",
       "    <tr>\n",
       "      <th>2635</th>\n",
       "      <td>080102cd0a76b09e0dcf55fcacc60e05</td>\n",
       "      <td>31140</td>\n",
       "      <td>belo horizonte</td>\n",
       "      <td>MG</td>\n",
       "    </tr>\n",
       "    <tr>\n",
       "      <th>487</th>\n",
       "      <td>5bc24d989e71e93c33e50a7782431b0e</td>\n",
       "      <td>37165</td>\n",
       "      <td>campo do meio</td>\n",
       "      <td>MG</td>\n",
       "    </tr>\n",
       "    <tr>\n",
       "      <th>2164</th>\n",
       "      <td>51ed72984a04e5dd35c2b27e77179038</td>\n",
       "      <td>15050</td>\n",
       "      <td>sao jose do rio preto</td>\n",
       "      <td>SP</td>\n",
       "    </tr>\n",
       "    <tr>\n",
       "      <th>2840</th>\n",
       "      <td>253c025bab43881055aeecde5e2d8b77</td>\n",
       "      <td>80620</td>\n",
       "      <td>curitiba</td>\n",
       "      <td>PR</td>\n",
       "    </tr>\n",
       "    <tr>\n",
       "      <th>2489</th>\n",
       "      <td>12c2ed9cded6138cf0c75f525f565fc7</td>\n",
       "      <td>11709</td>\n",
       "      <td>praia grande</td>\n",
       "      <td>SP</td>\n",
       "    </tr>\n",
       "    <tr>\n",
       "      <th>2241</th>\n",
       "      <td>edb1ef5e36e0c8cd84eb3c9b003e486d</td>\n",
       "      <td>25957</td>\n",
       "      <td>teresopolis</td>\n",
       "      <td>RJ</td>\n",
       "    </tr>\n",
       "    <tr>\n",
       "      <th>2307</th>\n",
       "      <td>c64a2aec32cc408a8a4c6d7c46017f91</td>\n",
       "      <td>95625</td>\n",
       "      <td>imbe</td>\n",
       "      <td>RS</td>\n",
       "    </tr>\n",
       "    <tr>\n",
       "      <th>685</th>\n",
       "      <td>c03121937e54a93fcc1825c3098bbb6e</td>\n",
       "      <td>82800</td>\n",
       "      <td>curitiba</td>\n",
       "      <td>PR</td>\n",
       "    </tr>\n",
       "    <tr>\n",
       "      <th>1297</th>\n",
       "      <td>7813ea3ebd9411dc600b4dd01f7a97b9</td>\n",
       "      <td>6018</td>\n",
       "      <td>osasco</td>\n",
       "      <td>SP</td>\n",
       "    </tr>\n",
       "    <tr>\n",
       "      <th>285</th>\n",
       "      <td>a3a38f4affed601eb87a97788c949667</td>\n",
       "      <td>89204</td>\n",
       "      <td>joinville</td>\n",
       "      <td>SC</td>\n",
       "    </tr>\n",
       "  </tbody>\n",
       "</table>\n",
       "</div>"
      ],
      "text/plain": [
       "                             seller_id  seller_zip_code_prefix  \\\n",
       "2635  080102cd0a76b09e0dcf55fcacc60e05                   31140   \n",
       "487   5bc24d989e71e93c33e50a7782431b0e                   37165   \n",
       "2164  51ed72984a04e5dd35c2b27e77179038                   15050   \n",
       "2840  253c025bab43881055aeecde5e2d8b77                   80620   \n",
       "2489  12c2ed9cded6138cf0c75f525f565fc7                   11709   \n",
       "2241  edb1ef5e36e0c8cd84eb3c9b003e486d                   25957   \n",
       "2307  c64a2aec32cc408a8a4c6d7c46017f91                   95625   \n",
       "685   c03121937e54a93fcc1825c3098bbb6e                   82800   \n",
       "1297  7813ea3ebd9411dc600b4dd01f7a97b9                    6018   \n",
       "285   a3a38f4affed601eb87a97788c949667                   89204   \n",
       "\n",
       "                seller_city seller_state  \n",
       "2635         belo horizonte           MG  \n",
       "487           campo do meio           MG  \n",
       "2164  sao jose do rio preto           SP  \n",
       "2840               curitiba           PR  \n",
       "2489           praia grande           SP  \n",
       "2241            teresopolis           RJ  \n",
       "2307                   imbe           RS  \n",
       "685                curitiba           PR  \n",
       "1297                 osasco           SP  \n",
       "285               joinville           SC  "
      ]
     },
     "execution_count": 40,
     "metadata": {},
     "output_type": "execute_result"
    }
   ],
   "source": [
    "df_sellers.sample(10)"
   ]
  },
  {
   "cell_type": "code",
   "execution_count": 41,
   "id": "b1e45a50",
   "metadata": {},
   "outputs": [
    {
     "name": "stdout",
     "output_type": "stream",
     "text": [
      "<class 'pandas.core.frame.DataFrame'>\n",
      "RangeIndex: 3095 entries, 0 to 3094\n",
      "Data columns (total 4 columns):\n",
      " #   Column                  Non-Null Count  Dtype \n",
      "---  ------                  --------------  ----- \n",
      " 0   seller_id               3095 non-null   object\n",
      " 1   seller_zip_code_prefix  3095 non-null   int64 \n",
      " 2   seller_city             3095 non-null   object\n",
      " 3   seller_state            3095 non-null   object\n",
      "dtypes: int64(1), object(3)\n",
      "memory usage: 96.8+ KB\n"
     ]
    },
    {
     "data": {
      "application/vnd.microsoft.datawrangler.viewer.v0+json": {
       "columns": [
        {
         "name": "index",
         "rawType": "object",
         "type": "string"
        },
        {
         "name": "0",
         "rawType": "int64",
         "type": "integer"
        }
       ],
       "ref": "c8ac180a-0269-4a4b-b60e-5a7a1cf1de17",
       "rows": [
        [
         "seller_id",
         "0"
        ],
        [
         "seller_zip_code_prefix",
         "0"
        ],
        [
         "seller_city",
         "0"
        ],
        [
         "seller_state",
         "0"
        ]
       ],
       "shape": {
        "columns": 1,
        "rows": 4
       }
      },
      "text/plain": [
       "seller_id                 0\n",
       "seller_zip_code_prefix    0\n",
       "seller_city               0\n",
       "seller_state              0\n",
       "dtype: int64"
      ]
     },
     "execution_count": 41,
     "metadata": {},
     "output_type": "execute_result"
    }
   ],
   "source": [
    "df_sellers.info()\n",
    "df_sellers.isnull().sum()"
   ]
  },
  {
   "cell_type": "code",
   "execution_count": 42,
   "id": "391c9554",
   "metadata": {},
   "outputs": [
    {
     "data": {
      "text/plain": [
       "np.int64(0)"
      ]
     },
     "execution_count": 42,
     "metadata": {},
     "output_type": "execute_result"
    }
   ],
   "source": [
    "df_sellers.duplicated().sum()"
   ]
  },
  {
   "cell_type": "markdown",
   "id": "ab5975b3",
   "metadata": {},
   "source": [
    "- df_sellers doesn't have duplicate entrys, no columns to drop at first and no Nulls"
   ]
  },
  {
   "cell_type": "markdown",
   "id": "7482558e",
   "metadata": {},
   "source": [
    "## Data Conversion and normalization"
   ]
  },
  {
   "cell_type": "code",
   "execution_count": 187,
   "id": "ce735397",
   "metadata": {},
   "outputs": [
    {
     "name": "stdout",
     "output_type": "stream",
     "text": [
      "<class 'pandas.core.frame.DataFrame'>\n",
      "RangeIndex: 32951 entries, 0 to 32950\n",
      "Data columns (total 2 columns):\n",
      " #   Column                 Non-Null Count  Dtype \n",
      "---  ------                 --------------  ----- \n",
      " 0   product_id             32951 non-null  object\n",
      " 1   product_category_name  32951 non-null  object\n",
      "dtypes: object(2)\n",
      "memory usage: 515.0+ KB\n"
     ]
    }
   ],
   "source": [
    "df_products.info()"
   ]
  },
  {
   "cell_type": "markdown",
   "id": "cd3d81c6",
   "metadata": {},
   "source": [
    "- Normalizing to a readable entries"
   ]
  },
  {
   "cell_type": "code",
   "execution_count": 188,
   "id": "955f28ac",
   "metadata": {},
   "outputs": [],
   "source": [
    "df_products['product_category_name'] = (\n",
    "    df_products['product_category_name']\n",
    "    .str.replace('_', ' ')      \n",
    "    .str.title()                \n",
    "    .str.strip()    \n",
    ")"
   ]
  },
  {
   "cell_type": "code",
   "execution_count": 190,
   "id": "47964554",
   "metadata": {},
   "outputs": [
    {
     "data": {
      "text/plain": [
       "['Agro Industria E Comercio',\n",
       " 'Alimentos',\n",
       " 'Alimentos Bebidas',\n",
       " 'Artes',\n",
       " 'Artes E Artesanato',\n",
       " 'Artigos De Festas',\n",
       " 'Artigos De Natal',\n",
       " 'Audio',\n",
       " 'Automotivo',\n",
       " 'Bebes',\n",
       " 'Bebidas',\n",
       " 'Beleza Saude',\n",
       " 'Brinquedos',\n",
       " 'Cama Mesa Banho',\n",
       " 'Casa Conforto',\n",
       " 'Casa Conforto 2',\n",
       " 'Casa Construcao',\n",
       " 'Cds Dvds Musicais',\n",
       " 'Cine Foto',\n",
       " 'Climatizacao',\n",
       " 'Consoles Games',\n",
       " 'Construcao Ferramentas Construcao',\n",
       " 'Construcao Ferramentas Ferramentas',\n",
       " 'Construcao Ferramentas Iluminacao',\n",
       " 'Construcao Ferramentas Jardim',\n",
       " 'Construcao Ferramentas Seguranca',\n",
       " 'Cool Stuff',\n",
       " 'Dvds Blu Ray',\n",
       " 'Eletrodomesticos',\n",
       " 'Eletrodomesticos 2',\n",
       " 'Eletronicos',\n",
       " 'Eletroportateis',\n",
       " 'Esporte Lazer',\n",
       " 'Fashion Bolsas E Acessorios',\n",
       " 'Fashion Calcados',\n",
       " 'Fashion Esporte',\n",
       " 'Fashion Roupa Feminina',\n",
       " 'Fashion Roupa Infanto Juvenil',\n",
       " 'Fashion Roupa Masculina',\n",
       " 'Fashion Underwear E Moda Praia',\n",
       " 'Ferramentas Jardim',\n",
       " 'Flores',\n",
       " 'Fraldas Higiene',\n",
       " 'Industria Comercio E Negocios',\n",
       " 'Informatica Acessorios',\n",
       " 'Instrumentos Musicais',\n",
       " 'La Cuisine',\n",
       " 'Livros Importados',\n",
       " 'Livros Interesse Geral',\n",
       " 'Livros Tecnicos',\n",
       " 'Malas Acessorios',\n",
       " 'Market Place',\n",
       " 'Moveis Colchao E Estofado',\n",
       " 'Moveis Cozinha Area De Servico Jantar E Jardim',\n",
       " 'Moveis Decoracao',\n",
       " 'Moveis Escritorio',\n",
       " 'Moveis Quarto',\n",
       " 'Moveis Sala',\n",
       " 'Musica',\n",
       " 'Papelaria',\n",
       " 'Pc Gamer',\n",
       " 'Pcs',\n",
       " 'Perfumaria',\n",
       " 'Pet Shop',\n",
       " 'Portateis Casa Forno E Cafe',\n",
       " 'Portateis Cozinha E Preparadores De Alimentos',\n",
       " 'Relogios Presentes',\n",
       " 'Seguros E Servicos',\n",
       " 'Sem Categoria',\n",
       " 'Sinalizacao E Seguranca',\n",
       " 'Tablets Impressao Imagem',\n",
       " 'Telefonia',\n",
       " 'Telefonia Fixa',\n",
       " 'Utilidades Domesticas']"
      ]
     },
     "execution_count": 190,
     "metadata": {},
     "output_type": "execute_result"
    }
   ],
   "source": [
    "sorted(df_products['product_category_name'].dropna().unique())"
   ]
  },
  {
   "cell_type": "code",
   "execution_count": 193,
   "id": "cb2f67b3",
   "metadata": {},
   "outputs": [],
   "source": [
    "manual_corrections = {\n",
    "    'Agro Industria E Comercio': 'Agro Indústria e Comércio',\n",
    "    'Artes E Artesanato': 'Artes e Artesanato',\n",
    "    'Artigos De Festas': 'Artigos de Festas',\n",
    "    'Artigos De Natal': 'Artigos de Natal',\n",
    "    'Beleza Saude':'Beleza e Saude',\n",
    "    'Cama Mesa Banho': 'Cama Mesa e Banho',\n",
    "    'Casa Conforto': 'Casa e Conforto',\n",
    "    'Casa Conforto 2': 'Casa e Conforto',\n",
    "    'Casa Construcao': 'Casa e Construção',\n",
    "    'Cds Dvds Musicais': 'Cds Dvds e Musicais',\n",
    "    'Cine Foto': 'Cine e Foto',\n",
    "    'Climatizacao': 'Climatização',\n",
    "    'Consoles Games': 'Consoles e Games',\n",
    "    'Construcao Ferramentas Construcao': 'Artigos de Construção',\n",
    "    'Construcao Ferramentas Ferramentas': 'Artigos de Construção',\n",
    "    'Construcao Ferramentas Iluminacao': 'Artigos de Construção',\n",
    "    'Construcao Ferramentas Jardim': 'Artigos de Construção',\n",
    "    'Construcao Ferramentas Seguranca': 'Artigos de Construção',\n",
    "    'Dvds Blu Ray': 'Dvds/Blu-Ray',\n",
    "    'Eletrodomesticos': 'Eletrodomésticos',\n",
    "    'Eletrodomesticos 2': 'Eletrodomésticos',\n",
    "    'Eletronicos': 'Eletrônicos',\n",
    "    'Eletroportateis': 'Eletroportáteis',\n",
    "    'Esporte Lazer': 'Esporte e Lazer',\n",
    "    'Fashion Bolsas E Acessorios': 'Bolsas e Acessórios',\n",
    "    'Fashion Calcados':'Calçados',\n",
    "    'Fashion Esporte': 'Moda Esportiva',\n",
    "    'Fashion Roupa Feminina': 'Roupa Feminina',\n",
    "    'Fashion Roupa Infanto Juvenil': 'Infanto Juvenil',\n",
    "    'Fashion Roupa Masculina': 'Roupa Masculina',\n",
    "    'Fashion Underwear E Moda Praia': 'Underwear e Moda Praia',\n",
    "    'Ferramentas Jardim': 'Ferramentas de Jardinagem',\n",
    "    'Fraldas Higiene': 'Fraldas e Higiene',\n",
    "    'Industria Comercio E Negocios': 'Indústria Comércio e Negócios',\n",
    "    'Informatica Acessorios': 'Acessórios de Informática',\n",
    "    'Livros Importados': 'Livros',\n",
    "    'Livros Interesse Geral': 'Livros',\n",
    "    'Livros Tecnicos': 'Livros',\n",
    "    'Malas Acessorios': 'Malas e Acessórios',\n",
    "    'Moveis Colchao E Estofado': 'Móveis',\n",
    "    'Moveis Cozinha Area De Servico Jantar E Jardim': 'Móveis',\n",
    "    'Moveis Decoracao': 'Móveis',\n",
    "    'Moveis Escritorio': 'Móveis',\n",
    "    'Moveis Quarto': 'Móveis',\n",
    "    'Moveis Sala': 'Móveis',\n",
    "    'Musica': 'Música',\n",
    "    'Portateis Casa Forno E Cafe': 'Casa Forno e Café',\n",
    "    'Portateis Cozinha E Preparadores De Alimentos': 'Cozinha e Preparadores de Alimentos',\n",
    "    'Relogios Presentes': 'Relógios e Presentes',\n",
    "    'Seguros E Servicos':'Seguros e Serviços',\n",
    "    'Sinalizacao E Seguranca': 'Sinalização e Segurança',\n",
    "    'Tablets Impressao Imagem': 'Tablets Impressão e Imagem',\n",
    "    'Utilidades Domesticas': 'Utilidades Domésticas'\n",
    "}\n",
    "df_products['product_category_name'] = df_products['product_category_name'].replace(manual_corrections)"
   ]
  },
  {
   "cell_type": "code",
   "execution_count": 48,
   "id": "9cfbcebf",
   "metadata": {},
   "outputs": [
    {
     "name": "stdout",
     "output_type": "stream",
     "text": [
      "<class 'pandas.core.frame.DataFrame'>\n",
      "RangeIndex: 99441 entries, 0 to 99440\n",
      "Data columns (total 4 columns):\n",
      " #   Column                    Non-Null Count  Dtype         \n",
      "---  ------                    --------------  -----         \n",
      " 0   order_id                  99441 non-null  object        \n",
      " 1   customer_id               99441 non-null  object        \n",
      " 2   order_status              99441 non-null  object        \n",
      " 3   order_purchase_timestamp  99441 non-null  datetime64[ns]\n",
      "dtypes: datetime64[ns](1), object(3)\n",
      "memory usage: 3.0+ MB\n"
     ]
    }
   ],
   "source": [
    "df_orders['order_purchase_timestamp'] = pd.to_datetime(df_orders['order_purchase_timestamp'])\n",
    "df_orders.info()"
   ]
  },
  {
   "cell_type": "code",
   "execution_count": 52,
   "id": "04ba4fc9",
   "metadata": {},
   "outputs": [
    {
     "name": "stdout",
     "output_type": "stream",
     "text": [
      "<class 'pandas.core.frame.DataFrame'>\n",
      "RangeIndex: 112650 entries, 0 to 112649\n",
      "Data columns (total 5 columns):\n",
      " #   Column         Non-Null Count   Dtype  \n",
      "---  ------         --------------   -----  \n",
      " 0   order_id       112650 non-null  object \n",
      " 1   order_item_id  112650 non-null  int64  \n",
      " 2   product_id     112650 non-null  object \n",
      " 3   seller_id      112650 non-null  object \n",
      " 4   price          112650 non-null  float64\n",
      "dtypes: float64(1), int64(1), object(3)\n",
      "memory usage: 4.3+ MB\n",
      "<class 'pandas.core.frame.DataFrame'>\n",
      "RangeIndex: 103886 entries, 0 to 103885\n",
      "Data columns (total 2 columns):\n",
      " #   Column         Non-Null Count   Dtype  \n",
      "---  ------         --------------   -----  \n",
      " 0   order_id       103886 non-null  object \n",
      " 1   payment_value  103886 non-null  float64\n",
      "dtypes: float64(1), object(1)\n",
      "memory usage: 1.6+ MB\n"
     ]
    }
   ],
   "source": [
    "df_order_items.info() #ok\n",
    "df_order_payments.info() #ok\n"
   ]
  },
  {
   "cell_type": "code",
   "execution_count": 49,
   "id": "32d05cc1",
   "metadata": {},
   "outputs": [
    {
     "name": "stdout",
     "output_type": "stream",
     "text": [
      "<class 'pandas.core.frame.DataFrame'>\n",
      "RangeIndex: 99441 entries, 0 to 99440\n",
      "Data columns (total 5 columns):\n",
      " #   Column                    Non-Null Count  Dtype \n",
      "---  ------                    --------------  ----- \n",
      " 0   customer_id               99441 non-null  object\n",
      " 1   customer_unique_id        99441 non-null  object\n",
      " 2   customer_zip_code_prefix  99441 non-null  int64 \n",
      " 3   customer_city             99441 non-null  object\n",
      " 4   customer_state            99441 non-null  object\n",
      "dtypes: int64(1), object(4)\n",
      "memory usage: 3.8+ MB\n",
      "<class 'pandas.core.frame.DataFrame'>\n",
      "RangeIndex: 3095 entries, 0 to 3094\n",
      "Data columns (total 4 columns):\n",
      " #   Column                  Non-Null Count  Dtype \n",
      "---  ------                  --------------  ----- \n",
      " 0   seller_id               3095 non-null   object\n",
      " 1   seller_zip_code_prefix  3095 non-null   int64 \n",
      " 2   seller_city             3095 non-null   object\n",
      " 3   seller_state            3095 non-null   object\n",
      "dtypes: int64(1), object(3)\n",
      "memory usage: 96.8+ KB\n"
     ]
    }
   ],
   "source": [
    "df_customers.info()\n",
    "df_sellers.info()"
   ]
  },
  {
   "cell_type": "markdown",
   "id": "d70d4eff",
   "metadata": {},
   "source": [
    "- Cities in df_customers and df_sellers has some strange entries\n",
    "- Creating a brazilian city dictonary for comparision"
   ]
  },
  {
   "cell_type": "code",
   "execution_count": 55,
   "id": "49406b72",
   "metadata": {},
   "outputs": [],
   "source": [
    "cdf_cities['city_norm'] = (\n",
    "    cdf_cities['city']\n",
    "    .str.strip()\n",
    "    .str.lower()\n",
    "    .apply(lambda x: unidecode.unidecode(x) if isinstance(x, str) else x)\n",
    ")\n",
    "\n",
    "city_dict = dict(zip(cdf_cities['city_norm'], cdf_cities['city']))"
   ]
  },
  {
   "cell_type": "markdown",
   "id": "e5c48089",
   "metadata": {},
   "source": [
    "- Normalizing the cities columns from df_sellers\n",
    "- Creating a new column with the clean city names\n",
    "- Filling with exact matches at first"
   ]
  },
  {
   "cell_type": "code",
   "execution_count": 64,
   "id": "cbeadaaa",
   "metadata": {},
   "outputs": [],
   "source": [
    "df_sellers['seller_city'] = (\n",
    "    df_sellers['seller_city']\n",
    "    .str.strip()\n",
    "    .str.lower()\n",
    "    .apply(lambda x: unidecode.unidecode(x) if isinstance(x, str) else x)\n",
    ")\n",
    "df_customers['customer_city'] = (\n",
    "    df_customers['customer_city']\n",
    "    .str.strip()\n",
    "    .str.lower()\n",
    "    .apply(lambda x: unidecode.unidecode(x) if isinstance(x, str) else x)\n",
    ")\n",
    "\n",
    "df_sellers['seller_city_clean'] = df_sellers['seller_city'].map(city_dict)\n",
    "df_customers['customer_city_clean'] = df_customers['customer_city'].map(city_dict)"
   ]
  },
  {
   "cell_type": "markdown",
   "id": "572cebbf",
   "metadata": {},
   "source": [
    "- Counting the Nulls."
   ]
  },
  {
   "cell_type": "code",
   "execution_count": 74,
   "id": "da96575a",
   "metadata": {},
   "outputs": [
    {
     "data": {
      "text/plain": [
       "np.int64(74)"
      ]
     },
     "execution_count": 74,
     "metadata": {},
     "output_type": "execute_result"
    }
   ],
   "source": [
    "df_sellers['seller_city_clean'].isna().sum() #74\n",
    "df_customers['customer_city_clean'].isna().sum() #654\n"
   ]
  },
  {
   "cell_type": "markdown",
   "id": "e5f2abc4",
   "metadata": {},
   "source": [
    "### City normalization and validation - df_sellers"
   ]
  },
  {
   "cell_type": "code",
   "execution_count": null,
   "id": "76d3c3a4",
   "metadata": {},
   "outputs": [
    {
     "data": {
      "text/plain": [
       "{'balenario camboriu': 'Balneário Camboriú',\n",
       " 'ferraz de  vasconcelos': 'Ferraz de Vasconcelos',\n",
       " 'sao pauo': 'São Paulo',\n",
       " 'cascavael': 'Cascavel',\n",
       " 'santa barbara d oeste': \"Santa Bárbara d'Oeste\",\n",
       " 'floranopolis': 'Florianópolis',\n",
       " 'sao  jose dos pinhais': 'São José dos Pinhais',\n",
       " 'brasilia df': 'Brasília',\n",
       " 's jose do rio preto': 'São José do Rio Preto',\n",
       " 'juzeiro do norte': 'Juazeiro do Norte',\n",
       " 'sao bernardo do capo': 'São Bernardo do Campo',\n",
       " 'mogi das cruzes / sp': 'Mogi das Cruzes',\n",
       " 'sao jose dos pinhas': 'São José dos Pinhais',\n",
       " 'paincandu': 'Paiçandu',\n",
       " 'portoferreira': 'Porto Ferreira',\n",
       " 'belo horizont': 'Belo Horizonte',\n",
       " 'sao paulo sp': 'São Paulo',\n",
       " 'angra dos reis rj': 'Angra dos Reis',\n",
       " 'sao  paulo': 'São Paulo',\n",
       " 'ao bernardo do campo': 'São Bernardo do Campo',\n",
       " 'garulhos': 'Guarulhos',\n",
       " 'sao jose do rio pret': 'São José do Rio Preto',\n",
       " 'sao paulop': 'São Paulo',\n",
       " 'scao jose do rio pardo': 'São José do Rio Pardo',\n",
       " 'tabao da serra': 'Taboão da Serra',\n",
       " 'riberao preto': 'Ribeirão Preto'}"
      ]
     },
     "execution_count": 111,
     "metadata": {},
     "output_type": "execute_result"
    }
   ],
   "source": [
    "corrections = {}\n",
    "\n",
    "for city in df_sellers[df_sellers['seller_city_clean'].isna()]['seller_city'].unique():\n",
    "    match, score, _ = process.extractOne(city, cdf_cities['city_norm'])\n",
    "    if score > 94:\n",
    "        corrections[city] = cdf_cities.loc[cdf_cities['city_norm'] == match, 'city'].iloc[0]\n",
    "\n",
    "\n",
    "corrections"
   ]
  },
  {
   "cell_type": "code",
   "execution_count": 114,
   "id": "d7846cef",
   "metadata": {},
   "outputs": [],
   "source": [
    "df_sellers.loc[\n",
    "    df_sellers['seller_city_clean'].isna(),'seller_city_clean'] = df_sellers.loc[df_sellers['seller_city_clean'].isna(), 'seller_city'].map(corrections)"
   ]
  },
  {
   "cell_type": "code",
   "execution_count": null,
   "id": "a35b3267",
   "metadata": {},
   "outputs": [
    {
     "data": {
      "text/plain": [
       "np.int64(48)"
      ]
     },
     "execution_count": 115,
     "metadata": {},
     "output_type": "execute_result"
    }
   ],
   "source": [
    "df_sellers['seller_city_clean'].isna().sum() #48\n"
   ]
  },
  {
   "cell_type": "code",
   "execution_count": 122,
   "id": "5c30d930",
   "metadata": {},
   "outputs": [
    {
     "data": {
      "text/plain": [
       "{\"sao miguel d'oeste\": 'São Miguel do Oeste',\n",
       " 'mogi das cruses': 'Mogi das Cruzes',\n",
       " 'sando andre': 'Santo André',\n",
       " 'ribeirao pretp': 'Ribeirão Preto',\n",
       " 'sao sebastiao da grama/sp': 'São Sebastião da Grama',\n",
       " 'robeirao preto': 'Ribeirão Preto'}"
      ]
     },
     "execution_count": 122,
     "metadata": {},
     "output_type": "execute_result"
    }
   ],
   "source": [
    "corrections = {}\n",
    "\n",
    "for city in df_sellers[df_sellers['seller_city_clean'].isna()]['seller_city'].unique():\n",
    "    match, score, _ = process.extractOne(city, cdf_cities['city_norm'])\n",
    "    if score > 90 and city != 'picarras':\n",
    "        corrections[city] = cdf_cities.loc[cdf_cities['city_norm'] == match, 'city'].iloc[0]\n",
    "\n",
    "\n",
    "corrections"
   ]
  },
  {
   "cell_type": "code",
   "execution_count": null,
   "id": "255519fc",
   "metadata": {},
   "outputs": [
    {
     "data": {
      "text/plain": [
       "np.int64(42)"
      ]
     },
     "execution_count": 124,
     "metadata": {},
     "output_type": "execute_result"
    }
   ],
   "source": [
    "df_sellers.loc[\n",
    "    df_sellers['seller_city_clean'].isna(),'seller_city_clean'] = df_sellers.loc[df_sellers['seller_city_clean'].isna(), 'seller_city'].map(corrections)\n",
    "df_sellers['seller_city_clean'].isna().sum() #48"
   ]
  },
  {
   "cell_type": "code",
   "execution_count": 129,
   "id": "04fb8a7e",
   "metadata": {},
   "outputs": [
    {
     "data": {
      "text/plain": [
       "{'lages - sc': 'Lages',\n",
       " 'auriflama/sp': 'Auriflama',\n",
       " 'sao paulo / sao paulo': 'São Paulo',\n",
       " 'novo hamburgo, rio grande do sul, brasil': 'Novo Hamburgo',\n",
       " 'cariacica / es': 'Cariacica',\n",
       " 'sao paulo - sp': 'São Paulo',\n",
       " \"arraial d'ajuda (porto seguro)\": 'Porto Seguro',\n",
       " 'santo andre/sao paulo': 'Santo André',\n",
       " 'maua/sao paulo': 'Mauá',\n",
       " 'rio de janeiro \\\\rio de janeiro': 'Rio de Janeiro',\n",
       " 'barbacena/ minas gerais': 'Barbacena',\n",
       " 'andira-pr': 'Andirá',\n",
       " 'rio de janeiro / rio de janeiro': 'Rio de Janeiro',\n",
       " 'sao paluo': 'São Paulo',\n",
       " 'rio de janeiro, rio de janeiro, brasil': 'Rio de Janeiro',\n",
       " 'jacarei / sao paulo': 'Jacareí'}"
      ]
     },
     "execution_count": 129,
     "metadata": {},
     "output_type": "execute_result"
    }
   ],
   "source": [
    "missmatches =['picarras','bahia','santa catarina','sp','castro pires',\n",
    "'ribeirao preto / sao paulo','embu guacu','ji parana','carapicuiba / sao paulo','gama','pirituba','minas gerais','centro','vicente de carvalho']\n",
    "corrections = {}\n",
    "\n",
    "for city in df_sellers[df_sellers['seller_city_clean'].isna()]['seller_city'].unique():\n",
    "    match, score, _ = process.extractOne(city, cdf_cities['city_norm'])\n",
    "    if score > 85 and city not in missmatches:\n",
    "        corrections[city] = cdf_cities.loc[cdf_cities['city_norm'] == match, 'city'].iloc[0]\n",
    "\n",
    "\n",
    "corrections"
   ]
  },
  {
   "cell_type": "code",
   "execution_count": null,
   "id": "02cba38b",
   "metadata": {},
   "outputs": [
    {
     "data": {
      "text/plain": [
       "np.int64(24)"
      ]
     },
     "execution_count": 131,
     "metadata": {},
     "output_type": "execute_result"
    }
   ],
   "source": [
    "df_sellers.loc[\n",
    "    df_sellers['seller_city_clean'].isna(),'seller_city_clean'] = df_sellers.loc[df_sellers['seller_city_clean'].isna(), 'seller_city'].map(corrections)\n",
    "df_sellers['seller_city_clean'].isna().sum() #24"
   ]
  },
  {
   "cell_type": "code",
   "execution_count": 132,
   "id": "5ed6d1b5",
   "metadata": {},
   "outputs": [
    {
     "data": {
      "application/vnd.microsoft.datawrangler.viewer.v0+json": {
       "columns": [
        {
         "name": "index",
         "rawType": "int64",
         "type": "integer"
        },
        {
         "name": "seller_id",
         "rawType": "object",
         "type": "string"
        },
        {
         "name": "seller_zip_code_prefix",
         "rawType": "int64",
         "type": "integer"
        },
        {
         "name": "seller_city",
         "rawType": "object",
         "type": "string"
        },
        {
         "name": "seller_state",
         "rawType": "object",
         "type": "string"
        },
        {
         "name": "seller_city_clean",
         "rawType": "object",
         "type": "unknown"
        }
       ],
       "ref": "e729ff73-7f8a-4f3d-894c-0d8b78abb958",
       "rows": [
        [
         "287",
         "9b013e03b2ab786505a1d3b5c0756754",
         "11450",
         "vicente de carvalho",
         "SP",
         null
        ],
        [
         "405",
         "4221a7df464f1fe2955934e30ff3a5a1",
         "48602",
         "bahia",
         "BA",
         null
        ],
        [
         "517",
         "ceb7b4fb9401cd378de7886317ad1b47",
         "22790",
         "04482255",
         "RJ",
         null
        ],
        [
         "869",
         "cbf09e831b0c11f6f23ffb51004db972",
         "9726",
         "sbc/sp",
         "SP",
         null
        ],
        [
         "1004",
         "1cbd32d00d01bb8087a5eb088612fd9c",
         "3363",
         "sp / sp",
         "SP",
         null
        ],
        [
         "1050",
         "ba8e85df286308fe68a2ce83a8f8b2d6",
         "88135",
         "santa catarina",
         "SC",
         null
        ],
        [
         "1117",
         "16bdc8cefd0e32a6f0824d296c5ad14a",
         "12903",
         "sp",
         "SP",
         null
        ],
        [
         "1246",
         "2156f2671501a81034d7d07f217609d0",
         "4776",
         "sp",
         "SP",
         null
        ],
        [
         "1712",
         "6025c79c035c3d772133b8b8238463b2",
         "83327",
         "pinhais/pr",
         "PR",
         null
        ],
        [
         "1755",
         "2c538755f1ca9540af144f266e70df6c",
         "39801",
         "castro pires",
         "MG",
         null
        ],
        [
         "1814",
         "da4d149c0ddbac90557103ac0a0ec356",
         "9861",
         "sbc",
         "SP",
         null
        ],
        [
         "1889",
         "1de62b6f2fd96227629786db492433db",
         "16021",
         "sp",
         "SP",
         null
        ],
        [
         "1920",
         "01fd077212124329bac32490e8ef80d9",
         "14079",
         "ribeirao preto / sao paulo",
         "SP",
         null
        ],
        [
         "2006",
         "eb5b6204dde3a6e03b5f1bb8479f055b",
         "6900",
         "embu guacu",
         "SP",
         null
        ],
        [
         "2122",
         "a5259c149128e82c9d6d46e0c1c812bb",
         "76900",
         "ji parana",
         "RO",
         null
        ],
        [
         "2162",
         "a1bea7061f61f6fdd9a85a6325ba1033",
         "6311",
         "carapicuiba / sao paulo",
         "SP",
         null
        ],
        [
         "2183",
         "d5c530f4884a75ae0dba9c148718d278",
         "35660",
         "centro",
         "MG",
         null
        ],
        [
         "2258",
         "4b5f66b7adcf57f1ecc0d3c07dd6b177",
         "87025",
         "vendas@creditparts.com.br",
         "PR",
         null
        ],
        [
         "2380",
         "1703bc09972dab9782e7a9194943b69f",
         "37165",
         "minas gerais",
         "MG",
         null
        ],
        [
         "2536",
         "0b18d63d0cd1d723567903fd34a07df2",
         "5141",
         "sp",
         "SP",
         null
        ],
        [
         "2573",
         "8f2ce03f928b567e3d56181ae20ae952",
         "5141",
         "pirituba",
         "SP",
         null
        ],
        [
         "2589",
         "3a52d63a8f9daf5a28f3626d7eb9bd28",
         "71900",
         "aguas claras df",
         "SP",
         null
        ],
        [
         "2662",
         "3c487ae8f8d7542beff5788e2e0aea83",
         "72460",
         "gama",
         "DF",
         null
        ],
        [
         "2918",
         "7c51de0ab286204ce75ff42bf7c10d92",
         "88380",
         "picarras",
         "SC",
         null
        ]
       ],
       "shape": {
        "columns": 5,
        "rows": 24
       }
      },
      "text/html": [
       "<div>\n",
       "<style scoped>\n",
       "    .dataframe tbody tr th:only-of-type {\n",
       "        vertical-align: middle;\n",
       "    }\n",
       "\n",
       "    .dataframe tbody tr th {\n",
       "        vertical-align: top;\n",
       "    }\n",
       "\n",
       "    .dataframe thead th {\n",
       "        text-align: right;\n",
       "    }\n",
       "</style>\n",
       "<table border=\"1\" class=\"dataframe\">\n",
       "  <thead>\n",
       "    <tr style=\"text-align: right;\">\n",
       "      <th></th>\n",
       "      <th>seller_id</th>\n",
       "      <th>seller_zip_code_prefix</th>\n",
       "      <th>seller_city</th>\n",
       "      <th>seller_state</th>\n",
       "      <th>seller_city_clean</th>\n",
       "    </tr>\n",
       "  </thead>\n",
       "  <tbody>\n",
       "    <tr>\n",
       "      <th>287</th>\n",
       "      <td>9b013e03b2ab786505a1d3b5c0756754</td>\n",
       "      <td>11450</td>\n",
       "      <td>vicente de carvalho</td>\n",
       "      <td>SP</td>\n",
       "      <td>NaN</td>\n",
       "    </tr>\n",
       "    <tr>\n",
       "      <th>405</th>\n",
       "      <td>4221a7df464f1fe2955934e30ff3a5a1</td>\n",
       "      <td>48602</td>\n",
       "      <td>bahia</td>\n",
       "      <td>BA</td>\n",
       "      <td>NaN</td>\n",
       "    </tr>\n",
       "    <tr>\n",
       "      <th>517</th>\n",
       "      <td>ceb7b4fb9401cd378de7886317ad1b47</td>\n",
       "      <td>22790</td>\n",
       "      <td>04482255</td>\n",
       "      <td>RJ</td>\n",
       "      <td>NaN</td>\n",
       "    </tr>\n",
       "    <tr>\n",
       "      <th>869</th>\n",
       "      <td>cbf09e831b0c11f6f23ffb51004db972</td>\n",
       "      <td>9726</td>\n",
       "      <td>sbc/sp</td>\n",
       "      <td>SP</td>\n",
       "      <td>NaN</td>\n",
       "    </tr>\n",
       "    <tr>\n",
       "      <th>1004</th>\n",
       "      <td>1cbd32d00d01bb8087a5eb088612fd9c</td>\n",
       "      <td>3363</td>\n",
       "      <td>sp / sp</td>\n",
       "      <td>SP</td>\n",
       "      <td>NaN</td>\n",
       "    </tr>\n",
       "    <tr>\n",
       "      <th>1050</th>\n",
       "      <td>ba8e85df286308fe68a2ce83a8f8b2d6</td>\n",
       "      <td>88135</td>\n",
       "      <td>santa catarina</td>\n",
       "      <td>SC</td>\n",
       "      <td>NaN</td>\n",
       "    </tr>\n",
       "    <tr>\n",
       "      <th>1117</th>\n",
       "      <td>16bdc8cefd0e32a6f0824d296c5ad14a</td>\n",
       "      <td>12903</td>\n",
       "      <td>sp</td>\n",
       "      <td>SP</td>\n",
       "      <td>NaN</td>\n",
       "    </tr>\n",
       "    <tr>\n",
       "      <th>1246</th>\n",
       "      <td>2156f2671501a81034d7d07f217609d0</td>\n",
       "      <td>4776</td>\n",
       "      <td>sp</td>\n",
       "      <td>SP</td>\n",
       "      <td>NaN</td>\n",
       "    </tr>\n",
       "    <tr>\n",
       "      <th>1712</th>\n",
       "      <td>6025c79c035c3d772133b8b8238463b2</td>\n",
       "      <td>83327</td>\n",
       "      <td>pinhais/pr</td>\n",
       "      <td>PR</td>\n",
       "      <td>NaN</td>\n",
       "    </tr>\n",
       "    <tr>\n",
       "      <th>1755</th>\n",
       "      <td>2c538755f1ca9540af144f266e70df6c</td>\n",
       "      <td>39801</td>\n",
       "      <td>castro pires</td>\n",
       "      <td>MG</td>\n",
       "      <td>NaN</td>\n",
       "    </tr>\n",
       "    <tr>\n",
       "      <th>1814</th>\n",
       "      <td>da4d149c0ddbac90557103ac0a0ec356</td>\n",
       "      <td>9861</td>\n",
       "      <td>sbc</td>\n",
       "      <td>SP</td>\n",
       "      <td>NaN</td>\n",
       "    </tr>\n",
       "    <tr>\n",
       "      <th>1889</th>\n",
       "      <td>1de62b6f2fd96227629786db492433db</td>\n",
       "      <td>16021</td>\n",
       "      <td>sp</td>\n",
       "      <td>SP</td>\n",
       "      <td>NaN</td>\n",
       "    </tr>\n",
       "    <tr>\n",
       "      <th>1920</th>\n",
       "      <td>01fd077212124329bac32490e8ef80d9</td>\n",
       "      <td>14079</td>\n",
       "      <td>ribeirao preto / sao paulo</td>\n",
       "      <td>SP</td>\n",
       "      <td>NaN</td>\n",
       "    </tr>\n",
       "    <tr>\n",
       "      <th>2006</th>\n",
       "      <td>eb5b6204dde3a6e03b5f1bb8479f055b</td>\n",
       "      <td>6900</td>\n",
       "      <td>embu guacu</td>\n",
       "      <td>SP</td>\n",
       "      <td>NaN</td>\n",
       "    </tr>\n",
       "    <tr>\n",
       "      <th>2122</th>\n",
       "      <td>a5259c149128e82c9d6d46e0c1c812bb</td>\n",
       "      <td>76900</td>\n",
       "      <td>ji parana</td>\n",
       "      <td>RO</td>\n",
       "      <td>NaN</td>\n",
       "    </tr>\n",
       "    <tr>\n",
       "      <th>2162</th>\n",
       "      <td>a1bea7061f61f6fdd9a85a6325ba1033</td>\n",
       "      <td>6311</td>\n",
       "      <td>carapicuiba / sao paulo</td>\n",
       "      <td>SP</td>\n",
       "      <td>NaN</td>\n",
       "    </tr>\n",
       "    <tr>\n",
       "      <th>2183</th>\n",
       "      <td>d5c530f4884a75ae0dba9c148718d278</td>\n",
       "      <td>35660</td>\n",
       "      <td>centro</td>\n",
       "      <td>MG</td>\n",
       "      <td>NaN</td>\n",
       "    </tr>\n",
       "    <tr>\n",
       "      <th>2258</th>\n",
       "      <td>4b5f66b7adcf57f1ecc0d3c07dd6b177</td>\n",
       "      <td>87025</td>\n",
       "      <td>vendas@creditparts.com.br</td>\n",
       "      <td>PR</td>\n",
       "      <td>NaN</td>\n",
       "    </tr>\n",
       "    <tr>\n",
       "      <th>2380</th>\n",
       "      <td>1703bc09972dab9782e7a9194943b69f</td>\n",
       "      <td>37165</td>\n",
       "      <td>minas gerais</td>\n",
       "      <td>MG</td>\n",
       "      <td>NaN</td>\n",
       "    </tr>\n",
       "    <tr>\n",
       "      <th>2536</th>\n",
       "      <td>0b18d63d0cd1d723567903fd34a07df2</td>\n",
       "      <td>5141</td>\n",
       "      <td>sp</td>\n",
       "      <td>SP</td>\n",
       "      <td>NaN</td>\n",
       "    </tr>\n",
       "    <tr>\n",
       "      <th>2573</th>\n",
       "      <td>8f2ce03f928b567e3d56181ae20ae952</td>\n",
       "      <td>5141</td>\n",
       "      <td>pirituba</td>\n",
       "      <td>SP</td>\n",
       "      <td>NaN</td>\n",
       "    </tr>\n",
       "    <tr>\n",
       "      <th>2589</th>\n",
       "      <td>3a52d63a8f9daf5a28f3626d7eb9bd28</td>\n",
       "      <td>71900</td>\n",
       "      <td>aguas claras df</td>\n",
       "      <td>SP</td>\n",
       "      <td>NaN</td>\n",
       "    </tr>\n",
       "    <tr>\n",
       "      <th>2662</th>\n",
       "      <td>3c487ae8f8d7542beff5788e2e0aea83</td>\n",
       "      <td>72460</td>\n",
       "      <td>gama</td>\n",
       "      <td>DF</td>\n",
       "      <td>NaN</td>\n",
       "    </tr>\n",
       "    <tr>\n",
       "      <th>2918</th>\n",
       "      <td>7c51de0ab286204ce75ff42bf7c10d92</td>\n",
       "      <td>88380</td>\n",
       "      <td>picarras</td>\n",
       "      <td>SC</td>\n",
       "      <td>NaN</td>\n",
       "    </tr>\n",
       "  </tbody>\n",
       "</table>\n",
       "</div>"
      ],
      "text/plain": [
       "                             seller_id  seller_zip_code_prefix  \\\n",
       "287   9b013e03b2ab786505a1d3b5c0756754                   11450   \n",
       "405   4221a7df464f1fe2955934e30ff3a5a1                   48602   \n",
       "517   ceb7b4fb9401cd378de7886317ad1b47                   22790   \n",
       "869   cbf09e831b0c11f6f23ffb51004db972                    9726   \n",
       "1004  1cbd32d00d01bb8087a5eb088612fd9c                    3363   \n",
       "1050  ba8e85df286308fe68a2ce83a8f8b2d6                   88135   \n",
       "1117  16bdc8cefd0e32a6f0824d296c5ad14a                   12903   \n",
       "1246  2156f2671501a81034d7d07f217609d0                    4776   \n",
       "1712  6025c79c035c3d772133b8b8238463b2                   83327   \n",
       "1755  2c538755f1ca9540af144f266e70df6c                   39801   \n",
       "1814  da4d149c0ddbac90557103ac0a0ec356                    9861   \n",
       "1889  1de62b6f2fd96227629786db492433db                   16021   \n",
       "1920  01fd077212124329bac32490e8ef80d9                   14079   \n",
       "2006  eb5b6204dde3a6e03b5f1bb8479f055b                    6900   \n",
       "2122  a5259c149128e82c9d6d46e0c1c812bb                   76900   \n",
       "2162  a1bea7061f61f6fdd9a85a6325ba1033                    6311   \n",
       "2183  d5c530f4884a75ae0dba9c148718d278                   35660   \n",
       "2258  4b5f66b7adcf57f1ecc0d3c07dd6b177                   87025   \n",
       "2380  1703bc09972dab9782e7a9194943b69f                   37165   \n",
       "2536  0b18d63d0cd1d723567903fd34a07df2                    5141   \n",
       "2573  8f2ce03f928b567e3d56181ae20ae952                    5141   \n",
       "2589  3a52d63a8f9daf5a28f3626d7eb9bd28                   71900   \n",
       "2662  3c487ae8f8d7542beff5788e2e0aea83                   72460   \n",
       "2918  7c51de0ab286204ce75ff42bf7c10d92                   88380   \n",
       "\n",
       "                     seller_city seller_state seller_city_clean  \n",
       "287          vicente de carvalho           SP               NaN  \n",
       "405                        bahia           BA               NaN  \n",
       "517                     04482255           RJ               NaN  \n",
       "869                       sbc/sp           SP               NaN  \n",
       "1004                     sp / sp           SP               NaN  \n",
       "1050              santa catarina           SC               NaN  \n",
       "1117                          sp           SP               NaN  \n",
       "1246                          sp           SP               NaN  \n",
       "1712                  pinhais/pr           PR               NaN  \n",
       "1755                castro pires           MG               NaN  \n",
       "1814                         sbc           SP               NaN  \n",
       "1889                          sp           SP               NaN  \n",
       "1920  ribeirao preto / sao paulo           SP               NaN  \n",
       "2006                  embu guacu           SP               NaN  \n",
       "2122                   ji parana           RO               NaN  \n",
       "2162     carapicuiba / sao paulo           SP               NaN  \n",
       "2183                      centro           MG               NaN  \n",
       "2258   vendas@creditparts.com.br           PR               NaN  \n",
       "2380                minas gerais           MG               NaN  \n",
       "2536                          sp           SP               NaN  \n",
       "2573                    pirituba           SP               NaN  \n",
       "2589             aguas claras df           SP               NaN  \n",
       "2662                        gama           DF               NaN  \n",
       "2918                    picarras           SC               NaN  "
      ]
     },
     "execution_count": 132,
     "metadata": {},
     "output_type": "execute_result"
    }
   ],
   "source": [
    "df_sellers[df_sellers['seller_city_clean'].isna()]"
   ]
  },
  {
   "cell_type": "code",
   "execution_count": null,
   "id": "d462309e",
   "metadata": {},
   "outputs": [],
   "source": [
    "df_sellers.loc[df_sellers['seller_city'] == 'sp','seller_city_clean'] = 'São Paulo'\n",
    "df_sellers.loc[df_sellers['seller_city'] == 'sp/sp','seller_city_clean'] = 'São Paulo'\n",
    "df_sellers.loc[df_sellers['seller_city'] == 'sp / sp','seller_city_clean'] = 'São Paulo'\n",
    "df_sellers.loc[df_sellers['seller_city'] == 'sbc/sp','seller_city_clean'] = 'São Bernardo do Campo'\n",
    "df_sellers.loc[df_sellers['seller_city'] == 'sbc','seller_city_clean'] = 'São Bernardo do Campo'"
   ]
  },
  {
   "cell_type": "code",
   "execution_count": 139,
   "id": "ce4badb9",
   "metadata": {},
   "outputs": [
    {
     "data": {
      "application/vnd.microsoft.datawrangler.viewer.v0+json": {
       "columns": [
        {
         "name": "index",
         "rawType": "int64",
         "type": "integer"
        },
        {
         "name": "seller_id",
         "rawType": "object",
         "type": "string"
        },
        {
         "name": "seller_zip_code_prefix",
         "rawType": "int64",
         "type": "integer"
        },
        {
         "name": "seller_city",
         "rawType": "object",
         "type": "string"
        },
        {
         "name": "seller_state",
         "rawType": "object",
         "type": "string"
        },
        {
         "name": "seller_city_clean",
         "rawType": "object",
         "type": "unknown"
        }
       ],
       "ref": "d2e778ab-980d-4727-95a4-9f1dd9c9bc11",
       "rows": [
        [
         "287",
         "9b013e03b2ab786505a1d3b5c0756754",
         "11450",
         "vicente de carvalho",
         "SP",
         null
        ],
        [
         "405",
         "4221a7df464f1fe2955934e30ff3a5a1",
         "48602",
         "bahia",
         "BA",
         null
        ],
        [
         "517",
         "ceb7b4fb9401cd378de7886317ad1b47",
         "22790",
         "04482255",
         "RJ",
         null
        ],
        [
         "1050",
         "ba8e85df286308fe68a2ce83a8f8b2d6",
         "88135",
         "santa catarina",
         "SC",
         null
        ],
        [
         "1712",
         "6025c79c035c3d772133b8b8238463b2",
         "83327",
         "pinhais/pr",
         "PR",
         null
        ],
        [
         "1755",
         "2c538755f1ca9540af144f266e70df6c",
         "39801",
         "castro pires",
         "MG",
         null
        ],
        [
         "1920",
         "01fd077212124329bac32490e8ef80d9",
         "14079",
         "ribeirao preto / sao paulo",
         "SP",
         null
        ],
        [
         "2006",
         "eb5b6204dde3a6e03b5f1bb8479f055b",
         "6900",
         "embu guacu",
         "SP",
         null
        ],
        [
         "2122",
         "a5259c149128e82c9d6d46e0c1c812bb",
         "76900",
         "ji parana",
         "RO",
         null
        ],
        [
         "2162",
         "a1bea7061f61f6fdd9a85a6325ba1033",
         "6311",
         "carapicuiba / sao paulo",
         "SP",
         null
        ],
        [
         "2183",
         "d5c530f4884a75ae0dba9c148718d278",
         "35660",
         "centro",
         "MG",
         null
        ],
        [
         "2258",
         "4b5f66b7adcf57f1ecc0d3c07dd6b177",
         "87025",
         "vendas@creditparts.com.br",
         "PR",
         null
        ],
        [
         "2380",
         "1703bc09972dab9782e7a9194943b69f",
         "37165",
         "minas gerais",
         "MG",
         null
        ],
        [
         "2573",
         "8f2ce03f928b567e3d56181ae20ae952",
         "5141",
         "pirituba",
         "SP",
         null
        ],
        [
         "2589",
         "3a52d63a8f9daf5a28f3626d7eb9bd28",
         "71900",
         "aguas claras df",
         "SP",
         null
        ],
        [
         "2662",
         "3c487ae8f8d7542beff5788e2e0aea83",
         "72460",
         "gama",
         "DF",
         null
        ],
        [
         "2918",
         "7c51de0ab286204ce75ff42bf7c10d92",
         "88380",
         "picarras",
         "SC",
         null
        ]
       ],
       "shape": {
        "columns": 5,
        "rows": 17
       }
      },
      "text/html": [
       "<div>\n",
       "<style scoped>\n",
       "    .dataframe tbody tr th:only-of-type {\n",
       "        vertical-align: middle;\n",
       "    }\n",
       "\n",
       "    .dataframe tbody tr th {\n",
       "        vertical-align: top;\n",
       "    }\n",
       "\n",
       "    .dataframe thead th {\n",
       "        text-align: right;\n",
       "    }\n",
       "</style>\n",
       "<table border=\"1\" class=\"dataframe\">\n",
       "  <thead>\n",
       "    <tr style=\"text-align: right;\">\n",
       "      <th></th>\n",
       "      <th>seller_id</th>\n",
       "      <th>seller_zip_code_prefix</th>\n",
       "      <th>seller_city</th>\n",
       "      <th>seller_state</th>\n",
       "      <th>seller_city_clean</th>\n",
       "    </tr>\n",
       "  </thead>\n",
       "  <tbody>\n",
       "    <tr>\n",
       "      <th>287</th>\n",
       "      <td>9b013e03b2ab786505a1d3b5c0756754</td>\n",
       "      <td>11450</td>\n",
       "      <td>vicente de carvalho</td>\n",
       "      <td>SP</td>\n",
       "      <td>NaN</td>\n",
       "    </tr>\n",
       "    <tr>\n",
       "      <th>405</th>\n",
       "      <td>4221a7df464f1fe2955934e30ff3a5a1</td>\n",
       "      <td>48602</td>\n",
       "      <td>bahia</td>\n",
       "      <td>BA</td>\n",
       "      <td>NaN</td>\n",
       "    </tr>\n",
       "    <tr>\n",
       "      <th>517</th>\n",
       "      <td>ceb7b4fb9401cd378de7886317ad1b47</td>\n",
       "      <td>22790</td>\n",
       "      <td>04482255</td>\n",
       "      <td>RJ</td>\n",
       "      <td>NaN</td>\n",
       "    </tr>\n",
       "    <tr>\n",
       "      <th>1050</th>\n",
       "      <td>ba8e85df286308fe68a2ce83a8f8b2d6</td>\n",
       "      <td>88135</td>\n",
       "      <td>santa catarina</td>\n",
       "      <td>SC</td>\n",
       "      <td>NaN</td>\n",
       "    </tr>\n",
       "    <tr>\n",
       "      <th>1712</th>\n",
       "      <td>6025c79c035c3d772133b8b8238463b2</td>\n",
       "      <td>83327</td>\n",
       "      <td>pinhais/pr</td>\n",
       "      <td>PR</td>\n",
       "      <td>NaN</td>\n",
       "    </tr>\n",
       "    <tr>\n",
       "      <th>1755</th>\n",
       "      <td>2c538755f1ca9540af144f266e70df6c</td>\n",
       "      <td>39801</td>\n",
       "      <td>castro pires</td>\n",
       "      <td>MG</td>\n",
       "      <td>NaN</td>\n",
       "    </tr>\n",
       "    <tr>\n",
       "      <th>1920</th>\n",
       "      <td>01fd077212124329bac32490e8ef80d9</td>\n",
       "      <td>14079</td>\n",
       "      <td>ribeirao preto / sao paulo</td>\n",
       "      <td>SP</td>\n",
       "      <td>NaN</td>\n",
       "    </tr>\n",
       "    <tr>\n",
       "      <th>2006</th>\n",
       "      <td>eb5b6204dde3a6e03b5f1bb8479f055b</td>\n",
       "      <td>6900</td>\n",
       "      <td>embu guacu</td>\n",
       "      <td>SP</td>\n",
       "      <td>NaN</td>\n",
       "    </tr>\n",
       "    <tr>\n",
       "      <th>2122</th>\n",
       "      <td>a5259c149128e82c9d6d46e0c1c812bb</td>\n",
       "      <td>76900</td>\n",
       "      <td>ji parana</td>\n",
       "      <td>RO</td>\n",
       "      <td>NaN</td>\n",
       "    </tr>\n",
       "    <tr>\n",
       "      <th>2162</th>\n",
       "      <td>a1bea7061f61f6fdd9a85a6325ba1033</td>\n",
       "      <td>6311</td>\n",
       "      <td>carapicuiba / sao paulo</td>\n",
       "      <td>SP</td>\n",
       "      <td>NaN</td>\n",
       "    </tr>\n",
       "    <tr>\n",
       "      <th>2183</th>\n",
       "      <td>d5c530f4884a75ae0dba9c148718d278</td>\n",
       "      <td>35660</td>\n",
       "      <td>centro</td>\n",
       "      <td>MG</td>\n",
       "      <td>NaN</td>\n",
       "    </tr>\n",
       "    <tr>\n",
       "      <th>2258</th>\n",
       "      <td>4b5f66b7adcf57f1ecc0d3c07dd6b177</td>\n",
       "      <td>87025</td>\n",
       "      <td>vendas@creditparts.com.br</td>\n",
       "      <td>PR</td>\n",
       "      <td>NaN</td>\n",
       "    </tr>\n",
       "    <tr>\n",
       "      <th>2380</th>\n",
       "      <td>1703bc09972dab9782e7a9194943b69f</td>\n",
       "      <td>37165</td>\n",
       "      <td>minas gerais</td>\n",
       "      <td>MG</td>\n",
       "      <td>NaN</td>\n",
       "    </tr>\n",
       "    <tr>\n",
       "      <th>2573</th>\n",
       "      <td>8f2ce03f928b567e3d56181ae20ae952</td>\n",
       "      <td>5141</td>\n",
       "      <td>pirituba</td>\n",
       "      <td>SP</td>\n",
       "      <td>NaN</td>\n",
       "    </tr>\n",
       "    <tr>\n",
       "      <th>2589</th>\n",
       "      <td>3a52d63a8f9daf5a28f3626d7eb9bd28</td>\n",
       "      <td>71900</td>\n",
       "      <td>aguas claras df</td>\n",
       "      <td>SP</td>\n",
       "      <td>NaN</td>\n",
       "    </tr>\n",
       "    <tr>\n",
       "      <th>2662</th>\n",
       "      <td>3c487ae8f8d7542beff5788e2e0aea83</td>\n",
       "      <td>72460</td>\n",
       "      <td>gama</td>\n",
       "      <td>DF</td>\n",
       "      <td>NaN</td>\n",
       "    </tr>\n",
       "    <tr>\n",
       "      <th>2918</th>\n",
       "      <td>7c51de0ab286204ce75ff42bf7c10d92</td>\n",
       "      <td>88380</td>\n",
       "      <td>picarras</td>\n",
       "      <td>SC</td>\n",
       "      <td>NaN</td>\n",
       "    </tr>\n",
       "  </tbody>\n",
       "</table>\n",
       "</div>"
      ],
      "text/plain": [
       "                             seller_id  seller_zip_code_prefix  \\\n",
       "287   9b013e03b2ab786505a1d3b5c0756754                   11450   \n",
       "405   4221a7df464f1fe2955934e30ff3a5a1                   48602   \n",
       "517   ceb7b4fb9401cd378de7886317ad1b47                   22790   \n",
       "1050  ba8e85df286308fe68a2ce83a8f8b2d6                   88135   \n",
       "1712  6025c79c035c3d772133b8b8238463b2                   83327   \n",
       "1755  2c538755f1ca9540af144f266e70df6c                   39801   \n",
       "1920  01fd077212124329bac32490e8ef80d9                   14079   \n",
       "2006  eb5b6204dde3a6e03b5f1bb8479f055b                    6900   \n",
       "2122  a5259c149128e82c9d6d46e0c1c812bb                   76900   \n",
       "2162  a1bea7061f61f6fdd9a85a6325ba1033                    6311   \n",
       "2183  d5c530f4884a75ae0dba9c148718d278                   35660   \n",
       "2258  4b5f66b7adcf57f1ecc0d3c07dd6b177                   87025   \n",
       "2380  1703bc09972dab9782e7a9194943b69f                   37165   \n",
       "2573  8f2ce03f928b567e3d56181ae20ae952                    5141   \n",
       "2589  3a52d63a8f9daf5a28f3626d7eb9bd28                   71900   \n",
       "2662  3c487ae8f8d7542beff5788e2e0aea83                   72460   \n",
       "2918  7c51de0ab286204ce75ff42bf7c10d92                   88380   \n",
       "\n",
       "                     seller_city seller_state seller_city_clean  \n",
       "287          vicente de carvalho           SP               NaN  \n",
       "405                        bahia           BA               NaN  \n",
       "517                     04482255           RJ               NaN  \n",
       "1050              santa catarina           SC               NaN  \n",
       "1712                  pinhais/pr           PR               NaN  \n",
       "1755                castro pires           MG               NaN  \n",
       "1920  ribeirao preto / sao paulo           SP               NaN  \n",
       "2006                  embu guacu           SP               NaN  \n",
       "2122                   ji parana           RO               NaN  \n",
       "2162     carapicuiba / sao paulo           SP               NaN  \n",
       "2183                      centro           MG               NaN  \n",
       "2258   vendas@creditparts.com.br           PR               NaN  \n",
       "2380                minas gerais           MG               NaN  \n",
       "2573                    pirituba           SP               NaN  \n",
       "2589             aguas claras df           SP               NaN  \n",
       "2662                        gama           DF               NaN  \n",
       "2918                    picarras           SC               NaN  "
      ]
     },
     "execution_count": 139,
     "metadata": {},
     "output_type": "execute_result"
    }
   ],
   "source": [
    "df_sellers[df_sellers['seller_city_clean'].isna()]"
   ]
  },
  {
   "cell_type": "code",
   "execution_count": null,
   "id": "dc737ae7",
   "metadata": {},
   "outputs": [
    {
     "data": {
      "application/vnd.microsoft.datawrangler.viewer.v0+json": {
       "columns": [
        {
         "name": "index",
         "rawType": "int64",
         "type": "integer"
        },
        {
         "name": "seller_id",
         "rawType": "object",
         "type": "string"
        },
        {
         "name": "seller_zip_code_prefix",
         "rawType": "int64",
         "type": "integer"
        },
        {
         "name": "seller_city",
         "rawType": "object",
         "type": "string"
        },
        {
         "name": "seller_state",
         "rawType": "object",
         "type": "string"
        },
        {
         "name": "seller_city_clean",
         "rawType": "object",
         "type": "unknown"
        }
       ],
       "ref": "2e0e1b70-23e6-4932-bc20-d759857cbb10",
       "rows": [
        [
         "405",
         "4221a7df464f1fe2955934e30ff3a5a1",
         "48602",
         "bahia",
         "BA",
         null
        ],
        [
         "1755",
         "2c538755f1ca9540af144f266e70df6c",
         "39801",
         "castro pires",
         "MG",
         null
        ],
        [
         "2006",
         "eb5b6204dde3a6e03b5f1bb8479f055b",
         "6900",
         "embu guacu",
         "SP",
         null
        ],
        [
         "2122",
         "a5259c149128e82c9d6d46e0c1c812bb",
         "76900",
         "ji parana",
         "RO",
         null
        ],
        [
         "2183",
         "d5c530f4884a75ae0dba9c148718d278",
         "35660",
         "centro",
         "MG",
         null
        ],
        [
         "2589",
         "3a52d63a8f9daf5a28f3626d7eb9bd28",
         "71900",
         "aguas claras df",
         "SP",
         null
        ]
       ],
       "shape": {
        "columns": 5,
        "rows": 6
       }
      },
      "text/html": [
       "<div>\n",
       "<style scoped>\n",
       "    .dataframe tbody tr th:only-of-type {\n",
       "        vertical-align: middle;\n",
       "    }\n",
       "\n",
       "    .dataframe tbody tr th {\n",
       "        vertical-align: top;\n",
       "    }\n",
       "\n",
       "    .dataframe thead th {\n",
       "        text-align: right;\n",
       "    }\n",
       "</style>\n",
       "<table border=\"1\" class=\"dataframe\">\n",
       "  <thead>\n",
       "    <tr style=\"text-align: right;\">\n",
       "      <th></th>\n",
       "      <th>seller_id</th>\n",
       "      <th>seller_zip_code_prefix</th>\n",
       "      <th>seller_city</th>\n",
       "      <th>seller_state</th>\n",
       "      <th>seller_city_clean</th>\n",
       "    </tr>\n",
       "  </thead>\n",
       "  <tbody>\n",
       "    <tr>\n",
       "      <th>405</th>\n",
       "      <td>4221a7df464f1fe2955934e30ff3a5a1</td>\n",
       "      <td>48602</td>\n",
       "      <td>bahia</td>\n",
       "      <td>BA</td>\n",
       "      <td>None</td>\n",
       "    </tr>\n",
       "    <tr>\n",
       "      <th>1755</th>\n",
       "      <td>2c538755f1ca9540af144f266e70df6c</td>\n",
       "      <td>39801</td>\n",
       "      <td>castro pires</td>\n",
       "      <td>MG</td>\n",
       "      <td>None</td>\n",
       "    </tr>\n",
       "    <tr>\n",
       "      <th>2006</th>\n",
       "      <td>eb5b6204dde3a6e03b5f1bb8479f055b</td>\n",
       "      <td>6900</td>\n",
       "      <td>embu guacu</td>\n",
       "      <td>SP</td>\n",
       "      <td>None</td>\n",
       "    </tr>\n",
       "    <tr>\n",
       "      <th>2122</th>\n",
       "      <td>a5259c149128e82c9d6d46e0c1c812bb</td>\n",
       "      <td>76900</td>\n",
       "      <td>ji parana</td>\n",
       "      <td>RO</td>\n",
       "      <td>None</td>\n",
       "    </tr>\n",
       "    <tr>\n",
       "      <th>2183</th>\n",
       "      <td>d5c530f4884a75ae0dba9c148718d278</td>\n",
       "      <td>35660</td>\n",
       "      <td>centro</td>\n",
       "      <td>MG</td>\n",
       "      <td>None</td>\n",
       "    </tr>\n",
       "    <tr>\n",
       "      <th>2589</th>\n",
       "      <td>3a52d63a8f9daf5a28f3626d7eb9bd28</td>\n",
       "      <td>71900</td>\n",
       "      <td>aguas claras df</td>\n",
       "      <td>SP</td>\n",
       "      <td>None</td>\n",
       "    </tr>\n",
       "  </tbody>\n",
       "</table>\n",
       "</div>"
      ],
      "text/plain": [
       "                             seller_id  seller_zip_code_prefix  \\\n",
       "405   4221a7df464f1fe2955934e30ff3a5a1                   48602   \n",
       "1755  2c538755f1ca9540af144f266e70df6c                   39801   \n",
       "2006  eb5b6204dde3a6e03b5f1bb8479f055b                    6900   \n",
       "2122  a5259c149128e82c9d6d46e0c1c812bb                   76900   \n",
       "2183  d5c530f4884a75ae0dba9c148718d278                   35660   \n",
       "2589  3a52d63a8f9daf5a28f3626d7eb9bd28                   71900   \n",
       "\n",
       "          seller_city seller_state seller_city_clean  \n",
       "405             bahia           BA              None  \n",
       "1755     castro pires           MG              None  \n",
       "2006       embu guacu           SP              None  \n",
       "2122        ji parana           RO              None  \n",
       "2183           centro           MG              None  \n",
       "2589  aguas claras df           SP              None  "
      ]
     },
     "execution_count": 152,
     "metadata": {},
     "output_type": "execute_result"
    }
   ],
   "source": [
    "df_sellers.loc[\n",
    "    df_sellers['seller_city_clean'].isna(),'seller_city_clean'] = df_sellers.loc[\n",
    "        df_sellers['seller_city_clean'].isna(), 'seller_zip_code_prefix'].apply(\n",
    "            lambda cep: consulta_cep(str(int(cep)))['localidade'] if pd.notna(cep) else None\n",
    ")\n",
    "df_sellers[df_sellers['seller_city_clean'].isna()]"
   ]
  },
  {
   "cell_type": "code",
   "execution_count": null,
   "metadata": {},
   "outputs": [
    {
     "data": {
      "application/vnd.microsoft.datawrangler.viewer.v0+json": {
       "columns": [
        {
         "name": "index",
         "rawType": "int64",
         "type": "integer"
        },
        {
         "name": "seller_id",
         "rawType": "object",
         "type": "string"
        },
        {
         "name": "seller_zip_code_prefix",
         "rawType": "int64",
         "type": "integer"
        },
        {
         "name": "seller_city",
         "rawType": "object",
         "type": "string"
        },
        {
         "name": "seller_state",
         "rawType": "object",
         "type": "string"
        },
        {
         "name": "seller_city_clean",
         "rawType": "object",
         "type": "string"
        }
       ],
       "ref": "d1b17dc4-b0a1-463a-8167-82d823603250",
       "rows": [],
       "shape": {
        "columns": 5,
        "rows": 0
       }
      },
      "text/html": [
       "<div>\n",
       "<style scoped>\n",
       "    .dataframe tbody tr th:only-of-type {\n",
       "        vertical-align: middle;\n",
       "    }\n",
       "\n",
       "    .dataframe tbody tr th {\n",
       "        vertical-align: top;\n",
       "    }\n",
       "\n",
       "    .dataframe thead th {\n",
       "        text-align: right;\n",
       "    }\n",
       "</style>\n",
       "<table border=\"1\" class=\"dataframe\">\n",
       "  <thead>\n",
       "    <tr style=\"text-align: right;\">\n",
       "      <th></th>\n",
       "      <th>seller_id</th>\n",
       "      <th>seller_zip_code_prefix</th>\n",
       "      <th>seller_city</th>\n",
       "      <th>seller_state</th>\n",
       "      <th>seller_city_clean</th>\n",
       "    </tr>\n",
       "  </thead>\n",
       "  <tbody>\n",
       "  </tbody>\n",
       "</table>\n",
       "</div>"
      ],
      "text/plain": [
       "Empty DataFrame\n",
       "Columns: [seller_id, seller_zip_code_prefix, seller_city, seller_state, seller_city_clean]\n",
       "Index: []"
      ]
     },
     "execution_count": 154,
     "metadata": {},
     "output_type": "execute_result"
    }
   ],
   "source": [
    "df_sellers.loc[405,'seller_city_clean'] = '\tPaulo Afonso'\n",
    "df_sellers.loc[1755,'seller_city_clean'] = 'Teófilo Otoni'\n",
    "df_sellers.loc[2006,'seller_city_clean'] = 'Embu-Guaçu'\n",
    "df_sellers.loc[2122,'seller_city_clean'] = 'Ji-Paraná'\n",
    "df_sellers.loc[2183,'seller_city_clean'] = 'Pará de Minas'\n",
    "df_sellers.loc[2589,'seller_city_clean'] = 'Brasília'\n",
    "df_sellers.loc[2589,'seller_state'] = 'DF' #The state was wrong\n",
    "\n",
    "df_sellers[df_sellers['seller_city_clean'].isna()]"
   ]
  },
  {
   "cell_type": "code",
   "execution_count": null,
   "id": "ff976c18",
   "metadata": {},
   "outputs": [],
   "source": [
    "\n",
    "df_sellers['seller_city'] = df_sellers['seller_city_clean']\n",
    "df_sellers.drop(columns=['seller_city_clean'], inplace=True)"
   ]
  },
  {
   "cell_type": "markdown",
   "id": "bdabcddc",
   "metadata": {},
   "source": [
    "### City normalization and validation - df_customers"
   ]
  },
  {
   "cell_type": "code",
   "execution_count": 176,
   "id": "b2368ef7",
   "metadata": {},
   "outputs": [
    {
     "data": {
      "text/plain": [
       "{'nossa senhora do remedio': 'Nossa Senhora dos Remédios',\n",
       " 'santa isabel do para': 'Santa Izabel do Pará',\n",
       " 'sao thome das letras': 'São Tomé das Letras',\n",
       " 'santana do livramento': \"Sant'Ana do Livramento\",\n",
       " 'araguaia': 'Araguaína',\n",
       " 'palmeirinha': 'Palmeirina',\n",
       " 'santa rita do ibitipoca': 'Santa Rita de Ibitipoca',\n",
       " 'couto de magalhaes': 'Couto Magalhães',\n",
       " 'holambra ii': 'Holambra',\n",
       " 'monte verde': 'Nova Monte Verde',\n",
       " 'sao luis do paraitinga': 'São Luiz do Paraitinga',\n",
       " 'alexandrita': 'Alexandria',\n",
       " 'santa barbara d oeste': \"Santa Bárbara d'Oeste\",\n",
       " 'alexandra': 'Alexandria',\n",
       " 'graccho cardoso': 'Gracho Cardoso',\n",
       " 'vitorinos': 'Vitorino',\n",
       " \"olhos d'agua\": \"Olho d'Água\"}"
      ]
     },
     "execution_count": 176,
     "metadata": {},
     "output_type": "execute_result"
    }
   ],
   "source": [
    "#df_customers[df_customers['customer_city_clean'].isna()]['customer_city'].unique()\n",
    "\n",
    "corrections = {}\n",
    "\n",
    "for city in df_customers[df_customers['customer_city_clean'].isna()]['customer_city'].unique():\n",
    "    match, score, _ = process.extractOne(city, cdf_cities['city_norm'])\n",
    "    if score > 94:\n",
    "        corrections[city] = cdf_cities.loc[cdf_cities['city_norm'] == match, 'city'].iloc[0]\n",
    "\n",
    "corrections\n"
   ]
  },
  {
   "cell_type": "code",
   "execution_count": 177,
   "id": "ed7a8199",
   "metadata": {},
   "outputs": [
    {
     "data": {
      "text/plain": [
       "np.int64(596)"
      ]
     },
     "execution_count": 177,
     "metadata": {},
     "output_type": "execute_result"
    }
   ],
   "source": [
    "df_customers.loc[\n",
    "    df_customers['customer_city_clean'].isna(),'customer_city_clean'] = df_customers.loc[df_customers['customer_city_clean'].isna(), 'customer_city'].map(corrections)\n",
    "\n",
    "df_customers['customer_city_clean'].isna().sum() "
   ]
  },
  {
   "cell_type": "markdown",
   "id": "62100dad",
   "metadata": {},
   "source": [
    "- Using a local dataset of ZIP code to check products, due the high number of entries"
   ]
  },
  {
   "cell_type": "code",
   "execution_count": null,
   "id": "7159f90d",
   "metadata": {},
   "outputs": [
    {
     "data": {
      "application/vnd.microsoft.datawrangler.viewer.v0+json": {
       "columns": [
        {
         "name": "index",
         "rawType": "int64",
         "type": "integer"
        },
        {
         "name": "customer_id",
         "rawType": "object",
         "type": "string"
        },
        {
         "name": "customer_unique_id",
         "rawType": "object",
         "type": "string"
        },
        {
         "name": "customer_zip_code_prefix",
         "rawType": "int64",
         "type": "integer"
        },
        {
         "name": "customer_city",
         "rawType": "object",
         "type": "string"
        },
        {
         "name": "customer_state",
         "rawType": "object",
         "type": "string"
        },
        {
         "name": "customer_city_clean",
         "rawType": "object",
         "type": "unknown"
        },
        {
         "name": "cep_expandido",
         "rawType": "int64",
         "type": "integer"
        }
       ],
       "ref": "4f6a0cb6-732a-4544-822d-16089af165a7",
       "rows": [
        [
         "706",
         "22a3b0e62211d8e0e28e374ce3cb6041",
         "3f9d987156fddc08ef77f52d1a15c073",
         "13840",
         "mogi-guacu",
         "SP",
         null,
         "13840000"
        ],
        [
         "2079",
         "7c029959cc691fbe5dba3ce8eee98d14",
         "7582c4e0a81c88f5ea0ead98b083b876",
         "13840",
         "mogi-guacu",
         "SP",
         null,
         "13840000"
        ],
        [
         "22204",
         "d3c7d2b32f278d3699a3e7376f85155b",
         "ad27629d4a95f815f18cd46f1844e1ca",
         "13840",
         "mogi-guacu",
         "SP",
         null,
         "13840000"
        ],
        [
         "24338",
         "9f5e69f7ce7e79aed191386f8104163c",
         "0c2af34ba2bedcc4360ecec5c55affe8",
         "13840",
         "mogi-guacu",
         "SP",
         null,
         "13840000"
        ],
        [
         "27190",
         "1a6cb0e076784a5e73557aa5defd660a",
         "0d062c3c954a9f461c2be3e19cb99ae2",
         "13840",
         "mogi-guacu",
         "SP",
         null,
         "13840000"
        ],
        [
         "48964",
         "20a91cc566729229f1ab38edb706469a",
         "fa6eee120fe649146270cc68a4034d42",
         "13840",
         "mogi-guacu",
         "SP",
         null,
         "13840000"
        ],
        [
         "85433",
         "afb2a83dca79aa34aa11d9e0843382f1",
         "695dee4c200e4cabdfdb01287f5fd29d",
         "13840",
         "mogi-guacu",
         "SP",
         null,
         "13840000"
        ],
        [
         "85917",
         "a4fdabd3329523ce20c34c680ec39839",
         "178330f0a0bcf3f47c935efa2a1973c7",
         "13840",
         "mogi-guacu",
         "SP",
         null,
         "13840000"
        ],
        [
         "89407",
         "92e61855ad557bd19a438abcb81b3c9c",
         "9625bdf299ab055652667ac9429ffffe",
         "13840",
         "mogi-guacu",
         "SP",
         null,
         "13840000"
        ],
        [
         "91094",
         "f4db8db2617de3def6b82bc375ecb725",
         "3f10448ee7afd7fe6bf60e78cb53e776",
         "13840",
         "mogi-guacu",
         "SP",
         null,
         "13840000"
        ],
        [
         "91566",
         "946832699a5d660dcdfed91bc6346cbb",
         "695dee4c200e4cabdfdb01287f5fd29d",
         "13840",
         "mogi-guacu",
         "SP",
         null,
         "13840000"
        ],
        [
         "99216",
         "94411d511cb2997df74f9984543492e9",
         "b77a6fda8d224e6c228f95918b1d0855",
         "13840",
         "mogi-guacu",
         "SP",
         null,
         "13840000"
        ]
       ],
       "shape": {
        "columns": 7,
        "rows": 12
       }
      },
      "text/html": [
       "<div>\n",
       "<style scoped>\n",
       "    .dataframe tbody tr th:only-of-type {\n",
       "        vertical-align: middle;\n",
       "    }\n",
       "\n",
       "    .dataframe tbody tr th {\n",
       "        vertical-align: top;\n",
       "    }\n",
       "\n",
       "    .dataframe thead th {\n",
       "        text-align: right;\n",
       "    }\n",
       "</style>\n",
       "<table border=\"1\" class=\"dataframe\">\n",
       "  <thead>\n",
       "    <tr style=\"text-align: right;\">\n",
       "      <th></th>\n",
       "      <th>customer_id</th>\n",
       "      <th>customer_unique_id</th>\n",
       "      <th>customer_zip_code_prefix</th>\n",
       "      <th>customer_city</th>\n",
       "      <th>customer_state</th>\n",
       "      <th>customer_city_clean</th>\n",
       "      <th>cep_expandido</th>\n",
       "    </tr>\n",
       "  </thead>\n",
       "  <tbody>\n",
       "    <tr>\n",
       "      <th>706</th>\n",
       "      <td>22a3b0e62211d8e0e28e374ce3cb6041</td>\n",
       "      <td>3f9d987156fddc08ef77f52d1a15c073</td>\n",
       "      <td>13840</td>\n",
       "      <td>mogi-guacu</td>\n",
       "      <td>SP</td>\n",
       "      <td>None</td>\n",
       "      <td>13840000</td>\n",
       "    </tr>\n",
       "    <tr>\n",
       "      <th>2079</th>\n",
       "      <td>7c029959cc691fbe5dba3ce8eee98d14</td>\n",
       "      <td>7582c4e0a81c88f5ea0ead98b083b876</td>\n",
       "      <td>13840</td>\n",
       "      <td>mogi-guacu</td>\n",
       "      <td>SP</td>\n",
       "      <td>None</td>\n",
       "      <td>13840000</td>\n",
       "    </tr>\n",
       "    <tr>\n",
       "      <th>22204</th>\n",
       "      <td>d3c7d2b32f278d3699a3e7376f85155b</td>\n",
       "      <td>ad27629d4a95f815f18cd46f1844e1ca</td>\n",
       "      <td>13840</td>\n",
       "      <td>mogi-guacu</td>\n",
       "      <td>SP</td>\n",
       "      <td>None</td>\n",
       "      <td>13840000</td>\n",
       "    </tr>\n",
       "    <tr>\n",
       "      <th>24338</th>\n",
       "      <td>9f5e69f7ce7e79aed191386f8104163c</td>\n",
       "      <td>0c2af34ba2bedcc4360ecec5c55affe8</td>\n",
       "      <td>13840</td>\n",
       "      <td>mogi-guacu</td>\n",
       "      <td>SP</td>\n",
       "      <td>None</td>\n",
       "      <td>13840000</td>\n",
       "    </tr>\n",
       "    <tr>\n",
       "      <th>27190</th>\n",
       "      <td>1a6cb0e076784a5e73557aa5defd660a</td>\n",
       "      <td>0d062c3c954a9f461c2be3e19cb99ae2</td>\n",
       "      <td>13840</td>\n",
       "      <td>mogi-guacu</td>\n",
       "      <td>SP</td>\n",
       "      <td>None</td>\n",
       "      <td>13840000</td>\n",
       "    </tr>\n",
       "    <tr>\n",
       "      <th>48964</th>\n",
       "      <td>20a91cc566729229f1ab38edb706469a</td>\n",
       "      <td>fa6eee120fe649146270cc68a4034d42</td>\n",
       "      <td>13840</td>\n",
       "      <td>mogi-guacu</td>\n",
       "      <td>SP</td>\n",
       "      <td>None</td>\n",
       "      <td>13840000</td>\n",
       "    </tr>\n",
       "    <tr>\n",
       "      <th>85433</th>\n",
       "      <td>afb2a83dca79aa34aa11d9e0843382f1</td>\n",
       "      <td>695dee4c200e4cabdfdb01287f5fd29d</td>\n",
       "      <td>13840</td>\n",
       "      <td>mogi-guacu</td>\n",
       "      <td>SP</td>\n",
       "      <td>None</td>\n",
       "      <td>13840000</td>\n",
       "    </tr>\n",
       "    <tr>\n",
       "      <th>85917</th>\n",
       "      <td>a4fdabd3329523ce20c34c680ec39839</td>\n",
       "      <td>178330f0a0bcf3f47c935efa2a1973c7</td>\n",
       "      <td>13840</td>\n",
       "      <td>mogi-guacu</td>\n",
       "      <td>SP</td>\n",
       "      <td>None</td>\n",
       "      <td>13840000</td>\n",
       "    </tr>\n",
       "    <tr>\n",
       "      <th>89407</th>\n",
       "      <td>92e61855ad557bd19a438abcb81b3c9c</td>\n",
       "      <td>9625bdf299ab055652667ac9429ffffe</td>\n",
       "      <td>13840</td>\n",
       "      <td>mogi-guacu</td>\n",
       "      <td>SP</td>\n",
       "      <td>None</td>\n",
       "      <td>13840000</td>\n",
       "    </tr>\n",
       "    <tr>\n",
       "      <th>91094</th>\n",
       "      <td>f4db8db2617de3def6b82bc375ecb725</td>\n",
       "      <td>3f10448ee7afd7fe6bf60e78cb53e776</td>\n",
       "      <td>13840</td>\n",
       "      <td>mogi-guacu</td>\n",
       "      <td>SP</td>\n",
       "      <td>None</td>\n",
       "      <td>13840000</td>\n",
       "    </tr>\n",
       "    <tr>\n",
       "      <th>91566</th>\n",
       "      <td>946832699a5d660dcdfed91bc6346cbb</td>\n",
       "      <td>695dee4c200e4cabdfdb01287f5fd29d</td>\n",
       "      <td>13840</td>\n",
       "      <td>mogi-guacu</td>\n",
       "      <td>SP</td>\n",
       "      <td>None</td>\n",
       "      <td>13840000</td>\n",
       "    </tr>\n",
       "    <tr>\n",
       "      <th>99216</th>\n",
       "      <td>94411d511cb2997df74f9984543492e9</td>\n",
       "      <td>b77a6fda8d224e6c228f95918b1d0855</td>\n",
       "      <td>13840</td>\n",
       "      <td>mogi-guacu</td>\n",
       "      <td>SP</td>\n",
       "      <td>None</td>\n",
       "      <td>13840000</td>\n",
       "    </tr>\n",
       "  </tbody>\n",
       "</table>\n",
       "</div>"
      ],
      "text/plain": [
       "                            customer_id                customer_unique_id  \\\n",
       "706    22a3b0e62211d8e0e28e374ce3cb6041  3f9d987156fddc08ef77f52d1a15c073   \n",
       "2079   7c029959cc691fbe5dba3ce8eee98d14  7582c4e0a81c88f5ea0ead98b083b876   \n",
       "22204  d3c7d2b32f278d3699a3e7376f85155b  ad27629d4a95f815f18cd46f1844e1ca   \n",
       "24338  9f5e69f7ce7e79aed191386f8104163c  0c2af34ba2bedcc4360ecec5c55affe8   \n",
       "27190  1a6cb0e076784a5e73557aa5defd660a  0d062c3c954a9f461c2be3e19cb99ae2   \n",
       "48964  20a91cc566729229f1ab38edb706469a  fa6eee120fe649146270cc68a4034d42   \n",
       "85433  afb2a83dca79aa34aa11d9e0843382f1  695dee4c200e4cabdfdb01287f5fd29d   \n",
       "85917  a4fdabd3329523ce20c34c680ec39839  178330f0a0bcf3f47c935efa2a1973c7   \n",
       "89407  92e61855ad557bd19a438abcb81b3c9c  9625bdf299ab055652667ac9429ffffe   \n",
       "91094  f4db8db2617de3def6b82bc375ecb725  3f10448ee7afd7fe6bf60e78cb53e776   \n",
       "91566  946832699a5d660dcdfed91bc6346cbb  695dee4c200e4cabdfdb01287f5fd29d   \n",
       "99216  94411d511cb2997df74f9984543492e9  b77a6fda8d224e6c228f95918b1d0855   \n",
       "\n",
       "       customer_zip_code_prefix customer_city customer_state  \\\n",
       "706                       13840    mogi-guacu             SP   \n",
       "2079                      13840    mogi-guacu             SP   \n",
       "22204                     13840    mogi-guacu             SP   \n",
       "24338                     13840    mogi-guacu             SP   \n",
       "27190                     13840    mogi-guacu             SP   \n",
       "48964                     13840    mogi-guacu             SP   \n",
       "85433                     13840    mogi-guacu             SP   \n",
       "85917                     13840    mogi-guacu             SP   \n",
       "89407                     13840    mogi-guacu             SP   \n",
       "91094                     13840    mogi-guacu             SP   \n",
       "91566                     13840    mogi-guacu             SP   \n",
       "99216                     13840    mogi-guacu             SP   \n",
       "\n",
       "      customer_city_clean  cep_expandido  \n",
       "706                  None       13840000  \n",
       "2079                 None       13840000  \n",
       "22204                None       13840000  \n",
       "24338                None       13840000  \n",
       "27190                None       13840000  \n",
       "48964                None       13840000  \n",
       "85433                None       13840000  \n",
       "85917                None       13840000  \n",
       "89407                None       13840000  \n",
       "91094                None       13840000  \n",
       "91566                None       13840000  \n",
       "99216                None       13840000  "
      ]
     },
     "execution_count": 179,
     "metadata": {},
     "output_type": "execute_result"
    }
   ],
   "source": [
    "df_customers['cep_expandido'] = df_customers['customer_zip_code_prefix'] * 1000\n",
    "def buscar_cidade_por_cep(cep, cdf):\n",
    "    row = cdf[(cdf['CEP Inicial'] <= cep) & (cdf['CEP Final'] >= cep)]\n",
    "    if not row.empty:\n",
    "        return row.iloc[0]['Localidade']\n",
    "    return None\n",
    "\n",
    "df_customers.loc[df_customers['customer_city_clean'].isna(), 'customer_city_clean'] = \\\n",
    "    df_customers.loc[df_customers['customer_city_clean'].isna(), 'cep_expandido'].apply(\n",
    "        lambda cep: buscar_cidade_por_cep(cep, cdf_ceps)\n",
    "    )\n",
    "\n",
    "df_customers[df_customers['customer_city_clean'].isna()]"
   ]
  },
  {
   "cell_type": "markdown",
   "id": "ea5a779a",
   "metadata": {},
   "source": [
    "- Only one city didn't was found."
   ]
  },
  {
   "cell_type": "code",
   "execution_count": null,
   "id": "da26865c",
   "metadata": {},
   "outputs": [
    {
     "data": {
      "application/vnd.microsoft.datawrangler.viewer.v0+json": {
       "columns": [
        {
         "name": "index",
         "rawType": "int64",
         "type": "integer"
        },
        {
         "name": "customer_id",
         "rawType": "object",
         "type": "string"
        },
        {
         "name": "customer_unique_id",
         "rawType": "object",
         "type": "string"
        },
        {
         "name": "customer_zip_code_prefix",
         "rawType": "int64",
         "type": "integer"
        },
        {
         "name": "customer_city",
         "rawType": "object",
         "type": "string"
        },
        {
         "name": "customer_state",
         "rawType": "object",
         "type": "string"
        },
        {
         "name": "customer_city_clean",
         "rawType": "object",
         "type": "string"
        },
        {
         "name": "cep_expandido",
         "rawType": "int64",
         "type": "integer"
        }
       ],
       "ref": "6085f5a1-9976-4e1a-9038-df5bf3650cee",
       "rows": [],
       "shape": {
        "columns": 7,
        "rows": 0
       }
      },
      "text/html": [
       "<div>\n",
       "<style scoped>\n",
       "    .dataframe tbody tr th:only-of-type {\n",
       "        vertical-align: middle;\n",
       "    }\n",
       "\n",
       "    .dataframe tbody tr th {\n",
       "        vertical-align: top;\n",
       "    }\n",
       "\n",
       "    .dataframe thead th {\n",
       "        text-align: right;\n",
       "    }\n",
       "</style>\n",
       "<table border=\"1\" class=\"dataframe\">\n",
       "  <thead>\n",
       "    <tr style=\"text-align: right;\">\n",
       "      <th></th>\n",
       "      <th>customer_id</th>\n",
       "      <th>customer_unique_id</th>\n",
       "      <th>customer_zip_code_prefix</th>\n",
       "      <th>customer_city</th>\n",
       "      <th>customer_state</th>\n",
       "      <th>customer_city_clean</th>\n",
       "      <th>cep_expandido</th>\n",
       "    </tr>\n",
       "  </thead>\n",
       "  <tbody>\n",
       "  </tbody>\n",
       "</table>\n",
       "</div>"
      ],
      "text/plain": [
       "Empty DataFrame\n",
       "Columns: [customer_id, customer_unique_id, customer_zip_code_prefix, customer_city, customer_state, customer_city_clean, cep_expandido]\n",
       "Index: []"
      ]
     },
     "execution_count": 185,
     "metadata": {},
     "output_type": "execute_result"
    }
   ],
   "source": [
    "df_customers['customer_city_clean'] = df_customers['customer_city_clean'].fillna('Mogi Guaçu')\n",
    "df_customers[df_customers['customer_city_clean'].isna()]"
   ]
  },
  {
   "cell_type": "code",
   "execution_count": 186,
   "id": "6ca8f2e2",
   "metadata": {},
   "outputs": [],
   "source": [
    "df_customers['customer_city'] = df_customers['customer_city_clean'] \n",
    "df_customers.drop(columns=['customer_city_clean','cep_expandido'], inplace=True)"
   ]
  },
  {
   "cell_type": "markdown",
   "id": "bfb7f09f",
   "metadata": {},
   "source": []
  },
  {
   "cell_type": "markdown",
   "id": "2af76556",
   "metadata": {},
   "source": [
    "## Derived Data"
   ]
  },
  {
   "cell_type": "markdown",
   "id": "c8033359",
   "metadata": {},
   "source": [
    "- Creating dataframes dfp_order_full by:\n",
    "> - Grouping all purchased items by its orders id and summing the prices.\n",
    "> - Merging df_order with its respectives values spent"
   ]
  },
  {
   "cell_type": "code",
   "execution_count": null,
   "id": "457a757b",
   "metadata": {},
   "outputs": [
    {
     "name": "stdout",
     "output_type": "stream",
     "text": [
      "<class 'pandas.core.frame.DataFrame'>\n",
      "RangeIndex: 98666 entries, 0 to 98665\n",
      "Data columns (total 5 columns):\n",
      " #   Column                    Non-Null Count  Dtype         \n",
      "---  ------                    --------------  -----         \n",
      " 0   order_id                  98666 non-null  object        \n",
      " 1   customer_id               98666 non-null  object        \n",
      " 2   order_status              98666 non-null  object        \n",
      " 3   order_purchase_timestamp  98666 non-null  datetime64[ns]\n",
      " 4   total_order_value         98666 non-null  float64       \n",
      "dtypes: datetime64[ns](1), float64(1), object(3)\n",
      "memory usage: 3.8+ MB\n"
     ]
    }
   ],
   "source": [
    "df_order_items_grouped = df_order_items.groupby('order_id')['price'].sum().reset_index()\n",
    "df_order_items_grouped.rename(columns={'price': 'total_order_value'}, inplace=True)\n",
    "\n",
    "dfp_orders_full = df_orders.merge(df_order_items_grouped, on='order_id')\n",
    "dfp_orders_full.info()"
   ]
  },
  {
   "cell_type": "markdown",
   "id": "b69b2541",
   "metadata": {},
   "source": [
    "- Creating a column to day, month and year to investigate the seasonality purchase behavior "
   ]
  },
  {
   "cell_type": "code",
   "execution_count": null,
   "id": "210c422e",
   "metadata": {},
   "outputs": [
    {
     "name": "stdout",
     "output_type": "stream",
     "text": [
      "<class 'pandas.core.frame.DataFrame'>\n",
      "RangeIndex: 98666 entries, 0 to 98665\n",
      "Data columns (total 8 columns):\n",
      " #   Column                    Non-Null Count  Dtype         \n",
      "---  ------                    --------------  -----         \n",
      " 0   order_id                  98666 non-null  object        \n",
      " 1   customer_id               98666 non-null  object        \n",
      " 2   order_status              98666 non-null  object        \n",
      " 3   order_purchase_timestamp  98666 non-null  datetime64[ns]\n",
      " 4   total_order_value         98666 non-null  float64       \n",
      " 5   order_month               98666 non-null  int32         \n",
      " 6   order_day                 98666 non-null  int32         \n",
      " 7   order_year                98666 non-null  int32         \n",
      "dtypes: datetime64[ns](1), float64(1), int32(3), object(3)\n",
      "memory usage: 4.9+ MB\n"
     ]
    }
   ],
   "source": [
    "dfp_orders_full['order_month'] = dfp_orders_full['order_purchase_timestamp'].dt.month\n",
    "dfp_orders_full['order_day'] = dfp_orders_full['order_purchase_timestamp'].dt.day\n",
    "dfp_orders_full['order_year'] = dfp_orders_full['order_purchase_timestamp'].dt.year\n",
    "dfp_orders_full.info()"
   ]
  },
  {
   "cell_type": "markdown",
   "id": "f6970c4c",
   "metadata": {},
   "source": [
    "- Merging the the customer dataframe in order to identify each buy with their unique id"
   ]
  },
  {
   "cell_type": "code",
   "execution_count": null,
   "id": "d5a3b373",
   "metadata": {},
   "outputs": [
    {
     "name": "stdout",
     "output_type": "stream",
     "text": [
      "<class 'pandas.core.frame.DataFrame'>\n",
      "RangeIndex: 98666 entries, 0 to 98665\n",
      "Data columns (total 9 columns):\n",
      " #   Column                    Non-Null Count  Dtype         \n",
      "---  ------                    --------------  -----         \n",
      " 0   order_id                  98666 non-null  object        \n",
      " 1   customer_id               98666 non-null  object        \n",
      " 2   order_status              98666 non-null  object        \n",
      " 3   order_purchase_timestamp  98666 non-null  datetime64[ns]\n",
      " 4   total_order_value         98666 non-null  float64       \n",
      " 5   order_month               98666 non-null  int32         \n",
      " 6   order_day                 98666 non-null  int32         \n",
      " 7   order_year                98666 non-null  int32         \n",
      " 8   customer_unique_id        98666 non-null  object        \n",
      "dtypes: datetime64[ns](1), float64(1), int32(3), object(4)\n",
      "memory usage: 5.6+ MB\n"
     ]
    }
   ],
   "source": [
    "dfp_orders_full = dfp_orders_full.merge(\n",
    "    df_customers[['customer_id','customer_unique_id']],\n",
    "    on='customer_id',\n",
    "    how='left'\n",
    ")\n",
    "dfp_orders_full.info()"
   ]
  },
  {
   "cell_type": "markdown",
   "id": "e3a802ca",
   "metadata": {},
   "source": [
    "- Filtering the orders by just the delivered ones"
   ]
  },
  {
   "cell_type": "code",
   "execution_count": 220,
   "id": "5abd1b6f",
   "metadata": {},
   "outputs": [],
   "source": [
    "dfp_orders_full = dfp_orders_full.loc[dfp_orders_full['order_status'] == 'delivered']"
   ]
  },
  {
   "cell_type": "markdown",
   "id": "c08ba213",
   "metadata": {},
   "source": [
    "- Creating the processed dataframe with the client tickets"
   ]
  },
  {
   "cell_type": "code",
   "execution_count": 221,
   "id": "e695b528",
   "metadata": {},
   "outputs": [],
   "source": [
    "dfp_client_ticket = dfp_orders_full.groupby('customer_unique_id')['total_order_value'].agg(['sum','mean','count']).reset_index()\n",
    "dfp_client_ticket.rename(columns={'sum':'total_spent','mean':'avg_ticket','count':'order_count'}, inplace=True)\n"
   ]
  },
  {
   "cell_type": "markdown",
   "id": "e0bf9528",
   "metadata": {},
   "source": [
    "- Creating the processed dataframe with category sales"
   ]
  },
  {
   "cell_type": "code",
   "execution_count": 222,
   "id": "0aaf587d",
   "metadata": {},
   "outputs": [],
   "source": [
    "dfp_category_sales = df_order_items.merge(df_products[['product_id','product_category_name']], on='product_id')\n",
    "dfp_category_sales = dfp_category_sales.groupby('product_category_name')['price'].agg(['sum','count']).reset_index()\n",
    "dfp_category_sales.rename(columns={'sum':'total_sales','count':'units_sold'}, inplace=True)"
   ]
  },
  {
   "cell_type": "code",
   "execution_count": null,
   "id": "bf90cf18",
   "metadata": {},
   "outputs": [
    {
     "name": "stdout",
     "output_type": "stream",
     "text": [
      "<class 'pandas.core.frame.DataFrame'>\n",
      "RangeIndex: 96478 entries, 0 to 96477\n",
      "Data columns (total 11 columns):\n",
      " #   Column                    Non-Null Count  Dtype         \n",
      "---  ------                    --------------  -----         \n",
      " 0   order_id                  96478 non-null  object        \n",
      " 1   customer_id               96478 non-null  object        \n",
      " 2   order_status              96478 non-null  object        \n",
      " 3   order_purchase_timestamp  96478 non-null  datetime64[ns]\n",
      " 4   total_order_value         96478 non-null  float64       \n",
      " 5   order_month               96478 non-null  int32         \n",
      " 6   order_day                 96478 non-null  int32         \n",
      " 7   order_year                96478 non-null  int32         \n",
      " 8   customer_unique_id        96478 non-null  object        \n",
      " 9   customer_state            96478 non-null  object        \n",
      " 10  customer_city             96478 non-null  object        \n",
      "dtypes: datetime64[ns](1), float64(1), int32(3), object(6)\n",
      "memory usage: 7.0+ MB\n"
     ]
    }
   ],
   "source": [
    "dfp_orders_full = dfp_orders_full.merge(df_customers[['customer_id','customer_state','customer_city']], on='customer_id')\n",
    "dfp_orders_full.info()"
   ]
  },
  {
   "cell_type": "markdown",
   "id": "e769aa0b",
   "metadata": {},
   "source": [
    "- Generating dataframes with sales per city and per states"
   ]
  },
  {
   "cell_type": "code",
   "execution_count": 225,
   "id": "496dfc6b",
   "metadata": {},
   "outputs": [],
   "source": [
    "dfp_state_sales = dfp_orders_full.groupby('customer_state')['total_order_value'].sum().reset_index()\n",
    "dfp_city_sales = dfp_orders_full.groupby('customer_city')['total_order_value'].sum().reset_index()"
   ]
  },
  {
   "cell_type": "markdown",
   "id": "a806f472",
   "metadata": {},
   "source": [
    "- Generating the dataframe that maps the customer quantity per city and states"
   ]
  },
  {
   "cell_type": "code",
   "execution_count": 227,
   "id": "5ea3b43c",
   "metadata": {},
   "outputs": [],
   "source": [
    "dfp_clients_per_state = df_customers.groupby('customer_state')['customer_unique_id'].nunique().reset_index()\n",
    "dfp_clients_per_state.rename(columns={'customer_unique_id':'num_clients'}, inplace=True)\n",
    "\n",
    "\n",
    "dfp_clients_per_city = df_customers.groupby('customer_city')['customer_unique_id'].nunique().reset_index()\n",
    "dfp_clients_per_city.rename(columns={'customer_unique_id':'num_clients'}, inplace=True)"
   ]
  },
  {
   "cell_type": "code",
   "execution_count": 230,
   "id": "c2cc6792",
   "metadata": {},
   "outputs": [],
   "source": [
    "dfp_seller_revenue = df_order_items.groupby('seller_id')['price'].sum().reset_index()\n",
    "dfp_seller_revenue.rename(columns={'price':'revenue_per_seller'}, inplace=True)\n",
    "\n",
    "dfp_seller_revenue = dfp_seller_revenue.merge(\n",
    "    df_sellers[['seller_id','seller_city','seller_state']],\n",
    "    on='seller_id',\n",
    "    how='left'\n",
    ")\n",
    "\n",
    "dfp_seller_revenue = dfp_seller_revenue.sort_values(by='revenue_per_seller', ascending=False)"
   ]
  },
  {
   "cell_type": "markdown",
   "id": "7390cbb6",
   "metadata": {},
   "source": [
    "## Export"
   ]
  },
  {
   "cell_type": "markdown",
   "id": "f11d705f",
   "metadata": {},
   "source": [
    "- Checking for nulls on processed data frames"
   ]
  },
  {
   "cell_type": "code",
   "execution_count": 242,
   "id": "71beb46c",
   "metadata": {},
   "outputs": [
    {
     "data": {
      "application/vnd.microsoft.datawrangler.viewer.v0+json": {
       "columns": [
        {
         "name": "index",
         "rawType": "object",
         "type": "string"
        },
        {
         "name": "0",
         "rawType": "int64",
         "type": "integer"
        }
       ],
       "ref": "dda6e422-5042-49cf-b610-a47293d088fa",
       "rows": [
        [
         "seller_id",
         "0"
        ],
        [
         "revenue_per_seller",
         "0"
        ],
        [
         "seller_city",
         "0"
        ],
        [
         "seller_state",
         "0"
        ]
       ],
       "shape": {
        "columns": 1,
        "rows": 4
       }
      },
      "text/plain": [
       "seller_id             0\n",
       "revenue_per_seller    0\n",
       "seller_city           0\n",
       "seller_state          0\n",
       "dtype: int64"
      ]
     },
     "execution_count": 242,
     "metadata": {},
     "output_type": "execute_result"
    }
   ],
   "source": [
    "dfp_category_sales.isnull().sum()\n",
    "dfp_city_sales.isnull().sum()\n",
    "dfp_state_sales.isnull().sum()\n",
    "dfp_client_ticket.isnull().sum()\n",
    "dfp_clients_per_city.isnull().sum()\n",
    "dfp_clients_per_state.isnull().sum()\n",
    "dfp_orders_full.isnull().sum()\n",
    "dfp_seller_revenue.isnull().sum()"
   ]
  },
  {
   "cell_type": "code",
   "execution_count": 244,
   "id": "be20852b",
   "metadata": {},
   "outputs": [],
   "source": [
    "dfp_category_sales.to_csv(\"../data/processed/category_sales.csv\", index=False)\n",
    "dfp_city_sales.to_csv(\"../data/processed/city_sales.csv\", index=False)\n",
    "dfp_state_sales.to_csv(\"../data/processed/state_sales.csv\", index=False)\n",
    "dfp_client_ticket.to_csv(\"../data/processed/client_ticket.csv\", index=False)\n",
    "dfp_clients_per_city.to_csv(\"../data/processed/customer_per_city.csv\", index=False)\n",
    "dfp_clients_per_state.to_csv(\"../data/processed/customer_per_state.csv\", index=False)\n",
    "dfp_orders_full.to_csv(\"../data/processed/orders.csv\", index=False)\n",
    "dfp_seller_revenue.to_csv(\"../data/processed/seller_revenue.csv\", index=False)\n"
   ]
  }
 ],
 "metadata": {
  "kernelspec": {
   "display_name": "Python 3",
   "language": "python",
   "name": "python3"
  },
  "language_info": {
   "codemirror_mode": {
    "name": "ipython",
    "version": 3
   },
   "file_extension": ".py",
   "mimetype": "text/x-python",
   "name": "python",
   "nbconvert_exporter": "python",
   "pygments_lexer": "ipython3",
   "version": "3.13.7"
  }
 },
 "nbformat": 4,
 "nbformat_minor": 5
}
