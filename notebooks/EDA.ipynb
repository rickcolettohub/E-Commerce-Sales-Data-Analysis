{
 "cells": [
  {
   "cell_type": "markdown",
   "id": "460e4887",
   "metadata": {},
   "source": [
    "# Exploratory Data Analysis"
   ]
  },
  {
   "cell_type": "markdown",
   "id": "4adc9454",
   "metadata": {},
   "source": [
    "## Import"
   ]
  },
  {
   "cell_type": "code",
   "execution_count": 1,
   "id": "f45ae8ac",
   "metadata": {},
   "outputs": [],
   "source": [
    "import pandas as pd\n",
    "import numpy as np\n",
    "import matplotlib.pyplot as plt\n",
    "import seaborn as sns\n",
    "import sys\n",
    "import os\n",
    "from rapidfuzz import fuzz, process\n",
    "import unidecode\n",
    "import requests\n",
    "import json"
   ]
  },
  {
   "cell_type": "code",
   "execution_count": 2,
   "id": "07d200b8",
   "metadata": {},
   "outputs": [],
   "source": [
    "sys.path.append(os.path.abspath(\"../src\"))\n",
    "from consultacep import consulta_cep"
   ]
  },
  {
   "cell_type": "markdown",
   "id": "9c59693c",
   "metadata": {},
   "source": [
    "## Raw Data"
   ]
  },
  {
   "cell_type": "code",
   "execution_count": 3,
   "id": "6a03b6f6",
   "metadata": {},
   "outputs": [],
   "source": [
    "df_customers = pd.read_csv(\"../data/raw/olist_customers_dataset.csv\")\n",
    "df_order_items = pd.read_csv(\"../data/raw/olist_order_items_dataset.csv\")\n",
    "df_order_payments = pd.read_csv(\"../data/raw/olist_order_payments_dataset.csv\")\n",
    "df_orders = pd.read_csv(\"../data/raw/olist_orders_dataset.csv\")\n",
    "df_products = pd.read_csv(\"../data/raw/olist_products_dataset.csv\")\n",
    "df_sellers = pd.read_csv(\"../data/raw/olist_sellers_dataset.csv\")\n",
    "cdf_cities = pd.read_csv(\"../data/raw/brazilian_cities.csv\")\n",
    "cdf_ceps = pd.read_csv(\"../data/raw/CEPs_Brasil.csv\")\n"
   ]
  },
  {
   "cell_type": "markdown",
   "id": "16c2e10e",
   "metadata": {},
   "source": [
    "## Checking the relevant data"
   ]
  },
  {
   "cell_type": "markdown",
   "id": "d0a2b220",
   "metadata": {},
   "source": [
    "### Dataframe: Customers"
   ]
  },
  {
   "cell_type": "code",
   "execution_count": 4,
   "id": "fe118570",
   "metadata": {},
   "outputs": [
    {
     "data": {
      "application/vnd.microsoft.datawrangler.viewer.v0+json": {
       "columns": [
        {
         "name": "index",
         "rawType": "int64",
         "type": "integer"
        },
        {
         "name": "customer_id",
         "rawType": "object",
         "type": "string"
        },
        {
         "name": "customer_unique_id",
         "rawType": "object",
         "type": "string"
        },
        {
         "name": "customer_zip_code_prefix",
         "rawType": "int64",
         "type": "integer"
        },
        {
         "name": "customer_city",
         "rawType": "object",
         "type": "string"
        },
        {
         "name": "customer_state",
         "rawType": "object",
         "type": "string"
        }
       ],
       "ref": "515e783c-8bed-4d73-8419-714f0ad1aaae",
       "rows": [
        [
         "71460",
         "32f7e622cfbdd94691a85692f992a9d5",
         "bf7bf802783e8b525e33fde224781e98",
         "9210",
         "santo andre",
         "SP"
        ],
        [
         "55848",
         "b129c5e7449bfea86f4bef20e296c0ce",
         "6234bff8b25bd8336455555eb5f749da",
         "29934",
         "sao mateus",
         "ES"
        ],
        [
         "55453",
         "de5127e844f7bc6e9593315e778d7da1",
         "b868689dabda36770f6ef2b8c39bf8a6",
         "2220",
         "sao paulo",
         "SP"
        ],
        [
         "68840",
         "f0688a7a0aa2400361ea273a4872db2d",
         "2dbad1ecf3e38836eacff9531adc5b4a",
         "13273",
         "valinhos",
         "SP"
        ],
        [
         "14161",
         "be8c14c16a4d47194ccdfe10f1fc5b1a",
         "c86a25b8f5f6c203bb3471553bdc3200",
         "13157",
         "cosmopolis",
         "SP"
        ],
        [
         "13328",
         "be24ef8018f62f3b54f287c7e87d0abb",
         "c2e11be7617544391dfa3905b0c637d6",
         "17065",
         "bauru",
         "SP"
        ],
        [
         "61078",
         "2a06665a19465bcdd512dcb3444c1de4",
         "0404ab99cfcbae7ad6cdc6e93eac6641",
         "27264",
         "volta redonda",
         "RJ"
        ],
        [
         "83526",
         "46a4ac4dcaf4f17c44f5d7c5a5afaf86",
         "ae8ba97274b08fe1156b1d5d3ad32983",
         "13825",
         "holambra",
         "SP"
        ],
        [
         "68688",
         "13e56bf1c485ef13438118c361f92527",
         "d6c6b796206305b682a65170c45d26e3",
         "28625",
         "nova friburgo",
         "RJ"
        ],
        [
         "8518",
         "46ebdabde58535b8751aaf7e6f21fe27",
         "ff9c030fb4209fbf442ae1368a6b376a",
         "85905",
         "toledo",
         "PR"
        ]
       ],
       "shape": {
        "columns": 5,
        "rows": 10
       }
      },
      "text/html": [
       "<div>\n",
       "<style scoped>\n",
       "    .dataframe tbody tr th:only-of-type {\n",
       "        vertical-align: middle;\n",
       "    }\n",
       "\n",
       "    .dataframe tbody tr th {\n",
       "        vertical-align: top;\n",
       "    }\n",
       "\n",
       "    .dataframe thead th {\n",
       "        text-align: right;\n",
       "    }\n",
       "</style>\n",
       "<table border=\"1\" class=\"dataframe\">\n",
       "  <thead>\n",
       "    <tr style=\"text-align: right;\">\n",
       "      <th></th>\n",
       "      <th>customer_id</th>\n",
       "      <th>customer_unique_id</th>\n",
       "      <th>customer_zip_code_prefix</th>\n",
       "      <th>customer_city</th>\n",
       "      <th>customer_state</th>\n",
       "    </tr>\n",
       "  </thead>\n",
       "  <tbody>\n",
       "    <tr>\n",
       "      <th>71460</th>\n",
       "      <td>32f7e622cfbdd94691a85692f992a9d5</td>\n",
       "      <td>bf7bf802783e8b525e33fde224781e98</td>\n",
       "      <td>9210</td>\n",
       "      <td>santo andre</td>\n",
       "      <td>SP</td>\n",
       "    </tr>\n",
       "    <tr>\n",
       "      <th>55848</th>\n",
       "      <td>b129c5e7449bfea86f4bef20e296c0ce</td>\n",
       "      <td>6234bff8b25bd8336455555eb5f749da</td>\n",
       "      <td>29934</td>\n",
       "      <td>sao mateus</td>\n",
       "      <td>ES</td>\n",
       "    </tr>\n",
       "    <tr>\n",
       "      <th>55453</th>\n",
       "      <td>de5127e844f7bc6e9593315e778d7da1</td>\n",
       "      <td>b868689dabda36770f6ef2b8c39bf8a6</td>\n",
       "      <td>2220</td>\n",
       "      <td>sao paulo</td>\n",
       "      <td>SP</td>\n",
       "    </tr>\n",
       "    <tr>\n",
       "      <th>68840</th>\n",
       "      <td>f0688a7a0aa2400361ea273a4872db2d</td>\n",
       "      <td>2dbad1ecf3e38836eacff9531adc5b4a</td>\n",
       "      <td>13273</td>\n",
       "      <td>valinhos</td>\n",
       "      <td>SP</td>\n",
       "    </tr>\n",
       "    <tr>\n",
       "      <th>14161</th>\n",
       "      <td>be8c14c16a4d47194ccdfe10f1fc5b1a</td>\n",
       "      <td>c86a25b8f5f6c203bb3471553bdc3200</td>\n",
       "      <td>13157</td>\n",
       "      <td>cosmopolis</td>\n",
       "      <td>SP</td>\n",
       "    </tr>\n",
       "    <tr>\n",
       "      <th>13328</th>\n",
       "      <td>be24ef8018f62f3b54f287c7e87d0abb</td>\n",
       "      <td>c2e11be7617544391dfa3905b0c637d6</td>\n",
       "      <td>17065</td>\n",
       "      <td>bauru</td>\n",
       "      <td>SP</td>\n",
       "    </tr>\n",
       "    <tr>\n",
       "      <th>61078</th>\n",
       "      <td>2a06665a19465bcdd512dcb3444c1de4</td>\n",
       "      <td>0404ab99cfcbae7ad6cdc6e93eac6641</td>\n",
       "      <td>27264</td>\n",
       "      <td>volta redonda</td>\n",
       "      <td>RJ</td>\n",
       "    </tr>\n",
       "    <tr>\n",
       "      <th>83526</th>\n",
       "      <td>46a4ac4dcaf4f17c44f5d7c5a5afaf86</td>\n",
       "      <td>ae8ba97274b08fe1156b1d5d3ad32983</td>\n",
       "      <td>13825</td>\n",
       "      <td>holambra</td>\n",
       "      <td>SP</td>\n",
       "    </tr>\n",
       "    <tr>\n",
       "      <th>68688</th>\n",
       "      <td>13e56bf1c485ef13438118c361f92527</td>\n",
       "      <td>d6c6b796206305b682a65170c45d26e3</td>\n",
       "      <td>28625</td>\n",
       "      <td>nova friburgo</td>\n",
       "      <td>RJ</td>\n",
       "    </tr>\n",
       "    <tr>\n",
       "      <th>8518</th>\n",
       "      <td>46ebdabde58535b8751aaf7e6f21fe27</td>\n",
       "      <td>ff9c030fb4209fbf442ae1368a6b376a</td>\n",
       "      <td>85905</td>\n",
       "      <td>toledo</td>\n",
       "      <td>PR</td>\n",
       "    </tr>\n",
       "  </tbody>\n",
       "</table>\n",
       "</div>"
      ],
      "text/plain": [
       "                            customer_id                customer_unique_id  \\\n",
       "71460  32f7e622cfbdd94691a85692f992a9d5  bf7bf802783e8b525e33fde224781e98   \n",
       "55848  b129c5e7449bfea86f4bef20e296c0ce  6234bff8b25bd8336455555eb5f749da   \n",
       "55453  de5127e844f7bc6e9593315e778d7da1  b868689dabda36770f6ef2b8c39bf8a6   \n",
       "68840  f0688a7a0aa2400361ea273a4872db2d  2dbad1ecf3e38836eacff9531adc5b4a   \n",
       "14161  be8c14c16a4d47194ccdfe10f1fc5b1a  c86a25b8f5f6c203bb3471553bdc3200   \n",
       "13328  be24ef8018f62f3b54f287c7e87d0abb  c2e11be7617544391dfa3905b0c637d6   \n",
       "61078  2a06665a19465bcdd512dcb3444c1de4  0404ab99cfcbae7ad6cdc6e93eac6641   \n",
       "83526  46a4ac4dcaf4f17c44f5d7c5a5afaf86  ae8ba97274b08fe1156b1d5d3ad32983   \n",
       "68688  13e56bf1c485ef13438118c361f92527  d6c6b796206305b682a65170c45d26e3   \n",
       "8518   46ebdabde58535b8751aaf7e6f21fe27  ff9c030fb4209fbf442ae1368a6b376a   \n",
       "\n",
       "       customer_zip_code_prefix  customer_city customer_state  \n",
       "71460                      9210    santo andre             SP  \n",
       "55848                     29934     sao mateus             ES  \n",
       "55453                      2220      sao paulo             SP  \n",
       "68840                     13273       valinhos             SP  \n",
       "14161                     13157     cosmopolis             SP  \n",
       "13328                     17065          bauru             SP  \n",
       "61078                     27264  volta redonda             RJ  \n",
       "83526                     13825       holambra             SP  \n",
       "68688                     28625  nova friburgo             RJ  \n",
       "8518                      85905         toledo             PR  "
      ]
     },
     "execution_count": 4,
     "metadata": {},
     "output_type": "execute_result"
    }
   ],
   "source": [
    "df_customers.sample(10)"
   ]
  },
  {
   "cell_type": "code",
   "execution_count": 5,
   "id": "fb5712c2",
   "metadata": {},
   "outputs": [
    {
     "name": "stdout",
     "output_type": "stream",
     "text": [
      "<class 'pandas.core.frame.DataFrame'>\n",
      "RangeIndex: 99441 entries, 0 to 99440\n",
      "Data columns (total 5 columns):\n",
      " #   Column                    Non-Null Count  Dtype \n",
      "---  ------                    --------------  ----- \n",
      " 0   customer_id               99441 non-null  object\n",
      " 1   customer_unique_id        99441 non-null  object\n",
      " 2   customer_zip_code_prefix  99441 non-null  int64 \n",
      " 3   customer_city             99441 non-null  object\n",
      " 4   customer_state            99441 non-null  object\n",
      "dtypes: int64(1), object(4)\n",
      "memory usage: 3.8+ MB\n"
     ]
    },
    {
     "data": {
      "application/vnd.microsoft.datawrangler.viewer.v0+json": {
       "columns": [
        {
         "name": "index",
         "rawType": "object",
         "type": "string"
        },
        {
         "name": "0",
         "rawType": "int64",
         "type": "integer"
        }
       ],
       "ref": "efc0810d-8b50-4a3d-b82e-3840d66aed7e",
       "rows": [
        [
         "customer_id",
         "0"
        ],
        [
         "customer_unique_id",
         "0"
        ],
        [
         "customer_zip_code_prefix",
         "0"
        ],
        [
         "customer_city",
         "0"
        ],
        [
         "customer_state",
         "0"
        ]
       ],
       "shape": {
        "columns": 1,
        "rows": 5
       }
      },
      "text/plain": [
       "customer_id                 0\n",
       "customer_unique_id          0\n",
       "customer_zip_code_prefix    0\n",
       "customer_city               0\n",
       "customer_state              0\n",
       "dtype: int64"
      ]
     },
     "execution_count": 5,
     "metadata": {},
     "output_type": "execute_result"
    }
   ],
   "source": [
    "df_customers.info()\n",
    "df_customers.isnull().sum()"
   ]
  },
  {
   "cell_type": "code",
   "execution_count": 6,
   "id": "16fb2399",
   "metadata": {},
   "outputs": [
    {
     "data": {
      "text/plain": [
       "np.int64(0)"
      ]
     },
     "execution_count": 6,
     "metadata": {},
     "output_type": "execute_result"
    }
   ],
   "source": [
    "df_customers.duplicated().sum()"
   ]
  },
  {
   "cell_type": "markdown",
   "id": "9ea0df64",
   "metadata": {},
   "source": [
    "- df_customers doesn't have duplicate entrys, no columns to drop at first and no Nulls"
   ]
  },
  {
   "cell_type": "markdown",
   "id": "3ca2c50f",
   "metadata": {},
   "source": [
    "### Dataframe: Order_items"
   ]
  },
  {
   "cell_type": "code",
   "execution_count": 7,
   "id": "4c81c91f",
   "metadata": {},
   "outputs": [
    {
     "data": {
      "application/vnd.microsoft.datawrangler.viewer.v0+json": {
       "columns": [
        {
         "name": "index",
         "rawType": "int64",
         "type": "integer"
        },
        {
         "name": "order_id",
         "rawType": "object",
         "type": "string"
        },
        {
         "name": "order_item_id",
         "rawType": "int64",
         "type": "integer"
        },
        {
         "name": "product_id",
         "rawType": "object",
         "type": "string"
        },
        {
         "name": "seller_id",
         "rawType": "object",
         "type": "string"
        },
        {
         "name": "shipping_limit_date",
         "rawType": "object",
         "type": "string"
        },
        {
         "name": "price",
         "rawType": "float64",
         "type": "float"
        },
        {
         "name": "freight_value",
         "rawType": "float64",
         "type": "float"
        }
       ],
       "ref": "46b0edef-80a0-42e6-ba59-05856adb5e4f",
       "rows": [
        [
         "79017",
         "b3bab804c76ad164c8aba19684f85e38",
         "1",
         "629e019a6f298a83aeecc7877964f935",
         "c003204e1ab016dfa150abc119207b24",
         "2018-01-05 02:08:47",
         "109.9",
         "14.37"
        ],
        [
         "64074",
         "925e0efae10a47529fb9c78338b66d8c",
         "1",
         "d4a3a15f99c94c6741d16d3375b928e6",
         "6560211a19b47992c3666cc44a7e94c0",
         "2017-03-23 14:59:36",
         "49.0",
         "14.11"
        ],
        [
         "4173",
         "0964250cecc3ab90b45138c9cbbf7b91",
         "1",
         "a0b7b660f3ff79836867de402e158770",
         "4978a02ea9c8be7a9b5480680f40334e",
         "2018-05-14 23:51:05",
         "119.99",
         "14.93"
        ],
        [
         "93513",
         "d3f5cac5ca660216eb21e93d54e9e384",
         "1",
         "803f77475e1b51b47f1bfec4f2ec353f",
         "c9c7905cffc4ef9ff9f113554423e671",
         "2018-07-25 10:32:03",
         "79.99",
         "8.72"
        ],
        [
         "1883",
         "044223df7cb37509bfeb2a0df1250ca4",
         "1",
         "b2d98b6f547c14e29a9e72b8e630d936",
         "004c9cd9d87a3c30c522c48c4fc07416",
         "2017-11-08 09:35:30",
         "115.0",
         "21.3"
        ],
        [
         "34959",
         "4f22b45861402b6db26c58fd211617cf",
         "1",
         "2dbed858ef1a666ec3afae6566400a06",
         "5b67882648febfb6e1225e6ad7164f6b",
         "2018-03-16 15:15:41",
         "519.99",
         "17.72"
        ],
        [
         "46176",
         "68d8838c90191c81a8e3e1273e230414",
         "1",
         "c835fd9d2e466148ac3755300628e33d",
         "a3a38f4affed601eb87a97788c949667",
         "2018-04-25 19:11:00",
         "59.9",
         "23.35"
        ],
        [
         "52191",
         "76c5d675f926836b4ff285bff2d38766",
         "1",
         "02a97df83a8a100c7d2b14a02aea6a3d",
         "620c87c171fb2a6dd6e8bb4dec959fc6",
         "2018-07-19 03:04:21",
         "69.9",
         "22.42"
        ],
        [
         "33736",
         "4c5e883786df8d555be4dc12f11d3fe7",
         "1",
         "615ee56e97eef79c2b855111d9434dcf",
         "a416b6a846a11724393025641d4edd5e",
         "2018-06-18 04:57:32",
         "112.83",
         "9.14"
        ],
        [
         "74316",
         "a95612c7311ad95c69b272aaa4daa6e5",
         "1",
         "9328c3a5c42ae7b32d53e419f9b93d66",
         "cca3071e3e9bb7d12640c9fbe2301306",
         "2017-03-21 04:10:20",
         "50.9",
         "17.2"
        ]
       ],
       "shape": {
        "columns": 7,
        "rows": 10
       }
      },
      "text/html": [
       "<div>\n",
       "<style scoped>\n",
       "    .dataframe tbody tr th:only-of-type {\n",
       "        vertical-align: middle;\n",
       "    }\n",
       "\n",
       "    .dataframe tbody tr th {\n",
       "        vertical-align: top;\n",
       "    }\n",
       "\n",
       "    .dataframe thead th {\n",
       "        text-align: right;\n",
       "    }\n",
       "</style>\n",
       "<table border=\"1\" class=\"dataframe\">\n",
       "  <thead>\n",
       "    <tr style=\"text-align: right;\">\n",
       "      <th></th>\n",
       "      <th>order_id</th>\n",
       "      <th>order_item_id</th>\n",
       "      <th>product_id</th>\n",
       "      <th>seller_id</th>\n",
       "      <th>shipping_limit_date</th>\n",
       "      <th>price</th>\n",
       "      <th>freight_value</th>\n",
       "    </tr>\n",
       "  </thead>\n",
       "  <tbody>\n",
       "    <tr>\n",
       "      <th>79017</th>\n",
       "      <td>b3bab804c76ad164c8aba19684f85e38</td>\n",
       "      <td>1</td>\n",
       "      <td>629e019a6f298a83aeecc7877964f935</td>\n",
       "      <td>c003204e1ab016dfa150abc119207b24</td>\n",
       "      <td>2018-01-05 02:08:47</td>\n",
       "      <td>109.90</td>\n",
       "      <td>14.37</td>\n",
       "    </tr>\n",
       "    <tr>\n",
       "      <th>64074</th>\n",
       "      <td>925e0efae10a47529fb9c78338b66d8c</td>\n",
       "      <td>1</td>\n",
       "      <td>d4a3a15f99c94c6741d16d3375b928e6</td>\n",
       "      <td>6560211a19b47992c3666cc44a7e94c0</td>\n",
       "      <td>2017-03-23 14:59:36</td>\n",
       "      <td>49.00</td>\n",
       "      <td>14.11</td>\n",
       "    </tr>\n",
       "    <tr>\n",
       "      <th>4173</th>\n",
       "      <td>0964250cecc3ab90b45138c9cbbf7b91</td>\n",
       "      <td>1</td>\n",
       "      <td>a0b7b660f3ff79836867de402e158770</td>\n",
       "      <td>4978a02ea9c8be7a9b5480680f40334e</td>\n",
       "      <td>2018-05-14 23:51:05</td>\n",
       "      <td>119.99</td>\n",
       "      <td>14.93</td>\n",
       "    </tr>\n",
       "    <tr>\n",
       "      <th>93513</th>\n",
       "      <td>d3f5cac5ca660216eb21e93d54e9e384</td>\n",
       "      <td>1</td>\n",
       "      <td>803f77475e1b51b47f1bfec4f2ec353f</td>\n",
       "      <td>c9c7905cffc4ef9ff9f113554423e671</td>\n",
       "      <td>2018-07-25 10:32:03</td>\n",
       "      <td>79.99</td>\n",
       "      <td>8.72</td>\n",
       "    </tr>\n",
       "    <tr>\n",
       "      <th>1883</th>\n",
       "      <td>044223df7cb37509bfeb2a0df1250ca4</td>\n",
       "      <td>1</td>\n",
       "      <td>b2d98b6f547c14e29a9e72b8e630d936</td>\n",
       "      <td>004c9cd9d87a3c30c522c48c4fc07416</td>\n",
       "      <td>2017-11-08 09:35:30</td>\n",
       "      <td>115.00</td>\n",
       "      <td>21.30</td>\n",
       "    </tr>\n",
       "    <tr>\n",
       "      <th>34959</th>\n",
       "      <td>4f22b45861402b6db26c58fd211617cf</td>\n",
       "      <td>1</td>\n",
       "      <td>2dbed858ef1a666ec3afae6566400a06</td>\n",
       "      <td>5b67882648febfb6e1225e6ad7164f6b</td>\n",
       "      <td>2018-03-16 15:15:41</td>\n",
       "      <td>519.99</td>\n",
       "      <td>17.72</td>\n",
       "    </tr>\n",
       "    <tr>\n",
       "      <th>46176</th>\n",
       "      <td>68d8838c90191c81a8e3e1273e230414</td>\n",
       "      <td>1</td>\n",
       "      <td>c835fd9d2e466148ac3755300628e33d</td>\n",
       "      <td>a3a38f4affed601eb87a97788c949667</td>\n",
       "      <td>2018-04-25 19:11:00</td>\n",
       "      <td>59.90</td>\n",
       "      <td>23.35</td>\n",
       "    </tr>\n",
       "    <tr>\n",
       "      <th>52191</th>\n",
       "      <td>76c5d675f926836b4ff285bff2d38766</td>\n",
       "      <td>1</td>\n",
       "      <td>02a97df83a8a100c7d2b14a02aea6a3d</td>\n",
       "      <td>620c87c171fb2a6dd6e8bb4dec959fc6</td>\n",
       "      <td>2018-07-19 03:04:21</td>\n",
       "      <td>69.90</td>\n",
       "      <td>22.42</td>\n",
       "    </tr>\n",
       "    <tr>\n",
       "      <th>33736</th>\n",
       "      <td>4c5e883786df8d555be4dc12f11d3fe7</td>\n",
       "      <td>1</td>\n",
       "      <td>615ee56e97eef79c2b855111d9434dcf</td>\n",
       "      <td>a416b6a846a11724393025641d4edd5e</td>\n",
       "      <td>2018-06-18 04:57:32</td>\n",
       "      <td>112.83</td>\n",
       "      <td>9.14</td>\n",
       "    </tr>\n",
       "    <tr>\n",
       "      <th>74316</th>\n",
       "      <td>a95612c7311ad95c69b272aaa4daa6e5</td>\n",
       "      <td>1</td>\n",
       "      <td>9328c3a5c42ae7b32d53e419f9b93d66</td>\n",
       "      <td>cca3071e3e9bb7d12640c9fbe2301306</td>\n",
       "      <td>2017-03-21 04:10:20</td>\n",
       "      <td>50.90</td>\n",
       "      <td>17.20</td>\n",
       "    </tr>\n",
       "  </tbody>\n",
       "</table>\n",
       "</div>"
      ],
      "text/plain": [
       "                               order_id  order_item_id  \\\n",
       "79017  b3bab804c76ad164c8aba19684f85e38              1   \n",
       "64074  925e0efae10a47529fb9c78338b66d8c              1   \n",
       "4173   0964250cecc3ab90b45138c9cbbf7b91              1   \n",
       "93513  d3f5cac5ca660216eb21e93d54e9e384              1   \n",
       "1883   044223df7cb37509bfeb2a0df1250ca4              1   \n",
       "34959  4f22b45861402b6db26c58fd211617cf              1   \n",
       "46176  68d8838c90191c81a8e3e1273e230414              1   \n",
       "52191  76c5d675f926836b4ff285bff2d38766              1   \n",
       "33736  4c5e883786df8d555be4dc12f11d3fe7              1   \n",
       "74316  a95612c7311ad95c69b272aaa4daa6e5              1   \n",
       "\n",
       "                             product_id                         seller_id  \\\n",
       "79017  629e019a6f298a83aeecc7877964f935  c003204e1ab016dfa150abc119207b24   \n",
       "64074  d4a3a15f99c94c6741d16d3375b928e6  6560211a19b47992c3666cc44a7e94c0   \n",
       "4173   a0b7b660f3ff79836867de402e158770  4978a02ea9c8be7a9b5480680f40334e   \n",
       "93513  803f77475e1b51b47f1bfec4f2ec353f  c9c7905cffc4ef9ff9f113554423e671   \n",
       "1883   b2d98b6f547c14e29a9e72b8e630d936  004c9cd9d87a3c30c522c48c4fc07416   \n",
       "34959  2dbed858ef1a666ec3afae6566400a06  5b67882648febfb6e1225e6ad7164f6b   \n",
       "46176  c835fd9d2e466148ac3755300628e33d  a3a38f4affed601eb87a97788c949667   \n",
       "52191  02a97df83a8a100c7d2b14a02aea6a3d  620c87c171fb2a6dd6e8bb4dec959fc6   \n",
       "33736  615ee56e97eef79c2b855111d9434dcf  a416b6a846a11724393025641d4edd5e   \n",
       "74316  9328c3a5c42ae7b32d53e419f9b93d66  cca3071e3e9bb7d12640c9fbe2301306   \n",
       "\n",
       "       shipping_limit_date   price  freight_value  \n",
       "79017  2018-01-05 02:08:47  109.90          14.37  \n",
       "64074  2017-03-23 14:59:36   49.00          14.11  \n",
       "4173   2018-05-14 23:51:05  119.99          14.93  \n",
       "93513  2018-07-25 10:32:03   79.99           8.72  \n",
       "1883   2017-11-08 09:35:30  115.00          21.30  \n",
       "34959  2018-03-16 15:15:41  519.99          17.72  \n",
       "46176  2018-04-25 19:11:00   59.90          23.35  \n",
       "52191  2018-07-19 03:04:21   69.90          22.42  \n",
       "33736  2018-06-18 04:57:32  112.83           9.14  \n",
       "74316  2017-03-21 04:10:20   50.90          17.20  "
      ]
     },
     "execution_count": 7,
     "metadata": {},
     "output_type": "execute_result"
    }
   ],
   "source": [
    "df_order_items.sample(10)"
   ]
  },
  {
   "cell_type": "code",
   "execution_count": 8,
   "id": "24d48046",
   "metadata": {},
   "outputs": [
    {
     "name": "stdout",
     "output_type": "stream",
     "text": [
      "<class 'pandas.core.frame.DataFrame'>\n",
      "RangeIndex: 112650 entries, 0 to 112649\n",
      "Data columns (total 7 columns):\n",
      " #   Column               Non-Null Count   Dtype  \n",
      "---  ------               --------------   -----  \n",
      " 0   order_id             112650 non-null  object \n",
      " 1   order_item_id        112650 non-null  int64  \n",
      " 2   product_id           112650 non-null  object \n",
      " 3   seller_id            112650 non-null  object \n",
      " 4   shipping_limit_date  112650 non-null  object \n",
      " 5   price                112650 non-null  float64\n",
      " 6   freight_value        112650 non-null  float64\n",
      "dtypes: float64(2), int64(1), object(4)\n",
      "memory usage: 6.0+ MB\n"
     ]
    },
    {
     "data": {
      "application/vnd.microsoft.datawrangler.viewer.v0+json": {
       "columns": [
        {
         "name": "index",
         "rawType": "object",
         "type": "string"
        },
        {
         "name": "0",
         "rawType": "int64",
         "type": "integer"
        }
       ],
       "ref": "8f8ad3ac-a138-4e02-a482-74104c679432",
       "rows": [
        [
         "order_id",
         "0"
        ],
        [
         "order_item_id",
         "0"
        ],
        [
         "product_id",
         "0"
        ],
        [
         "seller_id",
         "0"
        ],
        [
         "shipping_limit_date",
         "0"
        ],
        [
         "price",
         "0"
        ],
        [
         "freight_value",
         "0"
        ]
       ],
       "shape": {
        "columns": 1,
        "rows": 7
       }
      },
      "text/plain": [
       "order_id               0\n",
       "order_item_id          0\n",
       "product_id             0\n",
       "seller_id              0\n",
       "shipping_limit_date    0\n",
       "price                  0\n",
       "freight_value          0\n",
       "dtype: int64"
      ]
     },
     "execution_count": 8,
     "metadata": {},
     "output_type": "execute_result"
    }
   ],
   "source": [
    "df_order_items.info()\n",
    "df_order_items.isnull().sum()"
   ]
  },
  {
   "cell_type": "code",
   "execution_count": 9,
   "id": "8b7e7efe",
   "metadata": {},
   "outputs": [
    {
     "data": {
      "text/plain": [
       "np.int64(0)"
      ]
     },
     "execution_count": 9,
     "metadata": {},
     "output_type": "execute_result"
    }
   ],
   "source": [
    "df_order_items.duplicated().sum()"
   ]
  },
  {
   "cell_type": "code",
   "execution_count": 10,
   "id": "62fe4983",
   "metadata": {},
   "outputs": [],
   "source": [
    "df_order_items.drop(columns=['shipping_limit_date', 'freight_value'], inplace=True)"
   ]
  },
  {
   "cell_type": "markdown",
   "id": "36032ff1",
   "metadata": {},
   "source": [
    "- df_order_items doesn't have duplicate entrys and Nulls.\n",
    "- dropping columns: shipping_limit_date, freight_value"
   ]
  },
  {
   "cell_type": "markdown",
   "id": "c23d7e8d",
   "metadata": {},
   "source": [
    "### Dataframe: Order_payments"
   ]
  },
  {
   "cell_type": "code",
   "execution_count": 11,
   "id": "0cdaa677",
   "metadata": {},
   "outputs": [
    {
     "data": {
      "application/vnd.microsoft.datawrangler.viewer.v0+json": {
       "columns": [
        {
         "name": "index",
         "rawType": "int64",
         "type": "integer"
        },
        {
         "name": "order_id",
         "rawType": "object",
         "type": "string"
        },
        {
         "name": "payment_sequential",
         "rawType": "int64",
         "type": "integer"
        },
        {
         "name": "payment_type",
         "rawType": "object",
         "type": "string"
        },
        {
         "name": "payment_installments",
         "rawType": "int64",
         "type": "integer"
        },
        {
         "name": "payment_value",
         "rawType": "float64",
         "type": "float"
        }
       ],
       "ref": "7ad8da93-a9c8-4d8e-83ec-664abe137e5c",
       "rows": [
        [
         "17628",
         "1bf8b5f1e3bc76dcaa6414b170ef3ae0",
         "1",
         "boleto",
         "1",
         "143.27"
        ],
        [
         "8183",
         "a3e07c6b717e74f8c384d148d7903e66",
         "1",
         "credit_card",
         "1",
         "81.78"
        ],
        [
         "14815",
         "c12a78eb30abe88570f3c2c79bea1334",
         "1",
         "credit_card",
         "1",
         "87.3"
        ],
        [
         "67818",
         "502b576f4d6a7091842c83677e13013d",
         "1",
         "credit_card",
         "1",
         "152.62"
        ],
        [
         "82939",
         "ee27a6c585edd9ed8b99e272587bf04c",
         "1",
         "credit_card",
         "5",
         "57.38"
        ],
        [
         "100868",
         "b0707b7956935b194cfa319dc1501d96",
         "1",
         "credit_card",
         "4",
         "46.22"
        ],
        [
         "84839",
         "e39d427402fa3f754c7fd38ceb788901",
         "1",
         "credit_card",
         "6",
         "95.8"
        ],
        [
         "40585",
         "f68bf4a4d690be2a9ba9402b0862ad34",
         "1",
         "credit_card",
         "1",
         "166.68"
        ],
        [
         "25826",
         "cbf5771b59c1f5688a8f8224f08607eb",
         "1",
         "credit_card",
         "10",
         "239.42"
        ],
        [
         "32766",
         "60f6dd1c9030b6132080d65599736d7f",
         "1",
         "credit_card",
         "2",
         "43.87"
        ]
       ],
       "shape": {
        "columns": 5,
        "rows": 10
       }
      },
      "text/html": [
       "<div>\n",
       "<style scoped>\n",
       "    .dataframe tbody tr th:only-of-type {\n",
       "        vertical-align: middle;\n",
       "    }\n",
       "\n",
       "    .dataframe tbody tr th {\n",
       "        vertical-align: top;\n",
       "    }\n",
       "\n",
       "    .dataframe thead th {\n",
       "        text-align: right;\n",
       "    }\n",
       "</style>\n",
       "<table border=\"1\" class=\"dataframe\">\n",
       "  <thead>\n",
       "    <tr style=\"text-align: right;\">\n",
       "      <th></th>\n",
       "      <th>order_id</th>\n",
       "      <th>payment_sequential</th>\n",
       "      <th>payment_type</th>\n",
       "      <th>payment_installments</th>\n",
       "      <th>payment_value</th>\n",
       "    </tr>\n",
       "  </thead>\n",
       "  <tbody>\n",
       "    <tr>\n",
       "      <th>17628</th>\n",
       "      <td>1bf8b5f1e3bc76dcaa6414b170ef3ae0</td>\n",
       "      <td>1</td>\n",
       "      <td>boleto</td>\n",
       "      <td>1</td>\n",
       "      <td>143.27</td>\n",
       "    </tr>\n",
       "    <tr>\n",
       "      <th>8183</th>\n",
       "      <td>a3e07c6b717e74f8c384d148d7903e66</td>\n",
       "      <td>1</td>\n",
       "      <td>credit_card</td>\n",
       "      <td>1</td>\n",
       "      <td>81.78</td>\n",
       "    </tr>\n",
       "    <tr>\n",
       "      <th>14815</th>\n",
       "      <td>c12a78eb30abe88570f3c2c79bea1334</td>\n",
       "      <td>1</td>\n",
       "      <td>credit_card</td>\n",
       "      <td>1</td>\n",
       "      <td>87.30</td>\n",
       "    </tr>\n",
       "    <tr>\n",
       "      <th>67818</th>\n",
       "      <td>502b576f4d6a7091842c83677e13013d</td>\n",
       "      <td>1</td>\n",
       "      <td>credit_card</td>\n",
       "      <td>1</td>\n",
       "      <td>152.62</td>\n",
       "    </tr>\n",
       "    <tr>\n",
       "      <th>82939</th>\n",
       "      <td>ee27a6c585edd9ed8b99e272587bf04c</td>\n",
       "      <td>1</td>\n",
       "      <td>credit_card</td>\n",
       "      <td>5</td>\n",
       "      <td>57.38</td>\n",
       "    </tr>\n",
       "    <tr>\n",
       "      <th>100868</th>\n",
       "      <td>b0707b7956935b194cfa319dc1501d96</td>\n",
       "      <td>1</td>\n",
       "      <td>credit_card</td>\n",
       "      <td>4</td>\n",
       "      <td>46.22</td>\n",
       "    </tr>\n",
       "    <tr>\n",
       "      <th>84839</th>\n",
       "      <td>e39d427402fa3f754c7fd38ceb788901</td>\n",
       "      <td>1</td>\n",
       "      <td>credit_card</td>\n",
       "      <td>6</td>\n",
       "      <td>95.80</td>\n",
       "    </tr>\n",
       "    <tr>\n",
       "      <th>40585</th>\n",
       "      <td>f68bf4a4d690be2a9ba9402b0862ad34</td>\n",
       "      <td>1</td>\n",
       "      <td>credit_card</td>\n",
       "      <td>1</td>\n",
       "      <td>166.68</td>\n",
       "    </tr>\n",
       "    <tr>\n",
       "      <th>25826</th>\n",
       "      <td>cbf5771b59c1f5688a8f8224f08607eb</td>\n",
       "      <td>1</td>\n",
       "      <td>credit_card</td>\n",
       "      <td>10</td>\n",
       "      <td>239.42</td>\n",
       "    </tr>\n",
       "    <tr>\n",
       "      <th>32766</th>\n",
       "      <td>60f6dd1c9030b6132080d65599736d7f</td>\n",
       "      <td>1</td>\n",
       "      <td>credit_card</td>\n",
       "      <td>2</td>\n",
       "      <td>43.87</td>\n",
       "    </tr>\n",
       "  </tbody>\n",
       "</table>\n",
       "</div>"
      ],
      "text/plain": [
       "                                order_id  payment_sequential payment_type  \\\n",
       "17628   1bf8b5f1e3bc76dcaa6414b170ef3ae0                   1       boleto   \n",
       "8183    a3e07c6b717e74f8c384d148d7903e66                   1  credit_card   \n",
       "14815   c12a78eb30abe88570f3c2c79bea1334                   1  credit_card   \n",
       "67818   502b576f4d6a7091842c83677e13013d                   1  credit_card   \n",
       "82939   ee27a6c585edd9ed8b99e272587bf04c                   1  credit_card   \n",
       "100868  b0707b7956935b194cfa319dc1501d96                   1  credit_card   \n",
       "84839   e39d427402fa3f754c7fd38ceb788901                   1  credit_card   \n",
       "40585   f68bf4a4d690be2a9ba9402b0862ad34                   1  credit_card   \n",
       "25826   cbf5771b59c1f5688a8f8224f08607eb                   1  credit_card   \n",
       "32766   60f6dd1c9030b6132080d65599736d7f                   1  credit_card   \n",
       "\n",
       "        payment_installments  payment_value  \n",
       "17628                      1         143.27  \n",
       "8183                       1          81.78  \n",
       "14815                      1          87.30  \n",
       "67818                      1         152.62  \n",
       "82939                      5          57.38  \n",
       "100868                     4          46.22  \n",
       "84839                      6          95.80  \n",
       "40585                      1         166.68  \n",
       "25826                     10         239.42  \n",
       "32766                      2          43.87  "
      ]
     },
     "execution_count": 11,
     "metadata": {},
     "output_type": "execute_result"
    }
   ],
   "source": [
    "df_order_payments.sample(10)"
   ]
  },
  {
   "cell_type": "code",
   "execution_count": 12,
   "id": "b5c43557",
   "metadata": {},
   "outputs": [
    {
     "name": "stdout",
     "output_type": "stream",
     "text": [
      "<class 'pandas.core.frame.DataFrame'>\n",
      "RangeIndex: 103886 entries, 0 to 103885\n",
      "Data columns (total 5 columns):\n",
      " #   Column                Non-Null Count   Dtype  \n",
      "---  ------                --------------   -----  \n",
      " 0   order_id              103886 non-null  object \n",
      " 1   payment_sequential    103886 non-null  int64  \n",
      " 2   payment_type          103886 non-null  object \n",
      " 3   payment_installments  103886 non-null  int64  \n",
      " 4   payment_value         103886 non-null  float64\n",
      "dtypes: float64(1), int64(2), object(2)\n",
      "memory usage: 4.0+ MB\n"
     ]
    },
    {
     "data": {
      "application/vnd.microsoft.datawrangler.viewer.v0+json": {
       "columns": [
        {
         "name": "index",
         "rawType": "object",
         "type": "string"
        },
        {
         "name": "0",
         "rawType": "int64",
         "type": "integer"
        }
       ],
       "ref": "3c4a852f-2f2e-4aca-afe9-b24273043bfa",
       "rows": [
        [
         "order_id",
         "0"
        ],
        [
         "payment_sequential",
         "0"
        ],
        [
         "payment_type",
         "0"
        ],
        [
         "payment_installments",
         "0"
        ],
        [
         "payment_value",
         "0"
        ]
       ],
       "shape": {
        "columns": 1,
        "rows": 5
       }
      },
      "text/plain": [
       "order_id                0\n",
       "payment_sequential      0\n",
       "payment_type            0\n",
       "payment_installments    0\n",
       "payment_value           0\n",
       "dtype: int64"
      ]
     },
     "execution_count": 12,
     "metadata": {},
     "output_type": "execute_result"
    }
   ],
   "source": [
    "df_order_payments.info()\n",
    "df_order_payments.isnull().sum()"
   ]
  },
  {
   "cell_type": "code",
   "execution_count": 13,
   "id": "d6bf6449",
   "metadata": {},
   "outputs": [
    {
     "data": {
      "text/plain": [
       "np.int64(0)"
      ]
     },
     "execution_count": 13,
     "metadata": {},
     "output_type": "execute_result"
    }
   ],
   "source": [
    "df_order_payments.duplicated().sum()"
   ]
  },
  {
   "cell_type": "code",
   "execution_count": 14,
   "id": "9bc148f5",
   "metadata": {},
   "outputs": [],
   "source": [
    "df_order_payments.drop(columns=['payment_sequential','payment_installments','payment_type'], inplace=True)"
   ]
  },
  {
   "cell_type": "markdown",
   "id": "d8d9a782",
   "metadata": {},
   "source": [
    "- df_order_payments doesn't have duplicate entrys and Nulls.\n",
    "- dropping columns: payment_sequential, payment_type, payment_installments"
   ]
  },
  {
   "cell_type": "markdown",
   "id": "d0a0f4ec",
   "metadata": {},
   "source": [
    "### Dataframe: Orders"
   ]
  },
  {
   "cell_type": "code",
   "execution_count": 15,
   "id": "820a824e",
   "metadata": {},
   "outputs": [
    {
     "data": {
      "application/vnd.microsoft.datawrangler.viewer.v0+json": {
       "columns": [
        {
         "name": "index",
         "rawType": "int64",
         "type": "integer"
        },
        {
         "name": "order_id",
         "rawType": "object",
         "type": "string"
        },
        {
         "name": "customer_id",
         "rawType": "object",
         "type": "string"
        },
        {
         "name": "order_status",
         "rawType": "object",
         "type": "string"
        },
        {
         "name": "order_purchase_timestamp",
         "rawType": "object",
         "type": "string"
        },
        {
         "name": "order_approved_at",
         "rawType": "object",
         "type": "string"
        },
        {
         "name": "order_delivered_carrier_date",
         "rawType": "object",
         "type": "string"
        },
        {
         "name": "order_delivered_customer_date",
         "rawType": "object",
         "type": "string"
        },
        {
         "name": "order_estimated_delivery_date",
         "rawType": "object",
         "type": "string"
        }
       ],
       "ref": "d2ec960c-1063-41ad-87d7-3d7cf8d9a8b7",
       "rows": [
        [
         "3362",
         "03e94224875e6dec154cc7a142ce5de2",
         "bb7651b2df4512e6c29ff35a7b8cd754",
         "delivered",
         "2018-04-23 10:09:03",
         "2018-04-24 18:11:03",
         "2018-04-24 17:42:08",
         "2018-04-25 18:58:59",
         "2018-05-08 00:00:00"
        ],
        [
         "71325",
         "06c82be9b8551eb37a9b8e7e05dec631",
         "226a2de9b9feb22a76582963ebcf1e96",
         "delivered",
         "2017-07-11 14:27:14",
         "2017-07-11 14:43:41",
         "2017-07-26 03:19:36",
         "2017-08-01 16:17:38",
         "2017-08-02 00:00:00"
        ],
        [
         "45740",
         "970b0850a5b6ccaa34a0e887e8d10a5b",
         "4619dca3ccf1e57f50ba85089e2370f6",
         "delivered",
         "2018-03-17 11:06:27",
         "2018-03-19 20:28:03",
         "2018-03-22 21:32:46",
         "2018-04-02 13:26:28",
         "2018-04-05 00:00:00"
        ],
        [
         "89929",
         "fb01e8d8215d266abffb5ca379063244",
         "0d7b6a46b67046fa56193773a361e7ac",
         "delivered",
         "2017-04-03 22:00:05",
         "2017-04-03 22:15:14",
         "2017-04-13 19:07:15",
         "2017-04-19 09:53:18",
         "2017-05-02 00:00:00"
        ],
        [
         "16942",
         "cb7c837f8c5240816176dc115c21a746",
         "d60805f01a84d8b2d5acae981e3c770f",
         "delivered",
         "2018-06-21 20:27:51",
         "2018-06-26 04:58:46",
         "2018-06-27 10:28:00",
         "2018-07-04 19:04:37",
         "2018-07-27 00:00:00"
        ],
        [
         "2079",
         "ed98c37d860890f940e2acd83629fdd1",
         "71f8cd490677ee95362201588c0eaff4",
         "delivered",
         "2017-12-15 12:57:19",
         "2017-12-15 13:13:05",
         "2017-12-19 22:57:44",
         "2017-12-22 01:28:07",
         "2018-01-05 00:00:00"
        ],
        [
         "116",
         "4b3a605942f29d490cb74bd6ace6b9f0",
         "e8a332c3433fbd37920ec89fc295d075",
         "delivered",
         "2017-09-29 09:32:17",
         "2017-09-29 09:44:12",
         "2017-09-29 21:58:48",
         "2017-09-30 16:55:39",
         "2017-10-17 00:00:00"
        ],
        [
         "94696",
         "72b9d86fe4e984d9879013b9ecbb25db",
         "8b122c119e36ca9dd381d2bfc02112ea",
         "delivered",
         "2018-04-11 22:29:32",
         "2018-04-13 12:35:27",
         "2018-04-13 21:26:48",
         "2018-04-23 18:41:58",
         "2018-05-23 00:00:00"
        ],
        [
         "26173",
         "103e18e9325ee41d8cfa4902f8abc16f",
         "aa28fcb213db1415749a665f82704181",
         "delivered",
         "2018-01-14 14:34:55",
         "2018-01-14 14:48:41",
         "2018-01-17 22:16:57",
         "2018-01-24 21:54:49",
         "2018-02-05 00:00:00"
        ],
        [
         "21659",
         "ffc29f864fd689fab9ae81be82baf8ef",
         "77d2c30e1dff5d4440ec316f8a2ef2a2",
         "delivered",
         "2017-07-30 20:33:10",
         "2017-07-31 20:43:11",
         "2017-08-04 17:45:04",
         "2017-08-09 19:56:29",
         "2017-08-24 00:00:00"
        ]
       ],
       "shape": {
        "columns": 8,
        "rows": 10
       }
      },
      "text/html": [
       "<div>\n",
       "<style scoped>\n",
       "    .dataframe tbody tr th:only-of-type {\n",
       "        vertical-align: middle;\n",
       "    }\n",
       "\n",
       "    .dataframe tbody tr th {\n",
       "        vertical-align: top;\n",
       "    }\n",
       "\n",
       "    .dataframe thead th {\n",
       "        text-align: right;\n",
       "    }\n",
       "</style>\n",
       "<table border=\"1\" class=\"dataframe\">\n",
       "  <thead>\n",
       "    <tr style=\"text-align: right;\">\n",
       "      <th></th>\n",
       "      <th>order_id</th>\n",
       "      <th>customer_id</th>\n",
       "      <th>order_status</th>\n",
       "      <th>order_purchase_timestamp</th>\n",
       "      <th>order_approved_at</th>\n",
       "      <th>order_delivered_carrier_date</th>\n",
       "      <th>order_delivered_customer_date</th>\n",
       "      <th>order_estimated_delivery_date</th>\n",
       "    </tr>\n",
       "  </thead>\n",
       "  <tbody>\n",
       "    <tr>\n",
       "      <th>3362</th>\n",
       "      <td>03e94224875e6dec154cc7a142ce5de2</td>\n",
       "      <td>bb7651b2df4512e6c29ff35a7b8cd754</td>\n",
       "      <td>delivered</td>\n",
       "      <td>2018-04-23 10:09:03</td>\n",
       "      <td>2018-04-24 18:11:03</td>\n",
       "      <td>2018-04-24 17:42:08</td>\n",
       "      <td>2018-04-25 18:58:59</td>\n",
       "      <td>2018-05-08 00:00:00</td>\n",
       "    </tr>\n",
       "    <tr>\n",
       "      <th>71325</th>\n",
       "      <td>06c82be9b8551eb37a9b8e7e05dec631</td>\n",
       "      <td>226a2de9b9feb22a76582963ebcf1e96</td>\n",
       "      <td>delivered</td>\n",
       "      <td>2017-07-11 14:27:14</td>\n",
       "      <td>2017-07-11 14:43:41</td>\n",
       "      <td>2017-07-26 03:19:36</td>\n",
       "      <td>2017-08-01 16:17:38</td>\n",
       "      <td>2017-08-02 00:00:00</td>\n",
       "    </tr>\n",
       "    <tr>\n",
       "      <th>45740</th>\n",
       "      <td>970b0850a5b6ccaa34a0e887e8d10a5b</td>\n",
       "      <td>4619dca3ccf1e57f50ba85089e2370f6</td>\n",
       "      <td>delivered</td>\n",
       "      <td>2018-03-17 11:06:27</td>\n",
       "      <td>2018-03-19 20:28:03</td>\n",
       "      <td>2018-03-22 21:32:46</td>\n",
       "      <td>2018-04-02 13:26:28</td>\n",
       "      <td>2018-04-05 00:00:00</td>\n",
       "    </tr>\n",
       "    <tr>\n",
       "      <th>89929</th>\n",
       "      <td>fb01e8d8215d266abffb5ca379063244</td>\n",
       "      <td>0d7b6a46b67046fa56193773a361e7ac</td>\n",
       "      <td>delivered</td>\n",
       "      <td>2017-04-03 22:00:05</td>\n",
       "      <td>2017-04-03 22:15:14</td>\n",
       "      <td>2017-04-13 19:07:15</td>\n",
       "      <td>2017-04-19 09:53:18</td>\n",
       "      <td>2017-05-02 00:00:00</td>\n",
       "    </tr>\n",
       "    <tr>\n",
       "      <th>16942</th>\n",
       "      <td>cb7c837f8c5240816176dc115c21a746</td>\n",
       "      <td>d60805f01a84d8b2d5acae981e3c770f</td>\n",
       "      <td>delivered</td>\n",
       "      <td>2018-06-21 20:27:51</td>\n",
       "      <td>2018-06-26 04:58:46</td>\n",
       "      <td>2018-06-27 10:28:00</td>\n",
       "      <td>2018-07-04 19:04:37</td>\n",
       "      <td>2018-07-27 00:00:00</td>\n",
       "    </tr>\n",
       "    <tr>\n",
       "      <th>2079</th>\n",
       "      <td>ed98c37d860890f940e2acd83629fdd1</td>\n",
       "      <td>71f8cd490677ee95362201588c0eaff4</td>\n",
       "      <td>delivered</td>\n",
       "      <td>2017-12-15 12:57:19</td>\n",
       "      <td>2017-12-15 13:13:05</td>\n",
       "      <td>2017-12-19 22:57:44</td>\n",
       "      <td>2017-12-22 01:28:07</td>\n",
       "      <td>2018-01-05 00:00:00</td>\n",
       "    </tr>\n",
       "    <tr>\n",
       "      <th>116</th>\n",
       "      <td>4b3a605942f29d490cb74bd6ace6b9f0</td>\n",
       "      <td>e8a332c3433fbd37920ec89fc295d075</td>\n",
       "      <td>delivered</td>\n",
       "      <td>2017-09-29 09:32:17</td>\n",
       "      <td>2017-09-29 09:44:12</td>\n",
       "      <td>2017-09-29 21:58:48</td>\n",
       "      <td>2017-09-30 16:55:39</td>\n",
       "      <td>2017-10-17 00:00:00</td>\n",
       "    </tr>\n",
       "    <tr>\n",
       "      <th>94696</th>\n",
       "      <td>72b9d86fe4e984d9879013b9ecbb25db</td>\n",
       "      <td>8b122c119e36ca9dd381d2bfc02112ea</td>\n",
       "      <td>delivered</td>\n",
       "      <td>2018-04-11 22:29:32</td>\n",
       "      <td>2018-04-13 12:35:27</td>\n",
       "      <td>2018-04-13 21:26:48</td>\n",
       "      <td>2018-04-23 18:41:58</td>\n",
       "      <td>2018-05-23 00:00:00</td>\n",
       "    </tr>\n",
       "    <tr>\n",
       "      <th>26173</th>\n",
       "      <td>103e18e9325ee41d8cfa4902f8abc16f</td>\n",
       "      <td>aa28fcb213db1415749a665f82704181</td>\n",
       "      <td>delivered</td>\n",
       "      <td>2018-01-14 14:34:55</td>\n",
       "      <td>2018-01-14 14:48:41</td>\n",
       "      <td>2018-01-17 22:16:57</td>\n",
       "      <td>2018-01-24 21:54:49</td>\n",
       "      <td>2018-02-05 00:00:00</td>\n",
       "    </tr>\n",
       "    <tr>\n",
       "      <th>21659</th>\n",
       "      <td>ffc29f864fd689fab9ae81be82baf8ef</td>\n",
       "      <td>77d2c30e1dff5d4440ec316f8a2ef2a2</td>\n",
       "      <td>delivered</td>\n",
       "      <td>2017-07-30 20:33:10</td>\n",
       "      <td>2017-07-31 20:43:11</td>\n",
       "      <td>2017-08-04 17:45:04</td>\n",
       "      <td>2017-08-09 19:56:29</td>\n",
       "      <td>2017-08-24 00:00:00</td>\n",
       "    </tr>\n",
       "  </tbody>\n",
       "</table>\n",
       "</div>"
      ],
      "text/plain": [
       "                               order_id                       customer_id  \\\n",
       "3362   03e94224875e6dec154cc7a142ce5de2  bb7651b2df4512e6c29ff35a7b8cd754   \n",
       "71325  06c82be9b8551eb37a9b8e7e05dec631  226a2de9b9feb22a76582963ebcf1e96   \n",
       "45740  970b0850a5b6ccaa34a0e887e8d10a5b  4619dca3ccf1e57f50ba85089e2370f6   \n",
       "89929  fb01e8d8215d266abffb5ca379063244  0d7b6a46b67046fa56193773a361e7ac   \n",
       "16942  cb7c837f8c5240816176dc115c21a746  d60805f01a84d8b2d5acae981e3c770f   \n",
       "2079   ed98c37d860890f940e2acd83629fdd1  71f8cd490677ee95362201588c0eaff4   \n",
       "116    4b3a605942f29d490cb74bd6ace6b9f0  e8a332c3433fbd37920ec89fc295d075   \n",
       "94696  72b9d86fe4e984d9879013b9ecbb25db  8b122c119e36ca9dd381d2bfc02112ea   \n",
       "26173  103e18e9325ee41d8cfa4902f8abc16f  aa28fcb213db1415749a665f82704181   \n",
       "21659  ffc29f864fd689fab9ae81be82baf8ef  77d2c30e1dff5d4440ec316f8a2ef2a2   \n",
       "\n",
       "      order_status order_purchase_timestamp    order_approved_at  \\\n",
       "3362     delivered      2018-04-23 10:09:03  2018-04-24 18:11:03   \n",
       "71325    delivered      2017-07-11 14:27:14  2017-07-11 14:43:41   \n",
       "45740    delivered      2018-03-17 11:06:27  2018-03-19 20:28:03   \n",
       "89929    delivered      2017-04-03 22:00:05  2017-04-03 22:15:14   \n",
       "16942    delivered      2018-06-21 20:27:51  2018-06-26 04:58:46   \n",
       "2079     delivered      2017-12-15 12:57:19  2017-12-15 13:13:05   \n",
       "116      delivered      2017-09-29 09:32:17  2017-09-29 09:44:12   \n",
       "94696    delivered      2018-04-11 22:29:32  2018-04-13 12:35:27   \n",
       "26173    delivered      2018-01-14 14:34:55  2018-01-14 14:48:41   \n",
       "21659    delivered      2017-07-30 20:33:10  2017-07-31 20:43:11   \n",
       "\n",
       "      order_delivered_carrier_date order_delivered_customer_date  \\\n",
       "3362           2018-04-24 17:42:08           2018-04-25 18:58:59   \n",
       "71325          2017-07-26 03:19:36           2017-08-01 16:17:38   \n",
       "45740          2018-03-22 21:32:46           2018-04-02 13:26:28   \n",
       "89929          2017-04-13 19:07:15           2017-04-19 09:53:18   \n",
       "16942          2018-06-27 10:28:00           2018-07-04 19:04:37   \n",
       "2079           2017-12-19 22:57:44           2017-12-22 01:28:07   \n",
       "116            2017-09-29 21:58:48           2017-09-30 16:55:39   \n",
       "94696          2018-04-13 21:26:48           2018-04-23 18:41:58   \n",
       "26173          2018-01-17 22:16:57           2018-01-24 21:54:49   \n",
       "21659          2017-08-04 17:45:04           2017-08-09 19:56:29   \n",
       "\n",
       "      order_estimated_delivery_date  \n",
       "3362            2018-05-08 00:00:00  \n",
       "71325           2017-08-02 00:00:00  \n",
       "45740           2018-04-05 00:00:00  \n",
       "89929           2017-05-02 00:00:00  \n",
       "16942           2018-07-27 00:00:00  \n",
       "2079            2018-01-05 00:00:00  \n",
       "116             2017-10-17 00:00:00  \n",
       "94696           2018-05-23 00:00:00  \n",
       "26173           2018-02-05 00:00:00  \n",
       "21659           2017-08-24 00:00:00  "
      ]
     },
     "execution_count": 15,
     "metadata": {},
     "output_type": "execute_result"
    }
   ],
   "source": [
    "df_orders.sample(10)"
   ]
  },
  {
   "cell_type": "code",
   "execution_count": 16,
   "id": "38f85b99",
   "metadata": {},
   "outputs": [
    {
     "name": "stdout",
     "output_type": "stream",
     "text": [
      "<class 'pandas.core.frame.DataFrame'>\n",
      "RangeIndex: 99441 entries, 0 to 99440\n",
      "Data columns (total 8 columns):\n",
      " #   Column                         Non-Null Count  Dtype \n",
      "---  ------                         --------------  ----- \n",
      " 0   order_id                       99441 non-null  object\n",
      " 1   customer_id                    99441 non-null  object\n",
      " 2   order_status                   99441 non-null  object\n",
      " 3   order_purchase_timestamp       99441 non-null  object\n",
      " 4   order_approved_at              99281 non-null  object\n",
      " 5   order_delivered_carrier_date   97658 non-null  object\n",
      " 6   order_delivered_customer_date  96476 non-null  object\n",
      " 7   order_estimated_delivery_date  99441 non-null  object\n",
      "dtypes: object(8)\n",
      "memory usage: 6.1+ MB\n"
     ]
    },
    {
     "data": {
      "application/vnd.microsoft.datawrangler.viewer.v0+json": {
       "columns": [
        {
         "name": "index",
         "rawType": "object",
         "type": "string"
        },
        {
         "name": "0",
         "rawType": "int64",
         "type": "integer"
        }
       ],
       "ref": "ec8d65a9-0a95-4b0e-9fdc-627945fd9edb",
       "rows": [
        [
         "order_id",
         "0"
        ],
        [
         "customer_id",
         "0"
        ],
        [
         "order_status",
         "0"
        ],
        [
         "order_purchase_timestamp",
         "0"
        ],
        [
         "order_approved_at",
         "160"
        ],
        [
         "order_delivered_carrier_date",
         "1783"
        ],
        [
         "order_delivered_customer_date",
         "2965"
        ],
        [
         "order_estimated_delivery_date",
         "0"
        ]
       ],
       "shape": {
        "columns": 1,
        "rows": 8
       }
      },
      "text/plain": [
       "order_id                            0\n",
       "customer_id                         0\n",
       "order_status                        0\n",
       "order_purchase_timestamp            0\n",
       "order_approved_at                 160\n",
       "order_delivered_carrier_date     1783\n",
       "order_delivered_customer_date    2965\n",
       "order_estimated_delivery_date       0\n",
       "dtype: int64"
      ]
     },
     "execution_count": 16,
     "metadata": {},
     "output_type": "execute_result"
    }
   ],
   "source": [
    "df_orders.info()\n",
    "df_orders.isnull().sum()"
   ]
  },
  {
   "cell_type": "code",
   "execution_count": 17,
   "id": "a9ab50e8",
   "metadata": {},
   "outputs": [
    {
     "data": {
      "text/plain": [
       "np.int64(0)"
      ]
     },
     "execution_count": 17,
     "metadata": {},
     "output_type": "execute_result"
    }
   ],
   "source": [
    "df_orders.duplicated().sum()"
   ]
  },
  {
   "cell_type": "code",
   "execution_count": 18,
   "id": "bbd1660d",
   "metadata": {},
   "outputs": [],
   "source": [
    "df_orders.drop(columns=['order_approved_at','order_delivered_carrier_date','order_delivered_customer_date','order_estimated_delivery_date'], inplace=True)"
   ]
  },
  {
   "cell_type": "code",
   "execution_count": 19,
   "id": "4880901b",
   "metadata": {},
   "outputs": [
    {
     "name": "stdout",
     "output_type": "stream",
     "text": [
      "<class 'pandas.core.frame.DataFrame'>\n",
      "RangeIndex: 99441 entries, 0 to 99440\n",
      "Data columns (total 4 columns):\n",
      " #   Column                    Non-Null Count  Dtype \n",
      "---  ------                    --------------  ----- \n",
      " 0   order_id                  99441 non-null  object\n",
      " 1   customer_id               99441 non-null  object\n",
      " 2   order_status              99441 non-null  object\n",
      " 3   order_purchase_timestamp  99441 non-null  object\n",
      "dtypes: object(4)\n",
      "memory usage: 3.0+ MB\n"
     ]
    },
    {
     "data": {
      "application/vnd.microsoft.datawrangler.viewer.v0+json": {
       "columns": [
        {
         "name": "index",
         "rawType": "object",
         "type": "string"
        },
        {
         "name": "0",
         "rawType": "int64",
         "type": "integer"
        }
       ],
       "ref": "74e9bed6-ca55-4128-9932-a517158625d4",
       "rows": [
        [
         "order_id",
         "0"
        ],
        [
         "customer_id",
         "0"
        ],
        [
         "order_status",
         "0"
        ],
        [
         "order_purchase_timestamp",
         "0"
        ]
       ],
       "shape": {
        "columns": 1,
        "rows": 4
       }
      },
      "text/plain": [
       "order_id                    0\n",
       "customer_id                 0\n",
       "order_status                0\n",
       "order_purchase_timestamp    0\n",
       "dtype: int64"
      ]
     },
     "execution_count": 19,
     "metadata": {},
     "output_type": "execute_result"
    }
   ],
   "source": [
    "df_orders.info()\n",
    "df_orders.isnull().sum()"
   ]
  },
  {
   "cell_type": "markdown",
   "id": "ddcdf9de",
   "metadata": {},
   "source": [
    "- df_order_payments doesn't have duplicate entrys and Nulls on relevant columns.\n",
    "- dropping columns: order_approved_at, order_delivered_carrier_date, order_delivered_customer_date, order_estimated_delivery_date"
   ]
  },
  {
   "cell_type": "markdown",
   "id": "46ae326f",
   "metadata": {},
   "source": [
    "### Dataframe: Products"
   ]
  },
  {
   "cell_type": "code",
   "execution_count": 20,
   "id": "97240df8",
   "metadata": {},
   "outputs": [
    {
     "data": {
      "application/vnd.microsoft.datawrangler.viewer.v0+json": {
       "columns": [
        {
         "name": "index",
         "rawType": "int64",
         "type": "integer"
        },
        {
         "name": "product_id",
         "rawType": "object",
         "type": "string"
        },
        {
         "name": "product_category_name",
         "rawType": "object",
         "type": "string"
        },
        {
         "name": "product_name_lenght",
         "rawType": "float64",
         "type": "float"
        },
        {
         "name": "product_description_lenght",
         "rawType": "float64",
         "type": "float"
        },
        {
         "name": "product_photos_qty",
         "rawType": "float64",
         "type": "float"
        },
        {
         "name": "product_weight_g",
         "rawType": "float64",
         "type": "float"
        },
        {
         "name": "product_length_cm",
         "rawType": "float64",
         "type": "float"
        },
        {
         "name": "product_height_cm",
         "rawType": "float64",
         "type": "float"
        },
        {
         "name": "product_width_cm",
         "rawType": "float64",
         "type": "float"
        }
       ],
       "ref": "9ef1a92a-d4fe-4331-8429-d783597b5ced",
       "rows": [
        [
         "16454",
         "19290ebcf78e385cd9fcd48ce5e1393d",
         "ferramentas_jardim",
         "41.0",
         "320.0",
         "1.0",
         "267.0",
         "27.0",
         "13.0",
         "17.0"
        ],
        [
         "5647",
         "207bb2d8180c2c7654872f6fab96e40e",
         "telefonia",
         "30.0",
         "305.0",
         "1.0",
         "100.0",
         "19.0",
         "3.0",
         "11.0"
        ],
        [
         "7643",
         "88596b69f04745db1f8ba135da5c708d",
         "papelaria",
         "59.0",
         "296.0",
         "1.0",
         "310.0",
         "21.0",
         "7.0",
         "15.0"
        ],
        [
         "7636",
         "db1154ea7d1c50d8a5939a9f7fbc3b2a",
         "brinquedos",
         "42.0",
         "283.0",
         "1.0",
         "5200.0",
         "50.0",
         "10.0",
         "50.0"
        ],
        [
         "6985",
         "bdd59148fd23281bb706539815e39bf3",
         "perfumaria",
         "57.0",
         "598.0",
         "1.0",
         "450.0",
         "18.0",
         "18.0",
         "18.0"
        ],
        [
         "30885",
         "422fe5f2947a7aa4b72de6e4e41f543f",
         "perfumaria",
         "58.0",
         "598.0",
         "2.0",
         "700.0",
         "43.0",
         "16.0",
         "27.0"
        ],
        [
         "16093",
         "efeb7b23db334d617250aca97cd3f1e8",
         "cama_mesa_banho",
         "51.0",
         "404.0",
         "1.0",
         "1500.0",
         "30.0",
         "15.0",
         "20.0"
        ],
        [
         "15130",
         "988117394d514cb9fb1b367714159a67",
         "ferramentas_jardim",
         "58.0",
         "1378.0",
         "1.0",
         "3500.0",
         "21.0",
         "23.0",
         "11.0"
        ],
        [
         "21021",
         "50e1b118f266b655f613f753914c42db",
         "cama_mesa_banho",
         "44.0",
         "630.0",
         "1.0",
         "800.0",
         "16.0",
         "20.0",
         "28.0"
        ],
        [
         "695",
         "1ecaa47c3ade7f098ca5dd97e8dcb018",
         "telefonia",
         "54.0",
         "653.0",
         "1.0",
         "150.0",
         "19.0",
         "3.0",
         "11.0"
        ]
       ],
       "shape": {
        "columns": 9,
        "rows": 10
       }
      },
      "text/html": [
       "<div>\n",
       "<style scoped>\n",
       "    .dataframe tbody tr th:only-of-type {\n",
       "        vertical-align: middle;\n",
       "    }\n",
       "\n",
       "    .dataframe tbody tr th {\n",
       "        vertical-align: top;\n",
       "    }\n",
       "\n",
       "    .dataframe thead th {\n",
       "        text-align: right;\n",
       "    }\n",
       "</style>\n",
       "<table border=\"1\" class=\"dataframe\">\n",
       "  <thead>\n",
       "    <tr style=\"text-align: right;\">\n",
       "      <th></th>\n",
       "      <th>product_id</th>\n",
       "      <th>product_category_name</th>\n",
       "      <th>product_name_lenght</th>\n",
       "      <th>product_description_lenght</th>\n",
       "      <th>product_photos_qty</th>\n",
       "      <th>product_weight_g</th>\n",
       "      <th>product_length_cm</th>\n",
       "      <th>product_height_cm</th>\n",
       "      <th>product_width_cm</th>\n",
       "    </tr>\n",
       "  </thead>\n",
       "  <tbody>\n",
       "    <tr>\n",
       "      <th>16454</th>\n",
       "      <td>19290ebcf78e385cd9fcd48ce5e1393d</td>\n",
       "      <td>ferramentas_jardim</td>\n",
       "      <td>41.0</td>\n",
       "      <td>320.0</td>\n",
       "      <td>1.0</td>\n",
       "      <td>267.0</td>\n",
       "      <td>27.0</td>\n",
       "      <td>13.0</td>\n",
       "      <td>17.0</td>\n",
       "    </tr>\n",
       "    <tr>\n",
       "      <th>5647</th>\n",
       "      <td>207bb2d8180c2c7654872f6fab96e40e</td>\n",
       "      <td>telefonia</td>\n",
       "      <td>30.0</td>\n",
       "      <td>305.0</td>\n",
       "      <td>1.0</td>\n",
       "      <td>100.0</td>\n",
       "      <td>19.0</td>\n",
       "      <td>3.0</td>\n",
       "      <td>11.0</td>\n",
       "    </tr>\n",
       "    <tr>\n",
       "      <th>7643</th>\n",
       "      <td>88596b69f04745db1f8ba135da5c708d</td>\n",
       "      <td>papelaria</td>\n",
       "      <td>59.0</td>\n",
       "      <td>296.0</td>\n",
       "      <td>1.0</td>\n",
       "      <td>310.0</td>\n",
       "      <td>21.0</td>\n",
       "      <td>7.0</td>\n",
       "      <td>15.0</td>\n",
       "    </tr>\n",
       "    <tr>\n",
       "      <th>7636</th>\n",
       "      <td>db1154ea7d1c50d8a5939a9f7fbc3b2a</td>\n",
       "      <td>brinquedos</td>\n",
       "      <td>42.0</td>\n",
       "      <td>283.0</td>\n",
       "      <td>1.0</td>\n",
       "      <td>5200.0</td>\n",
       "      <td>50.0</td>\n",
       "      <td>10.0</td>\n",
       "      <td>50.0</td>\n",
       "    </tr>\n",
       "    <tr>\n",
       "      <th>6985</th>\n",
       "      <td>bdd59148fd23281bb706539815e39bf3</td>\n",
       "      <td>perfumaria</td>\n",
       "      <td>57.0</td>\n",
       "      <td>598.0</td>\n",
       "      <td>1.0</td>\n",
       "      <td>450.0</td>\n",
       "      <td>18.0</td>\n",
       "      <td>18.0</td>\n",
       "      <td>18.0</td>\n",
       "    </tr>\n",
       "    <tr>\n",
       "      <th>30885</th>\n",
       "      <td>422fe5f2947a7aa4b72de6e4e41f543f</td>\n",
       "      <td>perfumaria</td>\n",
       "      <td>58.0</td>\n",
       "      <td>598.0</td>\n",
       "      <td>2.0</td>\n",
       "      <td>700.0</td>\n",
       "      <td>43.0</td>\n",
       "      <td>16.0</td>\n",
       "      <td>27.0</td>\n",
       "    </tr>\n",
       "    <tr>\n",
       "      <th>16093</th>\n",
       "      <td>efeb7b23db334d617250aca97cd3f1e8</td>\n",
       "      <td>cama_mesa_banho</td>\n",
       "      <td>51.0</td>\n",
       "      <td>404.0</td>\n",
       "      <td>1.0</td>\n",
       "      <td>1500.0</td>\n",
       "      <td>30.0</td>\n",
       "      <td>15.0</td>\n",
       "      <td>20.0</td>\n",
       "    </tr>\n",
       "    <tr>\n",
       "      <th>15130</th>\n",
       "      <td>988117394d514cb9fb1b367714159a67</td>\n",
       "      <td>ferramentas_jardim</td>\n",
       "      <td>58.0</td>\n",
       "      <td>1378.0</td>\n",
       "      <td>1.0</td>\n",
       "      <td>3500.0</td>\n",
       "      <td>21.0</td>\n",
       "      <td>23.0</td>\n",
       "      <td>11.0</td>\n",
       "    </tr>\n",
       "    <tr>\n",
       "      <th>21021</th>\n",
       "      <td>50e1b118f266b655f613f753914c42db</td>\n",
       "      <td>cama_mesa_banho</td>\n",
       "      <td>44.0</td>\n",
       "      <td>630.0</td>\n",
       "      <td>1.0</td>\n",
       "      <td>800.0</td>\n",
       "      <td>16.0</td>\n",
       "      <td>20.0</td>\n",
       "      <td>28.0</td>\n",
       "    </tr>\n",
       "    <tr>\n",
       "      <th>695</th>\n",
       "      <td>1ecaa47c3ade7f098ca5dd97e8dcb018</td>\n",
       "      <td>telefonia</td>\n",
       "      <td>54.0</td>\n",
       "      <td>653.0</td>\n",
       "      <td>1.0</td>\n",
       "      <td>150.0</td>\n",
       "      <td>19.0</td>\n",
       "      <td>3.0</td>\n",
       "      <td>11.0</td>\n",
       "    </tr>\n",
       "  </tbody>\n",
       "</table>\n",
       "</div>"
      ],
      "text/plain": [
       "                             product_id product_category_name  \\\n",
       "16454  19290ebcf78e385cd9fcd48ce5e1393d    ferramentas_jardim   \n",
       "5647   207bb2d8180c2c7654872f6fab96e40e             telefonia   \n",
       "7643   88596b69f04745db1f8ba135da5c708d             papelaria   \n",
       "7636   db1154ea7d1c50d8a5939a9f7fbc3b2a            brinquedos   \n",
       "6985   bdd59148fd23281bb706539815e39bf3            perfumaria   \n",
       "30885  422fe5f2947a7aa4b72de6e4e41f543f            perfumaria   \n",
       "16093  efeb7b23db334d617250aca97cd3f1e8       cama_mesa_banho   \n",
       "15130  988117394d514cb9fb1b367714159a67    ferramentas_jardim   \n",
       "21021  50e1b118f266b655f613f753914c42db       cama_mesa_banho   \n",
       "695    1ecaa47c3ade7f098ca5dd97e8dcb018             telefonia   \n",
       "\n",
       "       product_name_lenght  product_description_lenght  product_photos_qty  \\\n",
       "16454                 41.0                       320.0                 1.0   \n",
       "5647                  30.0                       305.0                 1.0   \n",
       "7643                  59.0                       296.0                 1.0   \n",
       "7636                  42.0                       283.0                 1.0   \n",
       "6985                  57.0                       598.0                 1.0   \n",
       "30885                 58.0                       598.0                 2.0   \n",
       "16093                 51.0                       404.0                 1.0   \n",
       "15130                 58.0                      1378.0                 1.0   \n",
       "21021                 44.0                       630.0                 1.0   \n",
       "695                   54.0                       653.0                 1.0   \n",
       "\n",
       "       product_weight_g  product_length_cm  product_height_cm  \\\n",
       "16454             267.0               27.0               13.0   \n",
       "5647              100.0               19.0                3.0   \n",
       "7643              310.0               21.0                7.0   \n",
       "7636             5200.0               50.0               10.0   \n",
       "6985              450.0               18.0               18.0   \n",
       "30885             700.0               43.0               16.0   \n",
       "16093            1500.0               30.0               15.0   \n",
       "15130            3500.0               21.0               23.0   \n",
       "21021             800.0               16.0               20.0   \n",
       "695               150.0               19.0                3.0   \n",
       "\n",
       "       product_width_cm  \n",
       "16454              17.0  \n",
       "5647               11.0  \n",
       "7643               15.0  \n",
       "7636               50.0  \n",
       "6985               18.0  \n",
       "30885              27.0  \n",
       "16093              20.0  \n",
       "15130              11.0  \n",
       "21021              28.0  \n",
       "695                11.0  "
      ]
     },
     "execution_count": 20,
     "metadata": {},
     "output_type": "execute_result"
    }
   ],
   "source": [
    "df_products.sample(10)"
   ]
  },
  {
   "cell_type": "code",
   "execution_count": 21,
   "id": "b2c8a574",
   "metadata": {},
   "outputs": [
    {
     "name": "stdout",
     "output_type": "stream",
     "text": [
      "<class 'pandas.core.frame.DataFrame'>\n",
      "RangeIndex: 32951 entries, 0 to 32950\n",
      "Data columns (total 9 columns):\n",
      " #   Column                      Non-Null Count  Dtype  \n",
      "---  ------                      --------------  -----  \n",
      " 0   product_id                  32951 non-null  object \n",
      " 1   product_category_name       32341 non-null  object \n",
      " 2   product_name_lenght         32341 non-null  float64\n",
      " 3   product_description_lenght  32341 non-null  float64\n",
      " 4   product_photos_qty          32341 non-null  float64\n",
      " 5   product_weight_g            32949 non-null  float64\n",
      " 6   product_length_cm           32949 non-null  float64\n",
      " 7   product_height_cm           32949 non-null  float64\n",
      " 8   product_width_cm            32949 non-null  float64\n",
      "dtypes: float64(7), object(2)\n",
      "memory usage: 2.3+ MB\n"
     ]
    },
    {
     "data": {
      "application/vnd.microsoft.datawrangler.viewer.v0+json": {
       "columns": [
        {
         "name": "index",
         "rawType": "object",
         "type": "string"
        },
        {
         "name": "0",
         "rawType": "int64",
         "type": "integer"
        }
       ],
       "ref": "af2fa371-4d09-4130-9f23-64cb592bf392",
       "rows": [
        [
         "product_id",
         "0"
        ],
        [
         "product_category_name",
         "610"
        ],
        [
         "product_name_lenght",
         "610"
        ],
        [
         "product_description_lenght",
         "610"
        ],
        [
         "product_photos_qty",
         "610"
        ],
        [
         "product_weight_g",
         "2"
        ],
        [
         "product_length_cm",
         "2"
        ],
        [
         "product_height_cm",
         "2"
        ],
        [
         "product_width_cm",
         "2"
        ]
       ],
       "shape": {
        "columns": 1,
        "rows": 9
       }
      },
      "text/plain": [
       "product_id                      0\n",
       "product_category_name         610\n",
       "product_name_lenght           610\n",
       "product_description_lenght    610\n",
       "product_photos_qty            610\n",
       "product_weight_g                2\n",
       "product_length_cm               2\n",
       "product_height_cm               2\n",
       "product_width_cm                2\n",
       "dtype: int64"
      ]
     },
     "execution_count": 21,
     "metadata": {},
     "output_type": "execute_result"
    }
   ],
   "source": [
    "df_products.info()\n",
    "df_products.isnull().sum()"
   ]
  },
  {
   "cell_type": "code",
   "execution_count": 22,
   "id": "e30449f6",
   "metadata": {},
   "outputs": [
    {
     "data": {
      "text/plain": [
       "np.int64(0)"
      ]
     },
     "execution_count": 22,
     "metadata": {},
     "output_type": "execute_result"
    }
   ],
   "source": [
    "df_products.duplicated().sum()"
   ]
  },
  {
   "cell_type": "code",
   "execution_count": 23,
   "id": "34cb9bd8",
   "metadata": {},
   "outputs": [],
   "source": [
    "\n",
    "df_products.drop(columns= ['product_name_lenght','product_description_lenght',\n",
    "    'product_photos_qty','product_weight_g','product_length_cm','product_height_cm',\n",
    "    'product_width_cm'], inplace=True)"
   ]
  },
  {
   "cell_type": "code",
   "execution_count": 24,
   "id": "34898a9a",
   "metadata": {},
   "outputs": [],
   "source": [
    "df_products['product_category_name'] = df_products['product_category_name'].fillna('sem categoria')"
   ]
  },
  {
   "cell_type": "code",
   "execution_count": 25,
   "id": "752e0c35",
   "metadata": {},
   "outputs": [
    {
     "name": "stdout",
     "output_type": "stream",
     "text": [
      "<class 'pandas.core.frame.DataFrame'>\n",
      "RangeIndex: 32951 entries, 0 to 32950\n",
      "Data columns (total 2 columns):\n",
      " #   Column                 Non-Null Count  Dtype \n",
      "---  ------                 --------------  ----- \n",
      " 0   product_id             32951 non-null  object\n",
      " 1   product_category_name  32951 non-null  object\n",
      "dtypes: object(2)\n",
      "memory usage: 515.0+ KB\n"
     ]
    },
    {
     "data": {
      "application/vnd.microsoft.datawrangler.viewer.v0+json": {
       "columns": [
        {
         "name": "index",
         "rawType": "object",
         "type": "string"
        },
        {
         "name": "0",
         "rawType": "int64",
         "type": "integer"
        }
       ],
       "ref": "480ec8c4-21f6-4bee-8575-c69d565f724c",
       "rows": [
        [
         "product_id",
         "0"
        ],
        [
         "product_category_name",
         "0"
        ]
       ],
       "shape": {
        "columns": 1,
        "rows": 2
       }
      },
      "text/plain": [
       "product_id               0\n",
       "product_category_name    0\n",
       "dtype: int64"
      ]
     },
     "execution_count": 25,
     "metadata": {},
     "output_type": "execute_result"
    }
   ],
   "source": [
    "df_products.info()\n",
    "df_products.isnull().sum()"
   ]
  },
  {
   "cell_type": "markdown",
   "id": "c4277048",
   "metadata": {},
   "source": [
    "- df_products doesn't have duplicate entrys.\n",
    "- Null cells in product_category_name filled with placeholder 'sem categoria'\n",
    "- dropping columns: 'product_name_lenght','product_description_lenght','product_photos_qty','product_weight_g','product_length_cm','product_height_cm','product_width_cm'"
   ]
  },
  {
   "cell_type": "markdown",
   "id": "0a95b716",
   "metadata": {},
   "source": [
    "### Dataframe: Sellers"
   ]
  },
  {
   "cell_type": "code",
   "execution_count": 26,
   "id": "6d2441c4",
   "metadata": {},
   "outputs": [
    {
     "data": {
      "application/vnd.microsoft.datawrangler.viewer.v0+json": {
       "columns": [
        {
         "name": "index",
         "rawType": "int64",
         "type": "integer"
        },
        {
         "name": "seller_id",
         "rawType": "object",
         "type": "string"
        },
        {
         "name": "seller_zip_code_prefix",
         "rawType": "int64",
         "type": "integer"
        },
        {
         "name": "seller_city",
         "rawType": "object",
         "type": "string"
        },
        {
         "name": "seller_state",
         "rawType": "object",
         "type": "string"
        }
       ],
       "ref": "cd5f98c2-43e4-46ba-9452-0b0e5fe2755a",
       "rows": [
        [
         "3076",
         "9e6967d3cf386d284251784b18ccb485",
         "9550",
         "sao caetano do sul",
         "SP"
        ],
        [
         "2848",
         "3f84fefc07dc159b268d4a77d3e8c425",
         "83833",
         "fazenda rio grande",
         "PR"
        ],
        [
         "352",
         "2dd1fb6f0e42a2243b8a01e40cd41216",
         "80240",
         "curitiba",
         "PR"
        ],
        [
         "2218",
         "bbaff50f3b708fda865918715276cd87",
         "12940",
         "atibaia",
         "SP"
        ],
        [
         "966",
         "fe19dce63ae80346207c6c55713d1023",
         "38010",
         "uberaba",
         "MG"
        ],
        [
         "2001",
         "85d9eb9ddc5d00ca9336a2219c97bb13",
         "31255",
         "belo horizonte",
         "MG"
        ],
        [
         "694",
         "385799a1cddbd26dfeb9157356a42282",
         "4676",
         "sao paulo",
         "SP"
        ],
        [
         "765",
         "ba90964cff9b9e0e6f32b23b82465f7b",
         "7140",
         "guarulhos",
         "SP"
        ],
        [
         "1231",
         "4b98b0428fc1932cc2514ef9ce2505e6",
         "6795",
         "taboao da serra",
         "SP"
        ],
        [
         "760",
         "bc503e244f187939d10c92a5c8e378ce",
         "16200",
         "birigui",
         "SP"
        ]
       ],
       "shape": {
        "columns": 4,
        "rows": 10
       }
      },
      "text/html": [
       "<div>\n",
       "<style scoped>\n",
       "    .dataframe tbody tr th:only-of-type {\n",
       "        vertical-align: middle;\n",
       "    }\n",
       "\n",
       "    .dataframe tbody tr th {\n",
       "        vertical-align: top;\n",
       "    }\n",
       "\n",
       "    .dataframe thead th {\n",
       "        text-align: right;\n",
       "    }\n",
       "</style>\n",
       "<table border=\"1\" class=\"dataframe\">\n",
       "  <thead>\n",
       "    <tr style=\"text-align: right;\">\n",
       "      <th></th>\n",
       "      <th>seller_id</th>\n",
       "      <th>seller_zip_code_prefix</th>\n",
       "      <th>seller_city</th>\n",
       "      <th>seller_state</th>\n",
       "    </tr>\n",
       "  </thead>\n",
       "  <tbody>\n",
       "    <tr>\n",
       "      <th>3076</th>\n",
       "      <td>9e6967d3cf386d284251784b18ccb485</td>\n",
       "      <td>9550</td>\n",
       "      <td>sao caetano do sul</td>\n",
       "      <td>SP</td>\n",
       "    </tr>\n",
       "    <tr>\n",
       "      <th>2848</th>\n",
       "      <td>3f84fefc07dc159b268d4a77d3e8c425</td>\n",
       "      <td>83833</td>\n",
       "      <td>fazenda rio grande</td>\n",
       "      <td>PR</td>\n",
       "    </tr>\n",
       "    <tr>\n",
       "      <th>352</th>\n",
       "      <td>2dd1fb6f0e42a2243b8a01e40cd41216</td>\n",
       "      <td>80240</td>\n",
       "      <td>curitiba</td>\n",
       "      <td>PR</td>\n",
       "    </tr>\n",
       "    <tr>\n",
       "      <th>2218</th>\n",
       "      <td>bbaff50f3b708fda865918715276cd87</td>\n",
       "      <td>12940</td>\n",
       "      <td>atibaia</td>\n",
       "      <td>SP</td>\n",
       "    </tr>\n",
       "    <tr>\n",
       "      <th>966</th>\n",
       "      <td>fe19dce63ae80346207c6c55713d1023</td>\n",
       "      <td>38010</td>\n",
       "      <td>uberaba</td>\n",
       "      <td>MG</td>\n",
       "    </tr>\n",
       "    <tr>\n",
       "      <th>2001</th>\n",
       "      <td>85d9eb9ddc5d00ca9336a2219c97bb13</td>\n",
       "      <td>31255</td>\n",
       "      <td>belo horizonte</td>\n",
       "      <td>MG</td>\n",
       "    </tr>\n",
       "    <tr>\n",
       "      <th>694</th>\n",
       "      <td>385799a1cddbd26dfeb9157356a42282</td>\n",
       "      <td>4676</td>\n",
       "      <td>sao paulo</td>\n",
       "      <td>SP</td>\n",
       "    </tr>\n",
       "    <tr>\n",
       "      <th>765</th>\n",
       "      <td>ba90964cff9b9e0e6f32b23b82465f7b</td>\n",
       "      <td>7140</td>\n",
       "      <td>guarulhos</td>\n",
       "      <td>SP</td>\n",
       "    </tr>\n",
       "    <tr>\n",
       "      <th>1231</th>\n",
       "      <td>4b98b0428fc1932cc2514ef9ce2505e6</td>\n",
       "      <td>6795</td>\n",
       "      <td>taboao da serra</td>\n",
       "      <td>SP</td>\n",
       "    </tr>\n",
       "    <tr>\n",
       "      <th>760</th>\n",
       "      <td>bc503e244f187939d10c92a5c8e378ce</td>\n",
       "      <td>16200</td>\n",
       "      <td>birigui</td>\n",
       "      <td>SP</td>\n",
       "    </tr>\n",
       "  </tbody>\n",
       "</table>\n",
       "</div>"
      ],
      "text/plain": [
       "                             seller_id  seller_zip_code_prefix  \\\n",
       "3076  9e6967d3cf386d284251784b18ccb485                    9550   \n",
       "2848  3f84fefc07dc159b268d4a77d3e8c425                   83833   \n",
       "352   2dd1fb6f0e42a2243b8a01e40cd41216                   80240   \n",
       "2218  bbaff50f3b708fda865918715276cd87                   12940   \n",
       "966   fe19dce63ae80346207c6c55713d1023                   38010   \n",
       "2001  85d9eb9ddc5d00ca9336a2219c97bb13                   31255   \n",
       "694   385799a1cddbd26dfeb9157356a42282                    4676   \n",
       "765   ba90964cff9b9e0e6f32b23b82465f7b                    7140   \n",
       "1231  4b98b0428fc1932cc2514ef9ce2505e6                    6795   \n",
       "760   bc503e244f187939d10c92a5c8e378ce                   16200   \n",
       "\n",
       "             seller_city seller_state  \n",
       "3076  sao caetano do sul           SP  \n",
       "2848  fazenda rio grande           PR  \n",
       "352             curitiba           PR  \n",
       "2218             atibaia           SP  \n",
       "966              uberaba           MG  \n",
       "2001      belo horizonte           MG  \n",
       "694            sao paulo           SP  \n",
       "765            guarulhos           SP  \n",
       "1231     taboao da serra           SP  \n",
       "760              birigui           SP  "
      ]
     },
     "execution_count": 26,
     "metadata": {},
     "output_type": "execute_result"
    }
   ],
   "source": [
    "df_sellers.sample(10)"
   ]
  },
  {
   "cell_type": "code",
   "execution_count": 27,
   "id": "b1e45a50",
   "metadata": {},
   "outputs": [
    {
     "name": "stdout",
     "output_type": "stream",
     "text": [
      "<class 'pandas.core.frame.DataFrame'>\n",
      "RangeIndex: 3095 entries, 0 to 3094\n",
      "Data columns (total 4 columns):\n",
      " #   Column                  Non-Null Count  Dtype \n",
      "---  ------                  --------------  ----- \n",
      " 0   seller_id               3095 non-null   object\n",
      " 1   seller_zip_code_prefix  3095 non-null   int64 \n",
      " 2   seller_city             3095 non-null   object\n",
      " 3   seller_state            3095 non-null   object\n",
      "dtypes: int64(1), object(3)\n",
      "memory usage: 96.8+ KB\n"
     ]
    },
    {
     "data": {
      "application/vnd.microsoft.datawrangler.viewer.v0+json": {
       "columns": [
        {
         "name": "index",
         "rawType": "object",
         "type": "string"
        },
        {
         "name": "0",
         "rawType": "int64",
         "type": "integer"
        }
       ],
       "ref": "a6b687cd-458e-4737-b011-a4d40832136b",
       "rows": [
        [
         "seller_id",
         "0"
        ],
        [
         "seller_zip_code_prefix",
         "0"
        ],
        [
         "seller_city",
         "0"
        ],
        [
         "seller_state",
         "0"
        ]
       ],
       "shape": {
        "columns": 1,
        "rows": 4
       }
      },
      "text/plain": [
       "seller_id                 0\n",
       "seller_zip_code_prefix    0\n",
       "seller_city               0\n",
       "seller_state              0\n",
       "dtype: int64"
      ]
     },
     "execution_count": 27,
     "metadata": {},
     "output_type": "execute_result"
    }
   ],
   "source": [
    "df_sellers.info()\n",
    "df_sellers.isnull().sum()"
   ]
  },
  {
   "cell_type": "code",
   "execution_count": 28,
   "id": "391c9554",
   "metadata": {},
   "outputs": [
    {
     "data": {
      "text/plain": [
       "np.int64(0)"
      ]
     },
     "execution_count": 28,
     "metadata": {},
     "output_type": "execute_result"
    }
   ],
   "source": [
    "df_sellers.duplicated().sum()"
   ]
  },
  {
   "cell_type": "markdown",
   "id": "ab5975b3",
   "metadata": {},
   "source": [
    "- df_sellers doesn't have duplicate entrys, no columns to drop at first and no Nulls"
   ]
  },
  {
   "cell_type": "markdown",
   "id": "7482558e",
   "metadata": {},
   "source": [
    "## Data Conversion and normalization"
   ]
  },
  {
   "cell_type": "markdown",
   "id": "5e74fae2",
   "metadata": {},
   "source": [
    "### Dataframe: Products"
   ]
  },
  {
   "cell_type": "code",
   "execution_count": 29,
   "id": "ce735397",
   "metadata": {},
   "outputs": [
    {
     "name": "stdout",
     "output_type": "stream",
     "text": [
      "<class 'pandas.core.frame.DataFrame'>\n",
      "RangeIndex: 32951 entries, 0 to 32950\n",
      "Data columns (total 2 columns):\n",
      " #   Column                 Non-Null Count  Dtype \n",
      "---  ------                 --------------  ----- \n",
      " 0   product_id             32951 non-null  object\n",
      " 1   product_category_name  32951 non-null  object\n",
      "dtypes: object(2)\n",
      "memory usage: 515.0+ KB\n"
     ]
    }
   ],
   "source": [
    "df_products.info()"
   ]
  },
  {
   "cell_type": "markdown",
   "id": "cd3d81c6",
   "metadata": {},
   "source": [
    "- Normalizing to a readable entries"
   ]
  },
  {
   "cell_type": "code",
   "execution_count": 30,
   "id": "955f28ac",
   "metadata": {},
   "outputs": [],
   "source": [
    "df_products['product_category_name'] = (\n",
    "    df_products['product_category_name']\n",
    "    .str.replace('_', ' ')      \n",
    "    .str.title()                \n",
    "    .str.strip()    \n",
    ")"
   ]
  },
  {
   "cell_type": "code",
   "execution_count": 31,
   "id": "47964554",
   "metadata": {},
   "outputs": [
    {
     "data": {
      "text/plain": [
       "['Agro Industria E Comercio',\n",
       " 'Alimentos',\n",
       " 'Alimentos Bebidas',\n",
       " 'Artes',\n",
       " 'Artes E Artesanato',\n",
       " 'Artigos De Festas',\n",
       " 'Artigos De Natal',\n",
       " 'Audio',\n",
       " 'Automotivo',\n",
       " 'Bebes',\n",
       " 'Bebidas',\n",
       " 'Beleza Saude',\n",
       " 'Brinquedos',\n",
       " 'Cama Mesa Banho',\n",
       " 'Casa Conforto',\n",
       " 'Casa Conforto 2',\n",
       " 'Casa Construcao',\n",
       " 'Cds Dvds Musicais',\n",
       " 'Cine Foto',\n",
       " 'Climatizacao',\n",
       " 'Consoles Games',\n",
       " 'Construcao Ferramentas Construcao',\n",
       " 'Construcao Ferramentas Ferramentas',\n",
       " 'Construcao Ferramentas Iluminacao',\n",
       " 'Construcao Ferramentas Jardim',\n",
       " 'Construcao Ferramentas Seguranca',\n",
       " 'Cool Stuff',\n",
       " 'Dvds Blu Ray',\n",
       " 'Eletrodomesticos',\n",
       " 'Eletrodomesticos 2',\n",
       " 'Eletronicos',\n",
       " 'Eletroportateis',\n",
       " 'Esporte Lazer',\n",
       " 'Fashion Bolsas E Acessorios',\n",
       " 'Fashion Calcados',\n",
       " 'Fashion Esporte',\n",
       " 'Fashion Roupa Feminina',\n",
       " 'Fashion Roupa Infanto Juvenil',\n",
       " 'Fashion Roupa Masculina',\n",
       " 'Fashion Underwear E Moda Praia',\n",
       " 'Ferramentas Jardim',\n",
       " 'Flores',\n",
       " 'Fraldas Higiene',\n",
       " 'Industria Comercio E Negocios',\n",
       " 'Informatica Acessorios',\n",
       " 'Instrumentos Musicais',\n",
       " 'La Cuisine',\n",
       " 'Livros Importados',\n",
       " 'Livros Interesse Geral',\n",
       " 'Livros Tecnicos',\n",
       " 'Malas Acessorios',\n",
       " 'Market Place',\n",
       " 'Moveis Colchao E Estofado',\n",
       " 'Moveis Cozinha Area De Servico Jantar E Jardim',\n",
       " 'Moveis Decoracao',\n",
       " 'Moveis Escritorio',\n",
       " 'Moveis Quarto',\n",
       " 'Moveis Sala',\n",
       " 'Musica',\n",
       " 'Papelaria',\n",
       " 'Pc Gamer',\n",
       " 'Pcs',\n",
       " 'Perfumaria',\n",
       " 'Pet Shop',\n",
       " 'Portateis Casa Forno E Cafe',\n",
       " 'Portateis Cozinha E Preparadores De Alimentos',\n",
       " 'Relogios Presentes',\n",
       " 'Seguros E Servicos',\n",
       " 'Sem Categoria',\n",
       " 'Sinalizacao E Seguranca',\n",
       " 'Tablets Impressao Imagem',\n",
       " 'Telefonia',\n",
       " 'Telefonia Fixa',\n",
       " 'Utilidades Domesticas']"
      ]
     },
     "execution_count": 31,
     "metadata": {},
     "output_type": "execute_result"
    }
   ],
   "source": [
    "sorted(df_products['product_category_name'].dropna().unique())"
   ]
  },
  {
   "cell_type": "code",
   "execution_count": 32,
   "id": "cb2f67b3",
   "metadata": {},
   "outputs": [],
   "source": [
    "manual_corrections = {\n",
    "    'Agro Industria E Comercio': 'Agro Indústria e Comércio',\n",
    "    'Artes E Artesanato': 'Artes e Artesanato',\n",
    "    'Artigos De Festas': 'Artigos de Festas',\n",
    "    'Artigos De Natal': 'Artigos de Natal',\n",
    "    'Beleza Saude':'Beleza e Saude',\n",
    "    'Cama Mesa Banho': 'Cama Mesa e Banho',\n",
    "    'Casa Conforto': 'Casa e Conforto',\n",
    "    'Casa Conforto 2': 'Casa e Conforto',\n",
    "    'Casa Construcao': 'Casa e Construção',\n",
    "    'Cds Dvds Musicais': 'Cds Dvds e Musicais',\n",
    "    'Cine Foto': 'Cine e Foto',\n",
    "    'Climatizacao': 'Climatização',\n",
    "    'Consoles Games': 'Consoles e Games',\n",
    "    'Construcao Ferramentas Construcao': 'Artigos de Construção',\n",
    "    'Construcao Ferramentas Ferramentas': 'Artigos de Construção',\n",
    "    'Construcao Ferramentas Iluminacao': 'Artigos de Construção',\n",
    "    'Construcao Ferramentas Jardim': 'Artigos de Construção',\n",
    "    'Construcao Ferramentas Seguranca': 'Artigos de Construção',\n",
    "    'Dvds Blu Ray': 'Dvds/Blu-Ray',\n",
    "    'Eletrodomesticos': 'Eletrodomésticos',\n",
    "    'Eletrodomesticos 2': 'Eletrodomésticos',\n",
    "    'Eletronicos': 'Eletrônicos',\n",
    "    'Eletroportateis': 'Eletroportáteis',\n",
    "    'Esporte Lazer': 'Esporte e Lazer',\n",
    "    'Fashion Bolsas E Acessorios': 'Bolsas e Acessórios',\n",
    "    'Fashion Calcados':'Calçados',\n",
    "    'Fashion Esporte': 'Moda Esportiva',\n",
    "    'Fashion Roupa Feminina': 'Roupa Feminina',\n",
    "    'Fashion Roupa Infanto Juvenil': 'Infanto Juvenil',\n",
    "    'Fashion Roupa Masculina': 'Roupa Masculina',\n",
    "    'Fashion Underwear E Moda Praia': 'Underwear e Moda Praia',\n",
    "    'Ferramentas Jardim': 'Ferramentas de Jardinagem',\n",
    "    'Fraldas Higiene': 'Fraldas e Higiene',\n",
    "    'Industria Comercio E Negocios': 'Indústria Comércio e Negócios',\n",
    "    'Informatica Acessorios': 'Acessórios de Informática',\n",
    "    'Livros Importados': 'Livros',\n",
    "    'Livros Interesse Geral': 'Livros',\n",
    "    'Livros Tecnicos': 'Livros',\n",
    "    'Malas Acessorios': 'Malas e Acessórios',\n",
    "    'Moveis Colchao E Estofado': 'Móveis',\n",
    "    'Moveis Cozinha Area De Servico Jantar E Jardim': 'Móveis',\n",
    "    'Moveis Decoracao': 'Móveis',\n",
    "    'Moveis Escritorio': 'Móveis',\n",
    "    'Moveis Quarto': 'Móveis',\n",
    "    'Moveis Sala': 'Móveis',\n",
    "    'Musica': 'Música',\n",
    "    'Portateis Casa Forno E Cafe': 'Casa Forno e Café',\n",
    "    'Portateis Cozinha E Preparadores De Alimentos': 'Cozinha e Preparadores de Alimentos',\n",
    "    'Relogios Presentes': 'Relógios e Presentes',\n",
    "    'Seguros E Servicos':'Seguros e Serviços',\n",
    "    'Sinalizacao E Seguranca': 'Sinalização e Segurança',\n",
    "    'Tablets Impressao Imagem': 'Tablets Impressão e Imagem',\n",
    "    'Utilidades Domesticas': 'Utilidades Domésticas'\n",
    "}\n",
    "df_products['product_category_name'] = df_products['product_category_name'].replace(manual_corrections)"
   ]
  },
  {
   "cell_type": "markdown",
   "id": "da1b232a",
   "metadata": {},
   "source": [
    "### Dataframe: Orders"
   ]
  },
  {
   "cell_type": "code",
   "execution_count": 33,
   "id": "9cfbcebf",
   "metadata": {},
   "outputs": [
    {
     "name": "stdout",
     "output_type": "stream",
     "text": [
      "<class 'pandas.core.frame.DataFrame'>\n",
      "RangeIndex: 99441 entries, 0 to 99440\n",
      "Data columns (total 4 columns):\n",
      " #   Column                    Non-Null Count  Dtype         \n",
      "---  ------                    --------------  -----         \n",
      " 0   order_id                  99441 non-null  object        \n",
      " 1   customer_id               99441 non-null  object        \n",
      " 2   order_status              99441 non-null  object        \n",
      " 3   order_purchase_timestamp  99441 non-null  datetime64[ns]\n",
      "dtypes: datetime64[ns](1), object(3)\n",
      "memory usage: 3.0+ MB\n"
     ]
    }
   ],
   "source": [
    "df_orders['order_purchase_timestamp'] = pd.to_datetime(df_orders['order_purchase_timestamp'])\n",
    "df_orders.info()"
   ]
  },
  {
   "cell_type": "markdown",
   "id": "2ae7700b",
   "metadata": {},
   "source": [
    "### Dataframe: Order_items and Order_Payments"
   ]
  },
  {
   "cell_type": "code",
   "execution_count": 34,
   "id": "04ba4fc9",
   "metadata": {},
   "outputs": [
    {
     "name": "stdout",
     "output_type": "stream",
     "text": [
      "<class 'pandas.core.frame.DataFrame'>\n",
      "RangeIndex: 112650 entries, 0 to 112649\n",
      "Data columns (total 5 columns):\n",
      " #   Column         Non-Null Count   Dtype  \n",
      "---  ------         --------------   -----  \n",
      " 0   order_id       112650 non-null  object \n",
      " 1   order_item_id  112650 non-null  int64  \n",
      " 2   product_id     112650 non-null  object \n",
      " 3   seller_id      112650 non-null  object \n",
      " 4   price          112650 non-null  float64\n",
      "dtypes: float64(1), int64(1), object(3)\n",
      "memory usage: 4.3+ MB\n",
      "<class 'pandas.core.frame.DataFrame'>\n",
      "RangeIndex: 103886 entries, 0 to 103885\n",
      "Data columns (total 2 columns):\n",
      " #   Column         Non-Null Count   Dtype  \n",
      "---  ------         --------------   -----  \n",
      " 0   order_id       103886 non-null  object \n",
      " 1   payment_value  103886 non-null  float64\n",
      "dtypes: float64(1), object(1)\n",
      "memory usage: 1.6+ MB\n"
     ]
    }
   ],
   "source": [
    "df_order_items.info() #ok\n",
    "df_order_payments.info() #ok\n"
   ]
  },
  {
   "cell_type": "markdown",
   "id": "7c23c7f9",
   "metadata": {},
   "source": [
    "### Dataframe: Customer and Sellers"
   ]
  },
  {
   "cell_type": "code",
   "execution_count": 35,
   "id": "32d05cc1",
   "metadata": {},
   "outputs": [
    {
     "name": "stdout",
     "output_type": "stream",
     "text": [
      "<class 'pandas.core.frame.DataFrame'>\n",
      "RangeIndex: 99441 entries, 0 to 99440\n",
      "Data columns (total 5 columns):\n",
      " #   Column                    Non-Null Count  Dtype \n",
      "---  ------                    --------------  ----- \n",
      " 0   customer_id               99441 non-null  object\n",
      " 1   customer_unique_id        99441 non-null  object\n",
      " 2   customer_zip_code_prefix  99441 non-null  int64 \n",
      " 3   customer_city             99441 non-null  object\n",
      " 4   customer_state            99441 non-null  object\n",
      "dtypes: int64(1), object(4)\n",
      "memory usage: 3.8+ MB\n",
      "<class 'pandas.core.frame.DataFrame'>\n",
      "RangeIndex: 3095 entries, 0 to 3094\n",
      "Data columns (total 4 columns):\n",
      " #   Column                  Non-Null Count  Dtype \n",
      "---  ------                  --------------  ----- \n",
      " 0   seller_id               3095 non-null   object\n",
      " 1   seller_zip_code_prefix  3095 non-null   int64 \n",
      " 2   seller_city             3095 non-null   object\n",
      " 3   seller_state            3095 non-null   object\n",
      "dtypes: int64(1), object(3)\n",
      "memory usage: 96.8+ KB\n"
     ]
    }
   ],
   "source": [
    "df_customers.info()\n",
    "df_sellers.info()"
   ]
  },
  {
   "cell_type": "markdown",
   "id": "fb146233",
   "metadata": {},
   "source": [
    "- Cities in df_customers and df_sellers has some strange entries\n",
    "- Using a dataset of Brazilian ZIP codes to normalize both dataframes."
   ]
  },
  {
   "cell_type": "code",
   "execution_count": 42,
   "id": "e71c40bc",
   "metadata": {},
   "outputs": [
    {
     "data": {
      "application/vnd.microsoft.datawrangler.viewer.v0+json": {
       "columns": [
        {
         "name": "index",
         "rawType": "int64",
         "type": "integer"
        },
        {
         "name": "seller_id",
         "rawType": "object",
         "type": "string"
        },
        {
         "name": "seller_zip_code_prefix",
         "rawType": "int64",
         "type": "integer"
        },
        {
         "name": "seller_city",
         "rawType": "object",
         "type": "string"
        },
        {
         "name": "seller_state",
         "rawType": "object",
         "type": "string"
        },
        {
         "name": "cidade_corrigida",
         "rawType": "object",
         "type": "string"
        },
        {
         "name": "estado_corrigido",
         "rawType": "object",
         "type": "string"
        }
       ],
       "ref": "1e20bc6f-cc32-4a6e-9189-50a179cbb4c3",
       "rows": [],
       "shape": {
        "columns": 6,
        "rows": 0
       }
      },
      "text/html": [
       "<div>\n",
       "<style scoped>\n",
       "    .dataframe tbody tr th:only-of-type {\n",
       "        vertical-align: middle;\n",
       "    }\n",
       "\n",
       "    .dataframe tbody tr th {\n",
       "        vertical-align: top;\n",
       "    }\n",
       "\n",
       "    .dataframe thead th {\n",
       "        text-align: right;\n",
       "    }\n",
       "</style>\n",
       "<table border=\"1\" class=\"dataframe\">\n",
       "  <thead>\n",
       "    <tr style=\"text-align: right;\">\n",
       "      <th></th>\n",
       "      <th>seller_id</th>\n",
       "      <th>seller_zip_code_prefix</th>\n",
       "      <th>seller_city</th>\n",
       "      <th>seller_state</th>\n",
       "      <th>cidade_corrigida</th>\n",
       "      <th>estado_corrigido</th>\n",
       "    </tr>\n",
       "  </thead>\n",
       "  <tbody>\n",
       "  </tbody>\n",
       "</table>\n",
       "</div>"
      ],
      "text/plain": [
       "Empty DataFrame\n",
       "Columns: [seller_id, seller_zip_code_prefix, seller_city, seller_state, cidade_corrigida, estado_corrigido]\n",
       "Index: []"
      ]
     },
     "execution_count": 42,
     "metadata": {},
     "output_type": "execute_result"
    }
   ],
   "source": [
    "def buscar_local_por_cep(cep, cdf):\n",
    "    cdf_temp = cdf.copy()\n",
    "    cdf_temp['CEP Inicial'] = (cdf_temp['CEP Inicial'] // 1000).astype(int)\n",
    "    cdf_temp['CEP Final'] = (cdf_temp['CEP Final'] // 1000).astype(int)\n",
    "    \n",
    "    row = cdf_temp[(cdf_temp['CEP Inicial'] <= cep) & (cdf_temp['CEP Final'] >= cep)]\n",
    "\n",
    "    if not row.empty:\n",
    "        local = row.iloc[0]['Localidade']\n",
    "        estado = row.iloc[0]['Estado']  # ou 'estado', se já estiver nome completo\n",
    "        return pd.Series({'cidade_corrigida': local, 'estado_corrigido': estado})\n",
    "    else:\n",
    "        return pd.Series({'cidade_corrigida': None, 'estado_corrigido': None}) \n",
    "    \n",
    "\n",
    "df_customers[['cidade_corrigida', 'estado_corrigido']] = (\n",
    "    df_customers['customer_zip_code_prefix'].apply(lambda cep: buscar_local_por_cep(cep, cdf_ceps))\n",
    ")\n",
    "\n",
    "df_sellers[['cidade_corrigida', 'estado_corrigido']] = (\n",
    "    df_sellers['seller_zip_code_prefix'].apply(lambda cep: buscar_local_por_cep(cep, cdf_ceps))\n",
    ")\n",
    "\n",
    "\n",
    "\n",
    "df_customers[df_customers['cidade_corrigida'].isna()]\n",
    "df_customers[df_customers['estado_corrigido'].isna()]\n",
    "df_sellers[df_sellers['cidade_corrigida'].isna()]\n",
    "df_sellers[df_sellers['estado_corrigido'].isna()]"
   ]
  },
  {
   "cell_type": "markdown",
   "id": "e64ab6a9",
   "metadata": {},
   "source": [
    "> Running a function to check for the CEP and return the city and state"
   ]
  },
  {
   "cell_type": "code",
   "execution_count": 43,
   "id": "28d78b48",
   "metadata": {},
   "outputs": [
    {
     "data": {
      "application/vnd.microsoft.datawrangler.viewer.v0+json": {
       "columns": [
        {
         "name": "index",
         "rawType": "int64",
         "type": "integer"
        },
        {
         "name": "customer_id",
         "rawType": "object",
         "type": "string"
        },
        {
         "name": "customer_unique_id",
         "rawType": "object",
         "type": "string"
        },
        {
         "name": "customer_zip_code_prefix",
         "rawType": "int64",
         "type": "integer"
        },
        {
         "name": "customer_city",
         "rawType": "object",
         "type": "string"
        },
        {
         "name": "customer_state",
         "rawType": "object",
         "type": "string"
        },
        {
         "name": "cidade_corrigida",
         "rawType": "object",
         "type": "unknown"
        },
        {
         "name": "estado_corrigido",
         "rawType": "object",
         "type": "unknown"
        }
       ],
       "ref": "158517e6-20e8-4ec3-bec1-13161f38bed9",
       "rows": [
        [
         "2262",
         "fe196aba95e52d084e7bb60dbd8a23f1",
         "93b4c8bdafa9877757c77b519415d274",
         "89130",
         "indaial",
         "SC",
         null,
         null
        ],
        [
         "5525",
         "81eaa0c0dfb54f5f9d7d11734f162e65",
         "b0369cc51e0e1618a76c7174132b93cc",
         "89130",
         "indaial",
         "SC",
         null,
         null
        ],
        [
         "5648",
         "a059473225838f7005cf82e2f6b9a18d",
         "1df28da6a384e9822da017c6d44b0656",
         "89130",
         "indaial",
         "SC",
         null,
         null
        ],
        [
         "11226",
         "4560c6d8bfdd3e61555dca85d900e1e6",
         "ad054a269e8691d8e2727d1611f3950e",
         "89130",
         "indaial",
         "SC",
         null,
         null
        ],
        [
         "16766",
         "110d797e5a5055538df046c2cad8f3d4",
         "1a4d4db5393b394803df246ca68872b4",
         "98900",
         "santa rosa",
         "RS",
         null,
         null
        ],
        [
         "30064",
         "988126b4ddf725d9724e4318872ea2ae",
         "507dc9becd4fc65635d90682dfa9d3a3",
         "98900",
         "santa rosa",
         "RS",
         null,
         null
        ],
        [
         "33614",
         "7775deebb59b9257b62fd7f3117efa10",
         "26d23e38ed702dc7a476dbb107192848",
         "89130",
         "indaial",
         "SC",
         null,
         null
        ],
        [
         "44046",
         "6536b7e35e2598371da42ea384a43ddb",
         "760aa83faf9321a80f455369d7339a0a",
         "89130",
         "indaial",
         "SC",
         null,
         null
        ],
        [
         "60564",
         "ff69fe294d9da2e683dede2ddb70b6ae",
         "cd6ff01588442a00ebf2e3829d88e819",
         "98900",
         "santa rosa",
         "RS",
         null,
         null
        ],
        [
         "69067",
         "12217655416d9edb5594c7dc6597b85f",
         "215d7119ee04ba8fdd85407e222b90da",
         "89130",
         "indaial",
         "SC",
         null,
         null
        ],
        [
         "69690",
         "39d1b3f6e70944054f15906756f6f6c9",
         "1deeb2af44be649d0a8d3660bc7afb8b",
         "89130",
         "indaial",
         "SC",
         null,
         null
        ],
        [
         "74340",
         "d52d50587f75df7c5afbe0c57ed48029",
         "9a39c1a793a148452f4d0fd8b85a1c20",
         "89130",
         "indaial",
         "SC",
         null,
         null
        ],
        [
         "76073",
         "ed0271e0b7da060a393796590e7b737a",
         "36edbb3fb164b1f16485364b6fb04c73",
         "98900",
         "santa rosa",
         "RS",
         null,
         null
        ],
        [
         "79234",
         "dc41e3678d28d18486999a07be51317c",
         "9ef475e8950b598deac6cfba29768fd3",
         "89130",
         "indaial",
         "SC",
         null,
         null
        ],
        [
         "80696",
         "59077d5c620a379906c1130b4cb666ae",
         "4a0e1963153df245b88a3efdc56afe97",
         "89130",
         "indaial",
         "SC",
         null,
         null
        ],
        [
         "81927",
         "7745cf61130162f1639e8aca053a5655",
         "da8a30f096998be524bb7762f34ae7ec",
         "98900",
         "santa rosa",
         "RS",
         null,
         null
        ],
        [
         "82830",
         "a13f6cf0d876947e0559f572d69e59f9",
         "5e2a5e8ba51f24c1e13f99720473fa0d",
         "98900",
         "santa rosa",
         "RS",
         null,
         null
        ],
        [
         "83387",
         "f0063eff5de6c74e859ef5b403316c53",
         "a49e0376009f52b244fc67052627ad6f",
         "89130",
         "indaial",
         "SC",
         null,
         null
        ],
        [
         "85426",
         "e97a9968c444502cfce41e23725952e5",
         "0036a074f98b80c4f1fc33dbbcf9c552",
         "98900",
         "santa rosa",
         "RS",
         null,
         null
        ],
        [
         "88132",
         "ff92e1be6dc1bad3695547e321d2003b",
         "3a3bf14f1678d2dbfb886a2dc94331d2",
         "89130",
         "indaial",
         "SC",
         null,
         null
        ],
        [
         "89402",
         "77a385ed7574f6d6da77902de5abbe18",
         "2c693e71cc2c3b66b36ecf55c7668f49",
         "98900",
         "santa rosa",
         "RS",
         null,
         null
        ],
        [
         "96106",
         "12dca0bf14588cc10f18a9f9abaef604",
         "6259b1f4da26c67879164ebce6333481",
         "98900",
         "santa rosa",
         "RS",
         null,
         null
        ],
        [
         "99026",
         "995ff88564ad4b448082f8b9e7d9af68",
         "6d7a18f90abb894e378a51500101ea1a",
         "89130",
         "indaial",
         "SC",
         null,
         null
        ]
       ],
       "shape": {
        "columns": 7,
        "rows": 23
       }
      },
      "text/html": [
       "<div>\n",
       "<style scoped>\n",
       "    .dataframe tbody tr th:only-of-type {\n",
       "        vertical-align: middle;\n",
       "    }\n",
       "\n",
       "    .dataframe tbody tr th {\n",
       "        vertical-align: top;\n",
       "    }\n",
       "\n",
       "    .dataframe thead th {\n",
       "        text-align: right;\n",
       "    }\n",
       "</style>\n",
       "<table border=\"1\" class=\"dataframe\">\n",
       "  <thead>\n",
       "    <tr style=\"text-align: right;\">\n",
       "      <th></th>\n",
       "      <th>customer_id</th>\n",
       "      <th>customer_unique_id</th>\n",
       "      <th>customer_zip_code_prefix</th>\n",
       "      <th>customer_city</th>\n",
       "      <th>customer_state</th>\n",
       "      <th>cidade_corrigida</th>\n",
       "      <th>estado_corrigido</th>\n",
       "    </tr>\n",
       "  </thead>\n",
       "  <tbody>\n",
       "    <tr>\n",
       "      <th>2262</th>\n",
       "      <td>fe196aba95e52d084e7bb60dbd8a23f1</td>\n",
       "      <td>93b4c8bdafa9877757c77b519415d274</td>\n",
       "      <td>89130</td>\n",
       "      <td>indaial</td>\n",
       "      <td>SC</td>\n",
       "      <td>None</td>\n",
       "      <td>None</td>\n",
       "    </tr>\n",
       "    <tr>\n",
       "      <th>5525</th>\n",
       "      <td>81eaa0c0dfb54f5f9d7d11734f162e65</td>\n",
       "      <td>b0369cc51e0e1618a76c7174132b93cc</td>\n",
       "      <td>89130</td>\n",
       "      <td>indaial</td>\n",
       "      <td>SC</td>\n",
       "      <td>None</td>\n",
       "      <td>None</td>\n",
       "    </tr>\n",
       "    <tr>\n",
       "      <th>5648</th>\n",
       "      <td>a059473225838f7005cf82e2f6b9a18d</td>\n",
       "      <td>1df28da6a384e9822da017c6d44b0656</td>\n",
       "      <td>89130</td>\n",
       "      <td>indaial</td>\n",
       "      <td>SC</td>\n",
       "      <td>None</td>\n",
       "      <td>None</td>\n",
       "    </tr>\n",
       "    <tr>\n",
       "      <th>11226</th>\n",
       "      <td>4560c6d8bfdd3e61555dca85d900e1e6</td>\n",
       "      <td>ad054a269e8691d8e2727d1611f3950e</td>\n",
       "      <td>89130</td>\n",
       "      <td>indaial</td>\n",
       "      <td>SC</td>\n",
       "      <td>None</td>\n",
       "      <td>None</td>\n",
       "    </tr>\n",
       "    <tr>\n",
       "      <th>16766</th>\n",
       "      <td>110d797e5a5055538df046c2cad8f3d4</td>\n",
       "      <td>1a4d4db5393b394803df246ca68872b4</td>\n",
       "      <td>98900</td>\n",
       "      <td>santa rosa</td>\n",
       "      <td>RS</td>\n",
       "      <td>None</td>\n",
       "      <td>None</td>\n",
       "    </tr>\n",
       "    <tr>\n",
       "      <th>30064</th>\n",
       "      <td>988126b4ddf725d9724e4318872ea2ae</td>\n",
       "      <td>507dc9becd4fc65635d90682dfa9d3a3</td>\n",
       "      <td>98900</td>\n",
       "      <td>santa rosa</td>\n",
       "      <td>RS</td>\n",
       "      <td>None</td>\n",
       "      <td>None</td>\n",
       "    </tr>\n",
       "    <tr>\n",
       "      <th>33614</th>\n",
       "      <td>7775deebb59b9257b62fd7f3117efa10</td>\n",
       "      <td>26d23e38ed702dc7a476dbb107192848</td>\n",
       "      <td>89130</td>\n",
       "      <td>indaial</td>\n",
       "      <td>SC</td>\n",
       "      <td>None</td>\n",
       "      <td>None</td>\n",
       "    </tr>\n",
       "    <tr>\n",
       "      <th>44046</th>\n",
       "      <td>6536b7e35e2598371da42ea384a43ddb</td>\n",
       "      <td>760aa83faf9321a80f455369d7339a0a</td>\n",
       "      <td>89130</td>\n",
       "      <td>indaial</td>\n",
       "      <td>SC</td>\n",
       "      <td>None</td>\n",
       "      <td>None</td>\n",
       "    </tr>\n",
       "    <tr>\n",
       "      <th>60564</th>\n",
       "      <td>ff69fe294d9da2e683dede2ddb70b6ae</td>\n",
       "      <td>cd6ff01588442a00ebf2e3829d88e819</td>\n",
       "      <td>98900</td>\n",
       "      <td>santa rosa</td>\n",
       "      <td>RS</td>\n",
       "      <td>None</td>\n",
       "      <td>None</td>\n",
       "    </tr>\n",
       "    <tr>\n",
       "      <th>69067</th>\n",
       "      <td>12217655416d9edb5594c7dc6597b85f</td>\n",
       "      <td>215d7119ee04ba8fdd85407e222b90da</td>\n",
       "      <td>89130</td>\n",
       "      <td>indaial</td>\n",
       "      <td>SC</td>\n",
       "      <td>None</td>\n",
       "      <td>None</td>\n",
       "    </tr>\n",
       "    <tr>\n",
       "      <th>69690</th>\n",
       "      <td>39d1b3f6e70944054f15906756f6f6c9</td>\n",
       "      <td>1deeb2af44be649d0a8d3660bc7afb8b</td>\n",
       "      <td>89130</td>\n",
       "      <td>indaial</td>\n",
       "      <td>SC</td>\n",
       "      <td>None</td>\n",
       "      <td>None</td>\n",
       "    </tr>\n",
       "    <tr>\n",
       "      <th>74340</th>\n",
       "      <td>d52d50587f75df7c5afbe0c57ed48029</td>\n",
       "      <td>9a39c1a793a148452f4d0fd8b85a1c20</td>\n",
       "      <td>89130</td>\n",
       "      <td>indaial</td>\n",
       "      <td>SC</td>\n",
       "      <td>None</td>\n",
       "      <td>None</td>\n",
       "    </tr>\n",
       "    <tr>\n",
       "      <th>76073</th>\n",
       "      <td>ed0271e0b7da060a393796590e7b737a</td>\n",
       "      <td>36edbb3fb164b1f16485364b6fb04c73</td>\n",
       "      <td>98900</td>\n",
       "      <td>santa rosa</td>\n",
       "      <td>RS</td>\n",
       "      <td>None</td>\n",
       "      <td>None</td>\n",
       "    </tr>\n",
       "    <tr>\n",
       "      <th>79234</th>\n",
       "      <td>dc41e3678d28d18486999a07be51317c</td>\n",
       "      <td>9ef475e8950b598deac6cfba29768fd3</td>\n",
       "      <td>89130</td>\n",
       "      <td>indaial</td>\n",
       "      <td>SC</td>\n",
       "      <td>None</td>\n",
       "      <td>None</td>\n",
       "    </tr>\n",
       "    <tr>\n",
       "      <th>80696</th>\n",
       "      <td>59077d5c620a379906c1130b4cb666ae</td>\n",
       "      <td>4a0e1963153df245b88a3efdc56afe97</td>\n",
       "      <td>89130</td>\n",
       "      <td>indaial</td>\n",
       "      <td>SC</td>\n",
       "      <td>None</td>\n",
       "      <td>None</td>\n",
       "    </tr>\n",
       "    <tr>\n",
       "      <th>81927</th>\n",
       "      <td>7745cf61130162f1639e8aca053a5655</td>\n",
       "      <td>da8a30f096998be524bb7762f34ae7ec</td>\n",
       "      <td>98900</td>\n",
       "      <td>santa rosa</td>\n",
       "      <td>RS</td>\n",
       "      <td>None</td>\n",
       "      <td>None</td>\n",
       "    </tr>\n",
       "    <tr>\n",
       "      <th>82830</th>\n",
       "      <td>a13f6cf0d876947e0559f572d69e59f9</td>\n",
       "      <td>5e2a5e8ba51f24c1e13f99720473fa0d</td>\n",
       "      <td>98900</td>\n",
       "      <td>santa rosa</td>\n",
       "      <td>RS</td>\n",
       "      <td>None</td>\n",
       "      <td>None</td>\n",
       "    </tr>\n",
       "    <tr>\n",
       "      <th>83387</th>\n",
       "      <td>f0063eff5de6c74e859ef5b403316c53</td>\n",
       "      <td>a49e0376009f52b244fc67052627ad6f</td>\n",
       "      <td>89130</td>\n",
       "      <td>indaial</td>\n",
       "      <td>SC</td>\n",
       "      <td>None</td>\n",
       "      <td>None</td>\n",
       "    </tr>\n",
       "    <tr>\n",
       "      <th>85426</th>\n",
       "      <td>e97a9968c444502cfce41e23725952e5</td>\n",
       "      <td>0036a074f98b80c4f1fc33dbbcf9c552</td>\n",
       "      <td>98900</td>\n",
       "      <td>santa rosa</td>\n",
       "      <td>RS</td>\n",
       "      <td>None</td>\n",
       "      <td>None</td>\n",
       "    </tr>\n",
       "    <tr>\n",
       "      <th>88132</th>\n",
       "      <td>ff92e1be6dc1bad3695547e321d2003b</td>\n",
       "      <td>3a3bf14f1678d2dbfb886a2dc94331d2</td>\n",
       "      <td>89130</td>\n",
       "      <td>indaial</td>\n",
       "      <td>SC</td>\n",
       "      <td>None</td>\n",
       "      <td>None</td>\n",
       "    </tr>\n",
       "    <tr>\n",
       "      <th>89402</th>\n",
       "      <td>77a385ed7574f6d6da77902de5abbe18</td>\n",
       "      <td>2c693e71cc2c3b66b36ecf55c7668f49</td>\n",
       "      <td>98900</td>\n",
       "      <td>santa rosa</td>\n",
       "      <td>RS</td>\n",
       "      <td>None</td>\n",
       "      <td>None</td>\n",
       "    </tr>\n",
       "    <tr>\n",
       "      <th>96106</th>\n",
       "      <td>12dca0bf14588cc10f18a9f9abaef604</td>\n",
       "      <td>6259b1f4da26c67879164ebce6333481</td>\n",
       "      <td>98900</td>\n",
       "      <td>santa rosa</td>\n",
       "      <td>RS</td>\n",
       "      <td>None</td>\n",
       "      <td>None</td>\n",
       "    </tr>\n",
       "    <tr>\n",
       "      <th>99026</th>\n",
       "      <td>995ff88564ad4b448082f8b9e7d9af68</td>\n",
       "      <td>6d7a18f90abb894e378a51500101ea1a</td>\n",
       "      <td>89130</td>\n",
       "      <td>indaial</td>\n",
       "      <td>SC</td>\n",
       "      <td>None</td>\n",
       "      <td>None</td>\n",
       "    </tr>\n",
       "  </tbody>\n",
       "</table>\n",
       "</div>"
      ],
      "text/plain": [
       "                            customer_id                customer_unique_id  \\\n",
       "2262   fe196aba95e52d084e7bb60dbd8a23f1  93b4c8bdafa9877757c77b519415d274   \n",
       "5525   81eaa0c0dfb54f5f9d7d11734f162e65  b0369cc51e0e1618a76c7174132b93cc   \n",
       "5648   a059473225838f7005cf82e2f6b9a18d  1df28da6a384e9822da017c6d44b0656   \n",
       "11226  4560c6d8bfdd3e61555dca85d900e1e6  ad054a269e8691d8e2727d1611f3950e   \n",
       "16766  110d797e5a5055538df046c2cad8f3d4  1a4d4db5393b394803df246ca68872b4   \n",
       "30064  988126b4ddf725d9724e4318872ea2ae  507dc9becd4fc65635d90682dfa9d3a3   \n",
       "33614  7775deebb59b9257b62fd7f3117efa10  26d23e38ed702dc7a476dbb107192848   \n",
       "44046  6536b7e35e2598371da42ea384a43ddb  760aa83faf9321a80f455369d7339a0a   \n",
       "60564  ff69fe294d9da2e683dede2ddb70b6ae  cd6ff01588442a00ebf2e3829d88e819   \n",
       "69067  12217655416d9edb5594c7dc6597b85f  215d7119ee04ba8fdd85407e222b90da   \n",
       "69690  39d1b3f6e70944054f15906756f6f6c9  1deeb2af44be649d0a8d3660bc7afb8b   \n",
       "74340  d52d50587f75df7c5afbe0c57ed48029  9a39c1a793a148452f4d0fd8b85a1c20   \n",
       "76073  ed0271e0b7da060a393796590e7b737a  36edbb3fb164b1f16485364b6fb04c73   \n",
       "79234  dc41e3678d28d18486999a07be51317c  9ef475e8950b598deac6cfba29768fd3   \n",
       "80696  59077d5c620a379906c1130b4cb666ae  4a0e1963153df245b88a3efdc56afe97   \n",
       "81927  7745cf61130162f1639e8aca053a5655  da8a30f096998be524bb7762f34ae7ec   \n",
       "82830  a13f6cf0d876947e0559f572d69e59f9  5e2a5e8ba51f24c1e13f99720473fa0d   \n",
       "83387  f0063eff5de6c74e859ef5b403316c53  a49e0376009f52b244fc67052627ad6f   \n",
       "85426  e97a9968c444502cfce41e23725952e5  0036a074f98b80c4f1fc33dbbcf9c552   \n",
       "88132  ff92e1be6dc1bad3695547e321d2003b  3a3bf14f1678d2dbfb886a2dc94331d2   \n",
       "89402  77a385ed7574f6d6da77902de5abbe18  2c693e71cc2c3b66b36ecf55c7668f49   \n",
       "96106  12dca0bf14588cc10f18a9f9abaef604  6259b1f4da26c67879164ebce6333481   \n",
       "99026  995ff88564ad4b448082f8b9e7d9af68  6d7a18f90abb894e378a51500101ea1a   \n",
       "\n",
       "       customer_zip_code_prefix customer_city customer_state cidade_corrigida  \\\n",
       "2262                      89130       indaial             SC             None   \n",
       "5525                      89130       indaial             SC             None   \n",
       "5648                      89130       indaial             SC             None   \n",
       "11226                     89130       indaial             SC             None   \n",
       "16766                     98900    santa rosa             RS             None   \n",
       "30064                     98900    santa rosa             RS             None   \n",
       "33614                     89130       indaial             SC             None   \n",
       "44046                     89130       indaial             SC             None   \n",
       "60564                     98900    santa rosa             RS             None   \n",
       "69067                     89130       indaial             SC             None   \n",
       "69690                     89130       indaial             SC             None   \n",
       "74340                     89130       indaial             SC             None   \n",
       "76073                     98900    santa rosa             RS             None   \n",
       "79234                     89130       indaial             SC             None   \n",
       "80696                     89130       indaial             SC             None   \n",
       "81927                     98900    santa rosa             RS             None   \n",
       "82830                     98900    santa rosa             RS             None   \n",
       "83387                     89130       indaial             SC             None   \n",
       "85426                     98900    santa rosa             RS             None   \n",
       "88132                     89130       indaial             SC             None   \n",
       "89402                     98900    santa rosa             RS             None   \n",
       "96106                     98900    santa rosa             RS             None   \n",
       "99026                     89130       indaial             SC             None   \n",
       "\n",
       "      estado_corrigido  \n",
       "2262              None  \n",
       "5525              None  \n",
       "5648              None  \n",
       "11226             None  \n",
       "16766             None  \n",
       "30064             None  \n",
       "33614             None  \n",
       "44046             None  \n",
       "60564             None  \n",
       "69067             None  \n",
       "69690             None  \n",
       "74340             None  \n",
       "76073             None  \n",
       "79234             None  \n",
       "80696             None  \n",
       "81927             None  \n",
       "82830             None  \n",
       "83387             None  \n",
       "85426             None  \n",
       "88132             None  \n",
       "89402             None  \n",
       "96106             None  \n",
       "99026             None  "
      ]
     },
     "execution_count": 43,
     "metadata": {},
     "output_type": "execute_result"
    }
   ],
   "source": [
    "df_customers[df_customers['estado_corrigido'].isna()]"
   ]
  },
  {
   "cell_type": "code",
   "execution_count": 44,
   "id": "646fb5a7",
   "metadata": {},
   "outputs": [
    {
     "data": {
      "application/vnd.microsoft.datawrangler.viewer.v0+json": {
       "columns": [
        {
         "name": "index",
         "rawType": "int64",
         "type": "integer"
        },
        {
         "name": "seller_id",
         "rawType": "object",
         "type": "string"
        },
        {
         "name": "seller_zip_code_prefix",
         "rawType": "int64",
         "type": "integer"
        },
        {
         "name": "seller_city",
         "rawType": "object",
         "type": "string"
        },
        {
         "name": "seller_state",
         "rawType": "object",
         "type": "string"
        },
        {
         "name": "cidade_corrigida",
         "rawType": "object",
         "type": "string"
        },
        {
         "name": "estado_corrigido",
         "rawType": "object",
         "type": "string"
        }
       ],
       "ref": "0b775946-e80c-459f-92d8-9f2d8ed4bc34",
       "rows": [],
       "shape": {
        "columns": 6,
        "rows": 0
       }
      },
      "text/html": [
       "<div>\n",
       "<style scoped>\n",
       "    .dataframe tbody tr th:only-of-type {\n",
       "        vertical-align: middle;\n",
       "    }\n",
       "\n",
       "    .dataframe tbody tr th {\n",
       "        vertical-align: top;\n",
       "    }\n",
       "\n",
       "    .dataframe thead th {\n",
       "        text-align: right;\n",
       "    }\n",
       "</style>\n",
       "<table border=\"1\" class=\"dataframe\">\n",
       "  <thead>\n",
       "    <tr style=\"text-align: right;\">\n",
       "      <th></th>\n",
       "      <th>seller_id</th>\n",
       "      <th>seller_zip_code_prefix</th>\n",
       "      <th>seller_city</th>\n",
       "      <th>seller_state</th>\n",
       "      <th>cidade_corrigida</th>\n",
       "      <th>estado_corrigido</th>\n",
       "    </tr>\n",
       "  </thead>\n",
       "  <tbody>\n",
       "  </tbody>\n",
       "</table>\n",
       "</div>"
      ],
      "text/plain": [
       "Empty DataFrame\n",
       "Columns: [seller_id, seller_zip_code_prefix, seller_city, seller_state, cidade_corrigida, estado_corrigido]\n",
       "Index: []"
      ]
     },
     "execution_count": 44,
     "metadata": {},
     "output_type": "execute_result"
    }
   ],
   "source": [
    "df_sellers[df_sellers['cidade_corrigida'].isna()]"
   ]
  },
  {
   "cell_type": "markdown",
   "id": "71ce859e",
   "metadata": {},
   "source": [
    "> Df sellers got all correct, but some missing values on df_customers"
   ]
  },
  {
   "cell_type": "code",
   "execution_count": null,
   "id": "d62b1ef7",
   "metadata": {},
   "outputs": [],
   "source": [
    "#df_customers[df_customers['estado_corrigido'].isna()]\n",
    "df_customers.loc[(df_customers['customer_city'] == 'indaial') & (df_customers['cidade_corrigida'].isna()), 'cidade_corrigida'] = \"Indaial\"\n",
    "df_customers.loc[(df_customers['customer_city'] == 'indaial') & (df_customers['estado_corrigido'].isna()), 'estado_corrigido'] = \"Santa Catarina\"\n",
    "df_customers.loc[(df_customers['customer_city'] == 'santa rosa') & (df_customers['cidade_corrigida'].isna()), 'cidade_corrigida'] = \"Santa Rosa\"\n",
    "df_customers.loc[(df_customers['customer_city'] == 'santa rosa') & (df_customers['estado_corrigido'].isna()), 'estado_corrigido'] = \"Rio Grande do Sul\""
   ]
  },
  {
   "cell_type": "markdown",
   "id": "b9d26cf0",
   "metadata": {},
   "source": [
    "> Manually inserting the right values."
   ]
  },
  {
   "cell_type": "code",
   "execution_count": null,
   "id": "c177a1c4",
   "metadata": {},
   "outputs": [
    {
     "data": {
      "application/vnd.microsoft.datawrangler.viewer.v0+json": {
       "columns": [
        {
         "name": "index",
         "rawType": "int64",
         "type": "integer"
        },
        {
         "name": "customer_id",
         "rawType": "object",
         "type": "string"
        },
        {
         "name": "customer_unique_id",
         "rawType": "object",
         "type": "string"
        },
        {
         "name": "customer_zip_code_prefix",
         "rawType": "int64",
         "type": "integer"
        },
        {
         "name": "customer_city",
         "rawType": "object",
         "type": "string"
        },
        {
         "name": "customer_state",
         "rawType": "object",
         "type": "string"
        },
        {
         "name": "cidade_corrigida",
         "rawType": "object",
         "type": "string"
        },
        {
         "name": "estado_corrigido",
         "rawType": "object",
         "type": "string"
        }
       ],
       "ref": "508ccb45-4a6c-4ad6-8cc6-1fdd3202b605",
       "rows": [],
       "shape": {
        "columns": 7,
        "rows": 0
       }
      },
      "text/html": [
       "<div>\n",
       "<style scoped>\n",
       "    .dataframe tbody tr th:only-of-type {\n",
       "        vertical-align: middle;\n",
       "    }\n",
       "\n",
       "    .dataframe tbody tr th {\n",
       "        vertical-align: top;\n",
       "    }\n",
       "\n",
       "    .dataframe thead th {\n",
       "        text-align: right;\n",
       "    }\n",
       "</style>\n",
       "<table border=\"1\" class=\"dataframe\">\n",
       "  <thead>\n",
       "    <tr style=\"text-align: right;\">\n",
       "      <th></th>\n",
       "      <th>customer_id</th>\n",
       "      <th>customer_unique_id</th>\n",
       "      <th>customer_zip_code_prefix</th>\n",
       "      <th>customer_city</th>\n",
       "      <th>customer_state</th>\n",
       "      <th>cidade_corrigida</th>\n",
       "      <th>estado_corrigido</th>\n",
       "    </tr>\n",
       "  </thead>\n",
       "  <tbody>\n",
       "  </tbody>\n",
       "</table>\n",
       "</div>"
      ],
      "text/plain": [
       "Empty DataFrame\n",
       "Columns: [customer_id, customer_unique_id, customer_zip_code_prefix, customer_city, customer_state, cidade_corrigida, estado_corrigido]\n",
       "Index: []"
      ]
     },
     "execution_count": 57,
     "metadata": {},
     "output_type": "execute_result"
    }
   ],
   "source": [
    "\n",
    "df_customers[df_customers['estado_corrigido'].isna()]"
   ]
  },
  {
   "cell_type": "markdown",
   "id": "20d60be1",
   "metadata": {},
   "source": [
    "- Saving cleaned data"
   ]
  },
  {
   "cell_type": "code",
   "execution_count": 59,
   "id": "57bffd24",
   "metadata": {},
   "outputs": [],
   "source": [
    "df_customers.to_csv(\"../data/cleaned/df_customers.csv\", index=False)\n",
    "df_order_items.to_csv(\"../data/cleaned/df_order_items.csv\", index=False)\n",
    "df_order_payments.to_csv(\"../data/cleaned/df_order_payments.csv\", index=False)\n",
    "df_orders.to_csv(\"../data/cleaned/df_orders.csv\", index=False)\n",
    "df_products.to_csv(\"../data/cleaned/df_products.csv\", index=False)\n",
    "df_sellers.to_csv(\"../data/cleaned/df_sellers.csv\", index=False)\n"
   ]
  },
  {
   "cell_type": "markdown",
   "id": "b0ffdbef",
   "metadata": {},
   "source": [
    "## Derived Data"
   ]
  },
  {
   "cell_type": "code",
   "execution_count": null,
   "id": "5066a96c",
   "metadata": {},
   "outputs": [],
   "source": [
    "df_sellers.rename(columns={\n",
    "    'cidade_corrigida':'seller_city_clean',\n",
    "    'estado_corrigido':'seller_state_clean'\n",
    "    },inplace=True)\n",
    "\n",
    "df_customers.rename(columns={\n",
    "    'cidade_corrigida':'customer_city_clean',\n",
    "    'estado_corrigido':'customer_state_clean'\n",
    "    },inplace=True)"
   ]
  },
  {
   "cell_type": "markdown",
   "id": "5be8490d",
   "metadata": {},
   "source": [
    "- Creating the final sales dataframe by merging the cleaned dataframes."
   ]
  },
  {
   "cell_type": "code",
   "execution_count": null,
   "id": "fd26e758",
   "metadata": {},
   "outputs": [],
   "source": [
    "#df_order_items.sort_values([\"order_id\", \"order_item_id\"],ascending=[1,1])\n",
    "proc_df_sales = df_order_items.merge(\n",
    "    df_products, on='product_id', how='left').merge(\n",
    "        df_sellers[['seller_id','seller_city_clean','seller_state_clean']], on='seller_id',how='left')"
   ]
  },
  {
   "cell_type": "markdown",
   "id": "85da1334",
   "metadata": {},
   "source": [
    "> Merged df_order_items with products and sellers, at first."
   ]
  },
  {
   "cell_type": "code",
   "execution_count": null,
   "id": "177cecab",
   "metadata": {},
   "outputs": [],
   "source": [
    "proc_order_by_customer = df_orders.merge(df_customers[['customer_id','customer_unique_id','customer_city_clean','customer_state_clean']],on='customer_id',how='left')\n",
    "proc_order_by_customer = proc_order_by_customer.loc[proc_order_by_customer['order_status'] == 'delivered']\n",
    "proc_order_by_customer.drop(columns=['order_status'],inplace=True) "
   ]
  },
  {
   "cell_type": "markdown",
   "id": "49b39b68",
   "metadata": {},
   "source": [
    "> Merged the orders with the customer informations"
   ]
  },
  {
   "cell_type": "code",
   "execution_count": null,
   "id": "58f79c96",
   "metadata": {},
   "outputs": [
    {
     "data": {
      "application/vnd.microsoft.datawrangler.viewer.v0+json": {
       "columns": [
        {
         "name": "index",
         "rawType": "int64",
         "type": "integer"
        },
        {
         "name": "order_id",
         "rawType": "object",
         "type": "string"
        },
        {
         "name": "order_item_id",
         "rawType": "int64",
         "type": "integer"
        },
        {
         "name": "product_id",
         "rawType": "object",
         "type": "string"
        },
        {
         "name": "seller_id",
         "rawType": "object",
         "type": "string"
        },
        {
         "name": "price",
         "rawType": "float64",
         "type": "float"
        },
        {
         "name": "product_category_name",
         "rawType": "object",
         "type": "string"
        },
        {
         "name": "seller_city_clean",
         "rawType": "object",
         "type": "string"
        },
        {
         "name": "seller_state_clean",
         "rawType": "object",
         "type": "string"
        }
       ],
       "ref": "c5075430-3e45-4460-97fc-c98a7e0e70c9",
       "rows": [
        [
         "79",
         "002f19a65a2ddd70a090297872e6d64e",
         "1",
         "9eae06d51aaa383b2bed5547a19d581c",
         "1835b56ce799e6a4dc4eddc053f04066",
         "53.98",
         "Cama Mesa e Banho",
         "Ibitinga",
         "São Paulo"
        ],
        [
         "84",
         "00310b0c75bb13015ec4d82d341865a4",
         "1",
         "c8e7c2ef329fcda4a233e7e2f8bb8b7d",
         "a2deecd5398f5df4987110c80a1972a3",
         "39.9",
         "Utilidades Domésticas",
         "São Paulo",
         "São Paulo"
        ],
        [
         "260",
         "00a99c50fdff7e36262caba33821875a",
         "1",
         "76d75f398634bf194ba99d7297e7d1fa",
         "974cf2cb8f4b7add98709c30df02fe10",
         "52.99",
         "Acessórios de Informática",
         "Araraquara",
         "São Paulo"
        ],
        [
         "270",
         "00ae7a8b4936674ebb701d4a23719a79",
         "1",
         "66f09a6de4f2ef63aaf5349b60a0e0c0",
         "bf0d50a6410d487dc97d2baac0a8c0be",
         "27.9",
         "Automotivo",
         "Piracicaba",
         "São Paulo"
        ],
        [
         "422",
         "00ff0cf5583758e6964723e42f111bf4",
         "1",
         "bb1fe952bdc16ef8974d4ca11aec19b7",
         "b17b679f4f5ce2e03ce6968c62648246",
         "154.9",
         "Beleza e Saude",
         "Ribeirão Preto",
         "São Paulo"
        ],
        [
         "543",
         "013e9c654a339d80b53513da3c1ea437",
         "1",
         "bcac2cdcd851929a5caa3e1508d5abc9",
         "0adac9fbd9a2b63cccaac4f8756c1ca8",
         "109.9",
         "Utilidades Domésticas",
         "Louveira",
         "São Paulo"
        ],
        [
         "553",
         "01443cd06ea8bce82c554a46f307459f",
         "1",
         "f77dd338d9f75229a09cbb9a18fd0c9a",
         "1c129092bf23f28a5930387c980c0dfc",
         "25.0",
         "Cama Mesa e Banho",
         "São Paulo",
         "São Paulo"
        ],
        [
         "558",
         "0148d3df00cebda592d4e5f966e300cc",
         "1",
         "ed08ea04c92f5f434c2362f7310fb328",
         "0adac9fbd9a2b63cccaac4f8756c1ca8",
         "5.53",
         "Utilidades Domésticas",
         "Louveira",
         "São Paulo"
        ],
        [
         "559",
         "0148d3df00cebda592d4e5f966e300cc",
         "2",
         "ed08ea04c92f5f434c2362f7310fb328",
         "0adac9fbd9a2b63cccaac4f8756c1ca8",
         "5.53",
         "Utilidades Domésticas",
         "Louveira",
         "São Paulo"
        ],
        [
         "560",
         "0148d3df00cebda592d4e5f966e300cc",
         "3",
         "ed08ea04c92f5f434c2362f7310fb328",
         "0adac9fbd9a2b63cccaac4f8756c1ca8",
         "5.53",
         "Utilidades Domésticas",
         "Louveira",
         "São Paulo"
        ],
        [
         "561",
         "0148d3df00cebda592d4e5f966e300cc",
         "4",
         "ed08ea04c92f5f434c2362f7310fb328",
         "0adac9fbd9a2b63cccaac4f8756c1ca8",
         "5.53",
         "Utilidades Domésticas",
         "Louveira",
         "São Paulo"
        ],
        [
         "562",
         "0148d3df00cebda592d4e5f966e300cc",
         "5",
         "ed08ea04c92f5f434c2362f7310fb328",
         "0adac9fbd9a2b63cccaac4f8756c1ca8",
         "5.53",
         "Utilidades Domésticas",
         "Louveira",
         "São Paulo"
        ],
        [
         "590",
         "015fb6b5f739788434fa690540f90f19",
         "1",
         "a0eccc912d428eaddf1ef4fe47593ece",
         "8a87611c08849ffeeccab52aa798b6c7",
         "143.0",
         "Móveis",
         "Curitiba",
         "Paraná"
        ],
        [
         "591",
         "015fb6b5f739788434fa690540f90f19",
         "2",
         "a0eccc912d428eaddf1ef4fe47593ece",
         "8a87611c08849ffeeccab52aa798b6c7",
         "143.0",
         "Móveis",
         "Curitiba",
         "Paraná"
        ],
        [
         "600",
         "0166cc8756d58b4a30fb49de83527120",
         "1",
         "b59b5899ecf4bcc294a72fdd48adaa94",
         "562fc2f2c2863ab7e79a9e4388a58a14",
         "29.99",
         "Telefonia",
         "Campinas",
         "São Paulo"
        ],
        [
         "646",
         "017c9c82265e832840e4209750680e94",
         "1",
         "59089e1668cc247d055ca3f9149093fc",
         "6a51fc556dab5f766ced6fbc860bc613",
         "159.9",
         "Climatização",
         "Marília",
         "São Paulo"
        ],
        [
         "680",
         "0197416059c0e56b5344bf2188066317",
         "1",
         "6592908f0a4f6e2de91310126cd1b08d",
         "87e24fc7052259b1f7f607d61c10d8be",
         "399.9",
         "Telefonia",
         "São Paulo",
         "São Paulo"
        ],
        [
         "834",
         "01e7cf79ff6fdb0a65634f714c67dd24",
         "1",
         "32a99bb84ae79a55c0e446afc9310e1e",
         "e5a3438891c0bfdb9394643f95273d8e",
         "27.3",
         "Sem Categoria",
         "Limeira",
         "São Paulo"
        ],
        [
         "913",
         "021dac6e3120485db6a77474aa21b979",
         "1",
         "7535f3518e1009b17aa6e3fa553e82bc",
         "8b87cd0d43d49b9bdf40f56229364d59",
         "479.0",
         "Brinquedos",
         "São Paulo",
         "São Paulo"
        ],
        [
         "1069",
         "027b013d2186e25c2b82beb3679d0833",
         "1",
         "f921da19d229dad9bf3a94e86e7f7f32",
         "04e38a233f726ef161074ab1c9b0399a",
         "104.9",
         "Utilidades Domésticas",
         "São Paulo",
         "São Paulo"
        ],
        [
         "1138",
         "02a0eb7c22b0616c767a45954a2a28f6",
         "1",
         "5f8c74f4a3d2b616857fcb7d4dd1f61a",
         "83e197e95a1bbabc8c75e883ed016c47",
         "119.5",
         "Livros",
         "Magé",
         "Rio de Janeiro"
        ],
        [
         "1175",
         "02b9fd867657f257dc634a2e7e0f73c5",
         "1",
         "4c1e109ecdf58453de365d217cefa64c",
         "4e922959ae960d389249c378d1c939f5",
         "120.0",
         "Pet Shop",
         "Jacareí",
         "São Paulo"
        ],
        [
         "1258",
         "02ea547b6d2ee25305588fd50df58b46",
         "1",
         "b000447e24e31a4d7e628ca4d0622131",
         "92eb0f42c21942b6552362b9b114707d",
         "23.99",
         "Telefonia",
         "São Paulo",
         "São Paulo"
        ],
        [
         "1263",
         "02ec4da9d03014f06d711d60eb37cc22",
         "1",
         "a87567bdce60de6f901e3d7c6d8df820",
         "318f287a62ab7ac10b703ac37435a231",
         "85.0",
         "Cama Mesa e Banho",
         "São Paulo",
         "São Paulo"
        ],
        [
         "1273",
         "02f30be57375dc610c40ca989d2385b7",
         "1",
         "86b29e90cab127b7231caf9eb85d4353",
         "8581055ce74af1daba164fdbd55a40de",
         "69.0",
         "Automotivo",
         "Guarulhos",
         "São Paulo"
        ],
        [
         "1322",
         "03138c298bfe1ee7855eefc9442346a8",
         "1",
         "fb2f2ec90b4ee90ad257bbf89d01247e",
         "1835b56ce799e6a4dc4eddc053f04066",
         "40.0",
         "Cama Mesa e Banho",
         "Ibitinga",
         "São Paulo"
        ],
        [
         "1460",
         "035b790fa740b68de2d6f1a74f9b2098",
         "1",
         "cf18e908cb8600dcd21a719db24c48d8",
         "7ddcbb64b5bc1ef36ca8c151f6ec77df",
         "63.99",
         "Eletrônicos",
         "São Paulo",
         "São Paulo"
        ],
        [
         "1589",
         "03a8aa5d0860898d421c46247011c686",
         "1",
         "79ea753b9ec382b3bf6b03d449ac9b3b",
         "6cf476a4ca74498db55cbccdaa9dcfb6",
         "314.99",
         "Automotivo",
         "São Paulo",
         "São Paulo"
        ],
        [
         "1670",
         "03d7dd4730b71e0a310c9b30431c1961",
         "1",
         "14555ba663de8689feacf1d0819cc3b3",
         "dbc22125167c298ef99da25668e1011f",
         "119.3",
         "Esporte e Lazer",
         "Borda da Mata",
         "Minas Gerais"
        ],
        [
         "1689",
         "03df18ab5ba4464030b07f49dc6d206e",
         "1",
         "dca18a6e2fb6da75092ed874094ed7b6",
         "5656537e588803a555b8eb41f07a944b",
         "31.89",
         "Telefonia",
         "Brasília",
         "Distrito Federal"
        ],
        [
         "1699",
         "03e5d6a8dd520898f86f8429ccd07c21",
         "1",
         "2efbce46d36d9af306d4300db163b276",
         "b494891378bd8f4560abe576c52deacd",
         "119.9",
         "Beleza e Saude",
         "São Paulo",
         "São Paulo"
        ],
        [
         "1724",
         "03f0acea43a6fd52d268e13d9ce98fbe",
         "1",
         "f699b297070aa38aaf3de9639302506a",
         "c3867b4666c7d76867627c2f7fb22e21",
         "125.0",
         "Esporte e Lazer",
         "Guará",
         "São Paulo"
        ],
        [
         "1730",
         "03f3b08f9da8df7604b68b2fd5999e9a",
         "1",
         "68bf2e76db1d8e846042e54da87399ca",
         "1a3df491d1c4f1589fc2b934ada68bf2",
         "85.9",
         "Cama Mesa e Banho",
         "Joinville",
         "Santa Catarina"
        ],
        [
         "1845",
         "042ce41927758767ec2aa0de06486b4c",
         "1",
         "816c0585d491ed8127cebbb3dc7c89cf",
         "dd533b429f380718b70ad9922c294bae",
         "569.9",
         "Brinquedos",
         "Barretos",
         "São Paulo"
        ],
        [
         "1886",
         "0444bf76794ff96fd22fff6be21bdb6a",
         "1",
         "b3e40ff639c185b9d726b4b19c17e6cd",
         "7a67c85e85bb2ce8582c35f2203ad736",
         "229.99",
         "Cool Stuff",
         "São Paulo",
         "São Paulo"
        ],
        [
         "1947",
         "046afc54df6dd8bc98ee2c0e653b70d8",
         "1",
         "2136c70bbe723d338fab53da3c03e6dc",
         "6560211a19b47992c3666cc44a7e94c0",
         "29.0",
         "Relógios e Presentes",
         "São Paulo",
         "São Paulo"
        ],
        [
         "2086",
         "04b3135bf087618b410a00680576242f",
         "1",
         "8fbd0b7f20c851cff57ffa74ebac3ec2",
         "ec2e006556300a79a5a91e4876ab3a56",
         "34.9",
         "Utilidades Domésticas",
         "São Paulo",
         "São Paulo"
        ],
        [
         "2129",
         "04d551f13024f132b86b2fdb707664ed",
         "1",
         "78a727ba961fe7561d533e153bf04088",
         "5b97c06a046398e7005b2b7c0d707a92",
         "379.99",
         "Instrumentos Musicais",
         "João Pinheiro",
         "Minas Gerais"
        ],
        [
         "2216",
         "050a64172dd384db4597d5f3bdcf2137",
         "1",
         "82df2add69e03f9b165a7e46429c9484",
         "79ebd9a61bac3eaf882805ed4ecfa12a",
         "119.9",
         "Móveis",
         "Cascavel",
         "Paraná"
        ],
        [
         "2283",
         "053245dc8f6f668c40923c3aedcd384e",
         "1",
         "a8f6fefd2f6ad22952337438aa1bfce5",
         "adcf50477d6a1f5d91bb9d54c4903cb5",
         "5.85",
         "Esporte e Lazer",
         "Cláudio",
         "Minas Gerais"
        ],
        [
         "2284",
         "053245dc8f6f668c40923c3aedcd384e",
         "2",
         "a8eed0daf7e2db5e074d2d4f65046946",
         "adcf50477d6a1f5d91bb9d54c4903cb5",
         "17.55",
         "Esporte e Lazer",
         "Cláudio",
         "Minas Gerais"
        ],
        [
         "2285",
         "053245dc8f6f668c40923c3aedcd384e",
         "3",
         "a8eed0daf7e2db5e074d2d4f65046946",
         "adcf50477d6a1f5d91bb9d54c4903cb5",
         "17.55",
         "Esporte e Lazer",
         "Cláudio",
         "Minas Gerais"
        ],
        [
         "2286",
         "053245dc8f6f668c40923c3aedcd384e",
         "4",
         "a8f6fefd2f6ad22952337438aa1bfce5",
         "adcf50477d6a1f5d91bb9d54c4903cb5",
         "5.85",
         "Esporte e Lazer",
         "Cláudio",
         "Minas Gerais"
        ],
        [
         "2297",
         "0538bda829ac14e64a201dc84fb1ba3b",
         "1",
         "2a5806f10d0f00e5ad032dd2e3c8806e",
         "7c67e1448b00f6e969d365cea6b010ab",
         "169.99",
         "Móveis",
         "Itaquaquecetuba",
         "São Paulo"
        ],
        [
         "2381",
         "055f84fd2ebf314ebec85f8e1312f4f4",
         "1",
         "a28d469a29d93b4ec13ce26150184e34",
         "5ca5d579b5857ee8709479b1047cecc3",
         "169.9",
         "Consoles e Games",
         "São Paulo",
         "São Paulo"
        ],
        [
         "2453",
         "0584a31bb6abbd3dcc27e2d464ac863d",
         "1",
         "acdf5c2a687407b37b00081300de0bdc",
         "ec2e006556300a79a5a91e4876ab3a56",
         "12.9",
         "Artigos de Construção",
         "São Paulo",
         "São Paulo"
        ],
        [
         "2469",
         "058c781acedf69d42ac38a568ca97b05",
         "1",
         "cffb05bb50a95e92fc26bbb049cc8fe7",
         "cca3071e3e9bb7d12640c9fbe2301306",
         "104.9",
         "Móveis",
         "Ibitinga",
         "São Paulo"
        ],
        [
         "2474",
         "058e0a8627dc25b49eae4ce6ca658cb8",
         "1",
         "87f87c717c93f801e1a62367ce5ff63f",
         "278b6e0b20c4f61fefaa0577943d7a35",
         "539.0",
         "Artigos de Construção",
         "Itajaí",
         "Santa Catarina"
        ],
        [
         "2475",
         "058e0a8627dc25b49eae4ce6ca658cb8",
         "2",
         "87f87c717c93f801e1a62367ce5ff63f",
         "278b6e0b20c4f61fefaa0577943d7a35",
         "539.0",
         "Artigos de Construção",
         "Itajaí",
         "Santa Catarina"
        ],
        [
         "2502",
         "05a0f6d062da2d6c66fa846737770d35",
         "1",
         "3ce21e38e6a3060c20f4e74bdab770c8",
         "1b938a7ec6ac5061a66a3766e0e75f90",
         "63.9",
         "Bebes",
         "Penápolis",
         "São Paulo"
        ]
       ],
       "shape": {
        "columns": 8,
        "rows": 2453
       }
      },
      "text/html": [
       "<div>\n",
       "<style scoped>\n",
       "    .dataframe tbody tr th:only-of-type {\n",
       "        vertical-align: middle;\n",
       "    }\n",
       "\n",
       "    .dataframe tbody tr th {\n",
       "        vertical-align: top;\n",
       "    }\n",
       "\n",
       "    .dataframe thead th {\n",
       "        text-align: right;\n",
       "    }\n",
       "</style>\n",
       "<table border=\"1\" class=\"dataframe\">\n",
       "  <thead>\n",
       "    <tr style=\"text-align: right;\">\n",
       "      <th></th>\n",
       "      <th>order_id</th>\n",
       "      <th>order_item_id</th>\n",
       "      <th>product_id</th>\n",
       "      <th>seller_id</th>\n",
       "      <th>price</th>\n",
       "      <th>product_category_name</th>\n",
       "      <th>seller_city_clean</th>\n",
       "      <th>seller_state_clean</th>\n",
       "    </tr>\n",
       "  </thead>\n",
       "  <tbody>\n",
       "    <tr>\n",
       "      <th>79</th>\n",
       "      <td>002f19a65a2ddd70a090297872e6d64e</td>\n",
       "      <td>1</td>\n",
       "      <td>9eae06d51aaa383b2bed5547a19d581c</td>\n",
       "      <td>1835b56ce799e6a4dc4eddc053f04066</td>\n",
       "      <td>53.98</td>\n",
       "      <td>Cama Mesa e Banho</td>\n",
       "      <td>Ibitinga</td>\n",
       "      <td>São Paulo</td>\n",
       "    </tr>\n",
       "    <tr>\n",
       "      <th>84</th>\n",
       "      <td>00310b0c75bb13015ec4d82d341865a4</td>\n",
       "      <td>1</td>\n",
       "      <td>c8e7c2ef329fcda4a233e7e2f8bb8b7d</td>\n",
       "      <td>a2deecd5398f5df4987110c80a1972a3</td>\n",
       "      <td>39.90</td>\n",
       "      <td>Utilidades Domésticas</td>\n",
       "      <td>São Paulo</td>\n",
       "      <td>São Paulo</td>\n",
       "    </tr>\n",
       "    <tr>\n",
       "      <th>260</th>\n",
       "      <td>00a99c50fdff7e36262caba33821875a</td>\n",
       "      <td>1</td>\n",
       "      <td>76d75f398634bf194ba99d7297e7d1fa</td>\n",
       "      <td>974cf2cb8f4b7add98709c30df02fe10</td>\n",
       "      <td>52.99</td>\n",
       "      <td>Acessórios de Informática</td>\n",
       "      <td>Araraquara</td>\n",
       "      <td>São Paulo</td>\n",
       "    </tr>\n",
       "    <tr>\n",
       "      <th>270</th>\n",
       "      <td>00ae7a8b4936674ebb701d4a23719a79</td>\n",
       "      <td>1</td>\n",
       "      <td>66f09a6de4f2ef63aaf5349b60a0e0c0</td>\n",
       "      <td>bf0d50a6410d487dc97d2baac0a8c0be</td>\n",
       "      <td>27.90</td>\n",
       "      <td>Automotivo</td>\n",
       "      <td>Piracicaba</td>\n",
       "      <td>São Paulo</td>\n",
       "    </tr>\n",
       "    <tr>\n",
       "      <th>422</th>\n",
       "      <td>00ff0cf5583758e6964723e42f111bf4</td>\n",
       "      <td>1</td>\n",
       "      <td>bb1fe952bdc16ef8974d4ca11aec19b7</td>\n",
       "      <td>b17b679f4f5ce2e03ce6968c62648246</td>\n",
       "      <td>154.90</td>\n",
       "      <td>Beleza e Saude</td>\n",
       "      <td>Ribeirão Preto</td>\n",
       "      <td>São Paulo</td>\n",
       "    </tr>\n",
       "    <tr>\n",
       "      <th>...</th>\n",
       "      <td>...</td>\n",
       "      <td>...</td>\n",
       "      <td>...</td>\n",
       "      <td>...</td>\n",
       "      <td>...</td>\n",
       "      <td>...</td>\n",
       "      <td>...</td>\n",
       "      <td>...</td>\n",
       "    </tr>\n",
       "    <tr>\n",
       "      <th>112211</th>\n",
       "      <td>feebdfdb4759bd4600d52547c81b4fa8</td>\n",
       "      <td>1</td>\n",
       "      <td>0c7536abc1af51a81fa806097dfe3597</td>\n",
       "      <td>7d76b645482be4a332374e8223836592</td>\n",
       "      <td>24.90</td>\n",
       "      <td>Telefonia</td>\n",
       "      <td>São Paulo</td>\n",
       "      <td>São Paulo</td>\n",
       "    </tr>\n",
       "    <tr>\n",
       "      <th>112256</th>\n",
       "      <td>ff0768e3356919b32e3d7f30baecfcfb</td>\n",
       "      <td>1</td>\n",
       "      <td>b27653c33039497c46ceba21db46a43c</td>\n",
       "      <td>3e8bd881d92466e63ba9e3e809cd3c50</td>\n",
       "      <td>379.90</td>\n",
       "      <td>Acessórios de Informática</td>\n",
       "      <td>Rio de Janeiro</td>\n",
       "      <td>Rio de Janeiro</td>\n",
       "    </tr>\n",
       "    <tr>\n",
       "      <th>112340</th>\n",
       "      <td>ff358345576214cc9e08488188973c84</td>\n",
       "      <td>1</td>\n",
       "      <td>6803077179d24889430188e03fafd31a</td>\n",
       "      <td>128639473a139ac0f3e5f5ade55873a5</td>\n",
       "      <td>19.90</td>\n",
       "      <td>Eletrônicos</td>\n",
       "      <td>Maringá</td>\n",
       "      <td>Paraná</td>\n",
       "    </tr>\n",
       "    <tr>\n",
       "      <th>112384</th>\n",
       "      <td>ff536d93ae4214b4d51c2894ccfc569f</td>\n",
       "      <td>1</td>\n",
       "      <td>53d2c16e7356d124bb2a3f64ca920754</td>\n",
       "      <td>4e922959ae960d389249c378d1c939f5</td>\n",
       "      <td>39.00</td>\n",
       "      <td>Esporte e Lazer</td>\n",
       "      <td>Jacareí</td>\n",
       "      <td>São Paulo</td>\n",
       "    </tr>\n",
       "    <tr>\n",
       "      <th>112421</th>\n",
       "      <td>ff7140ba310a4717112d39c0cd0b4062</td>\n",
       "      <td>1</td>\n",
       "      <td>4228bf901c8db392cbffcbc1f14a13e2</td>\n",
       "      <td>6ee85be3693ed79a8e80718743d80655</td>\n",
       "      <td>70.00</td>\n",
       "      <td>Eletrônicos</td>\n",
       "      <td>São Paulo</td>\n",
       "      <td>São Paulo</td>\n",
       "    </tr>\n",
       "  </tbody>\n",
       "</table>\n",
       "<p>2453 rows × 8 columns</p>\n",
       "</div>"
      ],
      "text/plain": [
       "                                order_id  order_item_id  \\\n",
       "79      002f19a65a2ddd70a090297872e6d64e              1   \n",
       "84      00310b0c75bb13015ec4d82d341865a4              1   \n",
       "260     00a99c50fdff7e36262caba33821875a              1   \n",
       "270     00ae7a8b4936674ebb701d4a23719a79              1   \n",
       "422     00ff0cf5583758e6964723e42f111bf4              1   \n",
       "...                                  ...            ...   \n",
       "112211  feebdfdb4759bd4600d52547c81b4fa8              1   \n",
       "112256  ff0768e3356919b32e3d7f30baecfcfb              1   \n",
       "112340  ff358345576214cc9e08488188973c84              1   \n",
       "112384  ff536d93ae4214b4d51c2894ccfc569f              1   \n",
       "112421  ff7140ba310a4717112d39c0cd0b4062              1   \n",
       "\n",
       "                              product_id                         seller_id  \\\n",
       "79      9eae06d51aaa383b2bed5547a19d581c  1835b56ce799e6a4dc4eddc053f04066   \n",
       "84      c8e7c2ef329fcda4a233e7e2f8bb8b7d  a2deecd5398f5df4987110c80a1972a3   \n",
       "260     76d75f398634bf194ba99d7297e7d1fa  974cf2cb8f4b7add98709c30df02fe10   \n",
       "270     66f09a6de4f2ef63aaf5349b60a0e0c0  bf0d50a6410d487dc97d2baac0a8c0be   \n",
       "422     bb1fe952bdc16ef8974d4ca11aec19b7  b17b679f4f5ce2e03ce6968c62648246   \n",
       "...                                  ...                               ...   \n",
       "112211  0c7536abc1af51a81fa806097dfe3597  7d76b645482be4a332374e8223836592   \n",
       "112256  b27653c33039497c46ceba21db46a43c  3e8bd881d92466e63ba9e3e809cd3c50   \n",
       "112340  6803077179d24889430188e03fafd31a  128639473a139ac0f3e5f5ade55873a5   \n",
       "112384  53d2c16e7356d124bb2a3f64ca920754  4e922959ae960d389249c378d1c939f5   \n",
       "112421  4228bf901c8db392cbffcbc1f14a13e2  6ee85be3693ed79a8e80718743d80655   \n",
       "\n",
       "         price      product_category_name seller_city_clean seller_state_clean  \n",
       "79       53.98          Cama Mesa e Banho          Ibitinga          São Paulo  \n",
       "84       39.90      Utilidades Domésticas         São Paulo          São Paulo  \n",
       "260      52.99  Acessórios de Informática        Araraquara          São Paulo  \n",
       "270      27.90                 Automotivo        Piracicaba          São Paulo  \n",
       "422     154.90             Beleza e Saude    Ribeirão Preto          São Paulo  \n",
       "...        ...                        ...               ...                ...  \n",
       "112211   24.90                  Telefonia         São Paulo          São Paulo  \n",
       "112256  379.90  Acessórios de Informática    Rio de Janeiro     Rio de Janeiro  \n",
       "112340   19.90                Eletrônicos           Maringá             Paraná  \n",
       "112384   39.00            Esporte e Lazer           Jacareí          São Paulo  \n",
       "112421   70.00                Eletrônicos         São Paulo          São Paulo  \n",
       "\n",
       "[2453 rows x 8 columns]"
      ]
     },
     "execution_count": 79,
     "metadata": {},
     "output_type": "execute_result"
    }
   ],
   "source": [
    " proc_df_sales[~proc_df_sales['order_id'].isin(proc_order_by_customer['order_id'])]"
   ]
  },
  {
   "cell_type": "markdown",
   "id": "dd57a82c",
   "metadata": {},
   "source": [
    "> This missing indexes mean they belong a non delivered order, therefore can't be accounted on the KPI's.\n"
   ]
  },
  {
   "cell_type": "code",
   "execution_count": null,
   "id": "f4f3564a",
   "metadata": {},
   "outputs": [],
   "source": [
    "proc_df_sales = proc_df_sales[proc_df_sales['order_id'].isin(proc_order_by_customer['order_id'])]\n",
    "proc_df_sales.reset_index(drop=True, inplace=True)"
   ]
  },
  {
   "cell_type": "code",
   "execution_count": 85,
   "id": "ddf68f55",
   "metadata": {},
   "outputs": [],
   "source": [
    "total_spent_by_order = proc_df_sales.groupby('order_id')['price'].sum().reset_index()\n",
    "proc_order_by_customer = proc_order_by_customer.merge(total_spent_by_order,on='order_id',how='left')"
   ]
  },
  {
   "cell_type": "markdown",
   "id": "689c3f7c",
   "metadata": {},
   "source": [
    "- Generating a one dataframe that can be extracted most of our measures."
   ]
  },
  {
   "cell_type": "code",
   "execution_count": null,
   "id": "f20e44eb",
   "metadata": {},
   "outputs": [
    {
     "data": {
      "application/vnd.microsoft.datawrangler.viewer.v0+json": {
       "columns": [
        {
         "name": "index",
         "rawType": "int64",
         "type": "integer"
        },
        {
         "name": "order_id",
         "rawType": "object",
         "type": "string"
        },
        {
         "name": "order_item_id",
         "rawType": "int64",
         "type": "integer"
        },
        {
         "name": "product_id",
         "rawType": "object",
         "type": "string"
        },
        {
         "name": "seller_id",
         "rawType": "object",
         "type": "string"
        },
        {
         "name": "price",
         "rawType": "float64",
         "type": "float"
        },
        {
         "name": "product_category_name",
         "rawType": "object",
         "type": "string"
        },
        {
         "name": "seller_city_clean",
         "rawType": "object",
         "type": "string"
        },
        {
         "name": "seller_state_clean",
         "rawType": "object",
         "type": "string"
        },
        {
         "name": "order_purchase_timestamp",
         "rawType": "datetime64[ns]",
         "type": "datetime"
        },
        {
         "name": "customer_unique_id",
         "rawType": "object",
         "type": "string"
        },
        {
         "name": "customer_city_clean",
         "rawType": "object",
         "type": "string"
        },
        {
         "name": "customer_state_clean",
         "rawType": "object",
         "type": "string"
        }
       ],
       "ref": "418fe72c-9ac4-41b5-9267-2f8025b3cee2",
       "rows": [
        [
         "0",
         "00010242fe8c5a6d1ba2dd792cb16214",
         "1",
         "4244733e06e7ecb4970a6e2683c13e61",
         "48436dade18ac8b2bce089ec2a041202",
         "58.9",
         "Cool Stuff",
         "Volta Redonda",
         "Rio de Janeiro",
         "2017-09-13 08:59:02",
         "871766c5855e863f6eccc05f988b23cb",
         "Campos dos Goytacazes",
         "Rio de Janeiro"
        ],
        [
         "1",
         "00018f77f2f0320c557190d7a144bdd3",
         "1",
         "e5f2d52b802189ee658865ca93d83a8f",
         "dd7ddc04e1b6c2c614352b383efe2d36",
         "239.9",
         "Pet Shop",
         "São Paulo",
         "São Paulo",
         "2017-04-26 10:53:06",
         "eb28e67c4c0b83846050ddfb8a35d051",
         "Santa Fé do Sul",
         "São Paulo"
        ],
        [
         "2",
         "000229ec398224ef6ca0657da4fc703e",
         "1",
         "c777355d18b72b67abbeef9df44fd0fd",
         "5b51032eddd242adc84c38acab88f23d",
         "199.0",
         "Móveis",
         "Borda da Mata",
         "Minas Gerais",
         "2018-01-14 14:33:31",
         "3818d81c6709e39d06b2738a8d3a2474",
         "Pará de Minas",
         "Minas Gerais"
        ],
        [
         "3",
         "00024acbcdf0a6daa1e931b038114c75",
         "1",
         "7634da152a4610f1595efa32f14722fc",
         "9d7a1d34a5052409006425275ba1c2b4",
         "12.99",
         "Perfumaria",
         "Franca",
         "São Paulo",
         "2018-08-08 10:00:35",
         "af861d436cfc08b2c2ddefd0ba074622",
         "Atibaia",
         "São Paulo"
        ],
        [
         "4",
         "00042b26cf59d7ce69dfabb4e55b4fd9",
         "1",
         "ac6c3623068f30de03045865e4e10089",
         "df560393f3a51e74553ab94004ba5c87",
         "199.9",
         "Ferramentas de Jardinagem",
         "Loanda",
         "Paraná",
         "2017-02-04 13:57:51",
         "64b576fb70d441e8f1b2d7d446e483c5",
         "Várzea Paulista",
         "São Paulo"
        ],
        [
         "5",
         "00048cc3ae777c65dbb7d2a0634bc1ea",
         "1",
         "ef92defde845ab8450f9d70c526ef70f",
         "6426d21aca402a131fc0a5d0960a3c90",
         "21.9",
         "Utilidades Domésticas",
         "Ribeirão Preto",
         "São Paulo",
         "2017-05-15 21:42:34",
         "85c835d128beae5b4ce8602c491bf385",
         "Uberaba",
         "Minas Gerais"
        ],
        [
         "6",
         "00054e8431b9d7675808bcb819fb4a32",
         "1",
         "8d4f2bb7e93e6710a28f34fa83ee7d28",
         "7040e82f899a04d1b434b795a43b4617",
         "19.9",
         "Telefonia",
         "São Paulo",
         "São Paulo",
         "2017-12-10 11:53:48",
         "635d9ac1680f03288e72ada3a1035803",
         "Guararapes",
         "São Paulo"
        ],
        [
         "7",
         "000576fe39319847cbb9d288c5617fa6",
         "1",
         "557d850972a7d6f792fd18ae1400d9b6",
         "5996cddab893a4652a15592fb58ab8db",
         "810.0",
         "Ferramentas de Jardinagem",
         "Presidente Prudente",
         "São Paulo",
         "2018-07-04 12:08:27",
         "fda4476abb6307ab3c415b7e6d026526",
         "Praia Grande",
         "São Paulo"
        ],
        [
         "8",
         "0005a1a1728c9d785b8e2b08b904576c",
         "1",
         "310ae3c140ff94b03219ad0adc3c778f",
         "a416b6a846a11724393025641d4edd5e",
         "145.95",
         "Beleza e Saude",
         "São Paulo",
         "São Paulo",
         "2018-03-19 18:40:33",
         "639d23421f5517f69d0c3d6e6564cf0e",
         "Santos",
         "São Paulo"
        ],
        [
         "9",
         "0005f50442cb953dcd1d21e1fb923495",
         "1",
         "4535b0e1091c278dfd193e5a1d63b39f",
         "ba143b05f0110f0dc71ad71b4466ce92",
         "53.99",
         "Livros",
         "São Paulo",
         "São Paulo",
         "2018-07-02 13:59:39",
         "0782c41380992a5a533489063df0eef6",
         "Jandira",
         "São Paulo"
        ],
        [
         "10",
         "00061f2a7bc09da83e415a52dc8a4af1",
         "1",
         "d63c1011f49d98b976c352955b1c4bea",
         "cc419e0650a3c5ba77189a1882b7556a",
         "59.99",
         "Beleza e Saude",
         "Santo André",
         "São Paulo",
         "2018-03-24 22:16:10",
         "107e6259485efac66428a56f10801f4f",
         "Piracicaba",
         "São Paulo"
        ],
        [
         "11",
         "00063b381e2406b52ad429470734ebd5",
         "1",
         "f177554ea93259a5b282f24e33f65ab6",
         "8602a61d680a10a82cceeeda0d99ea3d",
         "45.0",
         "Bolsas e Acessórios",
         "São Paulo",
         "São Paulo",
         "2018-07-27 17:21:27",
         "3fb97204945ca0c01bcf3eee6031c5f1",
         "Monte Alto",
         "São Paulo"
        ],
        [
         "12",
         "0006ec9db01a64e59a68b2c340bf65a7",
         "1",
         "99a4788cb24856965c36a24e339b6058",
         "4a3ca9315b744ce9f8e9374361493884",
         "74.0",
         "Cama Mesa e Banho",
         "Ibitinga",
         "São Paulo",
         "2018-07-24 17:04:17",
         "7ed0ea20347f67fe61d1c99fdf8556ae",
         "Rio de Janeiro",
         "Rio de Janeiro"
        ],
        [
         "13",
         "0008288aa423d2a3f00fcb17cd7d8719",
         "1",
         "368c6c730842d78016ad823897a372db",
         "1f50f920176fa81dab994f9023523100",
         "49.9",
         "Ferramentas de Jardinagem",
         "São José do Rio Preto",
         "São Paulo",
         "2018-02-13 22:10:21",
         "9e4159995424971423b98c4a8bc11529",
         "Jandira",
         "São Paulo"
        ],
        [
         "14",
         "0008288aa423d2a3f00fcb17cd7d8719",
         "2",
         "368c6c730842d78016ad823897a372db",
         "1f50f920176fa81dab994f9023523100",
         "49.9",
         "Ferramentas de Jardinagem",
         "São José do Rio Preto",
         "São Paulo",
         "2018-02-13 22:10:21",
         "9e4159995424971423b98c4a8bc11529",
         "Jandira",
         "São Paulo"
        ],
        [
         "15",
         "0009792311464db532ff765bf7b182ae",
         "1",
         "8cab8abac59158715e0d70a36c807415",
         "530ec6109d11eaaf87999465c6afee01",
         "99.9",
         "Esporte e Lazer",
         "Cascavel",
         "Paraná",
         "2018-08-14 20:43:09",
         "4987996ddcd0ddb20740fdce7c2bfbb1",
         "Alfenas",
         "Minas Gerais"
        ],
        [
         "16",
         "0009c9a17f916a706d71784483a5d643",
         "1",
         "3f27ac8e699df3d300ec4a5d8c5cf0b2",
         "fcb5ace8bcc92f75707dc0f01a27d269",
         "639.0",
         "Consoles e Games",
         "Guarulhos",
         "São Paulo",
         "2018-04-25 09:10:41",
         "6062db572f3ef38b7a8ff4307abbfad3",
         "Campinas",
         "São Paulo"
        ],
        [
         "17",
         "000aed2e25dbad2f9ddb70584c5a2ded",
         "1",
         "4fa33915031a8cde03dd0d3e8fb27f01",
         "fe2032dab1a61af8794248c8196565c9",
         "144.0",
         "Perfumaria",
         "Campinas",
         "São Paulo",
         "2018-05-11 20:33:38",
         "6457be0b331148fb5454efc88d1e03d9",
         "Santa Bárbara D'Oeste",
         "São Paulo"
        ],
        [
         "18",
         "000c3e6612759851cc3cbb4b83257986",
         "1",
         "b50c950aba0dcead2c48032a690ce817",
         "218d46b86c1881d022bce9c68a7d4b15",
         "99.0",
         "Esporte e Lazer",
         "Ribeirão Preto",
         "São Paulo",
         "2017-08-12 10:08:57",
         "f5f088001070650f9e9a8cd773621f35",
         "Jundiaí",
         "São Paulo"
        ],
        [
         "19",
         "000e562887b1f2006d75e0be9558292e",
         "1",
         "5ed9eaf534f6936b51d0b6c5e4d5c2e9",
         "8cbac7e12637ed9cffa18c7875207478",
         "25.0",
         "Cool Stuff",
         "Jaraguá do Sul",
         "Santa Catarina",
         "2018-02-22 11:54:42",
         "b2c72d1e9f6430603b8337d8f1394a99",
         "Cubatão",
         "São Paulo"
        ],
        [
         "20",
         "000e63d38ae8c00bbcb5a30573b99628",
         "1",
         "553e0e7590d3116a072507a3635d2877",
         "1c129092bf23f28a5930387c980c0dfc",
         "47.9",
         "Cama Mesa e Banho",
         "São Paulo",
         "São Paulo",
         "2018-03-23 19:48:26",
         "860fc00d3154ce2346c43ebe47b9b6ce",
         "São Paulo",
         "São Paulo"
        ],
        [
         "21",
         "000e906b789b55f64edcb1f84030f90d",
         "1",
         "57d79905de06d8897872c551bfd09358",
         "ea8482cd71df3c1969d7b9473ff13abc",
         "21.99",
         "Telefonia",
         "São Paulo",
         "São Paulo",
         "2017-11-21 18:54:23",
         "3588484a539617d91500764822230fb6",
         "Santa Cruz do Rio Pardo",
         "São Paulo"
        ],
        [
         "22",
         "000f25f4d72195062c040b12dce9a18a",
         "1",
         "1c05e0964302b6cf68ca0d15f326c6ba",
         "7c67e1448b00f6e969d365cea6b010ab",
         "119.99",
         "Móveis",
         "Itaquaquecetuba",
         "São Paulo",
         "2018-03-07 10:33:13",
         "1a6cbc34ea404cb0af7ed74df0999354",
         "Volta Redonda",
         "Rio de Janeiro"
        ],
        [
         "23",
         "001021efaa8636c29475e7734483457d",
         "1",
         "5d7c23067ed3fc8c6e699b9373d5890b",
         "6560211a19b47992c3666cc44a7e94c0",
         "49.0",
         "Bolsas e Acessórios",
         "São Paulo",
         "São Paulo",
         "2018-02-27 09:27:14",
         "2193383c470dc9cec894ce78afd0ebd6",
         "Ivaiporã",
         "Paraná"
        ],
        [
         "24",
         "0010b2e5201cc5f1ae7e9c6cc8f5bd00",
         "1",
         "5a419dbf24a8c9718fe522b81c69f61a",
         "3504c0cb71d7fa48d967e0e4c94d59d9",
         "48.9",
         "Cool Stuff",
         "Mauá",
         "São Paulo",
         "2017-09-11 17:39:33",
         "e883f26917e2095c439f70c2cf8c914b",
         "Rio de Janeiro",
         "Rio de Janeiro"
        ],
        [
         "25",
         "00119ff934e539cf26f92b9ef0cdfed8",
         "1",
         "21b1c2f67a9aafb5af0eb06c13b9dbda",
         "c864036feaab8c1659f65ea4faebe1da",
         "219.9",
         "Esporte e Lazer",
         "Campo Largo",
         "Paraná",
         "2017-08-06 00:42:49",
         "13df7b623839b4edc579ee40279d57c8",
         "Nova Iguaçu",
         "Rio de Janeiro"
        ],
        [
         "26",
         "0011d82c4b53e22e84023405fb467e57",
         "1",
         "c389f712c4b4510bc997cee93e8b1a28",
         "bfd27a966d91cfaafdb25d076585f0da",
         "289.0",
         "Malas e Acessórios",
         "Serra Negra",
         "São Paulo",
         "2018-01-16 21:43:23",
         "02daaa0e021d624d1784c4ea5cc84ace",
         "São Paulo",
         "São Paulo"
        ],
        [
         "27",
         "00125cb692d04887809806618a2a145f",
         "1",
         "1c0c0093a48f13ba70d0c6b0a9157cb7",
         "41b39e28db005d9731d9d485a83b4c38",
         "109.9",
         "Móveis",
         "Santo André",
         "São Paulo",
         "2017-03-23 12:21:17",
         "7ac26eac431c6848694a2de6f0327524",
         "Anápolis",
         "Goiás"
        ],
        [
         "28",
         "00130c0eee84a3d909e75bc08c5c3ca1",
         "1",
         "89321f94e35fc6d7903d36f74e351d40",
         "16090f2ca825584b5a147ab24aa30c86",
         "27.9",
         "Alimentos",
         "Atibaia",
         "São Paulo",
         "2018-06-11 21:17:00",
         "b5910f24d2483d697b37e3857b621061",
         "São Bernardo do Campo",
         "São Paulo"
        ],
        [
         "29",
         "0013503b13da1eac686219390b7d641b",
         "1",
         "38afdf723b95d455b418a0f57d623c6b",
         "1554a68530182680ad5c8b042c3ab563",
         "119.9",
         "Móveis",
         "Monte Sião",
         "Minas Gerais",
         "2017-12-05 23:40:59",
         "1544f85dff3797491b60f2a5241d14c1",
         "Osasco",
         "São Paulo"
        ],
        [
         "30",
         "00137e170939bba5a3134e2386413108",
         "1",
         "672e757f331900b9deea127a2a7b79fd",
         "e59aa562b9f8076dd550fcddf0e73491",
         "397.0",
         "Agro Indústria e Comércio",
         "Curitiba",
         "Paraná",
         "2017-11-24 16:50:38",
         "38c3bc2d6df03905e3e8d3d5b079acf4",
         "Rio de Janeiro",
         "Rio de Janeiro"
        ],
        [
         "31",
         "001427c0ec99cf8af737bd88e92fd444",
         "1",
         "28b4eced95a52d9c437a4caf9d311b95",
         "77530e9772f57a62c906e1c21538ab82",
         "59.9",
         "Móveis",
         "Curitiba",
         "Paraná",
         "2018-04-07 18:51:22",
         "2ada69d1c5528233e3d9aa3f1d8da1b1",
         "Ituiutaba",
         "Minas Gerais"
        ],
        [
         "32",
         "00143d0f86d6fbd9f9b38ab440ac16f5",
         "1",
         "e95ee6822b66ac6058e2e4aff656071a",
         "a17f621c590ea0fab3d5d883e1630ec6",
         "21.33",
         "Esporte e Lazer",
         "Sorocaba",
         "São Paulo",
         "2017-10-16 15:29:43",
         "bb8a37225e0279ac8a274c9765617eaf",
         "Goiânia",
         "Goiás"
        ],
        [
         "33",
         "00143d0f86d6fbd9f9b38ab440ac16f5",
         "2",
         "e95ee6822b66ac6058e2e4aff656071a",
         "a17f621c590ea0fab3d5d883e1630ec6",
         "21.33",
         "Esporte e Lazer",
         "Sorocaba",
         "São Paulo",
         "2017-10-16 15:29:43",
         "bb8a37225e0279ac8a274c9765617eaf",
         "Goiânia",
         "Goiás"
        ],
        [
         "34",
         "00143d0f86d6fbd9f9b38ab440ac16f5",
         "3",
         "e95ee6822b66ac6058e2e4aff656071a",
         "a17f621c590ea0fab3d5d883e1630ec6",
         "21.33",
         "Esporte e Lazer",
         "Sorocaba",
         "São Paulo",
         "2017-10-16 15:29:43",
         "bb8a37225e0279ac8a274c9765617eaf",
         "Goiânia",
         "Goiás"
        ],
        [
         "35",
         "0014ae671de39511f7575066200733b7",
         "1",
         "23365beed316535b4105bd800c46670e",
         "92eb0f42c21942b6552362b9b114707d",
         "16.5",
         "Telefonia",
         "São Paulo",
         "São Paulo",
         "2017-05-22 13:49:03",
         "8e5a8d9363eb6296154b65750c8702ca",
         "Pinhais",
         "Paraná"
        ],
        [
         "36",
         "0015ebb40fb17286bea51d4607c4733c",
         "1",
         "50fd2b788dc166edd20512370dac54df",
         "8b321bb669392f5163d04c59e235e066",
         "21.9",
         "Eletrônicos",
         "São Paulo",
         "São Paulo",
         "2018-01-14 09:01:36",
         "2e0daa38f7fd081ddcda32d972e5ec50",
         "Pato Bragado",
         "Paraná"
        ],
        [
         "37",
         "00169e31ef4b29deaae414f9a5e95929",
         "1",
         "b10eba910a974df70b8a12d0665cdb9e",
         "a3e9a2c700480d9bb01fba070ba80a0e",
         "39.0",
         "Cama Mesa e Banho",
         "Ibitinga",
         "São Paulo",
         "2018-01-16 09:26:39",
         "577edb526f98771b20d6db4a51d79423",
         "Rio de Janeiro",
         "Rio de Janeiro"
        ],
        [
         "38",
         "0016dfedd97fc2950e388d2971d718c7",
         "1",
         "4089861a1bd4685da70bddd6b4f974f1",
         "a35124e2d763d7ca3fbe3b97d143200f",
         "49.75",
         "Ferramentas de Jardinagem",
         "São Paulo",
         "São Paulo",
         "2017-04-28 19:54:40",
         "33febb33a42a35f5826a22584b127f9d",
         "Canavieiras",
         "Bahia"
        ],
        [
         "39",
         "0017afd5076e074a48f1f1a4c7bac9c5",
         "1",
         "fe59a1e006df3ac42bf0ceb876d70969",
         "25c5c91f63607446a97b143d2d535d31",
         "809.1",
         "Acessórios de Informática",
         "Itaúna",
         "Minas Gerais",
         "2017-04-06 22:16:10",
         "98758d88bf4b8eef1372ddee45d63178",
         "Campo Alegre",
         "Alagoas"
        ],
        [
         "40",
         "001862358bf858722e1e2ae000cfed8b",
         "1",
         "c6dd917a0be2a704582055949915ab32",
         "7a67c85e85bb2ce8582c35f2203ad736",
         "99.99",
         "Cool Stuff",
         "São Paulo",
         "São Paulo",
         "2018-02-06 19:11:57",
         "eb2568a7ba9b2ca9bf1f818a8dea82ce",
         "Cunha",
         "São Paulo"
        ],
        [
         "41",
         "0019c29108428acffd089c36103c9440",
         "1",
         "28b4eced95a52d9c437a4caf9d311b95",
         "77530e9772f57a62c906e1c21538ab82",
         "59.9",
         "Móveis",
         "Curitiba",
         "Paraná",
         "2018-03-06 06:40:28",
         "d02e64b28b7c386aab81bb6ce148799a",
         "Monte Sião",
         "Minas Gerais"
        ],
        [
         "42",
         "001ab0a7578dd66cd4b0a71f5b6e1e41",
         "1",
         "0b0172eb0fd18479d29c3bc122c058c2",
         "5656537e588803a555b8eb41f07a944b",
         "24.89",
         "Eletrônicos",
         "Brasília",
         "Distrito Federal",
         "2017-12-27 00:38:47",
         "d1f24d1d504e27bee13b415e40daeab0",
         "Salvador",
         "Bahia"
        ],
        [
         "43",
         "001ab0a7578dd66cd4b0a71f5b6e1e41",
         "2",
         "0b0172eb0fd18479d29c3bc122c058c2",
         "5656537e588803a555b8eb41f07a944b",
         "24.89",
         "Eletrônicos",
         "Brasília",
         "Distrito Federal",
         "2017-12-27 00:38:47",
         "d1f24d1d504e27bee13b415e40daeab0",
         "Salvador",
         "Bahia"
        ],
        [
         "44",
         "001ab0a7578dd66cd4b0a71f5b6e1e41",
         "3",
         "0b0172eb0fd18479d29c3bc122c058c2",
         "5656537e588803a555b8eb41f07a944b",
         "24.89",
         "Eletrônicos",
         "Brasília",
         "Distrito Federal",
         "2017-12-27 00:38:47",
         "d1f24d1d504e27bee13b415e40daeab0",
         "Salvador",
         "Bahia"
        ],
        [
         "45",
         "001ac194d4a326a6fa99b581e9a3d963",
         "1",
         "dbaee28f4ee64465838a229582d77520",
         "ffc470761de7d0232558ba5e786e57b7",
         "54.0",
         "Artigos de Construção",
         "Guarulhos",
         "São Paulo",
         "2018-07-04 11:39:11",
         "3d01f9412759a6a68f249b76eca0de78",
         "Cubatão",
         "São Paulo"
        ],
        [
         "46",
         "001b76dd48a5b1eee3e87778daa40df8",
         "1",
         "dbb67791e405873b259e4656bf971246",
         "9c0e69c7bf2619675bbadf47b43f655a",
         "81.99",
         "Acessórios de Informática",
         "São José dos Campos",
         "São Paulo",
         "2018-03-26 17:42:53",
         "b32ff8caad5902c55fa167e7dc77cc69",
         "Santa Salete",
         "São Paulo"
        ],
        [
         "47",
         "001c85b5f68d2be0cb0797afc9e8ce9a",
         "1",
         "84f456958365164420cfc80fbe4c7fab",
         "4a3ca9315b744ce9f8e9374361493884",
         "99.0",
         "Cama Mesa e Banho",
         "Ibitinga",
         "São Paulo",
         "2017-11-24 19:19:18",
         "55a269f324455e78349e7b9b7e7e5911",
         "São Paulo",
         "São Paulo"
        ],
        [
         "48",
         "001d8f0e34a38c37f7dba2a37d4eba8b",
         "1",
         "e67307ff0f15ade43fcb6e670be7a74c",
         "f4aba7c0bca51484c30ab7bdc34bcdd1",
         "18.99",
         "Beleza e Saude",
         "São Paulo",
         "São Paulo",
         "2017-05-14 17:19:44",
         "870a0bdc769f9a7870309036740e79ea",
         "São Paulo",
         "São Paulo"
        ],
        [
         "49",
         "001d8f0e34a38c37f7dba2a37d4eba8b",
         "2",
         "e67307ff0f15ade43fcb6e670be7a74c",
         "f4aba7c0bca51484c30ab7bdc34bcdd1",
         "18.99",
         "Beleza e Saude",
         "São Paulo",
         "São Paulo",
         "2017-05-14 17:19:44",
         "870a0bdc769f9a7870309036740e79ea",
         "São Paulo",
         "São Paulo"
        ]
       ],
       "shape": {
        "columns": 12,
        "rows": 110197
       }
      },
      "text/html": [
       "<div>\n",
       "<style scoped>\n",
       "    .dataframe tbody tr th:only-of-type {\n",
       "        vertical-align: middle;\n",
       "    }\n",
       "\n",
       "    .dataframe tbody tr th {\n",
       "        vertical-align: top;\n",
       "    }\n",
       "\n",
       "    .dataframe thead th {\n",
       "        text-align: right;\n",
       "    }\n",
       "</style>\n",
       "<table border=\"1\" class=\"dataframe\">\n",
       "  <thead>\n",
       "    <tr style=\"text-align: right;\">\n",
       "      <th></th>\n",
       "      <th>order_id</th>\n",
       "      <th>order_item_id</th>\n",
       "      <th>product_id</th>\n",
       "      <th>seller_id</th>\n",
       "      <th>price</th>\n",
       "      <th>product_category_name</th>\n",
       "      <th>seller_city_clean</th>\n",
       "      <th>seller_state_clean</th>\n",
       "      <th>order_purchase_timestamp</th>\n",
       "      <th>customer_unique_id</th>\n",
       "      <th>customer_city_clean</th>\n",
       "      <th>customer_state_clean</th>\n",
       "    </tr>\n",
       "  </thead>\n",
       "  <tbody>\n",
       "    <tr>\n",
       "      <th>0</th>\n",
       "      <td>00010242fe8c5a6d1ba2dd792cb16214</td>\n",
       "      <td>1</td>\n",
       "      <td>4244733e06e7ecb4970a6e2683c13e61</td>\n",
       "      <td>48436dade18ac8b2bce089ec2a041202</td>\n",
       "      <td>58.90</td>\n",
       "      <td>Cool Stuff</td>\n",
       "      <td>Volta Redonda</td>\n",
       "      <td>Rio de Janeiro</td>\n",
       "      <td>2017-09-13 08:59:02</td>\n",
       "      <td>871766c5855e863f6eccc05f988b23cb</td>\n",
       "      <td>Campos dos Goytacazes</td>\n",
       "      <td>Rio de Janeiro</td>\n",
       "    </tr>\n",
       "    <tr>\n",
       "      <th>1</th>\n",
       "      <td>00018f77f2f0320c557190d7a144bdd3</td>\n",
       "      <td>1</td>\n",
       "      <td>e5f2d52b802189ee658865ca93d83a8f</td>\n",
       "      <td>dd7ddc04e1b6c2c614352b383efe2d36</td>\n",
       "      <td>239.90</td>\n",
       "      <td>Pet Shop</td>\n",
       "      <td>São Paulo</td>\n",
       "      <td>São Paulo</td>\n",
       "      <td>2017-04-26 10:53:06</td>\n",
       "      <td>eb28e67c4c0b83846050ddfb8a35d051</td>\n",
       "      <td>Santa Fé do Sul</td>\n",
       "      <td>São Paulo</td>\n",
       "    </tr>\n",
       "    <tr>\n",
       "      <th>2</th>\n",
       "      <td>000229ec398224ef6ca0657da4fc703e</td>\n",
       "      <td>1</td>\n",
       "      <td>c777355d18b72b67abbeef9df44fd0fd</td>\n",
       "      <td>5b51032eddd242adc84c38acab88f23d</td>\n",
       "      <td>199.00</td>\n",
       "      <td>Móveis</td>\n",
       "      <td>Borda da Mata</td>\n",
       "      <td>Minas Gerais</td>\n",
       "      <td>2018-01-14 14:33:31</td>\n",
       "      <td>3818d81c6709e39d06b2738a8d3a2474</td>\n",
       "      <td>Pará de Minas</td>\n",
       "      <td>Minas Gerais</td>\n",
       "    </tr>\n",
       "    <tr>\n",
       "      <th>3</th>\n",
       "      <td>00024acbcdf0a6daa1e931b038114c75</td>\n",
       "      <td>1</td>\n",
       "      <td>7634da152a4610f1595efa32f14722fc</td>\n",
       "      <td>9d7a1d34a5052409006425275ba1c2b4</td>\n",
       "      <td>12.99</td>\n",
       "      <td>Perfumaria</td>\n",
       "      <td>Franca</td>\n",
       "      <td>São Paulo</td>\n",
       "      <td>2018-08-08 10:00:35</td>\n",
       "      <td>af861d436cfc08b2c2ddefd0ba074622</td>\n",
       "      <td>Atibaia</td>\n",
       "      <td>São Paulo</td>\n",
       "    </tr>\n",
       "    <tr>\n",
       "      <th>4</th>\n",
       "      <td>00042b26cf59d7ce69dfabb4e55b4fd9</td>\n",
       "      <td>1</td>\n",
       "      <td>ac6c3623068f30de03045865e4e10089</td>\n",
       "      <td>df560393f3a51e74553ab94004ba5c87</td>\n",
       "      <td>199.90</td>\n",
       "      <td>Ferramentas de Jardinagem</td>\n",
       "      <td>Loanda</td>\n",
       "      <td>Paraná</td>\n",
       "      <td>2017-02-04 13:57:51</td>\n",
       "      <td>64b576fb70d441e8f1b2d7d446e483c5</td>\n",
       "      <td>Várzea Paulista</td>\n",
       "      <td>São Paulo</td>\n",
       "    </tr>\n",
       "    <tr>\n",
       "      <th>...</th>\n",
       "      <td>...</td>\n",
       "      <td>...</td>\n",
       "      <td>...</td>\n",
       "      <td>...</td>\n",
       "      <td>...</td>\n",
       "      <td>...</td>\n",
       "      <td>...</td>\n",
       "      <td>...</td>\n",
       "      <td>...</td>\n",
       "      <td>...</td>\n",
       "      <td>...</td>\n",
       "      <td>...</td>\n",
       "    </tr>\n",
       "    <tr>\n",
       "      <th>110192</th>\n",
       "      <td>fffc94f6ce00a00581880bf54a75a037</td>\n",
       "      <td>1</td>\n",
       "      <td>4aa6014eceb682077f9dc4bffebc05b0</td>\n",
       "      <td>b8bc237ba3788b23da09c0f1f3a3288c</td>\n",
       "      <td>299.99</td>\n",
       "      <td>Utilidades Domésticas</td>\n",
       "      <td>Itajaí</td>\n",
       "      <td>Santa Catarina</td>\n",
       "      <td>2018-04-23 13:57:06</td>\n",
       "      <td>0c9aeda10a71f369396d0c04dce13a64</td>\n",
       "      <td>São Luís</td>\n",
       "      <td>Maranhão</td>\n",
       "    </tr>\n",
       "    <tr>\n",
       "      <th>110193</th>\n",
       "      <td>fffcd46ef2263f404302a634eb57f7eb</td>\n",
       "      <td>1</td>\n",
       "      <td>32e07fd915822b0765e448c4dd74c828</td>\n",
       "      <td>f3c38ab652836d21de61fb8314b69182</td>\n",
       "      <td>350.00</td>\n",
       "      <td>Acessórios de Informática</td>\n",
       "      <td>São Paulo</td>\n",
       "      <td>São Paulo</td>\n",
       "      <td>2018-07-14 10:26:46</td>\n",
       "      <td>0da9fe112eae0c74d3ba1fe16de0988b</td>\n",
       "      <td>Curitiba</td>\n",
       "      <td>Paraná</td>\n",
       "    </tr>\n",
       "    <tr>\n",
       "      <th>110194</th>\n",
       "      <td>fffce4705a9662cd70adb13d4a31832d</td>\n",
       "      <td>1</td>\n",
       "      <td>72a30483855e2eafc67aee5dc2560482</td>\n",
       "      <td>c3cfdc648177fdbbbb35635a37472c53</td>\n",
       "      <td>99.90</td>\n",
       "      <td>Esporte e Lazer</td>\n",
       "      <td>Curitiba</td>\n",
       "      <td>Paraná</td>\n",
       "      <td>2017-10-23 17:07:56</td>\n",
       "      <td>cd79b407828f02fdbba457111c38e4c4</td>\n",
       "      <td>São Paulo</td>\n",
       "      <td>São Paulo</td>\n",
       "    </tr>\n",
       "    <tr>\n",
       "      <th>110195</th>\n",
       "      <td>fffe18544ffabc95dfada21779c9644f</td>\n",
       "      <td>1</td>\n",
       "      <td>9c422a519119dcad7575db5af1ba540e</td>\n",
       "      <td>2b3e4a2a3ea8e01938cabda2a3e5cc79</td>\n",
       "      <td>55.99</td>\n",
       "      <td>Acessórios de Informática</td>\n",
       "      <td>São Paulo</td>\n",
       "      <td>São Paulo</td>\n",
       "      <td>2017-08-14 23:02:59</td>\n",
       "      <td>eb803377c9315b564bdedad672039306</td>\n",
       "      <td>Vinhedo</td>\n",
       "      <td>São Paulo</td>\n",
       "    </tr>\n",
       "    <tr>\n",
       "      <th>110196</th>\n",
       "      <td>fffe41c64501cc87c801fd61db3f6244</td>\n",
       "      <td>1</td>\n",
       "      <td>350688d9dc1e75ff97be326363655e01</td>\n",
       "      <td>f7ccf836d21b2fb1de37564105216cc1</td>\n",
       "      <td>43.00</td>\n",
       "      <td>Cama Mesa e Banho</td>\n",
       "      <td>Ibitinga</td>\n",
       "      <td>São Paulo</td>\n",
       "      <td>2018-06-09 17:00:18</td>\n",
       "      <td>cd76a00d8e3ca5e6ab9ed9ecb6667ac4</td>\n",
       "      <td>Botucatu</td>\n",
       "      <td>São Paulo</td>\n",
       "    </tr>\n",
       "  </tbody>\n",
       "</table>\n",
       "<p>110197 rows × 12 columns</p>\n",
       "</div>"
      ],
      "text/plain": [
       "                                order_id  order_item_id  \\\n",
       "0       00010242fe8c5a6d1ba2dd792cb16214              1   \n",
       "1       00018f77f2f0320c557190d7a144bdd3              1   \n",
       "2       000229ec398224ef6ca0657da4fc703e              1   \n",
       "3       00024acbcdf0a6daa1e931b038114c75              1   \n",
       "4       00042b26cf59d7ce69dfabb4e55b4fd9              1   \n",
       "...                                  ...            ...   \n",
       "110192  fffc94f6ce00a00581880bf54a75a037              1   \n",
       "110193  fffcd46ef2263f404302a634eb57f7eb              1   \n",
       "110194  fffce4705a9662cd70adb13d4a31832d              1   \n",
       "110195  fffe18544ffabc95dfada21779c9644f              1   \n",
       "110196  fffe41c64501cc87c801fd61db3f6244              1   \n",
       "\n",
       "                              product_id                         seller_id  \\\n",
       "0       4244733e06e7ecb4970a6e2683c13e61  48436dade18ac8b2bce089ec2a041202   \n",
       "1       e5f2d52b802189ee658865ca93d83a8f  dd7ddc04e1b6c2c614352b383efe2d36   \n",
       "2       c777355d18b72b67abbeef9df44fd0fd  5b51032eddd242adc84c38acab88f23d   \n",
       "3       7634da152a4610f1595efa32f14722fc  9d7a1d34a5052409006425275ba1c2b4   \n",
       "4       ac6c3623068f30de03045865e4e10089  df560393f3a51e74553ab94004ba5c87   \n",
       "...                                  ...                               ...   \n",
       "110192  4aa6014eceb682077f9dc4bffebc05b0  b8bc237ba3788b23da09c0f1f3a3288c   \n",
       "110193  32e07fd915822b0765e448c4dd74c828  f3c38ab652836d21de61fb8314b69182   \n",
       "110194  72a30483855e2eafc67aee5dc2560482  c3cfdc648177fdbbbb35635a37472c53   \n",
       "110195  9c422a519119dcad7575db5af1ba540e  2b3e4a2a3ea8e01938cabda2a3e5cc79   \n",
       "110196  350688d9dc1e75ff97be326363655e01  f7ccf836d21b2fb1de37564105216cc1   \n",
       "\n",
       "         price      product_category_name seller_city_clean  \\\n",
       "0        58.90                 Cool Stuff     Volta Redonda   \n",
       "1       239.90                   Pet Shop         São Paulo   \n",
       "2       199.00                     Móveis     Borda da Mata   \n",
       "3        12.99                 Perfumaria            Franca   \n",
       "4       199.90  Ferramentas de Jardinagem            Loanda   \n",
       "...        ...                        ...               ...   \n",
       "110192  299.99      Utilidades Domésticas            Itajaí   \n",
       "110193  350.00  Acessórios de Informática         São Paulo   \n",
       "110194   99.90            Esporte e Lazer          Curitiba   \n",
       "110195   55.99  Acessórios de Informática         São Paulo   \n",
       "110196   43.00          Cama Mesa e Banho          Ibitinga   \n",
       "\n",
       "       seller_state_clean order_purchase_timestamp  \\\n",
       "0          Rio de Janeiro      2017-09-13 08:59:02   \n",
       "1               São Paulo      2017-04-26 10:53:06   \n",
       "2            Minas Gerais      2018-01-14 14:33:31   \n",
       "3               São Paulo      2018-08-08 10:00:35   \n",
       "4                  Paraná      2017-02-04 13:57:51   \n",
       "...                   ...                      ...   \n",
       "110192     Santa Catarina      2018-04-23 13:57:06   \n",
       "110193          São Paulo      2018-07-14 10:26:46   \n",
       "110194             Paraná      2017-10-23 17:07:56   \n",
       "110195          São Paulo      2017-08-14 23:02:59   \n",
       "110196          São Paulo      2018-06-09 17:00:18   \n",
       "\n",
       "                      customer_unique_id    customer_city_clean  \\\n",
       "0       871766c5855e863f6eccc05f988b23cb  Campos dos Goytacazes   \n",
       "1       eb28e67c4c0b83846050ddfb8a35d051        Santa Fé do Sul   \n",
       "2       3818d81c6709e39d06b2738a8d3a2474          Pará de Minas   \n",
       "3       af861d436cfc08b2c2ddefd0ba074622                Atibaia   \n",
       "4       64b576fb70d441e8f1b2d7d446e483c5        Várzea Paulista   \n",
       "...                                  ...                    ...   \n",
       "110192  0c9aeda10a71f369396d0c04dce13a64               São Luís   \n",
       "110193  0da9fe112eae0c74d3ba1fe16de0988b               Curitiba   \n",
       "110194  cd79b407828f02fdbba457111c38e4c4              São Paulo   \n",
       "110195  eb803377c9315b564bdedad672039306                Vinhedo   \n",
       "110196  cd76a00d8e3ca5e6ab9ed9ecb6667ac4               Botucatu   \n",
       "\n",
       "       customer_state_clean  \n",
       "0            Rio de Janeiro  \n",
       "1                 São Paulo  \n",
       "2              Minas Gerais  \n",
       "3                 São Paulo  \n",
       "4                 São Paulo  \n",
       "...                     ...  \n",
       "110192             Maranhão  \n",
       "110193               Paraná  \n",
       "110194            São Paulo  \n",
       "110195            São Paulo  \n",
       "110196            São Paulo  \n",
       "\n",
       "[110197 rows x 12 columns]"
      ]
     },
     "execution_count": 115,
     "metadata": {},
     "output_type": "execute_result"
    }
   ],
   "source": [
    "proc_df_sales = proc_df_sales.merge(proc_order_by_customer[['order_id','order_purchase_timestamp','customer_unique_id','customer_city_clean','customer_state_clean']],on='order_id',how='left')\n",
    "proc_df_sales"
   ]
  },
  {
   "cell_type": "markdown",
   "id": "80c793d4",
   "metadata": {},
   "source": [
    "- Creating the category x sale relation"
   ]
  },
  {
   "cell_type": "code",
   "execution_count": null,
   "id": "071255c2",
   "metadata": {},
   "outputs": [],
   "source": [
    "proc_category_sales = proc_df_sales.groupby('product_category_name')['price'].sum().reset_index().sort_values(\"price\", ascending=False)\n",
    "proc_category_sales.reset_index(drop=True, inplace=True)"
   ]
  },
  {
   "cell_type": "markdown",
   "id": "f791ff3b",
   "metadata": {},
   "source": [
    "- Creating the customer x sales relation"
   ]
  },
  {
   "cell_type": "code",
   "execution_count": 124,
   "id": "ec93e186",
   "metadata": {},
   "outputs": [
    {
     "data": {
      "application/vnd.microsoft.datawrangler.viewer.v0+json": {
       "columns": [
        {
         "name": "index",
         "rawType": "int64",
         "type": "integer"
        },
        {
         "name": "order_id",
         "rawType": "object",
         "type": "string"
        },
        {
         "name": "price",
         "rawType": "float64",
         "type": "float"
        },
        {
         "name": "customer_id",
         "rawType": "object",
         "type": "string"
        },
        {
         "name": "customer_unique_id",
         "rawType": "object",
         "type": "string"
        }
       ],
       "ref": "630c9278-dd95-40b5-8760-c892a3b63992",
       "rows": [
        [
         "0",
         "00010242fe8c5a6d1ba2dd792cb16214",
         "58.9",
         "3ce436f183e68e07877b285a838db11a",
         "871766c5855e863f6eccc05f988b23cb"
        ],
        [
         "1",
         "00018f77f2f0320c557190d7a144bdd3",
         "239.9",
         "f6dd3ec061db4e3987629fe6b26e5cce",
         "eb28e67c4c0b83846050ddfb8a35d051"
        ],
        [
         "2",
         "000229ec398224ef6ca0657da4fc703e",
         "199.0",
         "6489ae5e4333f3693df5ad4372dab6d3",
         "3818d81c6709e39d06b2738a8d3a2474"
        ],
        [
         "3",
         "00024acbcdf0a6daa1e931b038114c75",
         "12.99",
         "d4eb9395c8c0431ee92fce09860c5a06",
         "af861d436cfc08b2c2ddefd0ba074622"
        ],
        [
         "4",
         "00042b26cf59d7ce69dfabb4e55b4fd9",
         "199.9",
         "58dbd0b2d70206bf40e62cd34e84d795",
         "64b576fb70d441e8f1b2d7d446e483c5"
        ],
        [
         "5",
         "00048cc3ae777c65dbb7d2a0634bc1ea",
         "21.9",
         "816cbea969fe5b689b39cfc97a506742",
         "85c835d128beae5b4ce8602c491bf385"
        ],
        [
         "6",
         "00054e8431b9d7675808bcb819fb4a32",
         "19.9",
         "32e2e6ab09e778d99bf2e0ecd4898718",
         "635d9ac1680f03288e72ada3a1035803"
        ],
        [
         "7",
         "000576fe39319847cbb9d288c5617fa6",
         "810.0",
         "9ed5e522dd9dd85b4af4a077526d8117",
         "fda4476abb6307ab3c415b7e6d026526"
        ],
        [
         "8",
         "0005a1a1728c9d785b8e2b08b904576c",
         "145.95",
         "16150771dfd4776261284213b89c304e",
         "639d23421f5517f69d0c3d6e6564cf0e"
        ],
        [
         "9",
         "0005f50442cb953dcd1d21e1fb923495",
         "53.99",
         "351d3cb2cee3c7fd0af6616c82df21d3",
         "0782c41380992a5a533489063df0eef6"
        ],
        [
         "10",
         "00061f2a7bc09da83e415a52dc8a4af1",
         "59.99",
         "c6fc061d86fab1e2b2eac259bac71a49",
         "107e6259485efac66428a56f10801f4f"
        ],
        [
         "11",
         "00063b381e2406b52ad429470734ebd5",
         "45.0",
         "6a899e55865de6549a58d2c6845e5604",
         "3fb97204945ca0c01bcf3eee6031c5f1"
        ],
        [
         "12",
         "0006ec9db01a64e59a68b2c340bf65a7",
         "74.0",
         "5d178120c29c61748ea95bac23cb8f25",
         "7ed0ea20347f67fe61d1c99fdf8556ae"
        ],
        [
         "13",
         "0008288aa423d2a3f00fcb17cd7d8719",
         "99.8",
         "2355af7c75e7c98b43a87b2a7f210dc5",
         "9e4159995424971423b98c4a8bc11529"
        ],
        [
         "14",
         "0009792311464db532ff765bf7b182ae",
         "99.9",
         "2a30c97668e81df7c17a8b14447aeeba",
         "4987996ddcd0ddb20740fdce7c2bfbb1"
        ],
        [
         "15",
         "0009c9a17f916a706d71784483a5d643",
         "639.0",
         "8a250edc40ebc5c3940ebc940f16a7eb",
         "6062db572f3ef38b7a8ff4307abbfad3"
        ],
        [
         "16",
         "000aed2e25dbad2f9ddb70584c5a2ded",
         "144.0",
         "fff5169e583fd07fac9fec88962f189d",
         "6457be0b331148fb5454efc88d1e03d9"
        ],
        [
         "17",
         "000c3e6612759851cc3cbb4b83257986",
         "99.0",
         "3773bcf1a6fbd29233ea1c1b573c4f22",
         "f5f088001070650f9e9a8cd773621f35"
        ],
        [
         "18",
         "000e562887b1f2006d75e0be9558292e",
         "25.0",
         "2b01d668726fb0b751c55918c0437b7b",
         "b2c72d1e9f6430603b8337d8f1394a99"
        ],
        [
         "19",
         "000e63d38ae8c00bbcb5a30573b99628",
         "47.9",
         "98884e672c5ba85f4394f2044e1a3eab",
         "860fc00d3154ce2346c43ebe47b9b6ce"
        ],
        [
         "20",
         "000e906b789b55f64edcb1f84030f90d",
         "21.99",
         "6a3b2fc9f270df258605e22bef19fd88",
         "3588484a539617d91500764822230fb6"
        ],
        [
         "21",
         "000f25f4d72195062c040b12dce9a18a",
         "119.99",
         "86ade8ebc14f18dd6c3ea75bd0eb7534",
         "1a6cbc34ea404cb0af7ed74df0999354"
        ],
        [
         "22",
         "001021efaa8636c29475e7734483457d",
         "49.0",
         "2dfbf74859104caf100df3720a1d833d",
         "2193383c470dc9cec894ce78afd0ebd6"
        ],
        [
         "23",
         "0010b2e5201cc5f1ae7e9c6cc8f5bd00",
         "48.9",
         "57ef317d4818cb42680fc9dfd13867ce",
         "e883f26917e2095c439f70c2cf8c914b"
        ],
        [
         "24",
         "00119ff934e539cf26f92b9ef0cdfed8",
         "219.9",
         "7dd2e283f47deac853cf70f3b63c8d86",
         "13df7b623839b4edc579ee40279d57c8"
        ],
        [
         "25",
         "0011d82c4b53e22e84023405fb467e57",
         "289.0",
         "2013d892495e1a101d742d533d2d1119",
         "02daaa0e021d624d1784c4ea5cc84ace"
        ],
        [
         "26",
         "00125cb692d04887809806618a2a145f",
         "109.9",
         "8afb90a97ee661103014329b1bcea1a2",
         "7ac26eac431c6848694a2de6f0327524"
        ],
        [
         "27",
         "00130c0eee84a3d909e75bc08c5c3ca1",
         "27.9",
         "47d656c08a282ec5ab4c1f18303a3a30",
         "b5910f24d2483d697b37e3857b621061"
        ],
        [
         "28",
         "0013503b13da1eac686219390b7d641b",
         "119.9",
         "f7277fce45fad3165379c15cacf5ddbe",
         "1544f85dff3797491b60f2a5241d14c1"
        ],
        [
         "29",
         "00137e170939bba5a3134e2386413108",
         "397.0",
         "7b63cba66b8e6d002e94d0990c1e2868",
         "38c3bc2d6df03905e3e8d3d5b079acf4"
        ],
        [
         "30",
         "001427c0ec99cf8af737bd88e92fd444",
         "59.9",
         "eab9c552374be06ed15923016dc9e588",
         "2ada69d1c5528233e3d9aa3f1d8da1b1"
        ],
        [
         "31",
         "00143d0f86d6fbd9f9b38ab440ac16f5",
         "63.989999999999995",
         "2e45292979b9b2700ea09560eeb0f803",
         "bb8a37225e0279ac8a274c9765617eaf"
        ],
        [
         "32",
         "0014ae671de39511f7575066200733b7",
         "16.5",
         "41065d9dcea52218c3943d2eed072b97",
         "8e5a8d9363eb6296154b65750c8702ca"
        ],
        [
         "33",
         "0015ebb40fb17286bea51d4607c4733c",
         "21.9",
         "da43a556bf5c36a1104c473cff77de6c",
         "2e0daa38f7fd081ddcda32d972e5ec50"
        ],
        [
         "34",
         "00169e31ef4b29deaae414f9a5e95929",
         "39.0",
         "efb3830adb68fb8a89c948774388ec28",
         "577edb526f98771b20d6db4a51d79423"
        ],
        [
         "35",
         "0016dfedd97fc2950e388d2971d718c7",
         "49.75",
         "2c8b917c5d7dd720ebe36a5ed3b501ec",
         "33febb33a42a35f5826a22584b127f9d"
        ],
        [
         "36",
         "0017afd5076e074a48f1f1a4c7bac9c5",
         "809.1",
         "8085a9af46f619bc25966f151a362b0d",
         "98758d88bf4b8eef1372ddee45d63178"
        ],
        [
         "37",
         "001862358bf858722e1e2ae000cfed8b",
         "99.99",
         "2cf869dd40c98f29686f636d83545cce",
         "eb2568a7ba9b2ca9bf1f818a8dea82ce"
        ],
        [
         "38",
         "0019c29108428acffd089c36103c9440",
         "59.9",
         "5f6bbac628ae418db4e0f92932f899c1",
         "d02e64b28b7c386aab81bb6ce148799a"
        ],
        [
         "39",
         "001ab0a7578dd66cd4b0a71f5b6e1e41",
         "74.67",
         "8bb3bef4e75a95524235cdc11a7331af",
         "d1f24d1d504e27bee13b415e40daeab0"
        ],
        [
         "40",
         "001ac194d4a326a6fa99b581e9a3d963",
         "54.0",
         "f4f17ada91ef010cbde3892ae54e625f",
         "3d01f9412759a6a68f249b76eca0de78"
        ],
        [
         "41",
         "001b76dd48a5b1eee3e87778daa40df8",
         "81.99",
         "a62843b08086d1629415a203a7fd419d",
         "b32ff8caad5902c55fa167e7dc77cc69"
        ],
        [
         "42",
         "001c85b5f68d2be0cb0797afc9e8ce9a",
         "99.0",
         "48ed31e735f1c420ed6ca3637b7c744d",
         "55a269f324455e78349e7b9b7e7e5911"
        ],
        [
         "43",
         "001d8f0e34a38c37f7dba2a37d4eba8b",
         "37.98",
         "d987da9fb4086ab7c2c0f83963cd6722",
         "870a0bdc769f9a7870309036740e79ea"
        ],
        [
         "44",
         "001daeb0eddc45b999bad0801ad9d273",
         "38.33",
         "3ba02060e681d361d603d5f7ef0a730b",
         "dc5aa19797b8fb7a4929ad109fb25553"
        ],
        [
         "45",
         "001dbc16dc51075e987543d23a0507c7",
         "69.9",
         "698a74f33469466fa4172e829505d1c6",
         "c6f624cf0e9908fe310d59a80350bea0"
        ],
        [
         "46",
         "001e7ba991be1b19605ca0316e7130f9",
         "195.0",
         "b6a1445ee505f3a95c827e7a5188ad02",
         "100bf2da12cc1fd1b556507aa87bf3a1"
        ],
        [
         "47",
         "001e7cf2ad6bef3ade12ebc56ceaf0f3",
         "35.9",
         "d1684ed69f8fd574b7c344de923f379a",
         "43860f86362fea12550bfa19ef73015f"
        ],
        [
         "48",
         "0020262c8a370bd5a174ea6a2a267321",
         "79.5",
         "9ec353f970bdf785f6568724d9ea19aa",
         "484689f7961df6e755f6373221aff64d"
        ],
        [
         "49",
         "0020a222f55eb79a372d0efee3cca688",
         "29.99",
         "0c45155afd8ff99622c40824057f9b34",
         "87ae4c644c15d9c6b6f826dfec33b340"
        ]
       ],
       "shape": {
        "columns": 4,
        "rows": 96478
       }
      },
      "text/html": [
       "<div>\n",
       "<style scoped>\n",
       "    .dataframe tbody tr th:only-of-type {\n",
       "        vertical-align: middle;\n",
       "    }\n",
       "\n",
       "    .dataframe tbody tr th {\n",
       "        vertical-align: top;\n",
       "    }\n",
       "\n",
       "    .dataframe thead th {\n",
       "        text-align: right;\n",
       "    }\n",
       "</style>\n",
       "<table border=\"1\" class=\"dataframe\">\n",
       "  <thead>\n",
       "    <tr style=\"text-align: right;\">\n",
       "      <th></th>\n",
       "      <th>order_id</th>\n",
       "      <th>price</th>\n",
       "      <th>customer_id</th>\n",
       "      <th>customer_unique_id</th>\n",
       "    </tr>\n",
       "  </thead>\n",
       "  <tbody>\n",
       "    <tr>\n",
       "      <th>0</th>\n",
       "      <td>00010242fe8c5a6d1ba2dd792cb16214</td>\n",
       "      <td>58.90</td>\n",
       "      <td>3ce436f183e68e07877b285a838db11a</td>\n",
       "      <td>871766c5855e863f6eccc05f988b23cb</td>\n",
       "    </tr>\n",
       "    <tr>\n",
       "      <th>1</th>\n",
       "      <td>00018f77f2f0320c557190d7a144bdd3</td>\n",
       "      <td>239.90</td>\n",
       "      <td>f6dd3ec061db4e3987629fe6b26e5cce</td>\n",
       "      <td>eb28e67c4c0b83846050ddfb8a35d051</td>\n",
       "    </tr>\n",
       "    <tr>\n",
       "      <th>2</th>\n",
       "      <td>000229ec398224ef6ca0657da4fc703e</td>\n",
       "      <td>199.00</td>\n",
       "      <td>6489ae5e4333f3693df5ad4372dab6d3</td>\n",
       "      <td>3818d81c6709e39d06b2738a8d3a2474</td>\n",
       "    </tr>\n",
       "    <tr>\n",
       "      <th>3</th>\n",
       "      <td>00024acbcdf0a6daa1e931b038114c75</td>\n",
       "      <td>12.99</td>\n",
       "      <td>d4eb9395c8c0431ee92fce09860c5a06</td>\n",
       "      <td>af861d436cfc08b2c2ddefd0ba074622</td>\n",
       "    </tr>\n",
       "    <tr>\n",
       "      <th>4</th>\n",
       "      <td>00042b26cf59d7ce69dfabb4e55b4fd9</td>\n",
       "      <td>199.90</td>\n",
       "      <td>58dbd0b2d70206bf40e62cd34e84d795</td>\n",
       "      <td>64b576fb70d441e8f1b2d7d446e483c5</td>\n",
       "    </tr>\n",
       "    <tr>\n",
       "      <th>...</th>\n",
       "      <td>...</td>\n",
       "      <td>...</td>\n",
       "      <td>...</td>\n",
       "      <td>...</td>\n",
       "    </tr>\n",
       "    <tr>\n",
       "      <th>96473</th>\n",
       "      <td>fffc94f6ce00a00581880bf54a75a037</td>\n",
       "      <td>299.99</td>\n",
       "      <td>b51593916b4b8e0d6f66f2ae24f2673d</td>\n",
       "      <td>0c9aeda10a71f369396d0c04dce13a64</td>\n",
       "    </tr>\n",
       "    <tr>\n",
       "      <th>96474</th>\n",
       "      <td>fffcd46ef2263f404302a634eb57f7eb</td>\n",
       "      <td>350.00</td>\n",
       "      <td>84c5d4fbaf120aae381fad077416eaa0</td>\n",
       "      <td>0da9fe112eae0c74d3ba1fe16de0988b</td>\n",
       "    </tr>\n",
       "    <tr>\n",
       "      <th>96475</th>\n",
       "      <td>fffce4705a9662cd70adb13d4a31832d</td>\n",
       "      <td>99.90</td>\n",
       "      <td>29309aa813182aaddc9b259e31b870e6</td>\n",
       "      <td>cd79b407828f02fdbba457111c38e4c4</td>\n",
       "    </tr>\n",
       "    <tr>\n",
       "      <th>96476</th>\n",
       "      <td>fffe18544ffabc95dfada21779c9644f</td>\n",
       "      <td>55.99</td>\n",
       "      <td>b5e6afd5a41800fdf401e0272ca74655</td>\n",
       "      <td>eb803377c9315b564bdedad672039306</td>\n",
       "    </tr>\n",
       "    <tr>\n",
       "      <th>96477</th>\n",
       "      <td>fffe41c64501cc87c801fd61db3f6244</td>\n",
       "      <td>43.00</td>\n",
       "      <td>96d649da0cc4ff33bb408b199d4c7dcf</td>\n",
       "      <td>cd76a00d8e3ca5e6ab9ed9ecb6667ac4</td>\n",
       "    </tr>\n",
       "  </tbody>\n",
       "</table>\n",
       "<p>96478 rows × 4 columns</p>\n",
       "</div>"
      ],
      "text/plain": [
       "                               order_id   price  \\\n",
       "0      00010242fe8c5a6d1ba2dd792cb16214   58.90   \n",
       "1      00018f77f2f0320c557190d7a144bdd3  239.90   \n",
       "2      000229ec398224ef6ca0657da4fc703e  199.00   \n",
       "3      00024acbcdf0a6daa1e931b038114c75   12.99   \n",
       "4      00042b26cf59d7ce69dfabb4e55b4fd9  199.90   \n",
       "...                                 ...     ...   \n",
       "96473  fffc94f6ce00a00581880bf54a75a037  299.99   \n",
       "96474  fffcd46ef2263f404302a634eb57f7eb  350.00   \n",
       "96475  fffce4705a9662cd70adb13d4a31832d   99.90   \n",
       "96476  fffe18544ffabc95dfada21779c9644f   55.99   \n",
       "96477  fffe41c64501cc87c801fd61db3f6244   43.00   \n",
       "\n",
       "                            customer_id                customer_unique_id  \n",
       "0      3ce436f183e68e07877b285a838db11a  871766c5855e863f6eccc05f988b23cb  \n",
       "1      f6dd3ec061db4e3987629fe6b26e5cce  eb28e67c4c0b83846050ddfb8a35d051  \n",
       "2      6489ae5e4333f3693df5ad4372dab6d3  3818d81c6709e39d06b2738a8d3a2474  \n",
       "3      d4eb9395c8c0431ee92fce09860c5a06  af861d436cfc08b2c2ddefd0ba074622  \n",
       "4      58dbd0b2d70206bf40e62cd34e84d795  64b576fb70d441e8f1b2d7d446e483c5  \n",
       "...                                 ...                               ...  \n",
       "96473  b51593916b4b8e0d6f66f2ae24f2673d  0c9aeda10a71f369396d0c04dce13a64  \n",
       "96474  84c5d4fbaf120aae381fad077416eaa0  0da9fe112eae0c74d3ba1fe16de0988b  \n",
       "96475  29309aa813182aaddc9b259e31b870e6  cd79b407828f02fdbba457111c38e4c4  \n",
       "96476  b5e6afd5a41800fdf401e0272ca74655  eb803377c9315b564bdedad672039306  \n",
       "96477  96d649da0cc4ff33bb408b199d4c7dcf  cd76a00d8e3ca5e6ab9ed9ecb6667ac4  \n",
       "\n",
       "[96478 rows x 4 columns]"
      ]
     },
     "execution_count": 124,
     "metadata": {},
     "output_type": "execute_result"
    }
   ],
   "source": [
    "proc_sales_per_customer = proc_df_sales.groupby('order_id')['price'].sum().reset_index().merge(\n",
    "    df_orders[['order_id','customer_id']],on='order_id',how='left'\n",
    ").merge(\n",
    "    df_customers[['customer_id','customer_unique_id']],on='customer_id',how='left'\n",
    ")\n",
    "proc_sales_per_customer"
   ]
  },
  {
   "cell_type": "markdown",
   "id": "18b9bd9c",
   "metadata": {},
   "source": [
    "- Calculating the mean value spent per customer"
   ]
  },
  {
   "cell_type": "code",
   "execution_count": null,
   "id": "4caf51d0",
   "metadata": {},
   "outputs": [
    {
     "data": {
      "application/vnd.microsoft.datawrangler.viewer.v0+json": {
       "columns": [
        {
         "name": "index",
         "rawType": "int64",
         "type": "integer"
        },
        {
         "name": "customer_unique_id",
         "rawType": "object",
         "type": "string"
        },
        {
         "name": "price",
         "rawType": "float64",
         "type": "float"
        },
        {
         "name": "num_de_compras",
         "rawType": "int64",
         "type": "integer"
        },
        {
         "name": "ticket_medio",
         "rawType": "float64",
         "type": "float"
        },
        {
         "name": "customer_state",
         "rawType": "object",
         "type": "string"
        },
        {
         "name": "customer_city_clean",
         "rawType": "object",
         "type": "string"
        },
        {
         "name": "customer_state_clean",
         "rawType": "object",
         "type": "string"
        }
       ],
       "ref": "42c94f06-a244-4427-8f21-cd0701b2b694",
       "rows": [
        [
         "0",
         "0000366f3b9a7992bf8c76cfdf3221e2",
         "129.9",
         "1",
         "129.9",
         "SP",
         "Cajamar",
         "São Paulo"
        ],
        [
         "1",
         "0000b849f77a49e4a4ce2b2a4ca5be3f",
         "18.9",
         "1",
         "18.9",
         "SP",
         "Osasco",
         "São Paulo"
        ],
        [
         "2",
         "0000f46a3911fa3c0805444483337064",
         "69.0",
         "1",
         "69.0",
         "SC",
         "São José",
         "Santa Catarina"
        ],
        [
         "3",
         "0000f6ccb0745a6a4b88665a16c9f078",
         "25.99",
         "1",
         "25.99",
         "PA",
         "Belém",
         "Pará"
        ],
        [
         "4",
         "0004aac84e0df4da2b147fca70cf8255",
         "180.0",
         "1",
         "180.0",
         "SP",
         "Sorocaba",
         "São Paulo"
        ],
        [
         "5",
         "0004bd2a26a76fe21f786e4fbd80607f",
         "154.0",
         "1",
         "154.0",
         "SP",
         "São Paulo",
         "São Paulo"
        ],
        [
         "6",
         "00050ab1314c0e55a6ca13cf7181fecf",
         "27.99",
         "1",
         "27.99",
         "SP",
         "Campinas",
         "São Paulo"
        ],
        [
         "7",
         "00053a61a98854899e70ed204dd4bafe",
         "382.0",
         "1",
         "382.0",
         "PR",
         "Curitiba",
         "Paraná"
        ],
        [
         "8",
         "0005e1862207bf6ccc02e4228effd9a0",
         "135.0",
         "1",
         "135.0",
         "RJ",
         "Teresópolis",
         "Rio de Janeiro"
        ],
        [
         "9",
         "0005ef4cd20d2893f0d9fbd94d3c0d97",
         "104.9",
         "1",
         "104.9",
         "MA",
         "São Luís",
         "Maranhão"
        ],
        [
         "10",
         "0006fdc98a402fceb4eb0ee528f6a8d4",
         "13.9",
         "1",
         "13.9",
         "ES",
         "Mimoso do Sul",
         "Espírito Santo"
        ],
        [
         "11",
         "00082cbe03e478190aadbea78542e933",
         "79.0",
         "1",
         "79.0",
         "SP",
         "Itapeva",
         "São Paulo"
        ],
        [
         "12",
         "00090324bbad0e9342388303bb71ba0a",
         "49.95",
         "1",
         "49.95",
         "SP",
         "Campinas",
         "São Paulo"
        ],
        [
         "13",
         "000949456b182f53c18b68d6babc79c1",
         "64.89",
         "1",
         "64.89",
         "SP",
         "São Bernardo do Campo",
         "São Paulo"
        ],
        [
         "14",
         "000a5ad9c4601d2bbdd9ed765d5213b3",
         "76.99",
         "1",
         "76.99",
         "RS",
         "Porto Alegre",
         "Rio Grande do Sul"
        ],
        [
         "15",
         "000bfa1d2f1a41876493be685390d6d3",
         "35.0",
         "1",
         "35.0",
         "SP",
         "Santos",
         "São Paulo"
        ],
        [
         "16",
         "000c8bdb58a29e7115cfc257230fb21b",
         "13.9",
         "1",
         "13.9",
         "MG",
         "Belo Horizonte",
         "Minas Gerais"
        ],
        [
         "17",
         "000d460961d6dbfa3ec6c9f5805769e1",
         "28.9",
         "1",
         "28.9",
         "SP",
         "São Paulo",
         "São Paulo"
        ],
        [
         "18",
         "000de6019bb59f34c099a907c151d855",
         "229.8",
         "1",
         "229.8",
         "SP",
         "São Sebastião",
         "São Paulo"
        ],
        [
         "19",
         "000e309254ab1fc5ba99dd469d36bdb4",
         "59.9",
         "1",
         "59.9",
         "GO",
         "Valparaíso de Goiás",
         "Goiás"
        ],
        [
         "20",
         "000ec5bff359e1c0ad76a81a45cb598f",
         "14.96",
         "1",
         "14.96",
         "SP",
         "Salto de Pirapora",
         "São Paulo"
        ],
        [
         "21",
         "000ed48ceeb6f4bf8ad021a10a3c7b43",
         "12.88",
         "1",
         "12.88",
         "SP",
         "São Paulo",
         "São Paulo"
        ],
        [
         "22",
         "000fbf0473c10fc1ab6f8d2d286ce20c",
         "285.8",
         "1",
         "285.8",
         "SP",
         "Indaiatuba",
         "São Paulo"
        ],
        [
         "23",
         "0010a452c6d13139e50b57f19f52e04e",
         "299.0",
         "1",
         "299.0",
         "RS",
         "Taquara",
         "Rio Grande do Sul"
        ],
        [
         "24",
         "0010fb34b966d44409382af9e8fd5b77",
         "49.95",
         "1",
         "49.95",
         "SP",
         "São Paulo",
         "São Paulo"
        ],
        [
         "25",
         "001147e649a7b1afd577e873841632dd",
         "170.0",
         "1",
         "170.0",
         "PR",
         "Maringá",
         "Paraná"
        ],
        [
         "26",
         "00115fc7123b5310cf6d3a3aa932699e",
         "59.99",
         "1",
         "59.99",
         "DF",
         "Brasília",
         "Distrito Federal"
        ],
        [
         "27",
         "0011805441c0d1b68b48002f1d005526",
         "269.0",
         "1",
         "269.0",
         "PA",
         "Goianésia do Pará",
         "Pará"
        ],
        [
         "28",
         "0011857aff0e5871ce5eb429f21cdaf5",
         "174.33",
         "1",
         "174.33",
         "SP",
         "Santo André",
         "São Paulo"
        ],
        [
         "29",
         "0011c98589159d6149979563c504cb21",
         "99.99",
         "1",
         "99.99",
         "MG",
         "Campos Altos",
         "Minas Gerais"
        ],
        [
         "30",
         "0012929d977a8d7280bb277c1e5f589d",
         "129.9",
         "1",
         "129.9",
         "RS",
         "Canoas",
         "Rio Grande do Sul"
        ],
        [
         "31",
         "0014a5a58da615f7b01a4f5e194bf5ea",
         "88.0",
         "1",
         "88.0",
         "SP",
         "São Paulo",
         "São Paulo"
        ],
        [
         "32",
         "0015752e079902b12cd00b9b7596276b",
         "59.8",
         "1",
         "59.8",
         "SP",
         "São Paulo",
         "São Paulo"
        ],
        [
         "33",
         "00172711b30d52eea8b313a7f2cced02",
         "74.5",
         "1",
         "74.5",
         "BA",
         "Jequié",
         "Bahia"
        ],
        [
         "34",
         "00172711b30d52eea8b313a7f2cced02",
         "74.5",
         "1",
         "74.5",
         "BA",
         "Jequié",
         "Bahia"
        ],
        [
         "35",
         "00191a9719ef48ebb5860b130347bf33",
         "47.9",
         "1",
         "47.9",
         "SP",
         "Jarinu",
         "São Paulo"
        ],
        [
         "36",
         "001926cef41060fae572e2e7b30bd2a4",
         "48.79",
         "1",
         "48.79",
         "MT",
         "Nova Canaã do Norte",
         "Mato Grosso"
        ],
        [
         "37",
         "001928b561575b2821c92254a2327d06",
         "136.89000000000001",
         "1",
         "136.89000000000001",
         "SP",
         "São Paulo",
         "São Paulo"
        ],
        [
         "38",
         "00196c4c9a3af7dd2ad10eade69c926f",
         "22.32",
         "1",
         "22.32",
         "SP",
         "Vinhedo",
         "São Paulo"
        ],
        [
         "39",
         "00196fdb2bf9edfc35e88ebfbcf8d781",
         "12.9",
         "1",
         "12.9",
         "RS",
         "Canoas",
         "Rio Grande do Sul"
        ],
        [
         "40",
         "0019da6aa6bcb27cc32f1249bd12da05",
         "79.9",
         "1",
         "79.9",
         "SP",
         "Limeira",
         "São Paulo"
        ],
        [
         "41",
         "0019e8c501c85848ac0966d45226fa1d",
         "159.99",
         "1",
         "159.99",
         "MT",
         "Cuiabá",
         "Mato Grosso"
        ],
        [
         "42",
         "001a2bf0e46c684031af91fb2bce149d",
         "24.88",
         "1",
         "24.88",
         "SP",
         "São Paulo",
         "São Paulo"
        ],
        [
         "43",
         "001a34eb30ecb8e3aacb07c475ca4dd1",
         "151.9",
         "1",
         "151.9",
         "SP",
         "São Paulo",
         "São Paulo"
        ],
        [
         "44",
         "001a3a8e11d76c9a366c31a4aa2cc529",
         "9.0",
         "1",
         "9.0",
         "RS",
         "Porto Alegre",
         "Rio Grande do Sul"
        ],
        [
         "45",
         "001ae5a1788703d64536c30362503e49",
         "89.99",
         "1",
         "89.99",
         "RJ",
         "Volta Redonda",
         "Rio de Janeiro"
        ],
        [
         "46",
         "001deb796b28a3a128d6113857569aa4",
         "39.9",
         "1",
         "39.9",
         "RJ",
         "Rio de Janeiro",
         "Rio de Janeiro"
        ],
        [
         "47",
         "001f3c4211216384d5fe59b041ce1461",
         "24.88",
         "1",
         "24.88",
         "SP",
         "São Paulo",
         "São Paulo"
        ],
        [
         "48",
         "002043098f10ba39a4600b6c52fbfe3c",
         "176.99",
         "1",
         "176.99",
         "SE",
         "Aracaju",
         "Sergipe"
        ],
        [
         "49",
         "002311514717ca8b65b09a26cdf7b91a",
         "116.25",
         "1",
         "116.25",
         "SP",
         "Guarulhos",
         "São Paulo"
        ]
       ],
       "shape": {
        "columns": 7,
        "rows": 96683
       }
      },
      "text/html": [
       "<div>\n",
       "<style scoped>\n",
       "    .dataframe tbody tr th:only-of-type {\n",
       "        vertical-align: middle;\n",
       "    }\n",
       "\n",
       "    .dataframe tbody tr th {\n",
       "        vertical-align: top;\n",
       "    }\n",
       "\n",
       "    .dataframe thead th {\n",
       "        text-align: right;\n",
       "    }\n",
       "</style>\n",
       "<table border=\"1\" class=\"dataframe\">\n",
       "  <thead>\n",
       "    <tr style=\"text-align: right;\">\n",
       "      <th></th>\n",
       "      <th>customer_unique_id</th>\n",
       "      <th>price</th>\n",
       "      <th>num_de_compras</th>\n",
       "      <th>ticket_medio</th>\n",
       "      <th>customer_state</th>\n",
       "      <th>customer_city_clean</th>\n",
       "      <th>customer_state_clean</th>\n",
       "    </tr>\n",
       "  </thead>\n",
       "  <tbody>\n",
       "    <tr>\n",
       "      <th>0</th>\n",
       "      <td>0000366f3b9a7992bf8c76cfdf3221e2</td>\n",
       "      <td>129.90</td>\n",
       "      <td>1</td>\n",
       "      <td>129.90</td>\n",
       "      <td>SP</td>\n",
       "      <td>Cajamar</td>\n",
       "      <td>São Paulo</td>\n",
       "    </tr>\n",
       "    <tr>\n",
       "      <th>1</th>\n",
       "      <td>0000b849f77a49e4a4ce2b2a4ca5be3f</td>\n",
       "      <td>18.90</td>\n",
       "      <td>1</td>\n",
       "      <td>18.90</td>\n",
       "      <td>SP</td>\n",
       "      <td>Osasco</td>\n",
       "      <td>São Paulo</td>\n",
       "    </tr>\n",
       "    <tr>\n",
       "      <th>2</th>\n",
       "      <td>0000f46a3911fa3c0805444483337064</td>\n",
       "      <td>69.00</td>\n",
       "      <td>1</td>\n",
       "      <td>69.00</td>\n",
       "      <td>SC</td>\n",
       "      <td>São José</td>\n",
       "      <td>Santa Catarina</td>\n",
       "    </tr>\n",
       "    <tr>\n",
       "      <th>3</th>\n",
       "      <td>0000f6ccb0745a6a4b88665a16c9f078</td>\n",
       "      <td>25.99</td>\n",
       "      <td>1</td>\n",
       "      <td>25.99</td>\n",
       "      <td>PA</td>\n",
       "      <td>Belém</td>\n",
       "      <td>Pará</td>\n",
       "    </tr>\n",
       "    <tr>\n",
       "      <th>4</th>\n",
       "      <td>0004aac84e0df4da2b147fca70cf8255</td>\n",
       "      <td>180.00</td>\n",
       "      <td>1</td>\n",
       "      <td>180.00</td>\n",
       "      <td>SP</td>\n",
       "      <td>Sorocaba</td>\n",
       "      <td>São Paulo</td>\n",
       "    </tr>\n",
       "    <tr>\n",
       "      <th>...</th>\n",
       "      <td>...</td>\n",
       "      <td>...</td>\n",
       "      <td>...</td>\n",
       "      <td>...</td>\n",
       "      <td>...</td>\n",
       "      <td>...</td>\n",
       "      <td>...</td>\n",
       "    </tr>\n",
       "    <tr>\n",
       "      <th>96678</th>\n",
       "      <td>fffcf5a5ff07b0908bd4e2dbc735a684</td>\n",
       "      <td>1570.00</td>\n",
       "      <td>1</td>\n",
       "      <td>1570.00</td>\n",
       "      <td>PE</td>\n",
       "      <td>Sanharó</td>\n",
       "      <td>Pernambuco</td>\n",
       "    </tr>\n",
       "    <tr>\n",
       "      <th>96679</th>\n",
       "      <td>fffea47cd6d3cc0a88bd621562a9d061</td>\n",
       "      <td>64.89</td>\n",
       "      <td>1</td>\n",
       "      <td>64.89</td>\n",
       "      <td>BA</td>\n",
       "      <td>Feira de Santana</td>\n",
       "      <td>Bahia</td>\n",
       "    </tr>\n",
       "    <tr>\n",
       "      <th>96680</th>\n",
       "      <td>ffff371b4d645b6ecea244b27531430a</td>\n",
       "      <td>89.90</td>\n",
       "      <td>1</td>\n",
       "      <td>89.90</td>\n",
       "      <td>MT</td>\n",
       "      <td>Sinop</td>\n",
       "      <td>Mato Grosso</td>\n",
       "    </tr>\n",
       "    <tr>\n",
       "      <th>96681</th>\n",
       "      <td>ffff5962728ec6157033ef9805bacc48</td>\n",
       "      <td>115.00</td>\n",
       "      <td>1</td>\n",
       "      <td>115.00</td>\n",
       "      <td>ES</td>\n",
       "      <td>Bom Jesus do Norte</td>\n",
       "      <td>Espírito Santo</td>\n",
       "    </tr>\n",
       "    <tr>\n",
       "      <th>96682</th>\n",
       "      <td>ffffd2657e2aad2907e67c3e9daecbeb</td>\n",
       "      <td>56.99</td>\n",
       "      <td>1</td>\n",
       "      <td>56.99</td>\n",
       "      <td>PR</td>\n",
       "      <td>Campo Largo</td>\n",
       "      <td>Paraná</td>\n",
       "    </tr>\n",
       "  </tbody>\n",
       "</table>\n",
       "<p>96683 rows × 7 columns</p>\n",
       "</div>"
      ],
      "text/plain": [
       "                     customer_unique_id    price  num_de_compras  \\\n",
       "0      0000366f3b9a7992bf8c76cfdf3221e2   129.90               1   \n",
       "1      0000b849f77a49e4a4ce2b2a4ca5be3f    18.90               1   \n",
       "2      0000f46a3911fa3c0805444483337064    69.00               1   \n",
       "3      0000f6ccb0745a6a4b88665a16c9f078    25.99               1   \n",
       "4      0004aac84e0df4da2b147fca70cf8255   180.00               1   \n",
       "...                                 ...      ...             ...   \n",
       "96678  fffcf5a5ff07b0908bd4e2dbc735a684  1570.00               1   \n",
       "96679  fffea47cd6d3cc0a88bd621562a9d061    64.89               1   \n",
       "96680  ffff371b4d645b6ecea244b27531430a    89.90               1   \n",
       "96681  ffff5962728ec6157033ef9805bacc48   115.00               1   \n",
       "96682  ffffd2657e2aad2907e67c3e9daecbeb    56.99               1   \n",
       "\n",
       "       ticket_medio customer_state customer_city_clean customer_state_clean  \n",
       "0            129.90             SP             Cajamar            São Paulo  \n",
       "1             18.90             SP              Osasco            São Paulo  \n",
       "2             69.00             SC            São José       Santa Catarina  \n",
       "3             25.99             PA               Belém                 Pará  \n",
       "4            180.00             SP            Sorocaba            São Paulo  \n",
       "...             ...            ...                 ...                  ...  \n",
       "96678       1570.00             PE             Sanharó           Pernambuco  \n",
       "96679         64.89             BA    Feira de Santana                Bahia  \n",
       "96680         89.90             MT               Sinop          Mato Grosso  \n",
       "96681        115.00             ES  Bom Jesus do Norte       Espírito Santo  \n",
       "96682         56.99             PR         Campo Largo               Paraná  \n",
       "\n",
       "[96683 rows x 7 columns]"
      ]
     },
     "execution_count": 133,
     "metadata": {},
     "output_type": "execute_result"
    }
   ],
   "source": [
    "proc_sales_per_customer = proc_sales_per_customer.groupby('customer_unique_id', as_index=False).agg({'price': 'sum', 'order_id': 'nunique'})\n",
    "proc_sales_per_customer.rename(columns={'order_id':'num_de_compras'},inplace=True)\n",
    "proc_sales_per_customer['ticket_medio'] = proc_sales_per_customer['price'] / proc_sales_per_customer['num_de_compras']\n",
    "proc_sales_per_customer = proc_sales_per_customer.merge(\n",
    "    df_customers[['customer_unique_id','customer_state','customer_city_clean','customer_state_clean']],on='customer_unique_id',how='left'\n",
    "    )\n",
    "proc_sales_per_customer"
   ]
  },
  {
   "cell_type": "markdown",
   "id": "f76a5997",
   "metadata": {},
   "source": [
    "## Export"
   ]
  },
  {
   "cell_type": "code",
   "execution_count": null,
   "id": "206b4aca",
   "metadata": {},
   "outputs": [],
   "source": [
    "proc_df_sales.to_csv(\"../data/processed/sales.csv\", index=False)\n",
    "proc_category_sales.to_csv(\"../data/processed/sales_category.csv\", index=False)\n",
    "proc_sales_per_customer.to_csv(\"../data/processed/sales_per_customer.csv\", index=False)"
   ]
  }
 ],
 "metadata": {
  "kernelspec": {
   "display_name": "Python 3",
   "language": "python",
   "name": "python3"
  },
  "language_info": {
   "codemirror_mode": {
    "name": "ipython",
    "version": 3
   },
   "file_extension": ".py",
   "mimetype": "text/x-python",
   "name": "python",
   "nbconvert_exporter": "python",
   "pygments_lexer": "ipython3",
   "version": "3.13.7"
  }
 },
 "nbformat": 4,
 "nbformat_minor": 5
}
