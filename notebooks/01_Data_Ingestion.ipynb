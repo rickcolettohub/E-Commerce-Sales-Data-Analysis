{
 "cells": [
  {
   "cell_type": "markdown",
   "id": "75addfc4",
   "metadata": {},
   "source": [
    "# Data Ingestion"
   ]
  },
  {
   "cell_type": "markdown",
   "id": "8d15ddf6",
   "metadata": {},
   "source": [
    "### Download from Kaggle"
   ]
  },
  {
   "cell_type": "markdown",
   "id": "3763be2d",
   "metadata": {},
   "source": [
    "OBS: Para fazer o download do dataset é necessario ter a apikey salva na pasta: <br />\n",
    "```\n",
    "Linux/Mac: ~/.kaggle/kaggle.json\n",
    "Windows: C:\\Users\\user\\.kaggle\\kaggle.json\n",
    "```"
   ]
  },
  {
   "cell_type": "code",
   "execution_count": 2,
   "id": "36b56686",
   "metadata": {},
   "outputs": [
    {
     "name": "stdout",
     "output_type": "stream",
     "text": [
      "Dataset URL: https://www.kaggle.com/datasets/olistbr/brazilian-ecommerce\n",
      "Download Finished! Data saved on: ../data/raw\n"
     ]
    }
   ],
   "source": [
    "import os\n",
    "from kaggle.api.kaggle_api_extended import KaggleApi\n",
    "\n",
    "# Api kaggle\n",
    "api = KaggleApi()\n",
    "api.authenticate()\n",
    "\n",
    "# Raw data Directory\n",
    "RAW_DATA_DIR = \"../data/raw\"\n",
    "os.makedirs(RAW_DATA_DIR, exist_ok=True)\n",
    "# data set path\n",
    "DATASET = \"olistbr/brazilian-ecommerce\"\n",
    "\n",
    "# download and unzip data\n",
    "try:\n",
    "    api.dataset_download_files(DATASET, path=RAW_DATA_DIR, unzip=True)\n",
    "    print(f\"Download Finished! Data saved on: {RAW_DATA_DIR}\")\n",
    "except Exception as e:\n",
    "    print(f\"Donload Error: {e}\")"
   ]
  },
  {
   "cell_type": "markdown",
   "id": "afa231a3",
   "metadata": {},
   "source": [
    "### Raw data visualization"
   ]
  },
  {
   "cell_type": "code",
   "execution_count": null,
   "id": "3530c366",
   "metadata": {},
   "outputs": [],
   "source": [
    "import pandas as pd\n",
    "\n",
    "df_customers = pd.read_csv(\"../data/raw/olist_customers_dataset.csv\")\n",
    "df_geolocation = pd.read_csv(\"../data/raw/olist_geolocation_dataset.csv\")\n",
    "df_order_items = pd.read_csv(\"../data/raw/olist_order_items_dataset.csv\")\n",
    "df_order_payments = pd.read_csv(\"../data/raw/olist_order_payments_dataset.csv\")\n",
    "df_order_reviews = pd.read_csv(\"../data/raw/olist_order_reviews_dataset.csv\")\n",
    "df_orders = pd.read_csv(\"../data/raw/olist_orders_dataset.csv\")\n",
    "df_products = pd.read_csv(\"../data/raw/olist_products_dataset.csv\")\n",
    "df_sellers = pd.read_csv(\"../data/raw/olist_sellers_dataset.csv\")\n",
    "df_product_category_name_translation = pd.read_csv(\"../data/raw/product_category_name_translation.csv\")\n",
    "\n",
    "#print(df_orders.head())"
   ]
  },
  {
   "cell_type": "markdown",
   "id": "8fe7ce08",
   "metadata": {},
   "source": [
    "### Complementary data"
   ]
  },
  {
   "cell_type": "code",
   "execution_count": 3,
   "id": "8891c88b",
   "metadata": {},
   "outputs": [
    {
     "name": "stdout",
     "output_type": "stream",
     "text": [
      "Dataset URL: https://www.kaggle.com/datasets/rfantinicosta/brazilian-cities\n",
      "Download Finished! Data saved on: ../data/raw\n"
     ]
    }
   ],
   "source": [
    "import os\n",
    "from kaggle.api.kaggle_api_extended import KaggleApi\n",
    "\n",
    "api = KaggleApi()\n",
    "api.authenticate()\n",
    "\n",
    "# Raw data Directory\n",
    "RAW_DATA_DIR = \"../data/raw\"\n",
    "os.makedirs(RAW_DATA_DIR, exist_ok=True)\n",
    "# data set path\n",
    "COMP_DATASET = \"rfantinicosta/brazilian-cities\"\n",
    "\n",
    "# download and unzip data\n",
    "try:\n",
    "    api.dataset_download_files(COMP_DATASET, path=RAW_DATA_DIR, unzip=True)\n",
    "    print(f\"Download Finished! Data saved on: {RAW_DATA_DIR}\")\n",
    "except Exception as e:\n",
    "    print(f\"Donload Error: {e}\")"
   ]
  },
  {
   "cell_type": "code",
   "execution_count": 4,
   "id": "65000633",
   "metadata": {},
   "outputs": [
    {
     "name": "stdout",
     "output_type": "stream",
     "text": [
      "Dataset URL: https://www.kaggle.com/datasets/arvati/lista-de-ceps-do-brasil\n",
      "Download Finished! Data saved on: ../data/raw\n"
     ]
    }
   ],
   "source": [
    "import os\n",
    "from kaggle.api.kaggle_api_extended import KaggleApi\n",
    "\n",
    "api = KaggleApi()\n",
    "api.authenticate()\n",
    "\n",
    "# Raw data Directory\n",
    "RAW_DATA_DIR = \"../data/raw\"\n",
    "os.makedirs(RAW_DATA_DIR, exist_ok=True)\n",
    "# data set path\n",
    "COMP_DATASET = \"arvati/lista-de-ceps-do-brasil\"\n",
    "\n",
    "# download and unzip data\n",
    "try:\n",
    "    api.dataset_download_files(COMP_DATASET, path=RAW_DATA_DIR, unzip=True)\n",
    "    print(f\"Download Finished! Data saved on: {RAW_DATA_DIR}\")\n",
    "except Exception as e:\n",
    "    print(f\"Donload Error: {e}\")"
   ]
  }
 ],
 "metadata": {
  "kernelspec": {
   "display_name": "Python 3",
   "language": "python",
   "name": "python3"
  },
  "language_info": {
   "codemirror_mode": {
    "name": "ipython",
    "version": 3
   },
   "file_extension": ".py",
   "mimetype": "text/x-python",
   "name": "python",
   "nbconvert_exporter": "python",
   "pygments_lexer": "ipython3",
   "version": "3.13.7"
  }
 },
 "nbformat": 4,
 "nbformat_minor": 5
}
