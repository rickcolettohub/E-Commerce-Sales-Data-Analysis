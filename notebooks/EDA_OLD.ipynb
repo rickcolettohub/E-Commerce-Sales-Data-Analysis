{
 "cells": [
  {
   "cell_type": "markdown",
   "id": "592375b6",
   "metadata": {},
   "source": [
    "# Exploratory Data Analysis"
   ]
  },
  {
   "cell_type": "markdown",
   "id": "fd881cd2",
   "metadata": {},
   "source": [
    "## Lib Import"
   ]
  },
  {
   "cell_type": "code",
   "execution_count": null,
   "id": "29b6a79f",
   "metadata": {},
   "outputs": [],
   "source": [
    "import pandas as pd\n",
    "import numpy as np\n",
    "import matplotlib.pyplot as plt\n",
    "import seaborn as sns\n",
    "import sys\n",
    "import os\n",
    "from rapidfuzz import fuzz, process\n",
    "import unidecode\n"
   ]
  },
  {
   "cell_type": "markdown",
   "id": "9aa9d7f4",
   "metadata": {},
   "source": [
    "## Get raw data"
   ]
  },
  {
   "cell_type": "code",
   "execution_count": null,
   "id": "0f5feaae",
   "metadata": {},
   "outputs": [],
   "source": [
    "df_customers = pd.read_csv(\"../data/raw/olist_customers_dataset.csv\")\n",
    "df_order_items = pd.read_csv(\"../data/raw/olist_order_items_dataset.csv\")\n",
    "df_order_payments = pd.read_csv(\"../data/raw/olist_order_payments_dataset.csv\")\n",
    "df_orders = pd.read_csv(\"../data/raw/olist_orders_dataset.csv\")\n",
    "df_products = pd.read_csv(\"../data/raw/olist_products_dataset.csv\")\n",
    "df_sellers = pd.read_csv(\"../data/raw/olist_sellers_dataset.csv\")\n",
    "cdf_cities = pd.read_csv(\"../data/raw/brazilian_cities.csv\")"
   ]
  },
  {
   "cell_type": "markdown",
   "id": "6ad18658",
   "metadata": {},
   "source": [
    "## Pre Processing"
   ]
  },
  {
   "cell_type": "markdown",
   "id": "93b31193",
   "metadata": {},
   "source": [
    "### Null inspection"
   ]
  },
  {
   "cell_type": "code",
   "execution_count": null,
   "id": "5b5960ed",
   "metadata": {},
   "outputs": [],
   "source": [
    "df_order_items.isnull().sum()\n",
    "df_order_payments.isnull().sum()\n",
    "df_orders.isnull().sum() # Has null value\n",
    "df_products.isnull().sum() # Has null value\n",
    "df_sellers.isnull().sum()\n",
    "df_customers.isnull().sum()"
   ]
  },
  {
   "cell_type": "markdown",
   "id": "1b413f0a",
   "metadata": {},
   "source": [
    "The column 'product_category_name' is a very relevant data, therefore all null values will be fill with a standard value."
   ]
  },
  {
   "cell_type": "code",
   "execution_count": null,
   "id": "ead6b0eb",
   "metadata": {},
   "outputs": [],
   "source": [
    "df_products['product_category_name'] = df_products['product_category_name'].fillna('sem categoria')"
   ]
  },
  {
   "cell_type": "markdown",
   "id": "138c24e5",
   "metadata": {},
   "source": [
    "The other metrics not will be necessary to answer our KPIs, therefore they will be entirely discarted. "
   ]
  },
  {
   "cell_type": "code",
   "execution_count": 24,
   "id": "d13fe4c0",
   "metadata": {},
   "outputs": [],
   "source": [
    "cols_to_drop = [\n",
    "    'product_name_lenght',\n",
    "    'product_description_lenght',\n",
    "    'product_photos_qty',\n",
    "    'product_weight_g',\n",
    "    'product_length_cm',\n",
    "    'product_height_cm',\n",
    "    'product_width_cm'\n",
    "]\n",
    "\n",
    "df_products.drop(columns=cols_to_drop, inplace=True)"
   ]
  },
  {
   "cell_type": "markdown",
   "id": "a5a1a30e",
   "metadata": {},
   "source": [
    "Also, dropped the order column the logistics data from order dataframe."
   ]
  },
  {
   "cell_type": "code",
   "execution_count": 28,
   "id": "fcb208a5",
   "metadata": {},
   "outputs": [],
   "source": [
    "cols_to_drop = [\n",
    "    'order_approved_at',\n",
    "    'order_delivered_carrier_date',\n",
    "    'order_delivered_customer_date',\n",
    "    'order_estimated_delivery_date'\n",
    "]\n",
    "\n",
    "df_orders.drop(columns=cols_to_drop, inplace=True)"
   ]
  },
  {
   "cell_type": "markdown",
   "id": "88b18c1b",
   "metadata": {},
   "source": [
    "## Duplicated Data"
   ]
  },
  {
   "cell_type": "code",
   "execution_count": null,
   "id": "876e99b2",
   "metadata": {},
   "outputs": [
    {
     "data": {
      "text/plain": [
       "np.int64(0)"
      ]
     },
     "execution_count": 35,
     "metadata": {},
     "output_type": "execute_result"
    }
   ],
   "source": [
    "df_order_items.duplicated().sum()\n",
    "df_order_payments.duplicated().sum()\n",
    "df_orders.duplicated().sum()\n",
    "df_products.duplicated().sum()\n",
    "df_sellers.duplicated().sum()\n"
   ]
  },
  {
   "cell_type": "markdown",
   "id": "0b7e1e6f",
   "metadata": {},
   "source": [
    "There's no duplicated data in any of the dataframes."
   ]
  },
  {
   "cell_type": "markdown",
   "id": "89990029",
   "metadata": {},
   "source": [
    "## Checking for the relevant data"
   ]
  },
  {
   "cell_type": "markdown",
   "id": "690e7258",
   "metadata": {},
   "source": [
    "Checking for columns to drop in df_order_items"
   ]
  },
  {
   "cell_type": "code",
   "execution_count": 36,
   "id": "e193133f",
   "metadata": {},
   "outputs": [],
   "source": [
    "cols_to_drop = [\n",
    "    'shipping_limit_date',\n",
    "    'freight_value',\n",
    "]\n",
    "\n",
    "df_order_items.drop(columns=cols_to_drop, inplace=True)"
   ]
  },
  {
   "cell_type": "code",
   "execution_count": 205,
   "id": "a1772d7b",
   "metadata": {},
   "outputs": [],
   "source": [
    "cols_to_drop = [\n",
    "    'payment_sequential',\n",
    "    'payment_installments',\n",
    "]\n",
    "\n",
    "df_order_payments.drop(columns=cols_to_drop, inplace=True)"
   ]
  },
  {
   "cell_type": "markdown",
   "id": "4313d7e9",
   "metadata": {},
   "source": [
    "## Data Clean up and Normalization"
   ]
  },
  {
   "cell_type": "markdown",
   "id": "e916ebf9",
   "metadata": {},
   "source": [
    "### 1. Dataframe: df_order"
   ]
  },
  {
   "cell_type": "code",
   "execution_count": null,
   "id": "075cf424",
   "metadata": {},
   "outputs": [],
   "source": [
    "df_orders['order_purchase_timestamp'] = pd.to_datetime(df_orders['order_purchase_timestamp'])\n",
    "df_orders['order_status'] = df_orders['order_status'].astype('category')"
   ]
  },
  {
   "cell_type": "code",
   "execution_count": 196,
   "id": "a2b576ec",
   "metadata": {},
   "outputs": [],
   "source": [
    "df_orders['year'] = df_orders['order_purchase_timestamp'].dt.year\n",
    "df_orders['month'] = df_orders['order_purchase_timestamp'].dt.month\n",
    "df_orders['day'] = df_orders['order_purchase_timestamp'].dt.day"
   ]
  },
  {
   "cell_type": "code",
   "execution_count": 199,
   "id": "bbe36760",
   "metadata": {},
   "outputs": [
    {
     "name": "stdout",
     "output_type": "stream",
     "text": [
      "<class 'pandas.core.frame.DataFrame'>\n",
      "RangeIndex: 99441 entries, 0 to 99440\n",
      "Data columns (total 7 columns):\n",
      " #   Column                    Non-Null Count  Dtype         \n",
      "---  ------                    --------------  -----         \n",
      " 0   order_id                  99441 non-null  object        \n",
      " 1   customer_id               99441 non-null  object        \n",
      " 2   order_status              99441 non-null  category      \n",
      " 3   order_purchase_timestamp  99441 non-null  datetime64[ns]\n",
      " 4   year                      99441 non-null  int32         \n",
      " 5   month                     99441 non-null  int32         \n",
      " 6   day                       99441 non-null  int32         \n",
      "dtypes: category(1), datetime64[ns](1), int32(3), object(2)\n",
      "memory usage: 3.5+ MB\n"
     ]
    }
   ],
   "source": [
    "df_orders.info()"
   ]
  },
  {
   "cell_type": "markdown",
   "id": "aacdfe88",
   "metadata": {},
   "source": [
    "Filtering orders that's not delivered"
   ]
  },
  {
   "cell_type": "code",
   "execution_count": 203,
   "id": "d5539ba3",
   "metadata": {},
   "outputs": [],
   "source": [
    "df_orders = df_orders[df_orders['order_status'] == 'delivered']"
   ]
  },
  {
   "cell_type": "markdown",
   "id": "b6e60fb7",
   "metadata": {},
   "source": [
    "### 2. Dataframe: df_order_payments"
   ]
  },
  {
   "cell_type": "code",
   "execution_count": 191,
   "id": "d0ebac18",
   "metadata": {},
   "outputs": [],
   "source": [
    "df_order_payments['order_id'] = df_order_payments['order_id'].astype(str)\n",
    "df_order_payments['payment_type'] = df_order_payments['payment_type'].astype(str)"
   ]
  },
  {
   "cell_type": "code",
   "execution_count": 207,
   "id": "aa7272f0",
   "metadata": {},
   "outputs": [
    {
     "name": "stdout",
     "output_type": "stream",
     "text": [
      "<class 'pandas.core.frame.DataFrame'>\n",
      "RangeIndex: 103886 entries, 0 to 103885\n",
      "Data columns (total 3 columns):\n",
      " #   Column         Non-Null Count   Dtype  \n",
      "---  ------         --------------   -----  \n",
      " 0   order_id       103886 non-null  object \n",
      " 1   payment_type   103886 non-null  object \n",
      " 2   payment_value  103886 non-null  float64\n",
      "dtypes: float64(1), object(2)\n",
      "memory usage: 2.4+ MB\n"
     ]
    }
   ],
   "source": [
    "df_order_payments.info()"
   ]
  },
  {
   "cell_type": "markdown",
   "id": "a5d15f48",
   "metadata": {},
   "source": [
    "### 3. Dataframe: df_products "
   ]
  },
  {
   "cell_type": "code",
   "execution_count": 189,
   "id": "f38e8145",
   "metadata": {},
   "outputs": [],
   "source": [
    "df_products['product_id'] = df_products['product_id'].astype(str)\n",
    "df_products['product_category_name'] = df_products['product_category_name'].astype(str)"
   ]
  },
  {
   "cell_type": "code",
   "execution_count": 190,
   "id": "b4829d7d",
   "metadata": {},
   "outputs": [
    {
     "name": "stdout",
     "output_type": "stream",
     "text": [
      "<class 'pandas.core.frame.DataFrame'>\n",
      "RangeIndex: 32951 entries, 0 to 32950\n",
      "Data columns (total 2 columns):\n",
      " #   Column                 Non-Null Count  Dtype \n",
      "---  ------                 --------------  ----- \n",
      " 0   product_id             32951 non-null  object\n",
      " 1   product_category_name  32951 non-null  object\n",
      "dtypes: object(2)\n",
      "memory usage: 515.0+ KB\n"
     ]
    }
   ],
   "source": [
    "df_products.info()"
   ]
  },
  {
   "cell_type": "markdown",
   "id": "ec97baa0",
   "metadata": {},
   "source": [
    "### 4. Dataframe: df_sellers"
   ]
  },
  {
   "cell_type": "markdown",
   "id": "5f9af5c4",
   "metadata": {},
   "source": [
    "In the city column, there's some strange entries (such as the \"name of the city / state\") or special characteres"
   ]
  },
  {
   "cell_type": "code",
   "execution_count": null,
   "id": "6e25c7a8",
   "metadata": {},
   "outputs": [
    {
     "data": {
      "application/vnd.microsoft.datawrangler.viewer.v0+json": {
       "columns": [
        {
         "name": "index",
         "rawType": "int64",
         "type": "integer"
        },
        {
         "name": "seller_city",
         "rawType": "object",
         "type": "string"
        }
       ],
       "ref": "9e12ddd4-9133-406c-a6ef-a63d741cc1af",
       "rows": [
        [
         "78",
         "lages - sc"
        ],
        [
         "237",
         "auriflama/sp"
        ],
        [
         "246",
         "sao paulo / sao paulo"
        ],
        [
         "360",
         "são paulo"
        ],
        [
         "476",
         "santa barbara d´oeste"
        ],
        [
         "517",
         "04482255"
        ],
        [
         "551",
         "novo hamburgo, rio grande do sul, brasil"
        ],
        [
         "622",
         "cariacica / es"
        ],
        [
         "707",
         "sao miguel d'oeste"
        ],
        [
         "826",
         "sao paulo - sp"
        ],
        [
         "869",
         "sbc/sp"
        ],
        [
         "874",
         "arraial d'ajuda (porto seguro)"
        ],
        [
         "945",
         "santo andre/sao paulo"
        ],
        [
         "1004",
         "sp / sp"
        ],
        [
         "1159",
         "maua/sao paulo"
        ],
        [
         "1337",
         "mogi das cruzes / sp"
        ],
        [
         "1346",
         "rio de janeiro \\rio de janeiro"
        ],
        [
         "1447",
         "barbacena/ minas gerais"
        ],
        [
         "1580",
         "sao paulo - sp"
        ],
        [
         "1610",
         "andira-pr"
        ],
        [
         "1649",
         "rio de janeiro / rio de janeiro"
        ],
        [
         "1712",
         "pinhais/pr"
        ],
        [
         "1890",
         "santa barbara d'oeste"
        ],
        [
         "1919",
         "santa barbara d'oeste"
        ],
        [
         "1920",
         "ribeirao preto / sao paulo"
        ],
        [
         "1982",
         "santa barbara d'oeste"
        ],
        [
         "2036",
         "santa barbara d'oeste"
        ],
        [
         "2162",
         "carapicuiba / sao paulo"
        ],
        [
         "2258",
         "vendas@creditparts.com.br"
        ],
        [
         "2340",
         "santa barbara d´oeste"
        ],
        [
         "2620",
         "sao sebastiao da grama/sp"
        ],
        [
         "2946",
         "sao paulo - sp"
        ],
        [
         "2988",
         "rio de janeiro, rio de janeiro, brasil"
        ],
        [
         "3015",
         "jacarei / sao paulo"
        ]
       ],
       "shape": {
        "columns": 1,
        "rows": 34
       }
      },
      "text/plain": [
       "78                                    lages - sc\n",
       "237                                 auriflama/sp\n",
       "246                        sao paulo / sao paulo\n",
       "360                                   são paulo\n",
       "476                        santa barbara d´oeste\n",
       "517                                     04482255\n",
       "551     novo hamburgo, rio grande do sul, brasil\n",
       "622                               cariacica / es\n",
       "707                           sao miguel d'oeste\n",
       "826                               sao paulo - sp\n",
       "869                                       sbc/sp\n",
       "874               arraial d'ajuda (porto seguro)\n",
       "945                        santo andre/sao paulo\n",
       "1004                                     sp / sp\n",
       "1159                              maua/sao paulo\n",
       "1337                        mogi das cruzes / sp\n",
       "1346              rio de janeiro \\rio de janeiro\n",
       "1447                     barbacena/ minas gerais\n",
       "1580                              sao paulo - sp\n",
       "1610                                   andira-pr\n",
       "1649             rio de janeiro / rio de janeiro\n",
       "1712                                  pinhais/pr\n",
       "1890                       santa barbara d'oeste\n",
       "1919                       santa barbara d'oeste\n",
       "1920                  ribeirao preto / sao paulo\n",
       "1982                       santa barbara d'oeste\n",
       "2036                       santa barbara d'oeste\n",
       "2162                     carapicuiba / sao paulo\n",
       "2258                   vendas@creditparts.com.br\n",
       "2340                       santa barbara d´oeste\n",
       "2620                   sao sebastiao da grama/sp\n",
       "2946                              sao paulo - sp\n",
       "2988      rio de janeiro, rio de janeiro, brasil\n",
       "3015                         jacarei / sao paulo\n",
       "Name: seller_city, dtype: object"
      ]
     },
     "execution_count": 79,
     "metadata": {},
     "output_type": "execute_result"
    }
   ],
   "source": [
    "df_sellers.loc[df_sellers['seller_city'].str.contains(r'[^a-zA-ZÀ-ÿ\\s]', na=False), 'seller_city']"
   ]
  },
  {
   "cell_type": "markdown",
   "id": "0d35ced6",
   "metadata": {},
   "source": [
    "Considering the wildcard nature of this entries, i will make a more detailed normalization."
   ]
  },
  {
   "cell_type": "code",
   "execution_count": 81,
   "id": "ac4890cb",
   "metadata": {},
   "outputs": [],
   "source": [
    "df_sellers['seller_city'] = df_sellers['seller_city'].str.split(r'[-/]').str[0]\n",
    "df_sellers['seller_city'] = df_sellers['seller_city'].str.strip()\n"
   ]
  },
  {
   "cell_type": "code",
   "execution_count": null,
   "id": "b7824f6a",
   "metadata": {},
   "outputs": [
    {
     "data": {
      "application/vnd.microsoft.datawrangler.viewer.v0+json": {
       "columns": [
        {
         "name": "index",
         "rawType": "int64",
         "type": "integer"
        },
        {
         "name": "seller_city",
         "rawType": "object",
         "type": "string"
        }
       ],
       "ref": "353f803b-b908-4399-9e8a-6dc8f79d9ee2",
       "rows": [
        [
         "517",
         "04482255"
        ],
        [
         "551",
         "novo hamburgo, rio grande do sul, brasil"
        ],
        [
         "874",
         "arraial d'ajuda (porto seguro)"
        ],
        [
         "1346",
         "rio de janeiro \\rio de janeiro"
        ],
        [
         "2258",
         "vendas@creditparts.com.br"
        ],
        [
         "2988",
         "rio de janeiro, rio de janeiro, brasil"
        ]
       ],
       "shape": {
        "columns": 1,
        "rows": 6
       }
      },
      "text/plain": [
       "517                                     04482255\n",
       "551     novo hamburgo, rio grande do sul, brasil\n",
       "874               arraial d'ajuda (porto seguro)\n",
       "1346              rio de janeiro \\rio de janeiro\n",
       "2258                   vendas@creditparts.com.br\n",
       "2988      rio de janeiro, rio de janeiro, brasil\n",
       "Name: seller_city, dtype: object"
      ]
     },
     "execution_count": 90,
     "metadata": {},
     "output_type": "execute_result"
    }
   ],
   "source": [
    "city_exceptions = [\n",
    "    \"santa barbara d´oeste\",\n",
    "    \"sao miguel d'oeste\",\n",
    "    \"santa barbara d'oeste\",\n",
    "]\n",
    "city_mask = (\n",
    "    ~df_sellers['seller_city'].isin(city_exceptions) &  # não é exceção\n",
    "    df_sellers['seller_city'].str.contains(r\"[^a-zA-ZÀ-ÿ\\s]\", na=False)  # contém caractere inválido\n",
    ")\n",
    "\n",
    "\n",
    "df_sellers.loc[city_mask, 'seller_city']"
   ]
  },
  {
   "cell_type": "markdown",
   "id": "8e41cf51",
   "metadata": {},
   "source": [
    "I gave exception for cities that has special characteres in their names and now the wildcard was reduced to seven entries. Considering its just a few entries left, i will manually set those."
   ]
  },
  {
   "cell_type": "code",
   "execution_count": 113,
   "id": "cc377fdb",
   "metadata": {},
   "outputs": [
    {
     "data": {
      "application/vnd.microsoft.datawrangler.viewer.v0+json": {
       "columns": [
        {
         "name": "index",
         "rawType": "int64",
         "type": "integer"
        },
        {
         "name": "seller_city",
         "rawType": "object",
         "type": "string"
        }
       ],
       "ref": "284a6dfd-04f9-46c1-9e16-7f0e0731da4a",
       "rows": [
        [
         "517",
         "recreio dos bandeirantes"
        ],
        [
         "551",
         "novo hamburgo"
        ],
        [
         "874",
         "porto seguro"
        ],
        [
         "1346",
         "rio de janeiro"
        ],
        [
         "2258",
         "maringa"
        ],
        [
         "2988",
         "rio de janeiro"
        ]
       ],
       "shape": {
        "columns": 1,
        "rows": 6
       }
      },
      "text/plain": [
       "517     recreio dos bandeirantes\n",
       "551                novo hamburgo\n",
       "874                 porto seguro\n",
       "1346              rio de janeiro\n",
       "2258                     maringa\n",
       "2988              rio de janeiro\n",
       "Name: seller_city, dtype: object"
      ]
     },
     "execution_count": 113,
     "metadata": {},
     "output_type": "execute_result"
    }
   ],
   "source": [
    "df_sellers.loc[360,'seller_city'] = 'sao paulo'\n",
    "df_sellers.loc[517,'seller_city'] = 'recreio dos bandeirantes'\n",
    "df_sellers.loc[551,'seller_city'] = 'novo hamburgo'\n",
    "df_sellers.loc[874,'seller_city'] = 'porto seguro'\n",
    "df_sellers.loc[1346,'seller_city'] = 'rio de janeiro'\n",
    "df_sellers.loc[2258,'seller_city'] = 'maringa'\n",
    "df_sellers.loc[2988,'seller_city'] = 'rio de janeiro'\n",
    "\n",
    "df_sellers.loc[city_mask, 'seller_city']\n",
    "\n"
   ]
  },
  {
   "cell_type": "markdown",
   "id": "97cfae2c",
   "metadata": {},
   "source": [
    "Normalizing data for better comparison"
   ]
  },
  {
   "cell_type": "code",
   "execution_count": 123,
   "id": "1395cfdd",
   "metadata": {},
   "outputs": [],
   "source": [
    "df_sellers['city_norm'] = (\n",
    "    df_sellers['seller_city']\n",
    "    .str.strip()\n",
    "    .str.lower()\n",
    "    .apply(lambda x: unidecode.unidecode(x) if isinstance(x, str) else x)\n",
    ")\n",
    "\n",
    "cdf_cities['city_norm'] = (\n",
    "    cdf_cities['city']\n",
    "    .str.strip()\n",
    "    .str.lower()\n",
    "    .apply(lambda x: unidecode.unidecode(x) if isinstance(x, str) else x)\n",
    ")"
   ]
  },
  {
   "cell_type": "markdown",
   "id": "387f68d1",
   "metadata": {},
   "source": [
    "Changing the exact matches of cities"
   ]
  },
  {
   "cell_type": "code",
   "execution_count": null,
   "id": "bf64bf87",
   "metadata": {},
   "outputs": [],
   "source": [
    "city_dict = dict(zip(cdf_cities['city_norm'], cdf_cities['city']))\n",
    "\n",
    "df_sellers['seller_city_clean'] = df_sellers['city_norm'].map(city_dict)\n"
   ]
  },
  {
   "cell_type": "markdown",
   "id": "114f0217",
   "metadata": {},
   "source": [
    "Searching for matches with fuzz for misspells (90%) <br />\n",
    "Obs: Picarras is a very tricky one theres two cities with almost same name, this entry need to be checked with Postal Code"
   ]
  },
  {
   "cell_type": "code",
   "execution_count": null,
   "id": "0a445e9d",
   "metadata": {},
   "outputs": [],
   "source": [
    "missing = df_sellers[df_sellers['seller_city_clean'].isna()]['seller_city'].unique()\n",
    "\n",
    "for city in missing:\n",
    "    match, score, _ = process.extractOne(city, cdf_cities['city_norm'])\n",
    "    if score > 90 and city != 'picarras':\n",
    "        city_dict[city] = cdf_cities.loc[cdf_cities['city_norm'] == match, 'city'].iloc[0]\n",
    "\n",
    "df_sellers['seller_city_clean'] = df_sellers['city_norm'].map(city_dict)\n"
   ]
  },
  {
   "cell_type": "markdown",
   "id": "15b95c67",
   "metadata": {},
   "source": [
    "Checking the entries that failed on fuzz"
   ]
  },
  {
   "cell_type": "code",
   "execution_count": 180,
   "id": "bf6dec31",
   "metadata": {},
   "outputs": [
    {
     "data": {
      "application/vnd.microsoft.datawrangler.viewer.v0+json": {
       "columns": [
        {
         "name": "index",
         "rawType": "int64",
         "type": "integer"
        },
        {
         "name": "seller_id",
         "rawType": "object",
         "type": "string"
        },
        {
         "name": "seller_zip_code_prefix",
         "rawType": "int64",
         "type": "integer"
        },
        {
         "name": "seller_city",
         "rawType": "object",
         "type": "string"
        },
        {
         "name": "seller_state",
         "rawType": "object",
         "type": "string"
        },
        {
         "name": "city_norm",
         "rawType": "object",
         "type": "string"
        },
        {
         "name": "seller_city_clean",
         "rawType": "object",
         "type": "unknown"
        }
       ],
       "ref": "d8734752-1cb6-4aac-ad8f-6793c473dd43",
       "rows": [
        [
         "2122",
         "a5259c149128e82c9d6d46e0c1c812bb",
         "76900",
         "ji parana",
         "RO",
         "ji parana",
         null
        ],
        [
         "2183",
         "d5c530f4884a75ae0dba9c148718d278",
         "35660",
         "centro",
         "MG",
         "centro",
         null
        ],
        [
         "2380",
         "1703bc09972dab9782e7a9194943b69f",
         "37165",
         "minas gerais",
         "MG",
         "minas gerais",
         null
        ],
        [
         "2573",
         "8f2ce03f928b567e3d56181ae20ae952",
         "5141",
         "pirituba",
         "SP",
         "pirituba",
         null
        ],
        [
         "2589",
         "3a52d63a8f9daf5a28f3626d7eb9bd28",
         "71900",
         "aguas claras df",
         "SP",
         "aguas claras df",
         null
        ],
        [
         "2662",
         "3c487ae8f8d7542beff5788e2e0aea83",
         "72460",
         "gama",
         "DF",
         "gama",
         null
        ]
       ],
       "shape": {
        "columns": 6,
        "rows": 6
       }
      },
      "text/html": [
       "<div>\n",
       "<style scoped>\n",
       "    .dataframe tbody tr th:only-of-type {\n",
       "        vertical-align: middle;\n",
       "    }\n",
       "\n",
       "    .dataframe tbody tr th {\n",
       "        vertical-align: top;\n",
       "    }\n",
       "\n",
       "    .dataframe thead th {\n",
       "        text-align: right;\n",
       "    }\n",
       "</style>\n",
       "<table border=\"1\" class=\"dataframe\">\n",
       "  <thead>\n",
       "    <tr style=\"text-align: right;\">\n",
       "      <th></th>\n",
       "      <th>seller_id</th>\n",
       "      <th>seller_zip_code_prefix</th>\n",
       "      <th>seller_city</th>\n",
       "      <th>seller_state</th>\n",
       "      <th>city_norm</th>\n",
       "      <th>seller_city_clean</th>\n",
       "    </tr>\n",
       "  </thead>\n",
       "  <tbody>\n",
       "    <tr>\n",
       "      <th>2122</th>\n",
       "      <td>a5259c149128e82c9d6d46e0c1c812bb</td>\n",
       "      <td>76900</td>\n",
       "      <td>ji parana</td>\n",
       "      <td>RO</td>\n",
       "      <td>ji parana</td>\n",
       "      <td>NaN</td>\n",
       "    </tr>\n",
       "    <tr>\n",
       "      <th>2183</th>\n",
       "      <td>d5c530f4884a75ae0dba9c148718d278</td>\n",
       "      <td>35660</td>\n",
       "      <td>centro</td>\n",
       "      <td>MG</td>\n",
       "      <td>centro</td>\n",
       "      <td>NaN</td>\n",
       "    </tr>\n",
       "    <tr>\n",
       "      <th>2380</th>\n",
       "      <td>1703bc09972dab9782e7a9194943b69f</td>\n",
       "      <td>37165</td>\n",
       "      <td>minas gerais</td>\n",
       "      <td>MG</td>\n",
       "      <td>minas gerais</td>\n",
       "      <td>NaN</td>\n",
       "    </tr>\n",
       "    <tr>\n",
       "      <th>2573</th>\n",
       "      <td>8f2ce03f928b567e3d56181ae20ae952</td>\n",
       "      <td>5141</td>\n",
       "      <td>pirituba</td>\n",
       "      <td>SP</td>\n",
       "      <td>pirituba</td>\n",
       "      <td>NaN</td>\n",
       "    </tr>\n",
       "    <tr>\n",
       "      <th>2589</th>\n",
       "      <td>3a52d63a8f9daf5a28f3626d7eb9bd28</td>\n",
       "      <td>71900</td>\n",
       "      <td>aguas claras df</td>\n",
       "      <td>SP</td>\n",
       "      <td>aguas claras df</td>\n",
       "      <td>NaN</td>\n",
       "    </tr>\n",
       "    <tr>\n",
       "      <th>2662</th>\n",
       "      <td>3c487ae8f8d7542beff5788e2e0aea83</td>\n",
       "      <td>72460</td>\n",
       "      <td>gama</td>\n",
       "      <td>DF</td>\n",
       "      <td>gama</td>\n",
       "      <td>NaN</td>\n",
       "    </tr>\n",
       "  </tbody>\n",
       "</table>\n",
       "</div>"
      ],
      "text/plain": [
       "                             seller_id  seller_zip_code_prefix  \\\n",
       "2122  a5259c149128e82c9d6d46e0c1c812bb                   76900   \n",
       "2183  d5c530f4884a75ae0dba9c148718d278                   35660   \n",
       "2380  1703bc09972dab9782e7a9194943b69f                   37165   \n",
       "2573  8f2ce03f928b567e3d56181ae20ae952                    5141   \n",
       "2589  3a52d63a8f9daf5a28f3626d7eb9bd28                   71900   \n",
       "2662  3c487ae8f8d7542beff5788e2e0aea83                   72460   \n",
       "\n",
       "          seller_city seller_state        city_norm seller_city_clean  \n",
       "2122        ji parana           RO        ji parana               NaN  \n",
       "2183           centro           MG           centro               NaN  \n",
       "2380     minas gerais           MG     minas gerais               NaN  \n",
       "2573         pirituba           SP         pirituba               NaN  \n",
       "2589  aguas claras df           SP  aguas claras df               NaN  \n",
       "2662             gama           DF             gama               NaN  "
      ]
     },
     "execution_count": 180,
     "metadata": {},
     "output_type": "execute_result"
    }
   ],
   "source": [
    "df_sellers[df_sellers['seller_city_clean'].isna()]\n"
   ]
  },
  {
   "cell_type": "code",
   "execution_count": null,
   "id": "f60f0b94",
   "metadata": {},
   "outputs": [
    {
     "data": {
      "application/vnd.microsoft.datawrangler.viewer.v0+json": {
       "columns": [
        {
         "name": "index",
         "rawType": "int64",
         "type": "integer"
        },
        {
         "name": "seller_id",
         "rawType": "object",
         "type": "string"
        },
        {
         "name": "seller_zip_code_prefix",
         "rawType": "int64",
         "type": "integer"
        },
        {
         "name": "seller_city",
         "rawType": "object",
         "type": "string"
        },
        {
         "name": "seller_state",
         "rawType": "object",
         "type": "string"
        },
        {
         "name": "city_norm",
         "rawType": "object",
         "type": "string"
        },
        {
         "name": "seller_city_clean",
         "rawType": "object",
         "type": "string"
        }
       ],
       "ref": "a00c20a8-d798-4cec-bd01-4619bd0a5a1b",
       "rows": [],
       "shape": {
        "columns": 6,
        "rows": 0
       }
      },
      "text/html": [
       "<div>\n",
       "<style scoped>\n",
       "    .dataframe tbody tr th:only-of-type {\n",
       "        vertical-align: middle;\n",
       "    }\n",
       "\n",
       "    .dataframe tbody tr th {\n",
       "        vertical-align: top;\n",
       "    }\n",
       "\n",
       "    .dataframe thead th {\n",
       "        text-align: right;\n",
       "    }\n",
       "</style>\n",
       "<table border=\"1\" class=\"dataframe\">\n",
       "  <thead>\n",
       "    <tr style=\"text-align: right;\">\n",
       "      <th></th>\n",
       "      <th>seller_id</th>\n",
       "      <th>seller_zip_code_prefix</th>\n",
       "      <th>seller_city</th>\n",
       "      <th>seller_state</th>\n",
       "      <th>city_norm</th>\n",
       "      <th>seller_city_clean</th>\n",
       "    </tr>\n",
       "  </thead>\n",
       "  <tbody>\n",
       "  </tbody>\n",
       "</table>\n",
       "</div>"
      ],
      "text/plain": [
       "Empty DataFrame\n",
       "Columns: [seller_id, seller_zip_code_prefix, seller_city, seller_state, city_norm, seller_city_clean]\n",
       "Index: []"
      ]
     },
     "execution_count": 182,
     "metadata": {},
     "output_type": "execute_result"
    }
   ],
   "source": [
    "\n",
    "df_sellers.loc[df_sellers['city_norm'] == 'sp','seller_city_clean'] = 'São Paulo'\n",
    "df_sellers.loc[1985,'seller_city_clean'] = 'São Paulo'\n",
    "df_sellers.loc[df_sellers['city_norm'] == 'sbc','seller_city_clean'] = 'São Bernardo do Campo'\n",
    "df_sellers.loc[df_sellers['city_norm'] == 'vicente de carvalho','seller_city_clean'] = 'Guarujá'\n",
    "df_sellers.loc[405,'seller_city_clean'] = '\tPaulo Afonso'\n",
    "df_sellers.loc[2918,'seller_city_clean'] = 'Balneário Piçarras'\n",
    "df_sellers.loc[517,'seller_city_clean'] = 'Rio de Janeiro'\n",
    "df_sellers.loc[1050,'seller_city_clean'] = 'Palhoça'\n",
    "df_sellers.loc[1755,'seller_city_clean'] = 'Teófilo Otoni'\n",
    "df_sellers.loc[2006,'seller_city_clean'] = 'Embu-Guaçu'\n",
    "df_sellers.loc[2122,'seller_city_clean'] = 'Ji-Paraná'\n",
    "df_sellers.loc[2183,'seller_city_clean'] = 'Pará de Minas'\n",
    "df_sellers.loc[2380,'seller_city_clean'] = 'Campo do Meio'\n",
    "df_sellers.loc[2573,'seller_city_clean'] = 'São Paulo'\n",
    "df_sellers.loc[2589,'seller_city_clean'] = 'Brasília'\n",
    "df_sellers.loc[2589,'seller_state'] = 'DF' #The state was wrong\n",
    "df_sellers.loc[2662,'seller_city_clean'] = 'Brasília'\n",
    "\n",
    "df_sellers[df_sellers['seller_city_clean'].isna()]\n"
   ]
  },
  {
   "cell_type": "markdown",
   "id": "f363c753",
   "metadata": {},
   "source": [
    "Finally, dropping the helper columns"
   ]
  },
  {
   "cell_type": "code",
   "execution_count": null,
   "id": "6102df49",
   "metadata": {},
   "outputs": [],
   "source": [
    "df_sellers['seller_city'] = df_sellers['seller_city_clean']\n",
    "df_sellers.drop(columns=['seller_city_clean', 'city_norm'], inplace=True)"
   ]
  },
  {
   "cell_type": "code",
   "execution_count": null,
   "id": "74337b6e",
   "metadata": {},
   "outputs": [],
   "source": [
    "df_sellers['seller_id'] = df_sellers['seller_id'].astype('category')"
   ]
  },
  {
   "cell_type": "code",
   "execution_count": 186,
   "id": "eab85294",
   "metadata": {},
   "outputs": [],
   "source": [
    "city_raw_list = sorted(df_sellers['seller_city'].unique())\n",
    "df_sellers['seller_id'] = df_sellers['seller_id'].astype(str)\n",
    "df_sellers['seller_city'] = df_sellers['seller_id'].astype(str)\n",
    "df_sellers['seller_state'] = df_sellers['seller_id'].astype(str)"
   ]
  },
  {
   "cell_type": "code",
   "execution_count": 188,
   "id": "e29813b8",
   "metadata": {},
   "outputs": [
    {
     "name": "stdout",
     "output_type": "stream",
     "text": [
      "<class 'pandas.core.frame.DataFrame'>\n",
      "RangeIndex: 3095 entries, 0 to 3094\n",
      "Data columns (total 4 columns):\n",
      " #   Column                  Non-Null Count  Dtype \n",
      "---  ------                  --------------  ----- \n",
      " 0   seller_id               3095 non-null   object\n",
      " 1   seller_zip_code_prefix  3095 non-null   int64 \n",
      " 2   seller_city             3095 non-null   object\n",
      " 3   seller_state            3095 non-null   object\n",
      "dtypes: int64(1), object(3)\n",
      "memory usage: 96.8+ KB\n"
     ]
    }
   ],
   "source": [
    "df_sellers.info()"
   ]
  },
  {
   "cell_type": "markdown",
   "id": "9d998b7a",
   "metadata": {},
   "source": [
    "### 5. Dataframe: df_order_items"
   ]
  },
  {
   "cell_type": "code",
   "execution_count": 195,
   "id": "a120267a",
   "metadata": {},
   "outputs": [
    {
     "name": "stdout",
     "output_type": "stream",
     "text": [
      "<class 'pandas.core.frame.DataFrame'>\n",
      "RangeIndex: 112650 entries, 0 to 112649\n",
      "Data columns (total 5 columns):\n",
      " #   Column         Non-Null Count   Dtype  \n",
      "---  ------         --------------   -----  \n",
      " 0   order_id       112650 non-null  object \n",
      " 1   order_item_id  112650 non-null  int64  \n",
      " 2   product_id     112650 non-null  object \n",
      " 3   seller_id      112650 non-null  object \n",
      " 4   price          112650 non-null  float64\n",
      "dtypes: float64(1), int64(1), object(3)\n",
      "memory usage: 4.3+ MB\n"
     ]
    }
   ],
   "source": [
    "df_order_items.info()"
   ]
  },
  {
   "cell_type": "markdown",
   "id": "9bfaffdb",
   "metadata": {},
   "source": [
    "### 6. Dataframe: df_customers"
   ]
  },
  {
   "cell_type": "code",
   "execution_count": 211,
   "id": "c4556562",
   "metadata": {},
   "outputs": [
    {
     "name": "stdout",
     "output_type": "stream",
     "text": [
      "<class 'pandas.core.frame.DataFrame'>\n",
      "RangeIndex: 99441 entries, 0 to 99440\n",
      "Data columns (total 6 columns):\n",
      " #   Column                    Non-Null Count  Dtype \n",
      "---  ------                    --------------  ----- \n",
      " 0   customer_id               99441 non-null  object\n",
      " 1   customer_unique_id        99441 non-null  object\n",
      " 2   customer_zip_code_prefix  99441 non-null  int64 \n",
      " 3   customer_city             99441 non-null  object\n",
      " 4   customer_state            99441 non-null  object\n",
      " 5   city_norm                 99441 non-null  object\n",
      "dtypes: int64(1), object(5)\n",
      "memory usage: 4.6+ MB\n"
     ]
    }
   ],
   "source": [
    "df_customers.info()"
   ]
  },
  {
   "cell_type": "markdown",
   "id": "71e45f06",
   "metadata": {},
   "source": [
    "Applying the normalization to the customer city in order to validade this column"
   ]
  },
  {
   "cell_type": "code",
   "execution_count": 222,
   "id": "52e4f261",
   "metadata": {},
   "outputs": [],
   "source": [
    "df_customers['city_norm'] = (\n",
    "    df_customers['customer_city']\n",
    "    .str.strip()\n",
    "    .str.lower()\n",
    "    .apply(lambda x: unidecode.unidecode(x) if isinstance(x, str) else x)\n",
    ")\n",
    "\n",
    "cdf_cities['city_norm'] = (\n",
    "    cdf_cities['city']\n",
    "    .str.strip()\n",
    "    .str.lower()\n",
    "    .apply(lambda x: unidecode.unidecode(x) if isinstance(x, str) else x)\n",
    ")"
   ]
  },
  {
   "cell_type": "markdown",
   "id": "0b8724ca",
   "metadata": {},
   "source": [
    "Checking for exact matches"
   ]
  },
  {
   "cell_type": "code",
   "execution_count": 223,
   "id": "8d96884c",
   "metadata": {},
   "outputs": [],
   "source": [
    "city_dict = dict(zip(cdf_cities['city_norm'], cdf_cities['city']))\n",
    "\n",
    "df_customers['customer_city_clean'] = df_customers['city_norm'].map(city_dict)"
   ]
  },
  {
   "cell_type": "markdown",
   "id": "b7df32ba",
   "metadata": {},
   "source": [
    "Applying fuzz 95%"
   ]
  },
  {
   "cell_type": "code",
   "execution_count": 229,
   "id": "b385bdb8",
   "metadata": {},
   "outputs": [
    {
     "data": {
      "text/plain": [
       "{'nossa senhora do remedio': 'Nossa Senhora dos Remédios',\n",
       " 'sao thome das letras': 'São Tomé das Letras',\n",
       " 'santana do livramento': \"Sant'Ana do Livramento\",\n",
       " 'palmeirinha': 'Palmeirina',\n",
       " 'santa rita do ibitipoca': 'Santa Rita de Ibitipoca',\n",
       " 'sao luis do paraitinga': 'São Luiz do Paraitinga',\n",
       " 'santa barbara d oeste': \"Santa Bárbara d'Oeste\",\n",
       " 'graccho cardoso': 'Gracho Cardoso',\n",
       " \"olhos d'agua\": \"Olho d'Água\"}"
      ]
     },
     "execution_count": 229,
     "metadata": {},
     "output_type": "execute_result"
    }
   ],
   "source": [
    "missing = df_customers[df_customers['customer_city_clean'].isna()]['customer_city'].unique()\n",
    "corrections = {}\n",
    "for city in missing:\n",
    "    match, score, _ = process.extractOne(city, cdf_cities['city_norm'])\n",
    "    if score > 95 and city != 'alexandrita':\n",
    "        city_dict[city] = cdf_cities.loc[cdf_cities['city_norm'] == match, 'city'].iloc[0]\n",
    "        corrections[city] = cdf_cities.loc[cdf_cities['city_norm'] == match, 'city'].iloc[0]\n",
    "\n",
    "df_customers['customer_city_clean'] = df_customers['city_norm'].map(city_dict)\n",
    "corrections"
   ]
  },
  {
   "cell_type": "code",
   "execution_count": null,
   "id": "dfc9d76c",
   "metadata": {},
   "outputs": [],
   "source": [
    "df_customers_recover = pd.read_csv(\"../data/raw/olist_customers_dataset.csv\")\n",
    "df_customers.loc['customer_city'] "
   ]
  },
  {
   "cell_type": "code",
   "execution_count": 233,
   "id": "9d016dc3",
   "metadata": {},
   "outputs": [
    {
     "data": {
      "text/plain": [
       "{'piumhii': 'Piumhi',\n",
       " 'santa isabel do para': 'Santa Izabel do Pará',\n",
       " 'portela': 'Portel',\n",
       " 'caraiba': 'Caraíbas',\n",
       " 'jacare': 'Jacareí',\n",
       " 'araguaia': 'Araguaína',\n",
       " 'raposo': 'Raposos',\n",
       " 'biritiba-mirim': 'Biritiba Mirim',\n",
       " 'queixada': 'Quixadá',\n",
       " 'couto de magalhaes': 'Couto Magalhães',\n",
       " 'holambra ii': 'Holambra',\n",
       " 'monte verde': 'Nova Monte Verde',\n",
       " 'palmeira d oeste': \"Palmeira d'Oeste\",\n",
       " 'alexandrita': 'Alexandria',\n",
       " 'estrela d oeste': \"Estrela d'Oeste\",\n",
       " 'botelho': 'Botelhos',\n",
       " 'pindare mirim': 'Pindaré-Mirim',\n",
       " 'amanari': 'Manari',\n",
       " 'alexandra': 'Alexandria',\n",
       " 'amparo da serra': 'Amparo do Serra',\n",
       " 'poco de pedra': 'Poção de Pedras',\n",
       " 'ibitira': 'Ibitiara',\n",
       " 'picarras': 'Piçarra',\n",
       " 'vitorinos': 'Vitorino'}"
      ]
     },
     "execution_count": 233,
     "metadata": {},
     "output_type": "execute_result"
    }
   ],
   "source": [
    "missing = df_customers[df_customers['customer_city_clean'].isna()]['customer_city'].unique()\n",
    "corrections = {}\n",
    "for city in missing:\n",
    "    match, score, _ = process.extractOne(city, cdf_cities['city_norm'])\n",
    "    if score > 92:\n",
    "        #city_dict[city] = cdf_cities.loc[cdf_cities['city_norm'] == match, 'city'].iloc[0]\n",
    "        corrections[city] = cdf_cities.loc[cdf_cities['city_norm'] == match, 'city'].iloc[0]\n",
    "\n",
    "#df_customers['customer_city_clean'] = df_customers['city_norm'].map(city_dict)\n",
    "corrections"
   ]
  }
 ],
 "metadata": {
  "kernelspec": {
   "display_name": "Python 3",
   "language": "python",
   "name": "python3"
  },
  "language_info": {
   "codemirror_mode": {
    "name": "ipython",
    "version": 3
   },
   "file_extension": ".py",
   "mimetype": "text/x-python",
   "name": "python",
   "nbconvert_exporter": "python",
   "pygments_lexer": "ipython3",
   "version": "3.13.7"
  }
 },
 "nbformat": 4,
 "nbformat_minor": 5
}
